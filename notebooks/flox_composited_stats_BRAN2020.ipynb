{
 "cells": [
  {
   "cell_type": "markdown",
   "id": "a3c7829f-9399-4bfb-adf4-63851ba5fba2",
   "metadata": {},
   "source": [
    "# flox composited_stats_BRAN2020"
   ]
  },
  {
   "cell_type": "markdown",
   "id": "da85e17d-1666-4bdd-bbb2-ba7288e8e71a",
   "metadata": {},
   "source": [
    "Date: 22 April, 2024"
   ]
  },
  {
   "cell_type": "markdown",
   "id": "4b722e90-e1fa-45a1-9638-5d9732063024",
   "metadata": {},
   "source": [
    "Author = {\"name\": \"Thomas Moore\", \"affiliation\": \"CSIRO\", \"email\": \"thomas.moore@csiro.au\", \"orcid\": \"0000-0003-3930-1946\"}"
   ]
  },
  {
   "cell_type": "markdown",
   "id": "23449033-f7fe-4f01-ac2d-de773de8db6b",
   "metadata": {},
   "source": [
    "### BRAN2020 is over 50TB of `float32` data over nearly 9000 `netcdf` file assests in total."
   ]
  },
  {
   "cell_type": "markdown",
   "id": "1f41a28d-7966-420a-a2ba-5bb53ada1d9c",
   "metadata": {},
   "source": [
    "#### import packages"
   ]
  },
  {
   "cell_type": "code",
   "execution_count": null,
   "id": "dbfd2435-2231-4a62-aa70-d5fd531a259d",
   "metadata": {},
   "outputs": [],
   "source": [
    "from dask.distributed import Client, LocalCluster\n",
    "import dask\n",
    "import xarray as xr\n",
    "import numpy as np\n",
    "import pandas as pd\n",
    "import datetime"
   ]
  },
  {
   "cell_type": "markdown",
   "id": "e25d9c26-ad00-4e0a-b8dc-6fcfb15cfc71",
   "metadata": {},
   "source": [
    "#### start a local Dask client"
   ]
  },
  {
   "cell_type": "code",
   "execution_count": null,
   "id": "3cef9699-bd1e-4945-b695-c474c35f5dec",
   "metadata": {},
   "outputs": [],
   "source": [
    "cluster=LocalCluster(n_workers=14,processes=True,threads_per_worker=1,memory_limit=0.06)\n",
    "client = Client(cluster)"
   ]
  },
  {
   "cell_type": "code",
   "execution_count": null,
   "id": "4c368519-bb73-4894-ae99-b2f9a16fe5da",
   "metadata": {},
   "outputs": [],
   "source": [
    "client"
   ]
  },
  {
   "cell_type": "code",
   "execution_count": null,
   "id": "518dae93-03cc-4960-a954-cf9fab9187f5",
   "metadata": {},
   "outputs": [],
   "source": [
    "var_name = 'temp_chunk4time'"
   ]
  },
  {
   "cell_type": "code",
   "execution_count": null,
   "id": "ca2a5a04-5a8c-4f4f-b1d9-8befb8791530",
   "metadata": {},
   "outputs": [],
   "source": [
    "zarr_path = '/scratch/es60/ard/reanalysis/BRAN2020/ARD/'\n",
    "path_dict = {'mld_chunk4time':'BRAN2020-daily-mld-chunk4time-v04042024.zarr',\n",
    "                 'mld_chunk4month':'BRAN2020-daily-mld-chunk4month_clim-22042023.zarr',\n",
    "                 'mld_chunk4space':'BRAN2020-daily-mld-v04042024.zarr',\n",
    "                'temp':'BRAN2020-daily-temp-v14032024.zarr',\n",
    "                'temp_chunk4time':'BRAN2020-daily-temp-chunk4time-v07022024.zarr'}\n",
    "results_path = '/g/data/es60/users/thomas_moore/clim_demo_results/daily/draft_delivery/'\n",
    "results_file = 'BRAN2020_clim_demo_'+var_name+'.nc'"
   ]
  },
  {
   "cell_type": "code",
   "execution_count": null,
   "id": "3a8890a2-f6a3-496d-a96d-bef0ccaea335",
   "metadata": {},
   "outputs": [],
   "source": [
    "depth_dict = {'eta_t':None,'mld':None,'temp':'st_ocean'}\n",
    "lon_dict = {'eta_t':'xt_ocean','mld':'xt_ocean','temp':'xt_ocean'}\n",
    "lat_dict = {'eta_t':'yt_ocean','mld':'yt_ocean','temp':'yt_ocean'}\n",
    "time_dim = 'Time'\n",
    "\n",
    "\n",
    "\n",
    "collection_path = zarr_path + path_dict[var_name]\n",
    "# load BRAN data\n",
    "ds = xr.open_zarr(collection_path,consolidated=True)"
   ]
  },
  {
   "cell_type": "markdown",
   "id": "8c560341-753d-419d-9571-6aeef5151d4e",
   "metadata": {},
   "source": [
    "## import functions"
   ]
  },
  {
   "cell_type": "code",
   "execution_count": null,
   "id": "5985ccca-68f3-4dda-b0fd-4935a084f6b8",
   "metadata": {},
   "outputs": [],
   "source": [
    "import sys\n",
    "# Append the directory of the module to sys.path\n",
    "sys.path.append('/g/data/es60/users/thomas_moore/code/Climatology-generator-demo/src/')\n",
    "import bran2020_stats"
   ]
  },
  {
   "cell_type": "markdown",
   "id": "146e6042-5fc1-447d-a7df-c1b7eaf152bd",
   "metadata": {},
   "source": [
    "# test dataset"
   ]
  },
  {
   "cell_type": "code",
   "execution_count": null,
   "id": "4257b65f-d426-403a-8cfb-6cd9de639a3c",
   "metadata": {},
   "outputs": [],
   "source": [
    "#test_ds = ds.isel(Time=slice(0,366))\n",
    "test_ds = ds.chunk({'st_ocean':1,'yt_ocean':300,'xt_ocean':360}).isel(Time=slice(0,366))"
   ]
  },
  {
   "cell_type": "code",
   "execution_count": null,
   "id": "5ab3bbd3-7bb4-4e02-b063-c6a3597a468d",
   "metadata": {},
   "outputs": [],
   "source": [
    "mean_monthclim_ds = bran2020_stats.mean_monthclim_flox(test_ds,'temp',time_dim='Time')\n",
    "print(mean_monthclim_ds.nbytes/1e9)\n",
    "mean_monthclim_ds"
   ]
  },
  {
   "cell_type": "markdown",
   "id": "b13ee93b-3d63-4a17-8407-21976b6983be",
   "metadata": {},
   "source": [
    "# write mean_monthclim file"
   ]
  },
  {
   "cell_type": "markdown",
   "id": "ac0dcd40-4085-477d-b842-1427b5ed8d2c",
   "metadata": {},
   "source": [
    "### testing path"
   ]
  },
  {
   "cell_type": "code",
   "execution_count": null,
   "id": "747b9a18-b9b1-4ce6-9897-7ef387cdd743",
   "metadata": {},
   "outputs": [],
   "source": [
    "results_path = '/scratch/es60/ard/reanalysis/BRAN2020/ARD/stats_output_testing/'"
   ]
  },
  {
   "cell_type": "code",
   "execution_count": null,
   "id": "79fa1429-5d11-45df-ad91-8fa42fd8d233",
   "metadata": {},
   "outputs": [],
   "source": [
    "# Write log file\n",
    "log_path = '/scratch/es60/ard/reanalysis/BRAN2020/ARD/logs/'\n",
    "log_file = log_path + f'testing_log_{datetime.datetime.now().strftime(\"%Y-%m-%d_%H-%M\")}_{var_name}_stats.txt'"
   ]
  },
  {
   "cell_type": "code",
   "execution_count": null,
   "id": "b7a08473-676c-4ad4-82fe-2eedc14b220f",
   "metadata": {},
   "outputs": [],
   "source": [
    "%%time\n",
    "mean_monthclim_ds.to_netcdf(results_path+'mean_monthclim_ds.nc',engine='netcdf4')"
   ]
  },
  {
   "cell_type": "code",
   "execution_count": null,
   "id": "8dcb404a-62b1-49e7-88d8-b4642c447743",
   "metadata": {},
   "outputs": [],
   "source": [
    "with open(log_file, 'a') as f:\n",
    "    f.write(f'{var_name} .... finished writing monthclim stats netcdf\\n >>>> DONE!\\n')"
   ]
  },
  {
   "cell_type": "code",
   "execution_count": null,
   "id": "073ad885-c884-4d7a-9d31-c9641e3924f4",
   "metadata": {},
   "outputs": [],
   "source": []
  },
  {
   "cell_type": "code",
   "execution_count": null,
   "id": "6da45a58-1f1d-42b3-b9bf-55bfe9d45070",
   "metadata": {},
   "outputs": [],
   "source": []
  },
  {
   "cell_type": "code",
   "execution_count": null,
   "id": "19da7404-064a-44db-9ef0-cf2ffa3602db",
   "metadata": {},
   "outputs": [],
   "source": []
  },
  {
   "cell_type": "code",
   "execution_count": null,
   "id": "ebcff36e-9a89-442b-bbf3-03eedce5e006",
   "metadata": {},
   "outputs": [],
   "source": []
  },
  {
   "cell_type": "raw",
   "id": "421c0faf-c292-4126-9e0d-cad0a5f277cc",
   "metadata": {},
   "source": [
    "### calculate \"all time\" stats\n",
    "\n",
    "clim_ds = xr.merge([ds.groupby(time_dim+'.month').mean(dim=time_dim,skipna=True).rename({var_name:'mean_'+var_name}),\n",
    "                      ds.groupby(time_dim+'.month').min(dim=time_dim,skipna=True).rename({var_name:'min_'+var_name}),\n",
    "                      ds.groupby(time_dim+'.month').max(dim=time_dim,skipna=True).rename({var_name:'max_'+var_name}),\n",
    "                      ds.groupby(time_dim+'.month').std(dim=time_dim,skipna=True).rename({var_name:'std_'+var_name}),\n",
    "                      ds.groupby(time_dim+'.month').median(dim=time_dim,skipna=True).rename({var_name:'median_'+var_name})\n",
    "])\n",
    "quant = ds.groupby(time_dim+'.month').quantile([0.05,0.95],skipna=True,dim=time_dim).astype(np.float32)\n",
    "quant_ds = xr.merge([quant.isel(quantile=0).reset_coords(drop=True).rename({var_name:'quantile_05_'+var_name}),quant.isel(quantile=1).reset_coords(drop=True).rename({var_name:'quantile_95_'+var_name})])\n",
    "result_ds = xr.merge([clim_ds,quant_ds])"
   ]
  },
  {
   "cell_type": "code",
   "execution_count": null,
   "id": "a260abb4-81b5-4d5a-809b-cbd8b37bc74e",
   "metadata": {},
   "outputs": [],
   "source": [
    "test_ds = ds.isel(Time=slice(0,5000))\n",
    "test_ds"
   ]
  },
  {
   "cell_type": "code",
   "execution_count": null,
   "id": "6a50f191-d27c-4029-ae31-9debd40070a7",
   "metadata": {},
   "outputs": [],
   "source": [
    "def calc_flox_monthclim_stats(ds,var_name,time_dim='time',method='map-reduce',skipna=False):\n",
    "    if skipna == False:\n",
    "        mean = xarray_reduce(ds, time_dim+'.month', func=\"mean\",method=method).rename({var_name:'mean_'+var_name})\n",
    "        std = xarray_reduce(ds, time_dim+'.month', func=\"std\",method=method).rename({var_name:'std_'+var_name})\n",
    "    else:\n",
    "        mean = xarray_reduce(ds, time_dim+'.month', func=\"nanmean\",method=method).rename({var_name:'mean_'+var_name})\n",
    "        std = xarray_reduce(ds, time_dim+'.month', func=\"nanstd\",method=method).rename({var_name:'std_'+var_name})\n",
    "    max = xarray_reduce(ds, time_dim+'.month', func=\"argmax\",method=method).rename({var_name:'max_'+var_name})\n",
    "    min = xarray_reduce(ds, time_dim+'.month', func=\"argmin\",method=method).rename({var_name:'min_'+var_name})\n",
    "    stats_ds = xr.merge([mean,std,max,min])\n",
    "    return stats_ds"
   ]
  },
  {
   "cell_type": "raw",
   "id": "2f5e1f36-98e4-48ae-9f5e-91d771a0bb43",
   "metadata": {},
   "source": [
    "def calc_flox_monthclim_stats(ds,var_name,time_dim='time',method='map-reduce'):\n",
    "    mean = xarray_reduce(ds, time_dim+'.month', func=\"mean\",method=method).rename({var_name:'mean_'+var_name})\n",
    "    std = xarray_reduce(ds, time_dim+'.month', func=\"std\",method=method).rename({var_name:'std_'+var_name})\n",
    "    max = xarray_reduce(ds, time_dim+'.month', func=\"argmax\",method=method).rename({var_name:'max_'+var_name})\n",
    "    min = xarray_reduce(ds, time_dim+'.month', func=\"argmin\",method=method).rename({var_name:'min_'+var_name})\n",
    "    stats_ds = xr.merge([mean,std,max,min])\n",
    "    return stats_ds"
   ]
  },
  {
   "cell_type": "code",
   "execution_count": null,
   "id": "b3d6301a-87c7-4627-b5f9-0e2041ec09e6",
   "metadata": {},
   "outputs": [],
   "source": [
    "def calc_median_monthclim(ds,var_name,skipna_flag=False,time_dim='time'):\n",
    "    median_ds = ds.groupby(time_dim+'.month').median(skipna=skipna_flag).rename({var_name:'median_'+var_name})\n",
    "    return median_ds"
   ]
  },
  {
   "cell_type": "code",
   "execution_count": null,
   "id": "b13075ab-4dd0-4a03-b35b-c0a0871b35aa",
   "metadata": {},
   "outputs": [],
   "source": [
    "def calc_quantile_monthclim(ds,var_name,skipna_flag=False,time_dim='time',q_list=[0.05,0.95]):\n",
    "    quant = ds.groupby(time_dim+'.month').quantile(q_list,skipna=skipna_flag,dim=time_dim).astype(np.float32)\n",
    "    quant_ds = xr.merge([quant.isel(quantile=0).reset_coords(drop=True).rename({var_name:'quantile_05_'+var_name}),quant.isel(quantile=1).reset_coords(drop=True).rename({var_name:'quantile_95_'+var_name})])\n",
    "    return quant_ds"
   ]
  },
  {
   "cell_type": "code",
   "execution_count": null,
   "id": "eedb4e62-f9a4-480a-a673-0b2a137c7a63",
   "metadata": {},
   "outputs": [],
   "source": [
    "flox_stats_ds = calc_flox_monthclim_stats(test_ds,'mld',time_dim='Time')\n",
    "flox_stats_ds.nbytes/1e9"
   ]
  },
  {
   "cell_type": "code",
   "execution_count": null,
   "id": "19080346-4e0d-4675-9028-b93c8e93d133",
   "metadata": {},
   "outputs": [],
   "source": [
    "median_ds = calc_median_monthclim(test_ds,'mld',time_dim='Time')\n",
    "median_ds.nbytes/1e9"
   ]
  },
  {
   "cell_type": "code",
   "execution_count": null,
   "id": "52a32219-d841-4ca7-84c0-59eed8da7af4",
   "metadata": {},
   "outputs": [],
   "source": [
    "quant_ds = calc_quantile_monthclim(test_ds,'mld',time_dim='Time')\n",
    "quant_ds.nbytes/1e9"
   ]
  },
  {
   "cell_type": "code",
   "execution_count": null,
   "id": "bc77afa6-5f07-4f06-9ef5-f260ce4c9c0f",
   "metadata": {},
   "outputs": [],
   "source": [
    "%%time\n",
    "quant_ds = quant_ds.compute()"
   ]
  },
  {
   "cell_type": "code",
   "execution_count": null,
   "id": "c987bd31-dd31-4a10-9871-199500a61b6b",
   "metadata": {},
   "outputs": [],
   "source": [
    "%%time\n",
    "median_ds = median_ds.compute()"
   ]
  },
  {
   "cell_type": "code",
   "execution_count": null,
   "id": "178c0f1c-cc97-4e44-8207-fb8f49e6c1fb",
   "metadata": {},
   "outputs": [],
   "source": [
    "%%time\n",
    "flox_stats_ds = flox_stats_ds.compute()"
   ]
  },
  {
   "cell_type": "code",
   "execution_count": null,
   "id": "0bb7f58e-131f-4729-90eb-5022faca8bf9",
   "metadata": {},
   "outputs": [],
   "source": [
    "flox_stats_ds"
   ]
  },
  {
   "cell_type": "code",
   "execution_count": null,
   "id": "0bc01949-8493-4938-92bf-b6b1613c3c4f",
   "metadata": {},
   "outputs": [],
   "source": [
    "flox_stats_ds.mean_mld.mean('month',skipna=False).plot()"
   ]
  },
  {
   "cell_type": "code",
   "execution_count": null,
   "id": "189998d7-6330-489e-88db-907b09f19f6d",
   "metadata": {},
   "outputs": [],
   "source": [
    "quant_ds.quantile_95_mld.mean('month',skipna=False).plot()"
   ]
  },
  {
   "cell_type": "code",
   "execution_count": null,
   "id": "e058c38d-48b2-4ce3-821c-8c3dd2bef5ef",
   "metadata": {},
   "outputs": [],
   "source": []
  },
  {
   "cell_type": "code",
   "execution_count": null,
   "id": "7d1e9607-d61b-4ed8-940a-99e07f3d7715",
   "metadata": {},
   "outputs": [],
   "source": []
  },
  {
   "cell_type": "code",
   "execution_count": null,
   "id": "adef94d0-aec4-46b7-9ff8-f332117a7c8f",
   "metadata": {},
   "outputs": [],
   "source": []
  },
  {
   "cell_type": "code",
   "execution_count": null,
   "id": "253a48b0-b7a1-4da4-bc0b-b219af652bb8",
   "metadata": {},
   "outputs": [],
   "source": [
    "clim = ds.groupby('Time.month').median(skipna=True)"
   ]
  },
  {
   "cell_type": "code",
   "execution_count": null,
   "id": "71a79042-c0d3-4952-9e37-0e1674e1d54b",
   "metadata": {},
   "outputs": [],
   "source": [
    "clim = xarray_reduce(ds, 'Time.month', func=\"nanmedian\",method='cohorts')\n",
    "clim"
   ]
  },
  {
   "cell_type": "code",
   "execution_count": null,
   "id": "348e130b-512b-4911-9d04-c2fc7a8e4010",
   "metadata": {},
   "outputs": [],
   "source": [
    "%%time\n",
    "clim = clim.compute()"
   ]
  },
  {
   "cell_type": "code",
   "execution_count": null,
   "id": "3d86a8e3-5ffd-46ce-8ee9-9117b1f5003a",
   "metadata": {},
   "outputs": [],
   "source": [
    "clim.mld.mean('month').plot()"
   ]
  },
  {
   "cell_type": "code",
   "execution_count": null,
   "id": "45bd7a69-e9c0-4eff-9b7e-ef1a200f4e10",
   "metadata": {},
   "outputs": [],
   "source": [
    "time_coords = ds['Time.month']  # Replace 'time' with the actual name of your time dimension if different\n",
    "\n",
    "# Check for duplicates in the time coordinate\n",
    "duplicates = time_coords.to_index().duplicated()\n",
    "\n",
    "# Print out the duplicate times\n",
    "if duplicates.any():\n",
    "    print(\"Duplicate times found:\", time_coords[duplicates].values)\n",
    "else:\n",
    "    print(\"No duplicate times found.\")"
   ]
  },
  {
   "cell_type": "markdown",
   "id": "5503b17d-fda6-4ab3-a465-46398b38e269",
   "metadata": {},
   "source": [
    "# workflow"
   ]
  },
  {
   "cell_type": "code",
   "execution_count": null,
   "id": "c7c91c04-6783-45e7-b87c-10e27706609a",
   "metadata": {
    "scrolled": true
   },
   "outputs": [],
   "source": [
    "%%time\n",
    "\n",
    "    \n",
    "## make masks for ENSO composites\n",
    "\n",
    "### load ONI data\n",
    "ONI_DF = pd.read_csv('/g/data/xv83/users/tm4888/data/ENSO/NCAR_ONI.csv')\n",
    "ONI_DF.set_index('datetime',inplace=True)\n",
    "ONI_DF.index = pd.to_datetime(ONI_DF.index)\n",
    "###\n",
    "el_nino_threshold = 0.5\n",
    "la_nina_threshold = -0.5\n",
    "el_nino_threshold_months = ONI_DF[\"ONI\"].ge(el_nino_threshold)\n",
    "la_nina_threshold_months = ONI_DF[\"ONI\"].le(la_nina_threshold)\n",
    "ONI_DF = pd.concat([ONI_DF, el_nino_threshold_months.rename('El Nino threshold')], axis=1)\n",
    "ONI_DF = pd.concat([ONI_DF, la_nina_threshold_months.rename('La Nina threshold')], axis=1)\n",
    "ONI_DF = pd.concat([ONI_DF, el_nino_threshold_months.diff().ne(0).cumsum().rename('El Nino event group ID')], axis=1)\n",
    "ONI_DF = pd.concat([ONI_DF, la_nina_threshold_months.diff().ne(0).cumsum().rename('La Nina event group ID')], axis=1)\n",
    "#\n",
    "El_Nino_Series = ONI_DF.groupby('El Nino event group ID')['ONI'].filter(lambda x: len(x) >= 5,dropna=False).where(ONI_DF['El Nino threshold'] == True)\n",
    "ONI_DF = pd.concat([ONI_DF, El_Nino_Series.rename('El Nino')], axis=1)\n",
    "La_Nina_Series = ONI_DF.groupby('La Nina event group ID')['ONI'].filter(lambda x: len(x) >= 5,dropna=False).where(ONI_DF['La Nina threshold'] == True)\n",
    "ONI_DF = pd.concat([ONI_DF, La_Nina_Series.rename('La Nina')], axis=1)\n",
    "#\n",
    "ONI_DF_BRANtime = ONI_DF['1993-01':'2023-06']\n",
    "ONI_DF_BRANtime['El Nino LOGICAL'] = ONI_DF_BRANtime['El Nino'].notnull()\n",
    "ONI_DF_BRANtime['La Nina LOGICAL'] = ONI_DF_BRANtime['La Nina'].notnull()\n",
    "# shift back from middle of month\n",
    "ONI_DF_BRANtime.index += pd.Timedelta(-14, 'd')\n",
    "# modify end value for upsample\n",
    "ONI_DF_BRANtime.loc[pd.to_datetime('2023-07-01 00:00:00')] = 'NaN'\n",
    "#upsample\n",
    "ONI_DF_BRANtime = ONI_DF_BRANtime.resample('D').ffill()\n",
    "#drop last dummy date\n",
    "ONI_DF_BRANtime = ONI_DF_BRANtime[:-1]\n",
    "#\n",
    "\n",
    "### run var on what variable\n",
    "#var_name = 'temp'\n",
    "var_name = 'mld'\n",
    "#var_name = 'eta_t'\n",
    "\n",
    "# Write log file\n",
    "log_path = '/scratch/es60/ard/reanalysis/BRAN2020/ARD/logs/'\n",
    "log_file = log_path + f'log_{datetime.datetime.now().strftime(\"%Y-%m-%d_%H-%M\")}_{var_name}_stats.txt'\n",
    "with open(log_file, 'a') as f:\n",
    "    f.write(f'{var_name} start processing . . .\\n')\n",
    "\n",
    "#\n",
    "zarr_path = '/scratch/es60/ard/reanalysis/BRAN2020/ARD/'\n",
    "path_dict = {'eta_t':'BRAN2020-daily-eta_t-chunk4time-v14032024.zarr',\n",
    "                 'mld':'BRAN2020-daily-mld-chunk4month_clim-22042023.zarr',\n",
    "                 'temp':'BRAN2020-daily-temp-chunk4time-v07022024.zarr'}\n",
    "results_path = '/g/data/es60/users/thomas_moore/clim_demo_results/daily/draft_delivery/'\n",
    "results_file = 'BRAN2020_clim_demo_'+var_name+'.nc'\n",
    "\n",
    "########### vvvvvv for testing\n",
    "#path_dict = {'eta_t':'error',\n",
    "#                 'mld':'coarsened_tests/BRAN2020_mld_chunked4time_COARSENED.zarr',\n",
    "#                 'temp':'error'}\n",
    "#results_path = '/g/data/es60/users/thomas_moore/clim_demo_results/daily/draft_delivery/COARSENED/'\n",
    "#results_file = 'BRAN2020_clim_demo_'+var_name+'_COARSENED.nc'\n",
    "##### ^^^^^ for testing \n",
    "\n",
    "depth_dict = {'eta_t':None,'mld':None,'temp':'st_ocean'}\n",
    "lon_dict = {'eta_t':'xt_ocean','mld':'xt_ocean','temp':'xt_ocean'}\n",
    "lat_dict = {'eta_t':'yt_ocean','mld':'yt_ocean','temp':'yt_ocean'}\n",
    "time_dim = 'Time'\n",
    "\n",
    "collection_path = zarr_path + path_dict[var_name]\n",
    "# load BRAN data\n",
    "ds = xr.open_zarr(collection_path,consolidated=True)\n",
    "\n",
    "#\n",
    "### ENSO masks\n",
    "El_Nino_mask = ONI_DF_BRANtime['El Nino LOGICAL']\n",
    "El_Nino_mask = El_Nino_mask.to_xarray()\n",
    "El_Nino_mask = El_Nino_mask.rename({'datetime':'Time'})\n",
    "sync_Time = ds.Time\n",
    "El_Nino_mask['Time'] = sync_Time\n",
    "#\n",
    "La_Nina_mask = ONI_DF_BRANtime['La Nina LOGICAL']\n",
    "La_Nina_mask = La_Nina_mask.to_xarray()\n",
    "La_Nina_mask = La_Nina_mask.rename({'datetime':'Time'})\n",
    "sync_Time = ds.Time\n",
    "La_Nina_mask['Time'] = sync_Time\n",
    "#\n",
    "ONI_DF_BRANtime['Neutral LOGICAL'] = (ONI_DF_BRANtime['El Nino LOGICAL'] == False) & (ONI_DF_BRANtime['La Nina LOGICAL'] == False)\n",
    "neutral_mask = ONI_DF_BRANtime['La Nina LOGICAL']\n",
    "neutral_mask = neutral_mask.to_xarray()\n",
    "neutral_mask = neutral_mask.rename({'datetime':'Time'})\n",
    "sync_Time = ds.Time\n",
    "neutral_mask['Time'] = sync_Time\n",
    "\n",
    "### calculate \"all time\" stats\n",
    "\n",
    "clim_ds = xr.merge([ds.groupby(time_dim+'.month').mean(dim=time_dim,skipna=True).rename({var_name:'mean_'+var_name}),\n",
    "                      ds.groupby(time_dim+'.month').min(dim=time_dim,skipna=True).rename({var_name:'min_'+var_name}),\n",
    "                      ds.groupby(time_dim+'.month').max(dim=time_dim,skipna=True).rename({var_name:'max_'+var_name}),\n",
    "                      ds.groupby(time_dim+'.month').std(dim=time_dim,skipna=True).rename({var_name:'std_'+var_name}),\n",
    "                      ds.groupby(time_dim+'.month').median(dim=time_dim,skipna=True).rename({var_name:'median_'+var_name})\n",
    "])\n",
    "quant = ds.groupby(time_dim+'.month').quantile([0.05,0.95],skipna=True,dim=time_dim).astype(np.float32)\n",
    "quant_ds = xr.merge([quant.isel(quantile=0).reset_coords(drop=True).rename({var_name:'quantile_05_'+var_name}),quant.isel(quantile=1).reset_coords(drop=True).rename({var_name:'quantile_95_'+var_name})])\n",
    "result_ds = xr.merge([clim_ds,quant_ds])\n",
    "\n",
    "#### mask out data\n",
    "\n",
    "El_Nino_ds = ds.where(El_Nino_mask)\n",
    "La_Nina_ds = ds.where(La_Nina_mask)\n",
    "neutral_ds = ds.where(neutral_mask)\n",
    "\n",
    "##### El Nino calc\n",
    "clim_El_Nino_ds = xr.merge([El_Nino_ds.groupby(time_dim+'.month').mean(dim=time_dim,skipna=True).rename({var_name:'mean_'+'el_nino_'+var_name}),\n",
    "                      El_Nino_ds.groupby(time_dim+'.month').min(dim=time_dim,skipna=True).rename({var_name:'min_'+'el_nino_'+var_name}),\n",
    "                      El_Nino_ds.groupby(time_dim+'.month').max(dim=time_dim,skipna=True).rename({var_name:'max_'+'el_nino_'+var_name}),\n",
    "                      El_Nino_ds.groupby(time_dim+'.month').std(dim=time_dim,skipna=True).rename({var_name:'std_'+'el_nino_'+var_name}),\n",
    "                      El_Nino_ds.groupby(time_dim+'.month').median(dim=time_dim,skipna=True).rename({var_name:'median_'+'el_nino_'+var_name})\n",
    "])\n",
    "quant_El_Nino = El_Nino_ds.groupby(time_dim+'.month').quantile([0.05,0.95],skipna=True,dim=time_dim).astype(np.float32)\n",
    "quant_El_Nino_ds = xr.merge([quant_El_Nino.isel(quantile=0).reset_coords(drop=True).rename({var_name:'quantile_05_'+'el_nino_'+var_name}),quant_El_Nino.isel(quantile=1).reset_coords(drop=True).rename({var_name:'quantile_95_'+'el_nino_'+var_name})])\n",
    "result_El_Nino_ds = xr.merge([clim_El_Nino_ds,quant_El_Nino_ds])\n",
    "\n",
    "#### La Nina calc\n",
    "clim_La_Nina_ds = xr.merge([La_Nina_ds.groupby(time_dim+'.month').mean(dim=time_dim,skipna=True).rename({var_name:'mean_'+'la_nina_'+var_name}),\n",
    "                      La_Nina_ds.groupby(time_dim+'.month').min(dim=time_dim,skipna=True).rename({var_name:'min_'+'la_nina_'+var_name}),\n",
    "                      La_Nina_ds.groupby(time_dim+'.month').max(dim=time_dim,skipna=True).rename({var_name:'max_'+'la_nina_'+var_name}),\n",
    "                      La_Nina_ds.groupby(time_dim+'.month').std(dim=time_dim,skipna=True).rename({var_name:'std_'+'la_nina_'+var_name}),\n",
    "                      La_Nina_ds.groupby(time_dim+'.month').median(dim=time_dim,skipna=True).rename({var_name:'median_'+'la_nina_'+var_name})\n",
    "])\n",
    "quant_La_Nina = La_Nina_ds.groupby(time_dim+'.month').quantile([0.05,0.95],skipna=True,dim=time_dim).astype(np.float32)\n",
    "quant_La_Nina_ds = xr.merge([quant_La_Nina.isel(quantile=0).reset_coords(drop=True).rename({var_name:'quantile_05_'+'la_nina_'+var_name}),quant_La_Nina.isel(quantile=1).reset_coords(drop=True).rename({var_name:'quantile_95_'+'la_nina_'+var_name})])\n",
    "result_La_Nina_ds = xr.merge([clim_La_Nina_ds,quant_La_Nina_ds])\n",
    "#### neutral calc\n",
    "clim_neutral_ds = xr.merge([neutral_ds.groupby(time_dim+'.month').mean(dim=time_dim,skipna=True).rename({var_name:'mean_'+'neutral_'+var_name}),\n",
    "                      neutral_ds.groupby(time_dim+'.month').min(dim=time_dim,skipna=True).rename({var_name:'min_'+'neutral_'+var_name}),\n",
    "                      neutral_ds.groupby(time_dim+'.month').max(dim=time_dim,skipna=True).rename({var_name:'max_'+'neutral_'+var_name}),\n",
    "                      neutral_ds.groupby(time_dim+'.month').std(dim=time_dim,skipna=True).rename({var_name:'std_'+'neutral_'+var_name}),\n",
    "                      neutral_ds.groupby(time_dim+'.month').median(dim=time_dim,skipna=True).rename({var_name:'median_'+'neutral_'+var_name})\n",
    "])\n",
    "quant_neutral = neutral_ds.groupby(time_dim+'.month').quantile([0.05,0.95],skipna=True,dim=time_dim).astype(np.float32)\n",
    "quant_neutral_ds = xr.merge([quant_neutral.isel(quantile=0).reset_coords(drop=True).rename({var_name:'quantile_05_'+'neutral_'+var_name}),quant_neutral.isel(quantile=1).reset_coords(drop=True).rename({var_name:'quantile_95_'+'neutral_'+var_name})])\n",
    "result_neutral_ds = xr.merge([clim_neutral_ds,quant_neutral_ds])\n",
    "#\n",
    "result_ds = xr.merge([result_ds,result_El_Nino_ds,result_La_Nina_ds,result_neutral_ds])\n",
    "\n",
    "result_ds.to_netcdf(results_path+results_file,engine='netcdf4')\n",
    "\n",
    "with open(log_file, 'a') as f:\n",
    "    f.write(f'{var_name} .... finished processing\\n DONE!\\n')\n"
   ]
  },
  {
   "cell_type": "markdown",
   "id": "a6a9d5ae-fe32-45d2-9af6-6d13ea3ac988",
   "metadata": {
    "jp-MarkdownHeadingCollapsed": true
   },
   "source": [
    "# $The$ $End$"
   ]
  },
  {
   "cell_type": "code",
   "execution_count": null,
   "id": "1920d781-f954-436b-94a8-f58d899f5150",
   "metadata": {
    "tags": []
   },
   "outputs": [],
   "source": [
    "client.shutdown()"
   ]
  },
  {
   "cell_type": "code",
   "execution_count": null,
   "id": "8e7fd9c2-7539-4b55-b7b0-4f05c78bba27",
   "metadata": {},
   "outputs": [],
   "source": []
  }
 ],
 "metadata": {
  "kernelspec": {
   "display_name": "Python 3 (ipykernel)",
   "language": "python",
   "name": "python3"
  },
  "language_info": {
   "codemirror_mode": {
    "name": "ipython",
    "version": 3
   },
   "file_extension": ".py",
   "mimetype": "text/x-python",
   "name": "python",
   "nbconvert_exporter": "python",
   "pygments_lexer": "ipython3",
   "version": "3.10.14"
  }
 },
 "nbformat": 4,
 "nbformat_minor": 5
}
