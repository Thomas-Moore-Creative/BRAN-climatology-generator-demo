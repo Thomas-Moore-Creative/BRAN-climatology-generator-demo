{
 "cells": [
  {
   "cell_type": "markdown",
   "id": "a3c7829f-9399-4bfb-adf4-63851ba5fba2",
   "metadata": {},
   "source": [
    "# BRAN2020 clim demo workflow"
   ]
  },
  {
   "cell_type": "markdown",
   "id": "da85e17d-1666-4bdd-bbb2-ba7288e8e71a",
   "metadata": {},
   "source": [
    "Date: 10 April, 2024"
   ]
  },
  {
   "cell_type": "markdown",
   "id": "4b722e90-e1fa-45a1-9638-5d9732063024",
   "metadata": {},
   "source": [
    "Author = {\"name\": \"Thomas Moore\", \"affiliation\": \"CSIRO\", \"email\": \"thomas.moore@csiro.au\", \"orcid\": \"0000-0003-3930-1946\"}"
   ]
  },
  {
   "cell_type": "markdown",
   "id": "23449033-f7fe-4f01-ac2d-de773de8db6b",
   "metadata": {},
   "source": [
    "### BRAN2020 is on the order of 100TB of float data over nearly 9000 `netcdf` file assests in total."
   ]
  },
  {
   "cell_type": "markdown",
   "id": "1f41a28d-7966-420a-a2ba-5bb53ada1d9c",
   "metadata": {},
   "source": [
    "#### required packages"
   ]
  },
  {
   "cell_type": "code",
   "execution_count": 1,
   "id": "dbfd2435-2231-4a62-aa70-d5fd531a259d",
   "metadata": {},
   "outputs": [],
   "source": [
    "import intake\n",
    "import xarray as xr\n",
    "import pandas as pd\n",
    "import numpy as np\n",
    "from matplotlib import pyplot as plt\n",
    "import pandas as pd\n",
    "#more plotting\n",
    "import matplotlib.dates as mdates\n",
    "#import seaborn as sns\n",
    "import datetime"
   ]
  },
  {
   "cell_type": "markdown",
   "id": "8935960c-d1ab-4b85-8bc4-e2b41de3e910",
   "metadata": {},
   "source": [
    "#### ignore warnings"
   ]
  },
  {
   "cell_type": "code",
   "execution_count": 2,
   "id": "701040b6-201d-4bd9-be1d-2881778a7605",
   "metadata": {
    "tags": []
   },
   "outputs": [],
   "source": [
    "import warnings\n",
    "warnings.filterwarnings('ignore')"
   ]
  },
  {
   "cell_type": "markdown",
   "id": "e25d9c26-ad00-4e0a-b8dc-6fcfb15cfc71",
   "metadata": {},
   "source": [
    "#### start a local Dask client"
   ]
  },
  {
   "cell_type": "code",
   "execution_count": 3,
   "id": "97accd08-fd64-47e2-b870-ed24ff71ad9e",
   "metadata": {
    "tags": []
   },
   "outputs": [],
   "source": [
    "import dask\n",
    "import distributed\n",
    "\n",
    "with dask.config.set({\"distributed.scheduler.worker-saturation\": 1.0,\n",
    "                      \"distributed.nanny.pre-spawn-environ.MALLOC_TRIM_THRESHOLD_\": 0,\n",
    "                    \"logging.distributed'\": \"error\"}):\n",
    "    client = distributed.Client()"
   ]
  },
  {
   "cell_type": "markdown",
   "id": "5503b17d-fda6-4ab3-a465-46398b38e269",
   "metadata": {},
   "source": [
    "# workflow"
   ]
  },
  {
   "cell_type": "code",
   "execution_count": null,
   "id": "6c9d157a-0800-4298-bff5-809c9b4e7572",
   "metadata": {},
   "outputs": [
    {
     "name": "stderr",
     "output_type": "stream",
     "text": [
      "/g/data/es60/users/thomas_moore/miniconda3/envs/pangeo_streamjoy/lib/python3.10/site-packages/numpy/lib/nanfunctions.py:1217: RuntimeWarning: All-NaN slice encountered\n",
      "  return function_base._ureduce(a, func=_nanmedian, keepdims=keepdims,\n",
      "/g/data/es60/users/thomas_moore/miniconda3/envs/pangeo_streamjoy/lib/python3.10/site-packages/numpy/lib/nanfunctions.py:1217: RuntimeWarning: All-NaN slice encountered\n",
      "  return function_base._ureduce(a, func=_nanmedian, keepdims=keepdims,\n",
      "/g/data/es60/users/thomas_moore/miniconda3/envs/pangeo_streamjoy/lib/python3.10/site-packages/numpy/lib/nanfunctions.py:1217: RuntimeWarning: All-NaN slice encountered\n",
      "  return function_base._ureduce(a, func=_nanmedian, keepdims=keepdims,\n",
      "/g/data/es60/users/thomas_moore/miniconda3/envs/pangeo_streamjoy/lib/python3.10/site-packages/numpy/lib/nanfunctions.py:1217: RuntimeWarning: All-NaN slice encountered\n",
      "  return function_base._ureduce(a, func=_nanmedian, keepdims=keepdims,\n",
      "/g/data/es60/users/thomas_moore/miniconda3/envs/pangeo_streamjoy/lib/python3.10/site-packages/numpy/lib/nanfunctions.py:1217: RuntimeWarning: All-NaN slice encountered\n",
      "  return function_base._ureduce(a, func=_nanmedian, keepdims=keepdims,\n",
      "/g/data/es60/users/thomas_moore/miniconda3/envs/pangeo_streamjoy/lib/python3.10/site-packages/numpy/lib/nanfunctions.py:1217: RuntimeWarning: All-NaN slice encountered\n",
      "  return function_base._ureduce(a, func=_nanmedian, keepdims=keepdims,\n",
      "/g/data/es60/users/thomas_moore/miniconda3/envs/pangeo_streamjoy/lib/python3.10/site-packages/numpy/lib/nanfunctions.py:1217: RuntimeWarning: All-NaN slice encountered\n",
      "  return function_base._ureduce(a, func=_nanmedian, keepdims=keepdims,\n",
      "/g/data/es60/users/thomas_moore/miniconda3/envs/pangeo_streamjoy/lib/python3.10/site-packages/numpy/lib/nanfunctions.py:1217: RuntimeWarning: All-NaN slice encountered\n",
      "  return function_base._ureduce(a, func=_nanmedian, keepdims=keepdims,\n",
      "/g/data/es60/users/thomas_moore/miniconda3/envs/pangeo_streamjoy/lib/python3.10/site-packages/numpy/lib/nanfunctions.py:1217: RuntimeWarning: All-NaN slice encountered\n",
      "  return function_base._ureduce(a, func=_nanmedian, keepdims=keepdims,\n",
      "/g/data/es60/users/thomas_moore/miniconda3/envs/pangeo_streamjoy/lib/python3.10/site-packages/numpy/lib/nanfunctions.py:1217: RuntimeWarning: All-NaN slice encountered\n",
      "  return function_base._ureduce(a, func=_nanmedian, keepdims=keepdims,\n",
      "/g/data/es60/users/thomas_moore/miniconda3/envs/pangeo_streamjoy/lib/python3.10/site-packages/numpy/lib/nanfunctions.py:1217: RuntimeWarning: All-NaN slice encountered\n",
      "  return function_base._ureduce(a, func=_nanmedian, keepdims=keepdims,\n",
      "/g/data/es60/users/thomas_moore/miniconda3/envs/pangeo_streamjoy/lib/python3.10/site-packages/numpy/lib/nanfunctions.py:1217: RuntimeWarning: All-NaN slice encountered\n",
      "  return function_base._ureduce(a, func=_nanmedian, keepdims=keepdims,\n",
      "/g/data/es60/users/thomas_moore/miniconda3/envs/pangeo_streamjoy/lib/python3.10/site-packages/numpy/lib/nanfunctions.py:1217: RuntimeWarning: All-NaN slice encountered\n",
      "  return function_base._ureduce(a, func=_nanmedian, keepdims=keepdims,\n",
      "/g/data/es60/users/thomas_moore/miniconda3/envs/pangeo_streamjoy/lib/python3.10/site-packages/numpy/lib/nanfunctions.py:1217: RuntimeWarning: All-NaN slice encountered\n",
      "  return function_base._ureduce(a, func=_nanmedian, keepdims=keepdims,\n",
      "/g/data/es60/users/thomas_moore/miniconda3/envs/pangeo_streamjoy/lib/python3.10/site-packages/numpy/lib/nanfunctions.py:1217: RuntimeWarning: All-NaN slice encountered\n",
      "  return function_base._ureduce(a, func=_nanmedian, keepdims=keepdims,\n",
      "/g/data/es60/users/thomas_moore/miniconda3/envs/pangeo_streamjoy/lib/python3.10/site-packages/numpy/lib/nanfunctions.py:1217: RuntimeWarning: All-NaN slice encountered\n",
      "  return function_base._ureduce(a, func=_nanmedian, keepdims=keepdims,\n",
      "/g/data/es60/users/thomas_moore/miniconda3/envs/pangeo_streamjoy/lib/python3.10/site-packages/numpy/lib/nanfunctions.py:1217: RuntimeWarning: All-NaN slice encountered\n",
      "  return function_base._ureduce(a, func=_nanmedian, keepdims=keepdims,\n",
      "/g/data/es60/users/thomas_moore/miniconda3/envs/pangeo_streamjoy/lib/python3.10/site-packages/numpy/lib/nanfunctions.py:1217: RuntimeWarning: All-NaN slice encountered\n",
      "  return function_base._ureduce(a, func=_nanmedian, keepdims=keepdims,\n",
      "/g/data/es60/users/thomas_moore/miniconda3/envs/pangeo_streamjoy/lib/python3.10/site-packages/numpy/lib/nanfunctions.py:1217: RuntimeWarning: All-NaN slice encountered\n",
      "  return function_base._ureduce(a, func=_nanmedian, keepdims=keepdims,\n",
      "/g/data/es60/users/thomas_moore/miniconda3/envs/pangeo_streamjoy/lib/python3.10/site-packages/flox/core.py:1178: RuntimeWarning: All-NaN slice encountered\n",
      "  result = combine(array, axis=axis_, keepdims=True)\n",
      "/g/data/es60/users/thomas_moore/miniconda3/envs/pangeo_streamjoy/lib/python3.10/site-packages/numpy/lib/nanfunctions.py:1217: RuntimeWarning: All-NaN slice encountered\n",
      "  return function_base._ureduce(a, func=_nanmedian, keepdims=keepdims,\n",
      "/g/data/es60/users/thomas_moore/miniconda3/envs/pangeo_streamjoy/lib/python3.10/site-packages/numpy/lib/nanfunctions.py:1217: RuntimeWarning: All-NaN slice encountered\n",
      "  return function_base._ureduce(a, func=_nanmedian, keepdims=keepdims,\n"
     ]
    }
   ],
   "source": [
    "%%time\n",
    "### masks for ENSO composites\n",
    "ONI_DF = pd.read_csv('/g/data/xv83/users/tm4888/data/ENSO/NCAR_ONI.csv')\n",
    "ONI_DF.set_index('datetime',inplace=True)\n",
    "ONI_DF.index = pd.to_datetime(ONI_DF.index)\n",
    "el_nino_threshold = 0.5\n",
    "la_nina_threshold = -0.5\n",
    "el_nino_threshold_months = ONI_DF[\"ONI\"].ge(el_nino_threshold)\n",
    "la_nina_threshold_months = ONI_DF[\"ONI\"].le(la_nina_threshold) \n",
    "ONI_DF = pd.concat([ONI_DF, el_nino_threshold_months.rename('El Nino threshold')], axis=1)\n",
    "ONI_DF = pd.concat([ONI_DF, la_nina_threshold_months.rename('La Nina threshold')], axis=1)\n",
    "ONI_DF = pd.concat([ONI_DF, el_nino_threshold_months.diff().ne(0).cumsum().rename('El Nino event group ID')], axis=1)\n",
    "ONI_DF = pd.concat([ONI_DF, la_nina_threshold_months.diff().ne(0).cumsum().rename('La Nina event group ID')], axis=1)\n",
    "#\n",
    "El_Nino_Series = ONI_DF.groupby('El Nino event group ID')['ONI'].filter(lambda x: len(x) >= 5,dropna=False).where(ONI_DF['El Nino threshold'] == True)\n",
    "ONI_DF = pd.concat([ONI_DF, El_Nino_Series.rename('El Nino')], axis=1)\n",
    "La_Nina_Series = ONI_DF.groupby('La Nina event group ID')['ONI'].filter(lambda x: len(x) >= 5,dropna=False).where(ONI_DF['La Nina threshold'] == True)\n",
    "ONI_DF = pd.concat([ONI_DF, La_Nina_Series.rename('La Nina')], axis=1)\n",
    "\n",
    "### run var on what variable\n",
    "#var_name = 'temp'\n",
    "var_name = 'mld'\n",
    "#var_name = 'eta_t'\n",
    "\n",
    "#\n",
    "zarr_path = '/scratch/es60/ard/reanalysis/BRAN2020/ARD/'\n",
    "path_dict = {'eta_t':'BRAN2020-daily-eta_t-chunk4time-v14032024.zarr',\n",
    "                 'mld':'BRAN2020-daily-mld-chunk4time-v04042024.zarr',\n",
    "                 'temp':'BRAN2020-daily-temp-chunk4time-v07022024.zarr'}\n",
    "depth_dict = {'eta_t':None,'mld':None,'temp':'st_ocean'}\n",
    "lon_dict = {'eta_t':'xt_ocean','mld':'xt_ocean','temp':'xt_ocean'}\n",
    "lat_dict = {'eta_t':'yt_ocean','mld':'yt_ocean','temp':'yt_ocean'}\n",
    "time_dim = 'Time'\n",
    "results_path = '/g/data/es60/users/thomas_moore/clim_demo_results/daily/draft_delivery/'\n",
    "results_file = 'BRAN2020_clim_demo_'+var_name+'.nc'\n",
    "collection_path = zarr_path + path_dict[var_name]\n",
    "#\n",
    "ds = xr.open_zarr(collection_path,consolidated=True)\n",
    "clim_ds = xr.merge([ds.groupby(time_dim+'.month').mean(dim=time_dim,engine='flox',method='cohorts').rename({var_name:'mean_'+var_name}),\n",
    "                      ds.groupby(time_dim+'.month').min(dim=time_dim,engine='flox',method='cohorts').rename({var_name:'min_'+var_name}),\n",
    "                      ds.groupby(time_dim+'.month').max(dim=time_dim,engine='flox',method='cohorts').rename({var_name:'max_'+var_name}),\n",
    "                      ds.groupby(time_dim+'.month').std(dim=time_dim).rename({var_name:'std_'+var_name}),\n",
    "                      ds.groupby(time_dim+'.month').median(dim=time_dim).rename({var_name:'median_'+var_name})\n",
    "])\n",
    "quant = ds.groupby(time_dim+'.month').quantile([0.05,0.95],skipna=False,dim=time_dim)\n",
    "quant_ds = xr.merge([quant.isel(quantile=0).reset_coords(drop=True).rename({var_name:'quantile_05_'+var_name}),quant.isel(quantile=1).reset_coords(drop=True).rename({var_name:'quantile_95_'+var_name})])\n",
    "result_ds = xr.merge([clim_ds,quant_ds])\n",
    "### ENSO composites\n",
    "# filter BRAN2020 data by ENSO\n",
    "ONI_DF_BRANtime = ONI_DF['1993-01':'2023-06']\n",
    "ONI_DF_BRANtime['El Nino LOGICAL'] = ONI_DF_BRANtime['El Nino'].notnull()\n",
    "ONI_DF_BRANtime['La Nina LOGICAL'] = ONI_DF_BRANtime['La Nina'].notnull()\n",
    "# shift back from middle of month\n",
    "ONI_DF_BRANtime.index += pd.Timedelta(-14, 'd')\n",
    "# modify end value for upsample\n",
    "ONI_DF_BRANtime.loc[pd.to_datetime('2023-07-01 00:00:00')] = 'NaN'\n",
    "#upsample\n",
    "ONI_DF_BRANtime = ONI_DF_BRANtime.resample('D').ffill()\n",
    "#drop last dummy date\n",
    "ONI_DF_BRANtime = ONI_DF_BRANtime[:-1]\n",
    "#\n",
    "El_Nino_mask = ONI_DF_BRANtime['El Nino LOGICAL']\n",
    "El_Nino_mask = El_Nino_mask.to_xarray()\n",
    "El_Nino_mask = El_Nino_mask.rename({'datetime':'Time'})\n",
    "sync_Time = ds.Time\n",
    "El_Nino_mask['Time'] = sync_Time\n",
    "#\n",
    "La_Nina_mask = ONI_DF_BRANtime['La Nina LOGICAL']\n",
    "La_Nina_mask = La_Nina_mask.to_xarray()\n",
    "La_Nina_mask = La_Nina_mask.rename({'datetime':'Time'})\n",
    "sync_Time = ds.Time\n",
    "La_Nina_mask['Time'] = sync_Time\n",
    "#\n",
    "ONI_DF_BRANtime['Neutral LOGICAL'] = (ONI_DF_BRANtime['El Nino LOGICAL'] == False) & (ONI_DF_BRANtime['La Nina LOGICAL'] == False)\n",
    "### mask out data\n",
    "El_Nino_ds = ds.where(El_Nino_mask)\n",
    "La_Nina_ds = ds.where(La_Nina_mask)\n",
    "##### El Nino calc\n",
    "clim_El_Nino_ds = xr.merge([El_Nino_ds.groupby(time_dim+'.month').mean(dim=time_dim,engine='flox',method='cohorts').rename({var_name:'mean_'+'el_nino_'+var_name}),\n",
    "                      El_Nino_ds.groupby(time_dim+'.month').min(dim=time_dim,engine='flox',method='cohorts').rename({var_name:'min_'+'el_nino_'+var_name}),\n",
    "                      El_Nino_ds.groupby(time_dim+'.month').max(dim=time_dim,engine='flox',method='cohorts').rename({var_name:'max_'+'el_nino_'+var_name}),\n",
    "                      El_Nino_ds.groupby(time_dim+'.month').std(dim=time_dim).rename({var_name:'std_'+'el_nino_'+var_name}),\n",
    "                      El_Nino_ds.groupby(time_dim+'.month').median(dim=time_dim).rename({var_name:'median_'+'el_nino_'+var_name})\n",
    "])\n",
    "quant_El_Nino = El_Nino_ds.groupby(time_dim+'.month').quantile([0.05,0.95],skipna=False,dim=time_dim)\n",
    "quant_El_Nino_ds = xr.merge([quant.isel(quantile=0).reset_coords(drop=True).rename({var_name:'quantile_05_'+'el_nino_'+var_name}),quant.isel(quantile=1).reset_coords(drop=True).rename({var_name:'quantile_95_'+'el_nino_'+var_name})])\n",
    "result_El_Nino_ds = xr.merge([clim_El_Nino_ds,quant_El_Nino_ds])\n",
    "#### La Nina calc\n",
    "clim_La_Nina_ds = xr.merge([La_Nina_ds.groupby(time_dim+'.month').mean(dim=time_dim,engine='flox',method='cohorts').rename({var_name:'mean_'+'la_nina_'+var_name}),\n",
    "                      La_Nina_ds.groupby(time_dim+'.month').min(dim=time_dim,engine='flox',method='cohorts').rename({var_name:'min_'+'la_nina_'+var_name}),\n",
    "                      La_Nina_ds.groupby(time_dim+'.month').max(dim=time_dim,engine='flox',method='cohorts').rename({var_name:'max_'+'la_nina_'+var_name}),\n",
    "                      La_Nina_ds.groupby(time_dim+'.month').std(dim=time_dim).rename({var_name:'std_'+'la_nina_'+var_name}),\n",
    "                      La_Nina_ds.groupby(time_dim+'.month').median(dim=time_dim).rename({var_name:'median_'+'la_nina_'+var_name})\n",
    "])\n",
    "quant_La_Nina = La_Nina_ds.groupby(time_dim+'.month').quantile([0.05,0.95],skipna=False,dim=time_dim)\n",
    "quant_La_Nina_ds = xr.merge([quant.isel(quantile=0).reset_coords(drop=True).rename({var_name:'quantile_05_'+'la_nina_'+var_name}),quant.isel(quantile=1).reset_coords(drop=True).rename({var_name:'quantile_95_'+'la_nina_'+var_name})])\n",
    "result_La_Nina_ds = xr.merge([clim_La_Nina_ds,quant_La_Nina_ds])\n",
    "#\n",
    "result_ds = xr.merge([result_ds,result_El_Nino_ds,result_La_Nina_ds])\n",
    "result_ds.to_netcdf(results_path+results_file,engine='netcdf4')\n",
    "# Write log file\n",
    "log_path = '/scratch/es60/ard/reanalysis/BRAN2020/ARD/logs/'\n",
    "log_file = log_path + f'log_{datetime.datetime.now().strftime(\"%Y-%m-%d_%H-%M\")}_{var_name}_stats.txt'\n",
    "with open(log_file, 'a') as f:\n",
    "    f.write(f'{var_name} processing finished\\n')\n"
   ]
  },
  {
   "cell_type": "markdown",
   "id": "a6a9d5ae-fe32-45d2-9af6-6d13ea3ac988",
   "metadata": {},
   "source": [
    "# $The$ $End$"
   ]
  },
  {
   "cell_type": "code",
   "execution_count": null,
   "id": "1920d781-f954-436b-94a8-f58d899f5150",
   "metadata": {
    "tags": []
   },
   "outputs": [],
   "source": [
    "client.shutdown()"
   ]
  },
  {
   "cell_type": "code",
   "execution_count": null,
   "id": "8e7fd9c2-7539-4b55-b7b0-4f05c78bba27",
   "metadata": {},
   "outputs": [],
   "source": []
  },
  {
   "cell_type": "markdown",
   "id": "ebdb9b56-3fda-4f47-a56d-a543361081e3",
   "metadata": {},
   "source": [
    "# looking for neative numbers"
   ]
  },
  {
   "cell_type": "code",
   "execution_count": null,
   "id": "28effe3b-109d-44ed-8a88-5698ca515f28",
   "metadata": {},
   "outputs": [],
   "source": [
    "nc_data = xr.open_dataset(results_path+results_file)"
   ]
  },
  {
   "cell_type": "code",
   "execution_count": null,
   "id": "198ec405-397c-4fb7-a09f-3771a2605ebb",
   "metadata": {},
   "outputs": [],
   "source": [
    "nc_data"
   ]
  },
  {
   "cell_type": "code",
   "execution_count": null,
   "id": "cd12f341-7ea0-40d4-95cf-42f8f38c99ff",
   "metadata": {},
   "outputs": [],
   "source": [
    "nc_data.max()"
   ]
  },
  {
   "cell_type": "code",
   "execution_count": null,
   "id": "81577acc-6064-4bd0-b4c0-892a40687747",
   "metadata": {},
   "outputs": [],
   "source": []
  },
  {
   "cell_type": "code",
   "execution_count": null,
   "id": "5a457236-0174-4a5f-8c08-519d260a35c7",
   "metadata": {},
   "outputs": [],
   "source": []
  },
  {
   "cell_type": "code",
   "execution_count": null,
   "id": "31b9d87a-6560-490c-b056-4dbd86a22fba",
   "metadata": {},
   "outputs": [],
   "source": []
  },
  {
   "cell_type": "code",
   "execution_count": null,
   "id": "ecf619d6-8115-47a2-86fc-6b8586093a34",
   "metadata": {},
   "outputs": [],
   "source": []
  },
  {
   "cell_type": "code",
   "execution_count": null,
   "id": "4f2fc7cb-828f-4eef-9daf-df4c84140f35",
   "metadata": {},
   "outputs": [],
   "source": []
  },
  {
   "cell_type": "code",
   "execution_count": null,
   "id": "51c2dd5b-620d-421a-80cf-8858bb56c3b4",
   "metadata": {},
   "outputs": [],
   "source": []
  },
  {
   "cell_type": "code",
   "execution_count": null,
   "id": "ac756698-03c0-49d8-82a9-f465bed60e3e",
   "metadata": {},
   "outputs": [],
   "source": []
  },
  {
   "cell_type": "code",
   "execution_count": null,
   "id": "8c1a33e2-1959-40bf-8b0c-2b30a902cbbd",
   "metadata": {},
   "outputs": [],
   "source": []
  },
  {
   "cell_type": "code",
   "execution_count": null,
   "id": "5a53d0a5-fd30-4537-8f27-3eb7ad3c7eca",
   "metadata": {},
   "outputs": [],
   "source": []
  },
  {
   "cell_type": "code",
   "execution_count": null,
   "id": "f89badcb-5c83-4208-ac41-b2955e1a91f4",
   "metadata": {},
   "outputs": [],
   "source": []
  },
  {
   "cell_type": "code",
   "execution_count": null,
   "id": "120bee30-dad5-4576-9e91-1e20838903a5",
   "metadata": {},
   "outputs": [],
   "source": []
  },
  {
   "cell_type": "code",
   "execution_count": null,
   "id": "431cc5d2-a971-489c-895d-44be12a04f35",
   "metadata": {},
   "outputs": [],
   "source": []
  },
  {
   "cell_type": "code",
   "execution_count": null,
   "id": "3243ef59-8e3d-49ac-9ef9-3e819a53a11c",
   "metadata": {},
   "outputs": [],
   "source": []
  },
  {
   "cell_type": "markdown",
   "id": "ff6a4ba4-1cdc-4ec8-a1a9-4942d35a44ea",
   "metadata": {},
   "source": [
    "## Plot current vectors for August"
   ]
  },
  {
   "cell_type": "code",
   "execution_count": null,
   "id": "8f3619d6-6f06-48c4-8692-b42e40d2b067",
   "metadata": {
    "tags": []
   },
   "outputs": [],
   "source": [
    "import matplotlib.pyplot as plt\n",
    "from matplotlib.ticker import (MultipleLocator, FormatStrFormatter,\n",
    "                               AutoMinorLocator)\n",
    "import matplotlib.ticker as ticker\n",
    "import cartopy.crs as ccrs\n",
    "import cartopy.feature as cfeature\n",
    "import cartopy\n",
    "from matplotlib import mlab, cm, gridspec\n",
    "import matplotlib.ticker as mticker\n",
    "from cartopy.mpl.gridliner import LONGITUDE_FORMATTER, LATITUDE_FORMATTER\n",
    "%matplotlib inline "
   ]
  },
  {
   "cell_type": "code",
   "execution_count": null,
   "id": "35a7c5ed-a1b6-4ab4-81ad-f0ca978480b3",
   "metadata": {
    "tags": []
   },
   "outputs": [],
   "source": [
    "%%time\n",
    "# Define the u and v components of the currents\n",
    "time_choice = 8\n",
    "u = clim_uv.u.sel(month=time_choice)\n",
    "v = clim_uv.v.sel(month=time_choice)\n",
    "speed = np.sqrt(u**2 + v**2)"
   ]
  },
  {
   "cell_type": "code",
   "execution_count": null,
   "id": "8c6966cd-1bb5-4248-9933-1522076e8417",
   "metadata": {
    "tags": []
   },
   "outputs": [],
   "source": [
    "#plot model data\n",
    "transform = ccrs.PlateCarree()\n",
    "cmap = 'Spectral_r'\n",
    "cbar_label='current speed'\n",
    "plot_data = speed\n",
    "\n",
    "###\n",
    "fig = plt.figure(num=None, figsize=(8, 6), dpi=300, facecolor='w', edgecolor='k')\n",
    "ax = plt.subplot(projection=ccrs.PlateCarree(180))\n",
    "ax.set_extent([142,160, -25, -10], ccrs.PlateCarree())\n",
    "ax.add_feature(cfeature.NaturalEarthFeature('physical', 'land', '50m', edgecolor='face', facecolor='white'))\n",
    "ax.coastlines('50m',linewidth=0.5,edgecolor='grey')\n",
    "plot_data.plot(transform=transform,cmap=cmap,cbar_kwargs={'label': cbar_label,'shrink':0.5},robust=True)\n",
    "\n",
    "#plot u/v vectors\n",
    "# Define the x and y coordinates\n",
    "x = clim_uv.xu_ocean\n",
    "y = clim_uv.yu_ocean\n",
    "ax.quiver(x.values,y.values,u.values,v.values,transform=transform, units='x', width=0.01, scale=0.7, headwidth=2,alpha=0.2)\n",
    "ax.set_title('BRAN2020 1993-2022\\ncurrent speed \\n August Climatology')"
   ]
  }
 ],
 "metadata": {
  "kernelspec": {
   "display_name": "Python 3 (ipykernel)",
   "language": "python",
   "name": "python3"
  },
  "language_info": {
   "codemirror_mode": {
    "name": "ipython",
    "version": 3
   },
   "file_extension": ".py",
   "mimetype": "text/x-python",
   "name": "python",
   "nbconvert_exporter": "python",
   "pygments_lexer": "ipython3",
   "version": "3.10.14"
  }
 },
 "nbformat": 4,
 "nbformat_minor": 5
}
