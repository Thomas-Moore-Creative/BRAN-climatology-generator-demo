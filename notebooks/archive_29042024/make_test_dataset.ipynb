{
 "cells": [
  {
   "cell_type": "markdown",
   "id": "a3c7829f-9399-4bfb-adf4-63851ba5fba2",
   "metadata": {},
   "source": [
    "# make test datasets"
   ]
  },
  {
   "cell_type": "markdown",
   "id": "da85e17d-1666-4bdd-bbb2-ba7288e8e71a",
   "metadata": {},
   "source": [
    "Date: 17 April, 2024"
   ]
  },
  {
   "cell_type": "markdown",
   "id": "4b722e90-e1fa-45a1-9638-5d9732063024",
   "metadata": {},
   "source": [
    "Author = {\"name\": \"Thomas Moore\", \"affiliation\": \"CSIRO\", \"email\": \"thomas.moore@csiro.au\", \"orcid\": \"0000-0003-3930-1946\"}"
   ]
  },
  {
   "cell_type": "markdown",
   "id": "23449033-f7fe-4f01-ac2d-de773de8db6b",
   "metadata": {},
   "source": [
    "### BRAN2020 is over 50TB of `float32` data over nearly 9000 `netcdf` file assests in total."
   ]
  },
  {
   "cell_type": "markdown",
   "id": "1f41a28d-7966-420a-a2ba-5bb53ada1d9c",
   "metadata": {},
   "source": [
    "#### required packages"
   ]
  },
  {
   "cell_type": "code",
   "execution_count": 1,
   "id": "dbfd2435-2231-4a62-aa70-d5fd531a259d",
   "metadata": {},
   "outputs": [],
   "source": [
    "import xarray as xr\n",
    "import pandas as pd\n",
    "import numpy as np\n",
    "from matplotlib import pyplot as plt\n",
    "import pandas as pd\n",
    "import matplotlib.dates as mdates\n",
    "import datetime"
   ]
  },
  {
   "cell_type": "markdown",
   "id": "8935960c-d1ab-4b85-8bc4-e2b41de3e910",
   "metadata": {},
   "source": [
    "#### ignore warnings"
   ]
  },
  {
   "cell_type": "code",
   "execution_count": 2,
   "id": "701040b6-201d-4bd9-be1d-2881778a7605",
   "metadata": {
    "tags": []
   },
   "outputs": [],
   "source": [
    "import warnings\n",
    "warnings.filterwarnings('ignore')"
   ]
  },
  {
   "cell_type": "markdown",
   "id": "e25d9c26-ad00-4e0a-b8dc-6fcfb15cfc71",
   "metadata": {},
   "source": [
    "#### start a local Dask client"
   ]
  },
  {
   "cell_type": "code",
   "execution_count": 3,
   "id": "97accd08-fd64-47e2-b870-ed24ff71ad9e",
   "metadata": {
    "tags": []
   },
   "outputs": [],
   "source": [
    "import dask\n",
    "import distributed\n",
    "\n",
    "with dask.config.set({\"distributed.scheduler.worker-saturation\": 1.0,\n",
    "                      \"distributed.nanny.pre-spawn-environ.MALLOC_TRIM_THRESHOLD_\": 0,\n",
    "                    \"logging.distributed\": \"error\"}):\n",
    "    client = distributed.Client()"
   ]
  },
  {
   "cell_type": "markdown",
   "id": "5503b17d-fda6-4ab3-a465-46398b38e269",
   "metadata": {},
   "source": [
    "# coarsen and write test data"
   ]
  },
  {
   "cell_type": "code",
   "execution_count": 4,
   "id": "c7c91c04-6783-45e7-b87c-10e27706609a",
   "metadata": {},
   "outputs": [
    {
     "name": "stdout",
     "output_type": "stream",
     "text": [
      "CPU times: user 676 ms, sys: 290 ms, total: 966 ms\n",
      "Wall time: 1.31 s\n"
     ]
    }
   ],
   "source": [
    "%%time\n",
    "### run var on what variable\n",
    "#var_name = 'temp'\n",
    "var_name = 'mld'\n",
    "#var_name = 'eta_t'\n",
    "\n",
    "#\n",
    "zarr_path = '/scratch/es60/ard/reanalysis/BRAN2020/ARD/'\n",
    "path_dict = {'eta_t':'BRAN2020-daily-eta_t-v14032024.zarr',\n",
    "                 'mld':'BRAN2020-daily-mld-v04042024.zarr',\n",
    "                 'temp':'BRAN2020-daily-temp-v07022024.zarr'}\n",
    "\n",
    "depth_dict = {'eta_t':None,'mld':None,'temp':'st_ocean'}\n",
    "lon_dict = {'eta_t':'xt_ocean','mld':'xt_ocean','temp':'xt_ocean'}\n",
    "lat_dict = {'eta_t':'yt_ocean','mld':'yt_ocean','temp':'yt_ocean'}\n",
    "time_dim = 'Time'\n",
    "results_path = '/scratch/es60/ard/reanalysis/BRAN2020/ARD/coarsened_tests/'\n",
    "results_file = 'BRAN2020_'+var_name+'_COARSENED.zarr'\n",
    "collection_path = zarr_path + path_dict[var_name]\n",
    "# load BRAN data\n",
    "ds = xr.open_zarr(collection_path,consolidated=True)\n",
    "\n",
    "##### vvvv coarsen for testing\n",
    "coarsen_dims = {'xt_ocean': 10, 'yt_ocean': 10}#, 'st_ocean': 10}\n",
    "ds = ds.coarsen(coarsen_dims, boundary='trim').mean()  # using mean as the aggregation method\n"
   ]
  },
  {
   "cell_type": "code",
   "execution_count": 5,
   "id": "7f573945-378e-49bf-9684-23a0fa19286f",
   "metadata": {},
   "outputs": [],
   "source": [
    "def remove_zarr_encoding(DS):\n",
    "    for var in DS:\n",
    "        DS[var].encoding = {}\n",
    "\n",
    "    for coord in DS.coords:\n",
    "        DS[coord].encoding = {}\n",
    "    return DS"
   ]
  },
  {
   "cell_type": "code",
   "execution_count": 6,
   "id": "83291929-fee4-4ee2-84e1-a8e72b1a4d98",
   "metadata": {},
   "outputs": [
    {
     "data": {
      "text/plain": [
       "<xarray.backends.zarr.ZarrStore at 0x14d9eaef3f40>"
      ]
     },
     "execution_count": 6,
     "metadata": {},
     "output_type": "execute_result"
    }
   ],
   "source": [
    "ds = ds.chunk({'Time':1000,'yt_ocean':-1,'xt_ocean':-1})\n",
    "ds = remove_zarr_encoding(ds)\n",
    "ds.to_zarr(results_path+results_file,consolidated=True)"
   ]
  },
  {
   "cell_type": "code",
   "execution_count": 7,
   "id": "a242f198-c5a5-45f7-875b-129c70d3c5ed",
   "metadata": {},
   "outputs": [
    {
     "data": {
      "text/plain": [
       "<xarray.backends.zarr.ZarrStore at 0x14d95079e840>"
      ]
     },
     "execution_count": 7,
     "metadata": {},
     "output_type": "execute_result"
    }
   ],
   "source": [
    "ds = ds.chunk({'Time':-1,'yt_ocean':-1,'xt_ocean':36})\n",
    "ds = remove_zarr_encoding(ds)\n",
    "results_file = 'BRAN2020_'+var_name+'_chunked4time_COARSENED.zarr'\n",
    "ds.to_zarr(results_path+results_file,consolidated=True)"
   ]
  },
  {
   "cell_type": "code",
   "execution_count": 8,
   "id": "cc0e4585-c8bd-4976-b25e-fc1910542b52",
   "metadata": {},
   "outputs": [],
   "source": [
    "reload_ds = xr.open_zarr(results_path+results_file,consolidated=True)"
   ]
  },
  {
   "cell_type": "markdown",
   "id": "a6a9d5ae-fe32-45d2-9af6-6d13ea3ac988",
   "metadata": {},
   "source": [
    "# $The$ $End$"
   ]
  },
  {
   "cell_type": "code",
   "execution_count": null,
   "id": "1920d781-f954-436b-94a8-f58d899f5150",
   "metadata": {
    "tags": []
   },
   "outputs": [],
   "source": [
    "client.shutdown()"
   ]
  },
  {
   "cell_type": "code",
   "execution_count": null,
   "id": "8e7fd9c2-7539-4b55-b7b0-4f05c78bba27",
   "metadata": {},
   "outputs": [],
   "source": []
  }
 ],
 "metadata": {
  "kernelspec": {
   "display_name": "Python 3 (ipykernel)",
   "language": "python",
   "name": "python3"
  },
  "language_info": {
   "codemirror_mode": {
    "name": "ipython",
    "version": 3
   },
   "file_extension": ".py",
   "mimetype": "text/x-python",
   "name": "python",
   "nbconvert_exporter": "python",
   "pygments_lexer": "ipython3",
   "version": "3.10.0"
  }
 },
 "nbformat": 4,
 "nbformat_minor": 5
}
