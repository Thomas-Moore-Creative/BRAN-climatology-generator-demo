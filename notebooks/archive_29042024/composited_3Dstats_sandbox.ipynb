{
 "cells": [
  {
   "cell_type": "markdown",
   "id": "a3c7829f-9399-4bfb-adf4-63851ba5fba2",
   "metadata": {},
   "source": [
    "# composited_3Dstats sandbox"
   ]
  },
  {
   "cell_type": "markdown",
   "id": "da85e17d-1666-4bdd-bbb2-ba7288e8e71a",
   "metadata": {},
   "source": [
    "Date: 22 April, 2024"
   ]
  },
  {
   "cell_type": "markdown",
   "id": "4b722e90-e1fa-45a1-9638-5d9732063024",
   "metadata": {},
   "source": [
    "Author = {\"name\": \"Thomas Moore\", \"affiliation\": \"CSIRO\", \"email\": \"thomas.moore@csiro.au\", \"orcid\": \"0000-0003-3930-1946\"}"
   ]
  },
  {
   "cell_type": "markdown",
   "id": "23449033-f7fe-4f01-ac2d-de773de8db6b",
   "metadata": {},
   "source": [
    "### BRAN2020 is over 50TB of `float32` data over nearly 9000 `netcdf` file assests in total."
   ]
  },
  {
   "cell_type": "markdown",
   "id": "1f41a28d-7966-420a-a2ba-5bb53ada1d9c",
   "metadata": {},
   "source": [
    "#### required packages"
   ]
  },
  {
   "cell_type": "code",
   "execution_count": null,
   "id": "dbfd2435-2231-4a62-aa70-d5fd531a259d",
   "metadata": {},
   "outputs": [],
   "source": [
    "import xarray as xr\n",
    "import pandas as pd\n",
    "import numpy as np\n",
    "from matplotlib import pyplot as plt\n",
    "import pandas as pd\n",
    "import matplotlib.dates as mdates\n",
    "import datetime\n",
    "import dask\n",
    "from dask.distributed import Client, LocalCluster\n",
    "from flox.xarray import xarray_reduce"
   ]
  },
  {
   "cell_type": "markdown",
   "id": "e25d9c26-ad00-4e0a-b8dc-6fcfb15cfc71",
   "metadata": {},
   "source": [
    "#### start a local Dask client"
   ]
  },
  {
   "cell_type": "code",
   "execution_count": null,
   "id": "97accd08-fd64-47e2-b870-ed24ff71ad9e",
   "metadata": {
    "tags": []
   },
   "outputs": [],
   "source": [
    "#cluster = LocalCluster(n_workers=4,threads_per_worker=1,processes=False)\n",
    "cluster=LocalCluster(n_workers=28,processes=True)\n",
    "client = Client(cluster)"
   ]
  },
  {
   "cell_type": "code",
   "execution_count": null,
   "id": "0c30b0ff-4bea-4b98-9bcf-e6981e29a181",
   "metadata": {},
   "outputs": [],
   "source": [
    "print(client)"
   ]
  },
  {
   "cell_type": "markdown",
   "id": "2e1606a7-f7e6-49a2-b6f7-213c80ae0bf7",
   "metadata": {},
   "source": [
    "## Strategies for climatology calculations - example\n",
    "[https://flox.readthedocs.io/en/latest/user-stories/climatology.html](https://flox.readthedocs.io/en/latest/user-stories/climatology.html)"
   ]
  },
  {
   "cell_type": "code",
   "execution_count": null,
   "id": "73698742-bd51-475f-bc25-a57a4eba12dc",
   "metadata": {},
   "outputs": [],
   "source": [
    "import dask.array\n",
    "import pandas as pd\n",
    "import xarray as xr\n",
    "\n",
    "import flox\n",
    "import flox.xarray"
   ]
  },
  {
   "cell_type": "code",
   "execution_count": null,
   "id": "70f6d83c-d9e8-4213-ba34-6996fe5e307d",
   "metadata": {},
   "outputs": [],
   "source": [
    "oisst = xr.DataArray(\n",
    "    dask.array.ones((14532, 720, 1440), chunks=(20, -1, -1)),\n",
    "    dims=(\"time\", \"lat\", \"lon\"),\n",
    "    coords={\"time\": pd.date_range(\"1981-09-01 12:00\", \"2021-06-14 12:00\", freq=\"D\")},\n",
    "    name=\"sst\",\n",
    ")\n",
    "oisst"
   ]
  },
  {
   "cell_type": "code",
   "execution_count": null,
   "id": "8c4d24e3-0274-4968-974e-0dcfff839b44",
   "metadata": {},
   "outputs": [],
   "source": [
    "result_map_reduce = flox.xarray.xarray_reduce(oisst, oisst.time.dt.month, func=\"mean\",method=\"map-reduce\")\n",
    "result_map_reduce"
   ]
  },
  {
   "cell_type": "code",
   "execution_count": null,
   "id": "58100f80-5b4b-495a-a7a1-27fac4924f06",
   "metadata": {},
   "outputs": [],
   "source": [
    "result_cohorts = flox.xarray.xarray_reduce(oisst, oisst.time.dt.month, func=\"mean\",method='cohorts')\n",
    "result_cohorts"
   ]
  },
  {
   "cell_type": "code",
   "execution_count": null,
   "id": "9dc4155a-0171-4fc7-8347-7b0c6a67f762",
   "metadata": {},
   "outputs": [],
   "source": [
    "%%time\n",
    "result_cohorts = result_cohorts.compute()"
   ]
  },
  {
   "cell_type": "code",
   "execution_count": null,
   "id": "fac907a0-d7c9-46ce-a566-6f6e6ec6a119",
   "metadata": {},
   "outputs": [],
   "source": [
    "%%time\n",
    "result_map_reduce = result_map_reduce.compute()"
   ]
  },
  {
   "cell_type": "code",
   "execution_count": null,
   "id": "a09fa7fc-0581-4525-aaad-89a9e2409027",
   "metadata": {},
   "outputs": [],
   "source": []
  },
  {
   "cell_type": "code",
   "execution_count": null,
   "id": "003fb3c7-55fb-4a79-8655-d8c796cf5068",
   "metadata": {},
   "outputs": [],
   "source": []
  },
  {
   "cell_type": "code",
   "execution_count": null,
   "id": "eba06302-ae63-4476-9afc-8d34ab38cd4b",
   "metadata": {},
   "outputs": [],
   "source": [
    "zarr_path = '/scratch/es60/ard/reanalysis/BRAN2020/ARD/'\n",
    "path_dict = {'temp_chunked4time':'BRAN2020-daily-temp-chunk4time-v07022024.zarr',\n",
    "            'temp':'BRAN2020-daily-temp-v14032024.zarr'}"
   ]
  },
  {
   "cell_type": "code",
   "execution_count": null,
   "id": "847141e4-c385-4a00-9a3d-19c9dc274399",
   "metadata": {},
   "outputs": [],
   "source": [
    "var_name = 'temp'"
   ]
  },
  {
   "cell_type": "code",
   "execution_count": null,
   "id": "904455a0-1d3a-4592-ae4a-adffa9a11fc6",
   "metadata": {},
   "outputs": [],
   "source": [
    "collection_path = zarr_path + path_dict[var_name]\n",
    "# load BRAN data\n",
    "ds = xr.open_zarr(collection_path,consolidated=True)"
   ]
  },
  {
   "cell_type": "code",
   "execution_count": null,
   "id": "c32ef0e8-649e-44ca-859f-ff6c3a610647",
   "metadata": {},
   "outputs": [],
   "source": [
    "ds =  ds.astype('float32')\n",
    "ds"
   ]
  },
  {
   "cell_type": "code",
   "execution_count": null,
   "id": "dfefc07c-93ee-47e1-bfaf-a680bc1ccc0a",
   "metadata": {},
   "outputs": [],
   "source": [
    "ds_reduced = ds.sel({'xt_ocean':slice(180,220),'yt_ocean':slice(-10,10),'st_ocean':slice(0,50),'Time':slice('2005','2006')})\n",
    "ds_reduced = ds_reduced.astype('float32')\n",
    "ds_reduced"
   ]
  },
  {
   "cell_type": "code",
   "execution_count": null,
   "id": "2ab04454-426a-43d3-b8a8-1e89bba78840",
   "metadata": {},
   "outputs": [],
   "source": [
    "ds.chunk({'Time':27,'st_ocean':1,'yt_ocean':1500})"
   ]
  },
  {
   "cell_type": "code",
   "execution_count": null,
   "id": "d142f107-89c1-46f7-8908-27dd37a6da8d",
   "metadata": {},
   "outputs": [],
   "source": [
    "result_map_reduce = flox.xarray.xarray_reduce(ds.chunk({'Time':27,'st_ocean':1,'yt_ocean':1500,'xt_ocean':1800}), ds.Time.dt.month, func=\"mean\",method=\"map-reduce\")\n",
    "result_map_reduce"
   ]
  },
  {
   "cell_type": "code",
   "execution_count": null,
   "id": "32d7aa27-a9fa-4cb6-aa8e-6eb9c2a11ab0",
   "metadata": {},
   "outputs": [],
   "source": [
    "%%time\n",
    "result_map_reduce = result_map_reduce.compute()"
   ]
  },
  {
   "cell_type": "code",
   "execution_count": null,
   "id": "ab782653-b704-48ed-9f63-637ca2528aa1",
   "metadata": {},
   "outputs": [],
   "source": [
    "%%time\n",
    "mean = ds_reduced.mean(dim=\"Time\")\n",
    "mean = mean.compute()"
   ]
  },
  {
   "cell_type": "code",
   "execution_count": null,
   "id": "c7fcfef8-bfce-4325-bf4e-c58cf491d589",
   "metadata": {},
   "outputs": [],
   "source": [
    "clim_map_reduce = ds_reduced.groupby('Time.month').mean(method=\"map-reduce\")\n",
    "clim_cohorts = ds_reduced.groupby('Time.month').mean(method=\"cohorts\")"
   ]
  },
  {
   "cell_type": "code",
   "execution_count": null,
   "id": "d72a99e5-76e7-4ba0-8b57-12d9f363a343",
   "metadata": {},
   "outputs": [],
   "source": [
    "%%time\n",
    "clim_map_reduce = clim_map_reduce.compute()"
   ]
  },
  {
   "cell_type": "code",
   "execution_count": null,
   "id": "a08cbf0e-74a1-4e9f-ab02-001c124136c5",
   "metadata": {},
   "outputs": [],
   "source": [
    "%%time\n",
    "clim_cohorts = clim_cohorts.compute()"
   ]
  },
  {
   "cell_type": "code",
   "execution_count": null,
   "id": "4f3dc35a-3497-42d8-b3d8-b56c99e09ce1",
   "metadata": {},
   "outputs": [],
   "source": []
  },
  {
   "cell_type": "code",
   "execution_count": null,
   "id": "aef28024-20f2-4702-925c-977782b000dc",
   "metadata": {},
   "outputs": [],
   "source": []
  },
  {
   "cell_type": "code",
   "execution_count": null,
   "id": "81cdfe8d-f430-41fd-b705-8a4c641df792",
   "metadata": {},
   "outputs": [],
   "source": [
    "ds_reduced_single = ds_reduced.astype(np.float32)\n",
    "ds_reduced_single"
   ]
  },
  {
   "cell_type": "code",
   "execution_count": null,
   "id": "12261cfc-32b9-4c12-b4a8-ace69954409e",
   "metadata": {},
   "outputs": [],
   "source": [
    "%%time\n",
    "mean_single = ds_reduced_single.mean(dim=\"Time\")\n",
    "mean_single = mean_single.compute()"
   ]
  },
  {
   "cell_type": "code",
   "execution_count": null,
   "id": "dfb1b20a-f18a-4e42-a350-35cc987dd6b1",
   "metadata": {},
   "outputs": [],
   "source": []
  },
  {
   "cell_type": "code",
   "execution_count": null,
   "id": "405a1e3b-f7fb-46e2-8cec-53629868285c",
   "metadata": {},
   "outputs": [],
   "source": []
  },
  {
   "cell_type": "code",
   "execution_count": null,
   "id": "37dd30ff-14f7-4be7-be75-3246cf1534c3",
   "metadata": {},
   "outputs": [],
   "source": []
  },
  {
   "cell_type": "code",
   "execution_count": null,
   "id": "dfc1f4c0-e6d7-451d-934f-1d89cb9aa2d3",
   "metadata": {},
   "outputs": [],
   "source": []
  },
  {
   "cell_type": "code",
   "execution_count": null,
   "id": "a99fe39c-fec6-4f39-8cd5-78f45334270e",
   "metadata": {},
   "outputs": [],
   "source": []
  },
  {
   "cell_type": "code",
   "execution_count": null,
   "id": "502f9c07-5da8-4c67-9e11-2bad976239b4",
   "metadata": {},
   "outputs": [],
   "source": []
  },
  {
   "cell_type": "code",
   "execution_count": null,
   "id": "b73c30c2-c56f-4eb9-9c90-05568ae08e1d",
   "metadata": {},
   "outputs": [],
   "source": []
  },
  {
   "cell_type": "code",
   "execution_count": null,
   "id": "8cec915b-c6bb-4285-82a7-1a322e783811",
   "metadata": {},
   "outputs": [],
   "source": []
  },
  {
   "cell_type": "code",
   "execution_count": null,
   "id": "3051ad0b-8b3e-40b5-beb6-5af214d9de26",
   "metadata": {},
   "outputs": [],
   "source": []
  },
  {
   "cell_type": "code",
   "execution_count": null,
   "id": "b97b284f-af92-418b-b82f-0fd7065b2576",
   "metadata": {},
   "outputs": [],
   "source": []
  },
  {
   "cell_type": "markdown",
   "id": "5503b17d-fda6-4ab3-a465-46398b38e269",
   "metadata": {},
   "source": [
    "# workflow"
   ]
  },
  {
   "cell_type": "code",
   "execution_count": null,
   "id": "c7c91c04-6783-45e7-b87c-10e27706609a",
   "metadata": {
    "scrolled": true
   },
   "outputs": [],
   "source": [
    "%%time\n",
    "\n",
    "    \n",
    "## make masks for ENSO composites\n",
    "\n",
    "### load ONI data\n",
    "ONI_DF = pd.read_csv('/g/data/xv83/users/tm4888/data/ENSO/NCAR_ONI.csv')\n",
    "ONI_DF.set_index('datetime',inplace=True)\n",
    "ONI_DF.index = pd.to_datetime(ONI_DF.index)\n",
    "###\n",
    "el_nino_threshold = 0.5\n",
    "la_nina_threshold = -0.5\n",
    "el_nino_threshold_months = ONI_DF[\"ONI\"].ge(el_nino_threshold)\n",
    "la_nina_threshold_months = ONI_DF[\"ONI\"].le(la_nina_threshold)\n",
    "ONI_DF = pd.concat([ONI_DF, el_nino_threshold_months.rename('El Nino threshold')], axis=1)\n",
    "ONI_DF = pd.concat([ONI_DF, la_nina_threshold_months.rename('La Nina threshold')], axis=1)\n",
    "ONI_DF = pd.concat([ONI_DF, el_nino_threshold_months.diff().ne(0).cumsum().rename('El Nino event group ID')], axis=1)\n",
    "ONI_DF = pd.concat([ONI_DF, la_nina_threshold_months.diff().ne(0).cumsum().rename('La Nina event group ID')], axis=1)\n",
    "#\n",
    "El_Nino_Series = ONI_DF.groupby('El Nino event group ID')['ONI'].filter(lambda x: len(x) >= 5,dropna=False).where(ONI_DF['El Nino threshold'] == True)\n",
    "ONI_DF = pd.concat([ONI_DF, El_Nino_Series.rename('El Nino')], axis=1)\n",
    "La_Nina_Series = ONI_DF.groupby('La Nina event group ID')['ONI'].filter(lambda x: len(x) >= 5,dropna=False).where(ONI_DF['La Nina threshold'] == True)\n",
    "ONI_DF = pd.concat([ONI_DF, La_Nina_Series.rename('La Nina')], axis=1)\n",
    "#\n",
    "ONI_DF_BRANtime = ONI_DF['1993-01':'2023-06']\n",
    "ONI_DF_BRANtime['El Nino LOGICAL'] = ONI_DF_BRANtime['El Nino'].notnull()\n",
    "ONI_DF_BRANtime['La Nina LOGICAL'] = ONI_DF_BRANtime['La Nina'].notnull()\n",
    "# shift back from middle of month\n",
    "ONI_DF_BRANtime.index += pd.Timedelta(-14, 'd')\n",
    "# modify end value for upsample\n",
    "ONI_DF_BRANtime.loc[pd.to_datetime('2023-07-01 00:00:00')] = 'NaN'\n",
    "#upsample\n",
    "ONI_DF_BRANtime = ONI_DF_BRANtime.resample('D').ffill()\n",
    "#drop last dummy date\n",
    "ONI_DF_BRANtime = ONI_DF_BRANtime[:-1]\n",
    "#\n",
    "\n",
    "### run var on what variable\n",
    "#var_name = 'temp'\n",
    "var_name = 'mld'\n",
    "#var_name = 'eta_t'\n",
    "\n",
    "# Write log file\n",
    "log_path = '/scratch/es60/ard/reanalysis/BRAN2020/ARD/logs/'\n",
    "log_file = log_path + f'log_{datetime.datetime.now().strftime(\"%Y-%m-%d_%H-%M\")}_{var_name}_stats.txt'\n",
    "with open(log_file, 'a') as f:\n",
    "    f.write(f'{var_name} start processing . . .\\n')\n",
    "\n",
    "#\n",
    "zarr_path = '/scratch/es60/ard/reanalysis/BRAN2020/ARD/'\n",
    "path_dict = {'eta_t':'BRAN2020-daily-eta_t-chunk4time-v14032024.zarr',\n",
    "                 'mld':'BRAN2020-daily-mld-chunk4time-v04042024.zarr',\n",
    "                 'temp':'BRAN2020-daily-temp-chunk4time-v07022024.zarr'}\n",
    "results_path = '/g/data/es60/users/thomas_moore/clim_demo_results/daily/draft_delivery/'\n",
    "results_file = 'BRAN2020_clim_demo_'+var_name+'.nc'\n",
    "\n",
    "########### vvvvvv for testing\n",
    "#path_dict = {'eta_t':'error',\n",
    "#                 'mld':'coarsened_tests/BRAN2020_mld_chunked4time_COARSENED.zarr',\n",
    "#                 'temp':'error'}\n",
    "#results_path = '/g/data/es60/users/thomas_moore/clim_demo_results/daily/draft_delivery/COARSENED/'\n",
    "#results_file = 'BRAN2020_clim_demo_'+var_name+'_COARSENED.nc'\n",
    "##### ^^^^^ for testing \n",
    "\n",
    "depth_dict = {'eta_t':None,'mld':None,'temp':'st_ocean'}\n",
    "lon_dict = {'eta_t':'xt_ocean','mld':'xt_ocean','temp':'xt_ocean'}\n",
    "lat_dict = {'eta_t':'yt_ocean','mld':'yt_ocean','temp':'yt_ocean'}\n",
    "time_dim = 'Time'\n",
    "\n",
    "collection_path = zarr_path + path_dict[var_name]\n",
    "# load BRAN data\n",
    "ds = xr.open_zarr(collection_path,consolidated=True)\n",
    "\n",
    "#\n",
    "### ENSO masks\n",
    "El_Nino_mask = ONI_DF_BRANtime['El Nino LOGICAL']\n",
    "El_Nino_mask = El_Nino_mask.to_xarray()\n",
    "El_Nino_mask = El_Nino_mask.rename({'datetime':'Time'})\n",
    "sync_Time = ds.Time\n",
    "El_Nino_mask['Time'] = sync_Time\n",
    "#\n",
    "La_Nina_mask = ONI_DF_BRANtime['La Nina LOGICAL']\n",
    "La_Nina_mask = La_Nina_mask.to_xarray()\n",
    "La_Nina_mask = La_Nina_mask.rename({'datetime':'Time'})\n",
    "sync_Time = ds.Time\n",
    "La_Nina_mask['Time'] = sync_Time\n",
    "#\n",
    "ONI_DF_BRANtime['Neutral LOGICAL'] = (ONI_DF_BRANtime['El Nino LOGICAL'] == False) & (ONI_DF_BRANtime['La Nina LOGICAL'] == False)\n",
    "neutral_mask = ONI_DF_BRANtime['La Nina LOGICAL']\n",
    "neutral_mask = neutral_mask.to_xarray()\n",
    "neutral_mask = neutral_mask.rename({'datetime':'Time'})\n",
    "sync_Time = ds.Time\n",
    "neutral_mask['Time'] = sync_Time\n",
    "\n",
    "### calculate \"all time\" stats\n",
    "\n",
    "clim_ds = xr.merge([ds.groupby(time_dim+'.month').mean(dim=time_dim,skipna=True).rename({var_name:'mean_'+var_name}),\n",
    "                      ds.groupby(time_dim+'.month').min(dim=time_dim,skipna=True).rename({var_name:'min_'+var_name}),\n",
    "                      ds.groupby(time_dim+'.month').max(dim=time_dim,skipna=True).rename({var_name:'max_'+var_name}),\n",
    "                      ds.groupby(time_dim+'.month').std(dim=time_dim,skipna=True).rename({var_name:'std_'+var_name}),\n",
    "                      ds.groupby(time_dim+'.month').median(dim=time_dim,skipna=True).rename({var_name:'median_'+var_name})\n",
    "])\n",
    "quant = ds.groupby(time_dim+'.month').quantile([0.05,0.95],skipna=True,dim=time_dim).astype(np.float32)\n",
    "quant_ds = xr.merge([quant.isel(quantile=0).reset_coords(drop=True).rename({var_name:'quantile_05_'+var_name}),quant.isel(quantile=1).reset_coords(drop=True).rename({var_name:'quantile_95_'+var_name})])\n",
    "result_ds = xr.merge([clim_ds,quant_ds])\n",
    "\n",
    "#### mask out data\n",
    "\n",
    "El_Nino_ds = ds.where(El_Nino_mask)\n",
    "La_Nina_ds = ds.where(La_Nina_mask)\n",
    "neutral_ds = ds.where(neutral_mask)\n",
    "\n",
    "##### El Nino calc\n",
    "clim_El_Nino_ds = xr.merge([El_Nino_ds.groupby(time_dim+'.month').mean(dim=time_dim,skipna=True).rename({var_name:'mean_'+'el_nino_'+var_name}),\n",
    "                      El_Nino_ds.groupby(time_dim+'.month').min(dim=time_dim,skipna=True).rename({var_name:'min_'+'el_nino_'+var_name}),\n",
    "                      El_Nino_ds.groupby(time_dim+'.month').max(dim=time_dim,skipna=True).rename({var_name:'max_'+'el_nino_'+var_name}),\n",
    "                      El_Nino_ds.groupby(time_dim+'.month').std(dim=time_dim,skipna=True).rename({var_name:'std_'+'el_nino_'+var_name}),\n",
    "                      El_Nino_ds.groupby(time_dim+'.month').median(dim=time_dim,skipna=True).rename({var_name:'median_'+'el_nino_'+var_name})\n",
    "])\n",
    "quant_El_Nino = El_Nino_ds.groupby(time_dim+'.month').quantile([0.05,0.95],skipna=True,dim=time_dim).astype(np.float32)\n",
    "quant_El_Nino_ds = xr.merge([quant_El_Nino.isel(quantile=0).reset_coords(drop=True).rename({var_name:'quantile_05_'+'el_nino_'+var_name}),quant_El_Nino.isel(quantile=1).reset_coords(drop=True).rename({var_name:'quantile_95_'+'el_nino_'+var_name})])\n",
    "result_El_Nino_ds = xr.merge([clim_El_Nino_ds,quant_El_Nino_ds])\n",
    "\n",
    "#### La Nina calc\n",
    "clim_La_Nina_ds = xr.merge([La_Nina_ds.groupby(time_dim+'.month').mean(dim=time_dim,skipna=True).rename({var_name:'mean_'+'la_nina_'+var_name}),\n",
    "                      La_Nina_ds.groupby(time_dim+'.month').min(dim=time_dim,skipna=True).rename({var_name:'min_'+'la_nina_'+var_name}),\n",
    "                      La_Nina_ds.groupby(time_dim+'.month').max(dim=time_dim,skipna=True).rename({var_name:'max_'+'la_nina_'+var_name}),\n",
    "                      La_Nina_ds.groupby(time_dim+'.month').std(dim=time_dim,skipna=True).rename({var_name:'std_'+'la_nina_'+var_name}),\n",
    "                      La_Nina_ds.groupby(time_dim+'.month').median(dim=time_dim,skipna=True).rename({var_name:'median_'+'la_nina_'+var_name})\n",
    "])\n",
    "quant_La_Nina = La_Nina_ds.groupby(time_dim+'.month').quantile([0.05,0.95],skipna=True,dim=time_dim).astype(np.float32)\n",
    "quant_La_Nina_ds = xr.merge([quant_La_Nina.isel(quantile=0).reset_coords(drop=True).rename({var_name:'quantile_05_'+'la_nina_'+var_name}),quant_La_Nina.isel(quantile=1).reset_coords(drop=True).rename({var_name:'quantile_95_'+'la_nina_'+var_name})])\n",
    "result_La_Nina_ds = xr.merge([clim_La_Nina_ds,quant_La_Nina_ds])\n",
    "#### neutral calc\n",
    "clim_neutral_ds = xr.merge([neutral_ds.groupby(time_dim+'.month').mean(dim=time_dim,skipna=True).rename({var_name:'mean_'+'neutral_'+var_name}),\n",
    "                      neutral_ds.groupby(time_dim+'.month').min(dim=time_dim,skipna=True).rename({var_name:'min_'+'neutral_'+var_name}),\n",
    "                      neutral_ds.groupby(time_dim+'.month').max(dim=time_dim,skipna=True).rename({var_name:'max_'+'neutral_'+var_name}),\n",
    "                      neutral_ds.groupby(time_dim+'.month').std(dim=time_dim,skipna=True).rename({var_name:'std_'+'neutral_'+var_name}),\n",
    "                      neutral_ds.groupby(time_dim+'.month').median(dim=time_dim,skipna=True).rename({var_name:'median_'+'neutral_'+var_name})\n",
    "])\n",
    "quant_neutral = neutral_ds.groupby(time_dim+'.month').quantile([0.05,0.95],skipna=True,dim=time_dim).astype(np.float32)\n",
    "quant_neutral_ds = xr.merge([quant_neutral.isel(quantile=0).reset_coords(drop=True).rename({var_name:'quantile_05_'+'neutral_'+var_name}),quant_neutral.isel(quantile=1).reset_coords(drop=True).rename({var_name:'quantile_95_'+'neutral_'+var_name})])\n",
    "result_neutral_ds = xr.merge([clim_neutral_ds,quant_neutral_ds])\n",
    "#\n",
    "result_ds = xr.merge([result_ds,result_El_Nino_ds,result_La_Nina_ds,result_neutral_ds])\n",
    "\n",
    "result_ds.to_netcdf(results_path+results_file,engine='netcdf4')\n",
    "\n",
    "with open(log_file, 'a') as f:\n",
    "    f.write(f'{var_name} .... finished processing\\n DONE!\\n')\n"
   ]
  },
  {
   "cell_type": "markdown",
   "id": "a6a9d5ae-fe32-45d2-9af6-6d13ea3ac988",
   "metadata": {
    "jp-MarkdownHeadingCollapsed": true
   },
   "source": [
    "# $The$ $End$"
   ]
  },
  {
   "cell_type": "code",
   "execution_count": null,
   "id": "1920d781-f954-436b-94a8-f58d899f5150",
   "metadata": {
    "tags": []
   },
   "outputs": [],
   "source": [
    "client.shutdown()"
   ]
  },
  {
   "cell_type": "code",
   "execution_count": null,
   "id": "8e7fd9c2-7539-4b55-b7b0-4f05c78bba27",
   "metadata": {},
   "outputs": [],
   "source": []
  }
 ],
 "metadata": {
  "kernelspec": {
   "display_name": "Python 3 (ipykernel)",
   "language": "python",
   "name": "python3"
  },
  "language_info": {
   "codemirror_mode": {
    "name": "ipython",
    "version": 3
   },
   "file_extension": ".py",
   "mimetype": "text/x-python",
   "name": "python",
   "nbconvert_exporter": "python",
   "pygments_lexer": "ipython3",
   "version": "3.10.14"
  }
 },
 "nbformat": 4,
 "nbformat_minor": 5
}
