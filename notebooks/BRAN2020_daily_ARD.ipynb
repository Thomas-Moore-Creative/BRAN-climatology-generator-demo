{
 "cells": [
  {
   "cell_type": "markdown",
   "id": "a3c7829f-9399-4bfb-adf4-63851ba5fba2",
   "metadata": {},
   "source": [
    "# BRAN2020 daily ARD"
   ]
  },
  {
   "cell_type": "markdown",
   "id": "da85e17d-1666-4bdd-bbb2-ba7288e8e71a",
   "metadata": {},
   "source": [
    "Date: 7 March, 2024"
   ]
  },
  {
   "cell_type": "markdown",
   "id": "4b722e90-e1fa-45a1-9638-5d9732063024",
   "metadata": {},
   "source": [
    "Author = {\"name\": \"Thomas Moore\", \"affiliation\": \"CSIRO\", \"email\": \"thomas.moore@csiro.au\", \"orcid\": \"0000-0003-3930-1946\"}"
   ]
  },
  {
   "cell_type": "markdown",
   "id": "23449033-f7fe-4f01-ac2d-de773de8db6b",
   "metadata": {},
   "source": [
    "### BRAN2020 is order 100TB of data over nearly 9000 `netcdf` file assests in total."
   ]
  },
  {
   "cell_type": "markdown",
   "id": "1f41a28d-7966-420a-a2ba-5bb53ada1d9c",
   "metadata": {},
   "source": [
    "#### required packages"
   ]
  },
  {
   "cell_type": "code",
   "execution_count": 1,
   "id": "dbfd2435-2231-4a62-aa70-d5fd531a259d",
   "metadata": {},
   "outputs": [],
   "source": [
    "import intake\n",
    "import xarray as xr\n",
    "import pandas as pd\n",
    "import numpy as np\n",
    "from matplotlib import pyplot as plt\n",
    "import pandas as pd\n",
    "#more plotting\n",
    "import matplotlib.dates as mdates\n",
    "#import seaborn as sns"
   ]
  },
  {
   "cell_type": "code",
   "execution_count": 2,
   "id": "2a00dace-dc1c-4b5b-9012-ccff26df7d89",
   "metadata": {},
   "outputs": [
    {
     "data": {
      "text/plain": [
       "'2024.3.0'"
      ]
     },
     "execution_count": 2,
     "metadata": {},
     "output_type": "execute_result"
    }
   ],
   "source": [
    "xr.__version__"
   ]
  },
  {
   "cell_type": "markdown",
   "id": "e25d9c26-ad00-4e0a-b8dc-6fcfb15cfc71",
   "metadata": {},
   "source": [
    "#### start a local Dask client"
   ]
  },
  {
   "cell_type": "code",
   "execution_count": 3,
   "id": "97accd08-fd64-47e2-b870-ed24ff71ad9e",
   "metadata": {
    "tags": []
   },
   "outputs": [
    {
     "data": {
      "text/html": [
       "<div>\n",
       "    <div style=\"width: 24px; height: 24px; background-color: #e1e1e1; border: 3px solid #9D9D9D; border-radius: 5px; position: absolute;\"> </div>\n",
       "    <div style=\"margin-left: 48px;\">\n",
       "        <h3 style=\"margin-bottom: 0px;\">Client</h3>\n",
       "        <p style=\"color: #9D9D9D; margin-bottom: 0px;\">Client-93b9565a-fad6-11ee-9ea1-00000777fe80</p>\n",
       "        <table style=\"width: 100%; text-align: left;\">\n",
       "\n",
       "        <tr>\n",
       "        \n",
       "            <td style=\"text-align: left;\"><strong>Connection method:</strong> Cluster object</td>\n",
       "            <td style=\"text-align: left;\"><strong>Cluster type:</strong> distributed.LocalCluster</td>\n",
       "        \n",
       "        </tr>\n",
       "\n",
       "        \n",
       "            <tr>\n",
       "                <td style=\"text-align: left;\">\n",
       "                    <strong>Dashboard: </strong> <a href=\"/proxy/8787/status\" target=\"_blank\">/proxy/8787/status</a>\n",
       "                </td>\n",
       "                <td style=\"text-align: left;\"></td>\n",
       "            </tr>\n",
       "        \n",
       "\n",
       "        </table>\n",
       "\n",
       "        \n",
       "            <button style=\"margin-bottom: 12px;\" data-commandlinker-command=\"dask:populate-and-launch-layout\" data-commandlinker-args='{\"url\": \"/proxy/8787/status\" }'>\n",
       "                Launch dashboard in JupyterLab\n",
       "            </button>\n",
       "        \n",
       "\n",
       "        \n",
       "            <details>\n",
       "            <summary style=\"margin-bottom: 20px;\"><h3 style=\"display: inline;\">Cluster Info</h3></summary>\n",
       "            <div class=\"jp-RenderedHTMLCommon jp-RenderedHTML jp-mod-trusted jp-OutputArea-output\">\n",
       "    <div style=\"width: 24px; height: 24px; background-color: #e1e1e1; border: 3px solid #9D9D9D; border-radius: 5px; position: absolute;\">\n",
       "    </div>\n",
       "    <div style=\"margin-left: 48px;\">\n",
       "        <h3 style=\"margin-bottom: 0px; margin-top: 0px;\">LocalCluster</h3>\n",
       "        <p style=\"color: #9D9D9D; margin-bottom: 0px;\">9c569d51</p>\n",
       "        <table style=\"width: 100%; text-align: left;\">\n",
       "            <tr>\n",
       "                <td style=\"text-align: left;\">\n",
       "                    <strong>Dashboard:</strong> <a href=\"/proxy/8787/status\" target=\"_blank\">/proxy/8787/status</a>\n",
       "                </td>\n",
       "                <td style=\"text-align: left;\">\n",
       "                    <strong>Workers:</strong> 7\n",
       "                </td>\n",
       "            </tr>\n",
       "            <tr>\n",
       "                <td style=\"text-align: left;\">\n",
       "                    <strong>Total threads:</strong> 28\n",
       "                </td>\n",
       "                <td style=\"text-align: left;\">\n",
       "                    <strong>Total memory:</strong> 251.18 GiB\n",
       "                </td>\n",
       "            </tr>\n",
       "            \n",
       "            <tr>\n",
       "    <td style=\"text-align: left;\"><strong>Status:</strong> running</td>\n",
       "    <td style=\"text-align: left;\"><strong>Using processes:</strong> True</td>\n",
       "</tr>\n",
       "\n",
       "            \n",
       "        </table>\n",
       "\n",
       "        <details>\n",
       "            <summary style=\"margin-bottom: 20px;\">\n",
       "                <h3 style=\"display: inline;\">Scheduler Info</h3>\n",
       "            </summary>\n",
       "\n",
       "            <div style=\"\">\n",
       "    <div>\n",
       "        <div style=\"width: 24px; height: 24px; background-color: #FFF7E5; border: 3px solid #FF6132; border-radius: 5px; position: absolute;\"> </div>\n",
       "        <div style=\"margin-left: 48px;\">\n",
       "            <h3 style=\"margin-bottom: 0px;\">Scheduler</h3>\n",
       "            <p style=\"color: #9D9D9D; margin-bottom: 0px;\">Scheduler-44fc5e36-c472-43a0-ae55-f56a4bd65240</p>\n",
       "            <table style=\"width: 100%; text-align: left;\">\n",
       "                <tr>\n",
       "                    <td style=\"text-align: left;\">\n",
       "                        <strong>Comm:</strong> tcp://127.0.0.1:45507\n",
       "                    </td>\n",
       "                    <td style=\"text-align: left;\">\n",
       "                        <strong>Workers:</strong> 7\n",
       "                    </td>\n",
       "                </tr>\n",
       "                <tr>\n",
       "                    <td style=\"text-align: left;\">\n",
       "                        <strong>Dashboard:</strong> <a href=\"/proxy/8787/status\" target=\"_blank\">/proxy/8787/status</a>\n",
       "                    </td>\n",
       "                    <td style=\"text-align: left;\">\n",
       "                        <strong>Total threads:</strong> 28\n",
       "                    </td>\n",
       "                </tr>\n",
       "                <tr>\n",
       "                    <td style=\"text-align: left;\">\n",
       "                        <strong>Started:</strong> Just now\n",
       "                    </td>\n",
       "                    <td style=\"text-align: left;\">\n",
       "                        <strong>Total memory:</strong> 251.18 GiB\n",
       "                    </td>\n",
       "                </tr>\n",
       "            </table>\n",
       "        </div>\n",
       "    </div>\n",
       "\n",
       "    <details style=\"margin-left: 48px;\">\n",
       "        <summary style=\"margin-bottom: 20px;\">\n",
       "            <h3 style=\"display: inline;\">Workers</h3>\n",
       "        </summary>\n",
       "\n",
       "        \n",
       "        <div style=\"margin-bottom: 20px;\">\n",
       "            <div style=\"width: 24px; height: 24px; background-color: #DBF5FF; border: 3px solid #4CC9FF; border-radius: 5px; position: absolute;\"> </div>\n",
       "            <div style=\"margin-left: 48px;\">\n",
       "            <details>\n",
       "                <summary>\n",
       "                    <h4 style=\"margin-bottom: 0px; display: inline;\">Worker: 0</h4>\n",
       "                </summary>\n",
       "                <table style=\"width: 100%; text-align: left;\">\n",
       "                    <tr>\n",
       "                        <td style=\"text-align: left;\">\n",
       "                            <strong>Comm: </strong> tcp://127.0.0.1:42293\n",
       "                        </td>\n",
       "                        <td style=\"text-align: left;\">\n",
       "                            <strong>Total threads: </strong> 4\n",
       "                        </td>\n",
       "                    </tr>\n",
       "                    <tr>\n",
       "                        <td style=\"text-align: left;\">\n",
       "                            <strong>Dashboard: </strong> <a href=\"/proxy/35561/status\" target=\"_blank\">/proxy/35561/status</a>\n",
       "                        </td>\n",
       "                        <td style=\"text-align: left;\">\n",
       "                            <strong>Memory: </strong> 35.88 GiB\n",
       "                        </td>\n",
       "                    </tr>\n",
       "                    <tr>\n",
       "                        <td style=\"text-align: left;\">\n",
       "                            <strong>Nanny: </strong> tcp://127.0.0.1:33163\n",
       "                        </td>\n",
       "                        <td style=\"text-align: left;\"></td>\n",
       "                    </tr>\n",
       "                    <tr>\n",
       "                        <td colspan=\"2\" style=\"text-align: left;\">\n",
       "                            <strong>Local directory: </strong> /jobfs/113828258.gadi-pbs/dask-scratch-space/worker-afzxdpy3\n",
       "                        </td>\n",
       "                    </tr>\n",
       "\n",
       "                    \n",
       "\n",
       "                    \n",
       "\n",
       "                </table>\n",
       "            </details>\n",
       "            </div>\n",
       "        </div>\n",
       "        \n",
       "        <div style=\"margin-bottom: 20px;\">\n",
       "            <div style=\"width: 24px; height: 24px; background-color: #DBF5FF; border: 3px solid #4CC9FF; border-radius: 5px; position: absolute;\"> </div>\n",
       "            <div style=\"margin-left: 48px;\">\n",
       "            <details>\n",
       "                <summary>\n",
       "                    <h4 style=\"margin-bottom: 0px; display: inline;\">Worker: 1</h4>\n",
       "                </summary>\n",
       "                <table style=\"width: 100%; text-align: left;\">\n",
       "                    <tr>\n",
       "                        <td style=\"text-align: left;\">\n",
       "                            <strong>Comm: </strong> tcp://127.0.0.1:33835\n",
       "                        </td>\n",
       "                        <td style=\"text-align: left;\">\n",
       "                            <strong>Total threads: </strong> 4\n",
       "                        </td>\n",
       "                    </tr>\n",
       "                    <tr>\n",
       "                        <td style=\"text-align: left;\">\n",
       "                            <strong>Dashboard: </strong> <a href=\"/proxy/36133/status\" target=\"_blank\">/proxy/36133/status</a>\n",
       "                        </td>\n",
       "                        <td style=\"text-align: left;\">\n",
       "                            <strong>Memory: </strong> 35.88 GiB\n",
       "                        </td>\n",
       "                    </tr>\n",
       "                    <tr>\n",
       "                        <td style=\"text-align: left;\">\n",
       "                            <strong>Nanny: </strong> tcp://127.0.0.1:33687\n",
       "                        </td>\n",
       "                        <td style=\"text-align: left;\"></td>\n",
       "                    </tr>\n",
       "                    <tr>\n",
       "                        <td colspan=\"2\" style=\"text-align: left;\">\n",
       "                            <strong>Local directory: </strong> /jobfs/113828258.gadi-pbs/dask-scratch-space/worker-52nr7jzj\n",
       "                        </td>\n",
       "                    </tr>\n",
       "\n",
       "                    \n",
       "\n",
       "                    \n",
       "\n",
       "                </table>\n",
       "            </details>\n",
       "            </div>\n",
       "        </div>\n",
       "        \n",
       "        <div style=\"margin-bottom: 20px;\">\n",
       "            <div style=\"width: 24px; height: 24px; background-color: #DBF5FF; border: 3px solid #4CC9FF; border-radius: 5px; position: absolute;\"> </div>\n",
       "            <div style=\"margin-left: 48px;\">\n",
       "            <details>\n",
       "                <summary>\n",
       "                    <h4 style=\"margin-bottom: 0px; display: inline;\">Worker: 2</h4>\n",
       "                </summary>\n",
       "                <table style=\"width: 100%; text-align: left;\">\n",
       "                    <tr>\n",
       "                        <td style=\"text-align: left;\">\n",
       "                            <strong>Comm: </strong> tcp://127.0.0.1:44175\n",
       "                        </td>\n",
       "                        <td style=\"text-align: left;\">\n",
       "                            <strong>Total threads: </strong> 4\n",
       "                        </td>\n",
       "                    </tr>\n",
       "                    <tr>\n",
       "                        <td style=\"text-align: left;\">\n",
       "                            <strong>Dashboard: </strong> <a href=\"/proxy/40641/status\" target=\"_blank\">/proxy/40641/status</a>\n",
       "                        </td>\n",
       "                        <td style=\"text-align: left;\">\n",
       "                            <strong>Memory: </strong> 35.88 GiB\n",
       "                        </td>\n",
       "                    </tr>\n",
       "                    <tr>\n",
       "                        <td style=\"text-align: left;\">\n",
       "                            <strong>Nanny: </strong> tcp://127.0.0.1:37075\n",
       "                        </td>\n",
       "                        <td style=\"text-align: left;\"></td>\n",
       "                    </tr>\n",
       "                    <tr>\n",
       "                        <td colspan=\"2\" style=\"text-align: left;\">\n",
       "                            <strong>Local directory: </strong> /jobfs/113828258.gadi-pbs/dask-scratch-space/worker-m2qefew8\n",
       "                        </td>\n",
       "                    </tr>\n",
       "\n",
       "                    \n",
       "\n",
       "                    \n",
       "\n",
       "                </table>\n",
       "            </details>\n",
       "            </div>\n",
       "        </div>\n",
       "        \n",
       "        <div style=\"margin-bottom: 20px;\">\n",
       "            <div style=\"width: 24px; height: 24px; background-color: #DBF5FF; border: 3px solid #4CC9FF; border-radius: 5px; position: absolute;\"> </div>\n",
       "            <div style=\"margin-left: 48px;\">\n",
       "            <details>\n",
       "                <summary>\n",
       "                    <h4 style=\"margin-bottom: 0px; display: inline;\">Worker: 3</h4>\n",
       "                </summary>\n",
       "                <table style=\"width: 100%; text-align: left;\">\n",
       "                    <tr>\n",
       "                        <td style=\"text-align: left;\">\n",
       "                            <strong>Comm: </strong> tcp://127.0.0.1:35653\n",
       "                        </td>\n",
       "                        <td style=\"text-align: left;\">\n",
       "                            <strong>Total threads: </strong> 4\n",
       "                        </td>\n",
       "                    </tr>\n",
       "                    <tr>\n",
       "                        <td style=\"text-align: left;\">\n",
       "                            <strong>Dashboard: </strong> <a href=\"/proxy/33865/status\" target=\"_blank\">/proxy/33865/status</a>\n",
       "                        </td>\n",
       "                        <td style=\"text-align: left;\">\n",
       "                            <strong>Memory: </strong> 35.88 GiB\n",
       "                        </td>\n",
       "                    </tr>\n",
       "                    <tr>\n",
       "                        <td style=\"text-align: left;\">\n",
       "                            <strong>Nanny: </strong> tcp://127.0.0.1:46593\n",
       "                        </td>\n",
       "                        <td style=\"text-align: left;\"></td>\n",
       "                    </tr>\n",
       "                    <tr>\n",
       "                        <td colspan=\"2\" style=\"text-align: left;\">\n",
       "                            <strong>Local directory: </strong> /jobfs/113828258.gadi-pbs/dask-scratch-space/worker-a09gcgx_\n",
       "                        </td>\n",
       "                    </tr>\n",
       "\n",
       "                    \n",
       "\n",
       "                    \n",
       "\n",
       "                </table>\n",
       "            </details>\n",
       "            </div>\n",
       "        </div>\n",
       "        \n",
       "        <div style=\"margin-bottom: 20px;\">\n",
       "            <div style=\"width: 24px; height: 24px; background-color: #DBF5FF; border: 3px solid #4CC9FF; border-radius: 5px; position: absolute;\"> </div>\n",
       "            <div style=\"margin-left: 48px;\">\n",
       "            <details>\n",
       "                <summary>\n",
       "                    <h4 style=\"margin-bottom: 0px; display: inline;\">Worker: 4</h4>\n",
       "                </summary>\n",
       "                <table style=\"width: 100%; text-align: left;\">\n",
       "                    <tr>\n",
       "                        <td style=\"text-align: left;\">\n",
       "                            <strong>Comm: </strong> tcp://127.0.0.1:33699\n",
       "                        </td>\n",
       "                        <td style=\"text-align: left;\">\n",
       "                            <strong>Total threads: </strong> 4\n",
       "                        </td>\n",
       "                    </tr>\n",
       "                    <tr>\n",
       "                        <td style=\"text-align: left;\">\n",
       "                            <strong>Dashboard: </strong> <a href=\"/proxy/44933/status\" target=\"_blank\">/proxy/44933/status</a>\n",
       "                        </td>\n",
       "                        <td style=\"text-align: left;\">\n",
       "                            <strong>Memory: </strong> 35.88 GiB\n",
       "                        </td>\n",
       "                    </tr>\n",
       "                    <tr>\n",
       "                        <td style=\"text-align: left;\">\n",
       "                            <strong>Nanny: </strong> tcp://127.0.0.1:37135\n",
       "                        </td>\n",
       "                        <td style=\"text-align: left;\"></td>\n",
       "                    </tr>\n",
       "                    <tr>\n",
       "                        <td colspan=\"2\" style=\"text-align: left;\">\n",
       "                            <strong>Local directory: </strong> /jobfs/113828258.gadi-pbs/dask-scratch-space/worker-vjo6v75m\n",
       "                        </td>\n",
       "                    </tr>\n",
       "\n",
       "                    \n",
       "\n",
       "                    \n",
       "\n",
       "                </table>\n",
       "            </details>\n",
       "            </div>\n",
       "        </div>\n",
       "        \n",
       "        <div style=\"margin-bottom: 20px;\">\n",
       "            <div style=\"width: 24px; height: 24px; background-color: #DBF5FF; border: 3px solid #4CC9FF; border-radius: 5px; position: absolute;\"> </div>\n",
       "            <div style=\"margin-left: 48px;\">\n",
       "            <details>\n",
       "                <summary>\n",
       "                    <h4 style=\"margin-bottom: 0px; display: inline;\">Worker: 5</h4>\n",
       "                </summary>\n",
       "                <table style=\"width: 100%; text-align: left;\">\n",
       "                    <tr>\n",
       "                        <td style=\"text-align: left;\">\n",
       "                            <strong>Comm: </strong> tcp://127.0.0.1:43645\n",
       "                        </td>\n",
       "                        <td style=\"text-align: left;\">\n",
       "                            <strong>Total threads: </strong> 4\n",
       "                        </td>\n",
       "                    </tr>\n",
       "                    <tr>\n",
       "                        <td style=\"text-align: left;\">\n",
       "                            <strong>Dashboard: </strong> <a href=\"/proxy/43437/status\" target=\"_blank\">/proxy/43437/status</a>\n",
       "                        </td>\n",
       "                        <td style=\"text-align: left;\">\n",
       "                            <strong>Memory: </strong> 35.88 GiB\n",
       "                        </td>\n",
       "                    </tr>\n",
       "                    <tr>\n",
       "                        <td style=\"text-align: left;\">\n",
       "                            <strong>Nanny: </strong> tcp://127.0.0.1:40973\n",
       "                        </td>\n",
       "                        <td style=\"text-align: left;\"></td>\n",
       "                    </tr>\n",
       "                    <tr>\n",
       "                        <td colspan=\"2\" style=\"text-align: left;\">\n",
       "                            <strong>Local directory: </strong> /jobfs/113828258.gadi-pbs/dask-scratch-space/worker-_1g736xu\n",
       "                        </td>\n",
       "                    </tr>\n",
       "\n",
       "                    \n",
       "\n",
       "                    \n",
       "\n",
       "                </table>\n",
       "            </details>\n",
       "            </div>\n",
       "        </div>\n",
       "        \n",
       "        <div style=\"margin-bottom: 20px;\">\n",
       "            <div style=\"width: 24px; height: 24px; background-color: #DBF5FF; border: 3px solid #4CC9FF; border-radius: 5px; position: absolute;\"> </div>\n",
       "            <div style=\"margin-left: 48px;\">\n",
       "            <details>\n",
       "                <summary>\n",
       "                    <h4 style=\"margin-bottom: 0px; display: inline;\">Worker: 6</h4>\n",
       "                </summary>\n",
       "                <table style=\"width: 100%; text-align: left;\">\n",
       "                    <tr>\n",
       "                        <td style=\"text-align: left;\">\n",
       "                            <strong>Comm: </strong> tcp://127.0.0.1:34027\n",
       "                        </td>\n",
       "                        <td style=\"text-align: left;\">\n",
       "                            <strong>Total threads: </strong> 4\n",
       "                        </td>\n",
       "                    </tr>\n",
       "                    <tr>\n",
       "                        <td style=\"text-align: left;\">\n",
       "                            <strong>Dashboard: </strong> <a href=\"/proxy/39571/status\" target=\"_blank\">/proxy/39571/status</a>\n",
       "                        </td>\n",
       "                        <td style=\"text-align: left;\">\n",
       "                            <strong>Memory: </strong> 35.88 GiB\n",
       "                        </td>\n",
       "                    </tr>\n",
       "                    <tr>\n",
       "                        <td style=\"text-align: left;\">\n",
       "                            <strong>Nanny: </strong> tcp://127.0.0.1:33079\n",
       "                        </td>\n",
       "                        <td style=\"text-align: left;\"></td>\n",
       "                    </tr>\n",
       "                    <tr>\n",
       "                        <td colspan=\"2\" style=\"text-align: left;\">\n",
       "                            <strong>Local directory: </strong> /jobfs/113828258.gadi-pbs/dask-scratch-space/worker-kp6_7ziu\n",
       "                        </td>\n",
       "                    </tr>\n",
       "\n",
       "                    \n",
       "\n",
       "                    \n",
       "\n",
       "                </table>\n",
       "            </details>\n",
       "            </div>\n",
       "        </div>\n",
       "        \n",
       "\n",
       "    </details>\n",
       "</div>\n",
       "\n",
       "        </details>\n",
       "    </div>\n",
       "</div>\n",
       "            </details>\n",
       "        \n",
       "\n",
       "    </div>\n",
       "</div>"
      ],
      "text/plain": [
       "<Client: 'tcp://127.0.0.1:45507' processes=7 threads=28, memory=251.18 GiB>"
      ]
     },
     "execution_count": 3,
     "metadata": {},
     "output_type": "execute_result"
    }
   ],
   "source": [
    "from dask.distributed import Client\n",
    "#client = Client(threads_per_worker=1)\n",
    "client = Client()\n",
    "client"
   ]
  },
  {
   "cell_type": "markdown",
   "id": "8935960c-d1ab-4b85-8bc4-e2b41de3e910",
   "metadata": {},
   "source": [
    "#### ignore warnings"
   ]
  },
  {
   "cell_type": "code",
   "execution_count": 4,
   "id": "701040b6-201d-4bd9-be1d-2881778a7605",
   "metadata": {
    "tags": []
   },
   "outputs": [],
   "source": [
    "import warnings\n",
    "warnings.filterwarnings('ignore')"
   ]
  },
  {
   "cell_type": "markdown",
   "id": "c0440319-1b10-4cab-a74f-24465d7ed7b5",
   "metadata": {},
   "source": [
    "# ARD workflow"
   ]
  },
  {
   "cell_type": "markdown",
   "id": "b316d27a-26d0-405f-a81f-912a6b2459bc",
   "metadata": {},
   "source": [
    "### read paths from config file"
   ]
  },
  {
   "cell_type": "markdown",
   "id": "1d9aac8f-f489-4b39-81c4-9b4ee78dff90",
   "metadata": {},
   "source": [
    "#### [ you will need to specifiy your correct path for the `data-catalogue/config.ini` file ]"
   ]
  },
  {
   "cell_type": "code",
   "execution_count": 5,
   "id": "cf057751-f735-4e9f-b603-613682257a58",
   "metadata": {},
   "outputs": [],
   "source": [
    "import configparser\n",
    "\n",
    "# Create a ConfigParser object\n",
    "config = configparser.ConfigParser()\n",
    "\n",
    "# Read the config file\n",
    "#########\n",
    "#### you will need to specifiy your correct path the the `data-catalogue/config.ini` file \n",
    "#########\n",
    "config.read('./code/BRAN2020-intake-catalog/config.ini')\n",
    "\n",
    "# Get the value of a variable\n",
    "catalog_path = config.get('paths', 'catalog_path')"
   ]
  },
  {
   "cell_type": "code",
   "execution_count": 6,
   "id": "f5aec624-3f44-4e2e-a9ab-90de354593ba",
   "metadata": {
    "tags": []
   },
   "outputs": [
    {
     "data": {
      "text/plain": [
       "'/g/data/v14/tm4888/code/BRAN2020-intake-catalog/catalogs/'"
      ]
     },
     "execution_count": 6,
     "metadata": {},
     "output_type": "execute_result"
    }
   ],
   "source": [
    "catalog_path"
   ]
  },
  {
   "cell_type": "code",
   "execution_count": 7,
   "id": "651de19c-76ad-40b8-aaf4-eb8452785b6a",
   "metadata": {
    "tags": []
   },
   "outputs": [],
   "source": [
    "BRAN2020_catalog = intake.open_esm_datastore(catalog_path+'BRAN2020.json',columns_with_iterables=['variable'])"
   ]
  },
  {
   "cell_type": "code",
   "execution_count": 8,
   "id": "15ae7b3d-e4d1-4582-8426-8caae42c9ff1",
   "metadata": {
    "tags": []
   },
   "outputs": [
    {
     "data": {
      "text/html": [
       "<p><strong>BRAN2020 catalog with 11 dataset(s) from 8949 asset(s)</strong>:</p> <div>\n",
       "<style scoped>\n",
       "    .dataframe tbody tr th:only-of-type {\n",
       "        vertical-align: middle;\n",
       "    }\n",
       "\n",
       "    .dataframe tbody tr th {\n",
       "        vertical-align: top;\n",
       "    }\n",
       "\n",
       "    .dataframe thead th {\n",
       "        text-align: right;\n",
       "    }\n",
       "</style>\n",
       "<table border=\"1\" class=\"dataframe\">\n",
       "  <thead>\n",
       "    <tr style=\"text-align: right;\">\n",
       "      <th></th>\n",
       "      <th>unique</th>\n",
       "    </tr>\n",
       "  </thead>\n",
       "  <tbody>\n",
       "    <tr>\n",
       "      <th>source</th>\n",
       "      <td>1</td>\n",
       "    </tr>\n",
       "    <tr>\n",
       "      <th>domain</th>\n",
       "      <td>4</td>\n",
       "    </tr>\n",
       "    <tr>\n",
       "      <th>time_period</th>\n",
       "      <td>4</td>\n",
       "    </tr>\n",
       "    <tr>\n",
       "      <th>variable</th>\n",
       "      <td>142</td>\n",
       "    </tr>\n",
       "    <tr>\n",
       "      <th>path</th>\n",
       "      <td>8949</td>\n",
       "    </tr>\n",
       "    <tr>\n",
       "      <th>derived_variable</th>\n",
       "      <td>0</td>\n",
       "    </tr>\n",
       "  </tbody>\n",
       "</table>\n",
       "</div>"
      ],
      "text/plain": [
       "<IPython.core.display.HTML object>"
      ]
     },
     "metadata": {},
     "output_type": "display_data"
    }
   ],
   "source": [
    "BRAN2020_catalog"
   ]
  },
  {
   "cell_type": "code",
   "execution_count": 9,
   "id": "ac09438c-6634-4b9d-98c5-d24477822a0f",
   "metadata": {
    "tags": []
   },
   "outputs": [
    {
     "data": {
      "text/plain": [
       "['BRAN2020']"
      ]
     },
     "execution_count": 9,
     "metadata": {},
     "output_type": "execute_result"
    }
   ],
   "source": [
    "BRAN2020_catalog.unique()['source']"
   ]
  },
  {
   "cell_type": "code",
   "execution_count": 10,
   "id": "204256c7-e23d-4da1-b50c-cfd97264c599",
   "metadata": {
    "tags": []
   },
   "outputs": [
    {
     "data": {
      "text/plain": [
       "['atm', 'ice', 'ocean', 'grid']"
      ]
     },
     "execution_count": 10,
     "metadata": {},
     "output_type": "execute_result"
    }
   ],
   "source": [
    "BRAN2020_catalog.unique()['domain']"
   ]
  },
  {
   "cell_type": "code",
   "execution_count": 11,
   "id": "b6403053-e163-49dc-b070-108cfee83f89",
   "metadata": {
    "tags": []
   },
   "outputs": [
    {
     "data": {
      "text/plain": [
       "['annual', 'daily', 'month', 'static']"
      ]
     },
     "execution_count": 11,
     "metadata": {},
     "output_type": "execute_result"
    }
   ],
   "source": [
    "BRAN2020_catalog.unique()['time_period']"
   ]
  },
  {
   "cell_type": "code",
   "execution_count": 12,
   "id": "d13fc231-b357-4618-be08-18019567b525",
   "metadata": {
    "tags": []
   },
   "outputs": [
    {
     "name": "stdout",
     "output_type": "stream",
     "text": [
      "        BRAN2020 Variables\n",
      "0                  angle_C\n",
      "1                  angle_E\n",
      "2                  angle_N\n",
      "3                  angle_T\n",
      "4                   area_C\n",
      "5                   area_E\n",
      "6                   area_N\n",
      "7                   area_T\n",
      "8                    bmf_u\n",
      "9                    bmf_v\n",
      "10                 depth_t\n",
      "11              ds_00_01_C\n",
      "12              ds_00_01_E\n",
      "13              ds_00_01_N\n",
      "14              ds_00_01_T\n",
      "15              ds_00_02_C\n",
      "16              ds_00_02_E\n",
      "17              ds_00_02_N\n",
      "18              ds_00_02_T\n",
      "19              ds_00_10_C\n",
      "20              ds_00_10_E\n",
      "21              ds_00_10_N\n",
      "22              ds_00_10_T\n",
      "23              ds_00_20_C\n",
      "24              ds_00_20_E\n",
      "25              ds_00_20_N\n",
      "26              ds_00_20_T\n",
      "27              ds_01_02_C\n",
      "28              ds_01_02_E\n",
      "29              ds_01_02_N\n",
      "30              ds_01_02_T\n",
      "31              ds_01_11_C\n",
      "32              ds_01_11_E\n",
      "33              ds_01_11_N\n",
      "34              ds_01_11_T\n",
      "35              ds_01_21_C\n",
      "36              ds_01_21_E\n",
      "37              ds_01_21_N\n",
      "38              ds_01_21_T\n",
      "39              ds_02_12_C\n",
      "40              ds_02_12_E\n",
      "41              ds_02_12_N\n",
      "42              ds_02_12_T\n",
      "43              ds_02_22_C\n",
      "44              ds_02_22_E\n",
      "45              ds_02_22_N\n",
      "46              ds_02_22_T\n",
      "47              ds_10_11_C\n",
      "48              ds_10_11_E\n",
      "49              ds_10_11_N\n",
      "50              ds_10_11_T\n",
      "51              ds_10_12_C\n",
      "52              ds_10_12_E\n",
      "53              ds_10_12_N\n",
      "54              ds_10_12_T\n",
      "55              ds_10_20_C\n",
      "56              ds_10_20_E\n",
      "57              ds_10_20_N\n",
      "58              ds_10_20_T\n",
      "59              ds_11_12_C\n",
      "60              ds_11_12_E\n",
      "61              ds_11_12_N\n",
      "62              ds_11_12_T\n",
      "63              ds_11_21_C\n",
      "64              ds_11_21_E\n",
      "65              ds_11_21_N\n",
      "66              ds_11_21_T\n",
      "67              ds_12_22_C\n",
      "68              ds_12_22_E\n",
      "69              ds_12_22_N\n",
      "70              ds_12_22_T\n",
      "71              ds_20_21_C\n",
      "72              ds_20_21_E\n",
      "73              ds_20_21_N\n",
      "74              ds_20_21_T\n",
      "75              ds_20_22_C\n",
      "76              ds_20_22_E\n",
      "77              ds_20_22_N\n",
      "78              ds_20_22_T\n",
      "79              ds_21_22_C\n",
      "80              ds_21_22_E\n",
      "81              ds_21_22_N\n",
      "82              ds_21_22_T\n",
      "83                   eta_t\n",
      "84                    evap\n",
      "85               evap_heat\n",
      "86                      ht\n",
      "87                      hu\n",
      "88                ice_mask\n",
      "89                     kmt\n",
      "90                     kmu\n",
      "91               land_mask\n",
      "92                   lprec\n",
      "93                 lw_heat\n",
      "94                   lwflx\n",
      "95                lwflx_dn\n",
      "96                     mld\n",
      "97              num_levels\n",
      "98                 pme_sbc\n",
      "99                   q_ref\n",
      "100                 rh_ref\n",
      "101                  river\n",
      "102                   salt\n",
      "103              sens_heat\n",
      "104              sfc_hflux\n",
      "105  sfc_salt_flux_restore\n",
      "106                  shflx\n",
      "107                  swflx\n",
      "108               swflx_dn\n",
      "109                  t_ref\n",
      "110                 t_surf\n",
      "111                  tau_x\n",
      "112                  tau_y\n",
      "113                   temp\n",
      "114                  tmask\n",
      "115         tx_trans_int_z\n",
      "116         ty_trans_int_z\n",
      "117                      u\n",
      "118                  u_atm\n",
      "119                 u_star\n",
      "120                  umask\n",
      "121                      v\n",
      "122                  v_atm\n",
      "123                      w\n",
      "124                    wet\n",
      "125                   wind\n",
      "126                    x_C\n",
      "127                    x_E\n",
      "128                    x_N\n",
      "129                    x_T\n",
      "130               x_vert_C\n",
      "131               x_vert_E\n",
      "132               x_vert_N\n",
      "133               x_vert_T\n",
      "134                    y_C\n",
      "135                    y_E\n",
      "136                    y_N\n",
      "137                    y_T\n",
      "138               y_vert_C\n",
      "139               y_vert_E\n",
      "140               y_vert_N\n",
      "141               y_vert_T\n"
     ]
    }
   ],
   "source": [
    "var_list = BRAN2020_catalog.unique()['variable']\n",
    "var_list.sort()\n",
    "df = pd.DataFrame(var_list, columns=['BRAN2020 Variables'])\n",
    "with pd.option_context('display.max_rows', None,\n",
    "                       'display.max_columns', None,\n",
    "                       'display.precision', 3,\n",
    "                       ):\n",
    "    print(df)"
   ]
  },
  {
   "cell_type": "markdown",
   "id": "2f635fa6-cfaf-429d-9d53-3c68747ff2cb",
   "metadata": {},
   "source": [
    "# how much float32 data is all the daily ocean realm BRAN2020?"
   ]
  },
  {
   "cell_type": "code",
   "execution_count": 13,
   "id": "cf5f2f27-4df6-4b54-b0f2-f71bbba35e95",
   "metadata": {},
   "outputs": [],
   "source": [
    "search_daily = BRAN2020_catalog.search(time_period=['daily'],domain='ocean',variable=['temp','salt','u','v','eta_t','mld'])"
   ]
  },
  {
   "cell_type": "code",
   "execution_count": 14,
   "id": "faeaa9ce-5329-480d-b40b-97319da23b2a",
   "metadata": {},
   "outputs": [
    {
     "data": {
      "text/html": [
       "<p><strong>BRAN2020 catalog with 1 dataset(s) from 2196 asset(s)</strong>:</p> <div>\n",
       "<style scoped>\n",
       "    .dataframe tbody tr th:only-of-type {\n",
       "        vertical-align: middle;\n",
       "    }\n",
       "\n",
       "    .dataframe tbody tr th {\n",
       "        vertical-align: top;\n",
       "    }\n",
       "\n",
       "    .dataframe thead th {\n",
       "        text-align: right;\n",
       "    }\n",
       "</style>\n",
       "<table border=\"1\" class=\"dataframe\">\n",
       "  <thead>\n",
       "    <tr style=\"text-align: right;\">\n",
       "      <th></th>\n",
       "      <th>unique</th>\n",
       "    </tr>\n",
       "  </thead>\n",
       "  <tbody>\n",
       "    <tr>\n",
       "      <th>source</th>\n",
       "      <td>1</td>\n",
       "    </tr>\n",
       "    <tr>\n",
       "      <th>domain</th>\n",
       "      <td>1</td>\n",
       "    </tr>\n",
       "    <tr>\n",
       "      <th>time_period</th>\n",
       "      <td>1</td>\n",
       "    </tr>\n",
       "    <tr>\n",
       "      <th>variable</th>\n",
       "      <td>6</td>\n",
       "    </tr>\n",
       "    <tr>\n",
       "      <th>path</th>\n",
       "      <td>2196</td>\n",
       "    </tr>\n",
       "    <tr>\n",
       "      <th>derived_variable</th>\n",
       "      <td>0</td>\n",
       "    </tr>\n",
       "  </tbody>\n",
       "</table>\n",
       "</div>"
      ],
      "text/plain": [
       "<IPython.core.display.HTML object>"
      ]
     },
     "metadata": {},
     "output_type": "display_data"
    }
   ],
   "source": [
    "search_daily"
   ]
  },
  {
   "cell_type": "markdown",
   "id": "b72d99f8-ad42-4d2d-b072-e375e16741cd",
   "metadata": {},
   "source": [
    "### Out of some 9000 files we now have 2196 with daily ocean data\n",
    "### We can now load all that data into a single \"lazy\" `xarray` object for further reduction and analysis"
   ]
  },
  {
   "cell_type": "code",
   "execution_count": 17,
   "id": "36f16e2f-5f59-4239-b6ba-46e151a8d0c7",
   "metadata": {},
   "outputs": [
    {
     "name": "stdout",
     "output_type": "stream",
     "text": [
      "CPU times: user 1min 53s, sys: 10.5 s, total: 2min 4s\n",
      "Wall time: 2min 7s\n"
     ]
    }
   ],
   "source": [
    "%%time\n",
    "xarray_open_kwargs = {\"chunks\": {\"time\": 1, \"xt_ocean\": 3600, \"yt_ocean\": 1500}}\n",
    "xarray_combine_by_coords_kwargs = dict(\n",
    "    compat=\"override\",\n",
    "    data_vars=\"minimal\", \n",
    "    coords=\"minimal\",\n",
    ")\n",
    "search_all_daily_DS=search_daily.to_dask(xarray_open_kwargs=xarray_open_kwargs,xarray_combine_by_coords_kwargs=xarray_combine_by_coords_kwargs)"
   ]
  },
  {
   "cell_type": "code",
   "execution_count": 18,
   "id": "b3db496c-b514-44b6-9da9-a8219f02d892",
   "metadata": {},
   "outputs": [
    {
     "data": {
      "text/plain": [
       "49559.644971112"
      ]
     },
     "execution_count": 18,
     "metadata": {},
     "output_type": "execute_result"
    }
   ],
   "source": [
    "search_all_daily_DS.nbytes/1e9"
   ]
  },
  {
   "cell_type": "code",
   "execution_count": null,
   "id": "8f56cd2f-ff85-41ac-9184-23bd441870a7",
   "metadata": {},
   "outputs": [],
   "source": []
  },
  {
   "cell_type": "code",
   "execution_count": null,
   "id": "21945178-8a42-45c7-ad95-37c285cf640a",
   "metadata": {
    "tags": []
   },
   "outputs": [],
   "source": [
    "search = BRAN2020_catalog.search(variable=['temp'],time_period=['daily'])"
   ]
  },
  {
   "cell_type": "code",
   "execution_count": null,
   "id": "b7ba892c-6860-46ad-9352-dde4db865100",
   "metadata": {
    "tags": []
   },
   "outputs": [],
   "source": [
    "search.unique()['variable']"
   ]
  },
  {
   "cell_type": "code",
   "execution_count": null,
   "id": "d2fbf63d-d60e-46bf-a5e6-87fc33648713",
   "metadata": {
    "tags": []
   },
   "outputs": [],
   "source": [
    "search"
   ]
  },
  {
   "cell_type": "code",
   "execution_count": null,
   "id": "ae495e51-0b64-4c8f-88c1-08405d55ce72",
   "metadata": {
    "tags": []
   },
   "outputs": [],
   "source": [
    "search.df"
   ]
  },
  {
   "cell_type": "markdown",
   "id": "6ba22a65-7c8e-41d2-8866-32320fdaba84",
   "metadata": {},
   "source": [
    "### Out of some 9000 files we now have narrowed down the just the 366 that have the information we need"
   ]
  },
  {
   "cell_type": "markdown",
   "id": "e5612d2a-93cf-4e33-abeb-be0f030e9565",
   "metadata": {},
   "source": [
    "### We can now load all that data into a single 11TB \"lazy\" `xarray` object for further reduction and analysis"
   ]
  },
  {
   "cell_type": "code",
   "execution_count": null,
   "id": "ffbd7135-2f9e-4346-b1a3-abfde20df1ad",
   "metadata": {},
   "outputs": [],
   "source": [
    "%%time\n",
    "xarray_open_kwargs = {\"chunks\": {\"time\": 1, \"st_ocean\": 51, \"xt_ocean\": 3600, \"yt_ocean\": 300}}\n",
    "DS=search.to_dask(xarray_open_kwargs=xarray_open_kwargs)"
   ]
  },
  {
   "cell_type": "code",
   "execution_count": null,
   "id": "32d1ed56-0058-4b88-9bbb-c965ee762bf8",
   "metadata": {
    "tags": []
   },
   "outputs": [],
   "source": [
    "DS"
   ]
  },
  {
   "cell_type": "code",
   "execution_count": null,
   "id": "594d636c-5308-467e-852f-7a70fb4f691d",
   "metadata": {},
   "outputs": [],
   "source": [
    "DS.nbytes/1e9"
   ]
  },
  {
   "cell_type": "markdown",
   "id": "63aa60b6-8f84-40eb-8bab-e436ee235b05",
   "metadata": {},
   "source": [
    "## ARD - write zarr & chunk & write zarr"
   ]
  },
  {
   "cell_type": "code",
   "execution_count": null,
   "id": "d513c227-4a02-4f88-b916-944495e616d8",
   "metadata": {},
   "outputs": [],
   "source": [
    "BRAN2020_ard_path = '/scratch/es60/ard/reanalysis/BRAN2020/'\n",
    "ard_file_ID = 'BRAN2020-daily-temp-v15122023.zarr'"
   ]
  },
  {
   "cell_type": "code",
   "execution_count": null,
   "id": "f6af347e-6430-4b53-b1e0-008f7db9b84c",
   "metadata": {
    "scrolled": true
   },
   "outputs": [],
   "source": [
    "%%time\n",
    "DS.to_zarr(BRAN2020_ard_path+ard_file_ID,consolidated=True)\n",
    "# ----- Client(threads_per_worker=1) -------\n",
    "# CPU times: user 2min 26s, sys: 29.9 s, total: 2min 56s\n",
    "# Wall time: 13min 1s\n",
    "# ----- Client() -------\n",
    "# CPU times: user 1min 53s, sys: 18.1 s, total: 2min 11s\n",
    "# Wall time: 14min 3s"
   ]
  },
  {
   "cell_type": "code",
   "execution_count": null,
   "id": "94dd108c-d7e4-41c4-88ea-3de451eac81c",
   "metadata": {},
   "outputs": [],
   "source": [
    "!touch /scratch/es60/ard/reanalysis/BRAN2020/finished_BRAN2020-daily-temp.log"
   ]
  },
  {
   "cell_type": "markdown",
   "id": "9a02e7ba-35c0-4aaf-92e1-2e9ac016bbfa",
   "metadata": {},
   "source": [
    "## RELOAD in ARD collection (note storage only 2.1TB)"
   ]
  },
  {
   "cell_type": "code",
   "execution_count": null,
   "id": "89ba8979-8b30-4edc-9bf2-115b8c70edcf",
   "metadata": {},
   "outputs": [],
   "source": [
    "BRAN2020_daily_temp = xr.open_zarr(BRAN2020_ard_path+ard_file_ID,consolidated=True)"
   ]
  },
  {
   "cell_type": "code",
   "execution_count": null,
   "id": "8caeaebe-41a6-474a-9814-d5152b33d9ab",
   "metadata": {},
   "outputs": [],
   "source": [
    "BRAN2020_daily_temp"
   ]
  },
  {
   "cell_type": "markdown",
   "id": "e4ad4510-6e61-4f08-860a-e8c9b696d716",
   "metadata": {},
   "source": [
    "# sanity check "
   ]
  },
  {
   "cell_type": "code",
   "execution_count": null,
   "id": "8ca9ed52-0dea-4b1b-b55c-8252c59ef815",
   "metadata": {},
   "outputs": [],
   "source": [
    "%%time\n",
    "result = BRAN2020_daily_temp.temp.mean(['st_ocean','yt_ocean','xt_ocean']).compute()"
   ]
  },
  {
   "cell_type": "code",
   "execution_count": null,
   "id": "daf73ecb-d256-4c61-852b-392d16510020",
   "metadata": {},
   "outputs": [],
   "source": [
    "result.plot()\n",
    "plt.title('global average ocean temp \\n (volume averaging is approximate)')"
   ]
  },
  {
   "cell_type": "markdown",
   "id": "f73241de-992d-464c-bf81-429830e9f8fe",
   "metadata": {},
   "source": [
    "## CHUNK for time and WRITE zarr"
   ]
  },
  {
   "cell_type": "markdown",
   "id": "ae691c01-93fc-442b-af32-04acac5a552a",
   "metadata": {},
   "source": [
    "### \"Consider either rechunking using `chunk()`, deleting or modifying `encoding['chunks']`\""
   ]
  },
  {
   "cell_type": "code",
   "execution_count": null,
   "id": "c3e83974-f5bc-47ca-b517-d73c1b25dd06",
   "metadata": {},
   "outputs": [],
   "source": [
    "def remove_zarr_encoding(DS):\n",
    "    for var in DS:\n",
    "        DS[var].encoding = {}\n",
    "\n",
    "    for coord in DS.coords:\n",
    "        DS[coord].encoding = {}\n",
    "    return DS"
   ]
  },
  {
   "cell_type": "code",
   "execution_count": null,
   "id": "4d9bde98-f47f-4f72-9650-b9898f376bd4",
   "metadata": {},
   "outputs": [],
   "source": [
    "ard_rcTime_file_ID = 'BRAN2020-daily-temp-chunk4time-v07022024.zarr'"
   ]
  },
  {
   "cell_type": "code",
   "execution_count": null,
   "id": "9817a4f7-5c89-4f3f-ad8d-b99c70b6897e",
   "metadata": {},
   "outputs": [],
   "source": [
    "BRAN2020_daily_temp_rcTime =  BRAN2020_daily_temp.chunk({'Time':-1,'st_ocean':-1,'xt_ocean':1,'yt_ocean':100})\n",
    "BRAN2020_daily_temp_rcTime"
   ]
  },
  {
   "cell_type": "code",
   "execution_count": null,
   "id": "ec064371-9f65-44e5-b448-d482b151e93b",
   "metadata": {},
   "outputs": [],
   "source": [
    "BRAN2020_daily_temp_rcTime = remove_zarr_encoding(BRAN2020_daily_temp_rcTime)"
   ]
  },
  {
   "cell_type": "code",
   "execution_count": null,
   "id": "ad45f151-bcab-4b5e-b79f-59b35e344d2b",
   "metadata": {},
   "outputs": [],
   "source": [
    "%%time\n",
    "BRAN2020_daily_temp_rcTime.to_zarr(BRAN2020_ard_path+ard_rcTime_file_ID,consolidated=True)"
   ]
  },
  {
   "cell_type": "code",
   "execution_count": null,
   "id": "f35b12da-55e3-4f63-8c62-445c806fe10f",
   "metadata": {},
   "outputs": [],
   "source": [
    "!touch /scratch/es60/ard/reanalysis/BRAN2020/finished_timechunk.log"
   ]
  },
  {
   "cell_type": "markdown",
   "id": "113685de-fbbe-412a-a8a0-be252b17aaea",
   "metadata": {},
   "source": [
    "## end ARD workflow $\\Uparrow$"
   ]
  },
  {
   "cell_type": "markdown",
   "id": "bc39ada3-f929-4ed7-a08e-c5efc58e5db7",
   "metadata": {},
   "source": [
    "# begin post-processing workflow $\\Downarrow$"
   ]
  },
  {
   "cell_type": "markdown",
   "id": "fa5ac80c-fad6-44ad-99dd-2f1e98bda059",
   "metadata": {},
   "source": [
    "## load in both zarr collections"
   ]
  },
  {
   "cell_type": "code",
   "execution_count": null,
   "id": "d1ab9810-14c5-44f1-8f7f-e528c655ba31",
   "metadata": {},
   "outputs": [],
   "source": [
    "BRAN2020_ard_path = '/scratch/es60/ard/reanalysis/BRAN2020/'\n",
    "ard_file_ID = 'BRAN2020-monthly-temp-v13112023.zarr'\n",
    "ard_rcTime_file_ID = 'BRAN2020-monthly-temp-chunk4time-v13112023.zarr'"
   ]
  },
  {
   "cell_type": "code",
   "execution_count": null,
   "id": "1e42bca1-0f2a-4908-95b1-df2a09273250",
   "metadata": {},
   "outputs": [],
   "source": [
    "temp_chunked_time = xr.open_zarr(BRAN2020_ard_path + ard_rcTime_file_ID,consolidated=True)\n",
    "temp_chunked = xr.open_zarr(BRAN2020_ard_path + ard_file_ID,consolidated=True)"
   ]
  },
  {
   "cell_type": "markdown",
   "id": "b9fd653a-5114-4ba5-b1a3-6fac255b4894",
   "metadata": {},
   "source": [
    "## basic functions"
   ]
  },
  {
   "cell_type": "code",
   "execution_count": null,
   "id": "78e5fc30-a877-4146-9020-a4271c8ea0f7",
   "metadata": {},
   "outputs": [],
   "source": [
    "def get_monthly_climatology(xr_object,time_coord_name = 'time',flox=True):\n",
    "    if flox == True:\n",
    "        monthly_climatology = xr_object.groupby(time_coord_name+'.month').mean(dim=time_coord_name,keep_attrs = True,method=\"cohorts\", engine=\"flox\")\n",
    "    else:\n",
    "        monthly_climatology = xr_object.groupby(time_coord_name+'.month').mean(dim=time_coord_name,keep_attrs = True)\n",
    "    return monthly_climatology\n",
    "\n",
    "def get_monthly_anomaly(xr_object,monthly_climatology, time_coord_name = 'time'):\n",
    "    monthly_anomaly = xr_object.groupby(time_coord_name+'.month') - monthly_climatology\n",
    "    return monthly_anomaly\n"
   ]
  },
  {
   "cell_type": "markdown",
   "id": "e5760367-1577-4e8e-aa97-99f82d7d8337",
   "metadata": {},
   "source": [
    "# Climatology"
   ]
  },
  {
   "cell_type": "code",
   "execution_count": null,
   "id": "0ca8822a-0237-4f4d-bd8f-29c1f1829d5f",
   "metadata": {},
   "outputs": [],
   "source": [
    "temp_monthly_climatology = get_monthly_climatology(temp_chunked_time, time_coord_name = 'Time')\n",
    "temp_monthly_climatology"
   ]
  },
  {
   "cell_type": "code",
   "execution_count": null,
   "id": "c6347f9e-2d92-425f-b867-f392c58e586a",
   "metadata": {},
   "outputs": [],
   "source": [
    "temp_monthly_climatology_rc = temp_monthly_climatology.chunk({'st_ocean':10,'xt_ocean':3600,'month':1})"
   ]
  },
  {
   "cell_type": "code",
   "execution_count": null,
   "id": "993baf12-c022-4f03-aff6-94858e8d0595",
   "metadata": {},
   "outputs": [],
   "source": [
    "%%time\n",
    "temp_monthly_climatology = temp_monthly_climatology.compute()\n",
    "\n",
    "# CPU times: user 32.1 s, sys: 17.9 s, total: 49.9 s\n",
    "# Wall time: 2min 20s\n",
    "#"
   ]
  },
  {
   "cell_type": "raw",
   "id": "1ea6022d-8ab6-4eb5-8782-a2a2007308c4",
   "metadata": {},
   "source": [
    "temp_monthly_climatology_slow = get_monthly_climatology(temp_chunked, time_coord_name = 'Time')\n",
    "temp_monthly_climatology_slow"
   ]
  },
  {
   "cell_type": "raw",
   "id": "3d6cd4f4-8126-4376-b929-c223d44aac21",
   "metadata": {
    "scrolled": true
   },
   "source": [
    "%%time\n",
    "temp_monthly_climatology_slow = temp_monthly_climatology_slow.compute()\n",
    "## ----- Client() -------\n",
    "# CPU times: user 5min 13s, sys: 1min 9s, total: 6min 22s\n",
    "# Wall time: 39min 59s\n",
    "#"
   ]
  },
  {
   "cell_type": "raw",
   "id": "a39dd422-b5fc-4365-8911-0bef32ac7387",
   "metadata": {},
   "source": [
    "temp_monthly_climatology_slow_no_flox = get_monthly_climatology(temp_chunked, time_coord_name = 'Time',flox=False)\n"
   ]
  },
  {
   "cell_type": "raw",
   "id": "08fb94dd-d662-4241-bab5-ed546fd9d99d",
   "metadata": {
    "scrolled": true
   },
   "source": [
    "%%time\n",
    "temp_monthly_climatology_slow_no_flox = temp_monthly_climatology_slow_no_flox.compute()\n",
    "## ----- Client() -------\n",
    "# CPU times: user 6min 49s, sys: 1min 28s, total: 8min 17s\n",
    "# Wall time: 51min 9s\n",
    "#"
   ]
  },
  {
   "cell_type": "markdown",
   "id": "e88ec68d-66a0-473b-802d-8b3274974b3b",
   "metadata": {},
   "source": [
    "# Anomaly"
   ]
  },
  {
   "cell_type": "code",
   "execution_count": null,
   "id": "4cc1b5fc-9d75-4321-b70d-c5cec1af440d",
   "metadata": {},
   "outputs": [],
   "source": [
    "temp_anomaly = get_monthly_anomaly(temp_chunked,temp_monthly_climatology_rc,time_coord_name='Time')"
   ]
  },
  {
   "cell_type": "code",
   "execution_count": null,
   "id": "f9b91de2-5cdc-41fa-8780-1edc3b606270",
   "metadata": {},
   "outputs": [],
   "source": [
    "temp_anomaly"
   ]
  },
  {
   "cell_type": "markdown",
   "id": "f1450be7-45d3-476f-9d40-cbb08f5246fb",
   "metadata": {},
   "source": [
    "# define El Nino and La Nina using NCAR ONI data"
   ]
  },
  {
   "cell_type": "code",
   "execution_count": null,
   "id": "4aa5611c-dd81-4693-86ed-a964998c043e",
   "metadata": {},
   "outputs": [],
   "source": [
    "ONI_DF = pd.read_csv('/g/data/xv83/users/tm4888/data/ENSO/NCAR_ONI.csv')\n",
    "ONI_DF.set_index('datetime',inplace=True)\n",
    "ONI_DF.index = pd.to_datetime(ONI_DF.index)\n",
    "el_nino_threshold = 0.5\n",
    "la_nina_threshold = -0.5\n",
    "el_nino_threshold_months = ONI_DF[\"ONI\"].ge(el_nino_threshold)\n",
    "la_nina_threshold_months = ONI_DF[\"ONI\"].le(la_nina_threshold) \n",
    "ONI_DF = pd.concat([ONI_DF, el_nino_threshold_months.rename('El Nino threshold')], axis=1)\n",
    "ONI_DF = pd.concat([ONI_DF, la_nina_threshold_months.rename('La Nina threshold')], axis=1)\n",
    "ONI_DF = pd.concat([ONI_DF, el_nino_threshold_months.diff().ne(0).cumsum().rename('El Nino event group ID')], axis=1)\n",
    "ONI_DF = pd.concat([ONI_DF, la_nina_threshold_months.diff().ne(0).cumsum().rename('La Nina event group ID')], axis=1)"
   ]
  },
  {
   "cell_type": "code",
   "execution_count": null,
   "id": "3687b896-ac38-4b98-8fa0-a2830b384325",
   "metadata": {},
   "outputs": [],
   "source": [
    "El_Nino_Series = ONI_DF.groupby('El Nino event group ID')['ONI'].filter(lambda x: len(x) >= 5,dropna=False).where(ONI_DF['El Nino threshold'] == True)\n",
    "ONI_DF = pd.concat([ONI_DF, El_Nino_Series.rename('El Nino')], axis=1)\n",
    "La_Nina_Series = ONI_DF.groupby('La Nina event group ID')['ONI'].filter(lambda x: len(x) >= 5,dropna=False).where(ONI_DF['La Nina threshold'] == True)\n",
    "ONI_DF = pd.concat([ONI_DF, La_Nina_Series.rename('La Nina')], axis=1)\n",
    "ONI_DF"
   ]
  },
  {
   "cell_type": "code",
   "execution_count": null,
   "id": "91dbd277-fe67-4430-8a18-e29d1e92c3cd",
   "metadata": {},
   "outputs": [],
   "source": [
    "fig, ax = plt.subplots(1, 1, figsize=(10, 4), layout='constrained')\n",
    "ax.plot(ONI_DF.index,ONI_DF['El Nino'])\n",
    "ax.xaxis.set_major_locator(mdates.YearLocator(base=2))\n",
    "ax.xaxis.set_major_formatter(mdates.DateFormatter('%Y'))\n",
    "for label in ax.get_xticklabels(which='major'):\n",
    "    label.set(rotation=30, horizontalalignment='right')\n",
    "plt.title('ONI El Nino events') \n",
    "plt.show()"
   ]
  },
  {
   "cell_type": "code",
   "execution_count": null,
   "id": "3d24bf07-c5c9-4b9a-9c0e-d815f8d10f7b",
   "metadata": {
    "jupyter": {
     "source_hidden": true
    }
   },
   "outputs": [],
   "source": [
    "fig, ax = plt.subplots(1, 1, figsize=(10, 4), layout='constrained')\n",
    "ax.plot(ONI_DF.index,ONI_DF['La Nina'])\n",
    "ax.xaxis.set_major_locator(mdates.YearLocator(base=2))\n",
    "ax.xaxis.set_major_formatter(mdates.DateFormatter('%Y'))\n",
    "for label in ax.get_xticklabels(which='major'):\n",
    "    label.set(rotation=30, horizontalalignment='right')\n",
    "plt.title('ONI La Nina events') \n",
    "plt.show()"
   ]
  },
  {
   "cell_type": "markdown",
   "id": "55d14a97-1a03-488c-8575-60c509da11c7",
   "metadata": {},
   "source": [
    "## heatmap"
   ]
  },
  {
   "cell_type": "markdown",
   "id": "417dd475-60ac-4c4e-8a18-8c867a67813b",
   "metadata": {},
   "source": [
    "### make table for average over certain region"
   ]
  },
  {
   "cell_type": "code",
   "execution_count": null,
   "id": "4017b0c4-057a-42ce-895d-03719236cdc4",
   "metadata": {},
   "outputs": [],
   "source": [
    "%%time\n",
    "max_lat = 5.0\n",
    "min_lat = -5.0\n",
    "max_lon = 240\n",
    "min_lon = 190\n",
    "LatIndexer, LonIndexer = 'yt_ocean', 'xt_ocean'\n",
    "SliceData = temp_anomaly.temp.isel(st_ocean=0).sel(**{LatIndexer: slice(min_lat, max_lat),\n",
    "                        LonIndexer: slice(min_lon, max_lon)})\n",
    "SliceData = SliceData.chunk({'Time':-1,'yt_ocean':-1,'xt_ocean':-1,})\n",
    "# THIS CURRENTLY IGNORES GRID AREA CORRECTION \n",
    "spatial_mean_of_ONI_anomaly = SliceData.mean({'yt_ocean','xt_ocean'})\n",
    "spatial_mean_of_ONI_anomaly = spatial_mean_of_ONI_anomaly.compute()"
   ]
  },
  {
   "cell_type": "code",
   "execution_count": null,
   "id": "a48d9f02-0648-4ba6-bb89-475f6ee65871",
   "metadata": {},
   "outputs": [],
   "source": [
    "spatial_mean_of_ONI_anomaly.plot()"
   ]
  },
  {
   "cell_type": "code",
   "execution_count": null,
   "id": "916dcd34-8c72-464d-a024-21a1c127be82",
   "metadata": {},
   "outputs": [],
   "source": [
    "spatial_mean_of_ONI_anomaly_DF = spatial_mean_of_ONI_anomaly.to_dataframe()\n",
    "spatial_mean_of_ONI_anomaly_DF['year'] = pd.DatetimeIndex(spatial_mean_of_ONI_anomaly_DF.index).year\n",
    "spatial_mean_of_ONI_anomaly_DF"
   ]
  },
  {
   "cell_type": "code",
   "execution_count": null,
   "id": "b3a2b97a-0bc1-452a-b7db-7e4c972b7366",
   "metadata": {},
   "outputs": [],
   "source": [
    "heatmap_data = spatial_mean_of_ONI_anomaly_DF.pivot_table(index='month', columns='year', values='temp')"
   ]
  },
  {
   "cell_type": "code",
   "execution_count": null,
   "id": "21b36ee9-1aa0-47bd-9d1a-7bbc543758f2",
   "metadata": {},
   "outputs": [],
   "source": [
    "heatmap_data"
   ]
  },
  {
   "cell_type": "code",
   "execution_count": null,
   "id": "84ac81df-87d3-4a0a-a7bd-168e88e89c7e",
   "metadata": {},
   "outputs": [],
   "source": []
  },
  {
   "cell_type": "code",
   "execution_count": null,
   "id": "36a241b6-c0d6-479f-9014-abb48fba1f48",
   "metadata": {},
   "outputs": [],
   "source": [
    "plt.figure(figsize=(20, 10))\n",
    "sns.heatmap(heatmap_data, cmap='RdBu_r', square=True,vmin=-2.5, vmax=2.5,linewidth=.5)\n",
    "plt.title('Month by Year BRAN2020 anomalies in ONI (Nino3.4) region')\n",
    "plt.show()"
   ]
  },
  {
   "cell_type": "markdown",
   "id": "fc9535df-7edb-4934-9a4f-cb5d766602a9",
   "metadata": {},
   "source": [
    "## stacked heatmap plot"
   ]
  },
  {
   "cell_type": "code",
   "execution_count": null,
   "id": "35e5e696-5bab-43e0-92b5-243afe042a5b",
   "metadata": {},
   "outputs": [],
   "source": [
    "ONI_DF_BRANtime = ONI_DF['1993-01':'2022-12']"
   ]
  },
  {
   "cell_type": "code",
   "execution_count": null,
   "id": "d4f94ebf-1b1d-4831-9779-54d6e8c281d5",
   "metadata": {},
   "outputs": [],
   "source": [
    "event_data_EN = ONI_DF_BRANtime.pivot_table(index='month', columns='year', values='El Nino',dropna=False).fillna('')\n",
    "event_data_LN = ONI_DF_BRANtime.pivot_table(index='month', columns='year', values='La Nina',dropna=False).fillna('')"
   ]
  },
  {
   "cell_type": "code",
   "execution_count": null,
   "id": "afd9d4af-90ce-465a-ab55-5a3010671bd3",
   "metadata": {},
   "outputs": [],
   "source": [
    "plt.figure(figsize=(20,8))\n",
    "sns.heatmap(heatmap_data, annot=False,cmap='RdBu_r', square=True,vmin=-2.5, vmax=2.5,linewidth=.5)\n",
    "sns.heatmap(heatmap_data, annot=event_data_LN, annot_kws={'va':'top'}, fmt=\"\", cbar=False,cmap='RdBu_r', square=True,vmin=-2.5, vmax=2.5,linewidth=.5)\n",
    "sns.heatmap(heatmap_data, annot=event_data_EN, annot_kws={'va':'bottom'}, fmt=\"\", cbar=False,cmap='RdBu_r', square=True,vmin=-2.5, vmax=2.5,linewidth=.5)\n",
    "plt.title('Month by Year BRAN2020 anomalies in ONI (Nino3.4) region\\n ONI values shown for defined ENSO events')"
   ]
  },
  {
   "cell_type": "markdown",
   "id": "e55108be-b060-433e-9d1c-a6eae9aaa1bf",
   "metadata": {},
   "source": [
    "#### count of events in BRAN2020 period\n",
    "El Nino = 8 events ( weak - strong ) as defined by ONI<br>\n",
    "La Nina = 10 events ( weak - strong ) as defined by ONI <br>\n",
    "El Nino months total = 70 = 19%\n",
    "La Nina months total = 119 = 33%\n",
    "Neutral months total = 171 = 48%\n"
   ]
  },
  {
   "cell_type": "code",
   "execution_count": null,
   "id": "0c025df7-54a4-4d51-bdd8-347bfdaffb28",
   "metadata": {},
   "outputs": [],
   "source": [
    "ONI_DF_BRANtime "
   ]
  },
  {
   "cell_type": "code",
   "execution_count": null,
   "id": "d8b5d2a4-b6ac-4e54-9276-9a5aed5c2293",
   "metadata": {},
   "outputs": [],
   "source": []
  },
  {
   "cell_type": "code",
   "execution_count": null,
   "id": "63246fb0-173f-41a3-9f5c-3d907e5c419d",
   "metadata": {},
   "outputs": [],
   "source": []
  },
  {
   "cell_type": "code",
   "execution_count": null,
   "id": "8c38b888-294b-4714-babd-d8be1ee2733a",
   "metadata": {},
   "outputs": [],
   "source": []
  },
  {
   "cell_type": "code",
   "execution_count": null,
   "id": "60423a75-e6dd-4ec8-a2a6-22a0b1b226c4",
   "metadata": {},
   "outputs": [],
   "source": []
  },
  {
   "cell_type": "markdown",
   "id": "22c0fb70-48b6-40b2-9689-ce26c8279e72",
   "metadata": {},
   "source": [
    "# filter BRAN2020 data by ENSO"
   ]
  },
  {
   "cell_type": "code",
   "execution_count": null,
   "id": "dd06af02-4f4d-46df-afe4-3eb51a6b6829",
   "metadata": {},
   "outputs": [],
   "source": [
    "ONI_DF_BRANtime = ONI_DF['1993-01':'2022-12']\n",
    "ONI_DF_BRANtime['El Nino LOGICAL'] = ONI_DF_BRANtime['El Nino'].notnull()\n",
    "ONI_DF_BRANtime['La Nina LOGICAL'] = ONI_DF_BRANtime['La Nina'].notnull()\n",
    "ONI_DF_BRANtime"
   ]
  },
  {
   "cell_type": "code",
   "execution_count": null,
   "id": "da128629-2653-4932-831c-dc4eb193cff3",
   "metadata": {},
   "outputs": [],
   "source": [
    "El_Nino_mask = ONI_DF_BRANtime['El Nino LOGICAL']\n",
    "El_Nino_mask = El_Nino_mask.to_xarray()\n",
    "El_Nino_mask = El_Nino_mask.rename({'datetime':'Time'})\n",
    "sync_Time = temp_chunked_time.Time\n",
    "El_Nino_mask['Time'] = sync_Time"
   ]
  },
  {
   "cell_type": "code",
   "execution_count": null,
   "id": "6f5aed11-1a47-4966-b224-a043c181fc71",
   "metadata": {},
   "outputs": [],
   "source": [
    "La_Nina_mask = ONI_DF_BRANtime['La Nina LOGICAL']\n",
    "La_Nina_mask = La_Nina_mask.to_xarray()\n",
    "La_Nina_mask = La_Nina_mask.rename({'datetime':'Time'})\n",
    "sync_Time = temp_chunked_time.Time\n",
    "La_Nina_mask['Time'] = sync_Time"
   ]
  },
  {
   "cell_type": "code",
   "execution_count": null,
   "id": "04925fe2-c1da-4aa5-acea-42d7b7372cc5",
   "metadata": {},
   "outputs": [],
   "source": [
    "ONI_DF_BRANtime['Neutral LOGICAL'] = (ONI_DF_BRANtime['El Nino LOGICAL'] == False) & (ONI_DF_BRANtime['La Nina LOGICAL'] == False)"
   ]
  },
  {
   "cell_type": "code",
   "execution_count": null,
   "id": "06c2e385-1a5d-4737-b9e7-dc40027600ba",
   "metadata": {},
   "outputs": [],
   "source": []
  },
  {
   "cell_type": "code",
   "execution_count": null,
   "id": "52100b96-aed8-472e-b8c7-913bea4bd3a3",
   "metadata": {},
   "outputs": [],
   "source": [
    "ONI_DF_BRANtime['El Nino LOGICAL'].sum()"
   ]
  },
  {
   "cell_type": "code",
   "execution_count": null,
   "id": "03a25cce-1f3e-4e36-8ba9-dcbafcb4f7c7",
   "metadata": {},
   "outputs": [],
   "source": [
    "ONI_DF_BRANtime['La Nina LOGICAL'].sum()"
   ]
  },
  {
   "cell_type": "code",
   "execution_count": null,
   "id": "94605f76-9fb7-4962-a376-832f351ff372",
   "metadata": {},
   "outputs": [],
   "source": [
    "ONI_DF_BRANtime['Neutral LOGICAL'].sum()"
   ]
  },
  {
   "cell_type": "markdown",
   "id": "a8c3751b-b6b2-4f94-a0e9-0643c3743021",
   "metadata": {},
   "source": [
    "# Test if they add to 360"
   ]
  },
  {
   "cell_type": "code",
   "execution_count": null,
   "id": "c81647ed-3497-4c8d-802c-0e21f7fcfe64",
   "metadata": {},
   "outputs": [],
   "source": [
    "ONI_DF_BRANtime['El Nino LOGICAL'].sum() + ONI_DF_BRANtime['La Nina LOGICAL'].sum()+ONI_DF_BRANtime['Neutral LOGICAL'].sum() == 360"
   ]
  },
  {
   "cell_type": "code",
   "execution_count": null,
   "id": "b2c4053f-2d21-444b-a7df-4b1a8fed4bcc",
   "metadata": {},
   "outputs": [],
   "source": [
    "ONI_DF_BRANtime"
   ]
  },
  {
   "cell_type": "code",
   "execution_count": null,
   "id": "4bd6f03e-3a2e-49d6-a413-a6f1b5bcbbcd",
   "metadata": {},
   "outputs": [],
   "source": [
    "El_Nino_BRAN2020_temp = temp_chunked_time.temp.where(El_Nino_mask)\n",
    "La_Nina_BRAN2020_temp = temp_chunked_time.temp.where(La_Nina_mask)"
   ]
  },
  {
   "cell_type": "code",
   "execution_count": null,
   "id": "eae4d4d0-ab70-426a-bf56-3bb336abafa3",
   "metadata": {},
   "outputs": [],
   "source": [
    "%%time\n",
    "El_Nino_SST_mean = El_Nino_BRAN2020_temp.isel(st_ocean=0).mean('Time').compute()\n",
    "La_Nina_SST_mean = La_Nina_BRAN2020_temp.isel(st_ocean=0).mean('Time').compute()"
   ]
  },
  {
   "cell_type": "code",
   "execution_count": null,
   "id": "951df2f1-d277-4afd-8e26-eccf53f7b088",
   "metadata": {},
   "outputs": [],
   "source": [
    "plt.figure(figsize=(16,8))\n",
    "(El_Nino_SST_mean-La_Nina_SST_mean).plot()\n",
    "plt.title('Mean monthly BRAN2020 SST for El Nino - La Nina events')"
   ]
  },
  {
   "cell_type": "markdown",
   "id": "bb908dae-4974-47c9-8bc2-943eeaf0e43e",
   "metadata": {},
   "source": [
    "## El Nino \"climatology\""
   ]
  },
  {
   "cell_type": "code",
   "execution_count": null,
   "id": "93198a10-b5f5-401f-90cc-a5e76bb44386",
   "metadata": {},
   "outputs": [],
   "source": [
    "%%time\n",
    "El_Nino_temp_monthly_climatology = get_monthly_climatology(El_Nino_BRAN2020_temp, time_coord_name = 'Time')\n",
    "El_Nino_temp_monthly_climatology_rc = El_Nino_temp_monthly_climatology.chunk({'st_ocean':10,'xt_ocean':3600,'month':1})\n",
    "El_Nino_temp_monthly_climatology = El_Nino_temp_monthly_climatology.compute()\n"
   ]
  },
  {
   "cell_type": "markdown",
   "id": "54a29527-fef6-40f1-93db-5777e805269b",
   "metadata": {},
   "source": [
    "## La Nina \"climatology\""
   ]
  },
  {
   "cell_type": "code",
   "execution_count": null,
   "id": "e192c905-ed5c-49bf-8871-2a9b9185ebfe",
   "metadata": {},
   "outputs": [],
   "source": [
    "%%time\n",
    "La_Nina_temp_monthly_climatology = get_monthly_climatology(La_Nina_BRAN2020_temp, time_coord_name = 'Time')\n",
    "La_Nina_temp_monthly_climatology_rc = La_Nina_temp_monthly_climatology.chunk({'st_ocean':10,'xt_ocean':3600,'month':1})\n",
    "La_Nina_temp_monthly_climatology = La_Nina_temp_monthly_climatology.compute()"
   ]
  },
  {
   "cell_type": "code",
   "execution_count": null,
   "id": "57a8db0d-2178-41f1-8d3f-b601efa81d7d",
   "metadata": {},
   "outputs": [],
   "source": [
    "El_Nino_temp_monthly_climatology"
   ]
  },
  {
   "cell_type": "code",
   "execution_count": null,
   "id": "b5a2b8a8-d0bb-46fc-9c97-3b6c26828db2",
   "metadata": {},
   "outputs": [],
   "source": [
    "diff_EN_LN_climatology = El_Nino_temp_monthly_climatology - La_Nina_temp_monthly_climatology"
   ]
  },
  {
   "cell_type": "code",
   "execution_count": null,
   "id": "d282a9e7-1b58-4666-bf94-34850b9f5caa",
   "metadata": {},
   "outputs": [],
   "source": [
    "diff_EN_LN_climatology"
   ]
  },
  {
   "cell_type": "code",
   "execution_count": null,
   "id": "3c816367-43c4-4a34-a196-58834272a41e",
   "metadata": {},
   "outputs": [],
   "source": [
    "%%time\n",
    "max_lat = 5.0\n",
    "min_lat = -5.0\n",
    "max_lon = 240\n",
    "min_lon = 190\n",
    "LatIndexer, LonIndexer = 'yt_ocean', 'xt_ocean'\n",
    "SliceData = diff_EN_LN_climatology.isel(st_ocean=0).sel(**{LatIndexer: slice(min_lat, max_lat),\n",
    "                        LonIndexer: slice(min_lon, max_lon)})\n",
    "SliceData = SliceData.chunk({'month':-1,'yt_ocean':-1,'xt_ocean':-1,})\n",
    "# THIS CURRENTLY IGNORES GRID AREA CORRECTION \n",
    "spatial_mean_diff_EN_LN = SliceData.mean({'yt_ocean','xt_ocean'})\n",
    "spatial_mean_diff_EN_LN = spatial_mean_diff_EN_LN.compute()"
   ]
  },
  {
   "cell_type": "code",
   "execution_count": null,
   "id": "8cb430e1-9d13-41fe-8800-1999b9030171",
   "metadata": {},
   "outputs": [],
   "source": [
    "spatial_mean_diff_EN_LN.plot(ylim=[0,3])"
   ]
  },
  {
   "cell_type": "code",
   "execution_count": null,
   "id": "7842cb1c-5f2e-408c-a1db-76650d724d95",
   "metadata": {},
   "outputs": [],
   "source": []
  },
  {
   "cell_type": "code",
   "execution_count": null,
   "id": "f2c74f5f-8488-49ab-8c98-41efe6ce70ec",
   "metadata": {},
   "outputs": [],
   "source": [
    "%%time\n",
    "max_lat = 5.0\n",
    "min_lat = -5.0\n",
    "max_lon = 240\n",
    "min_lon = 190\n",
    "LatIndexer, LonIndexer = 'yt_ocean', 'xt_ocean'\n",
    "SliceData = El_Nino_temp_monthly_climatology.isel(st_ocean=0).sel(**{LatIndexer: slice(min_lat, max_lat),\n",
    "                        LonIndexer: slice(min_lon, max_lon)})\n",
    "SliceData = SliceData.chunk({'month':-1,'yt_ocean':-1,'xt_ocean':-1,})\n",
    "# THIS CURRENTLY IGNORES GRID AREA CORRECTION \n",
    "spatial_mean_EN = SliceData.mean({'yt_ocean','xt_ocean'})\n",
    "spatial_mean_EN = spatial_mean_EN.compute()\n",
    "spatial_mean_EN.plot()"
   ]
  },
  {
   "cell_type": "markdown",
   "id": "de5b07e6-0dbe-4e8c-bb00-59c31e775e62",
   "metadata": {},
   "source": [
    "# Mean, Median, Max , Min"
   ]
  },
  {
   "cell_type": "code",
   "execution_count": null,
   "id": "e1c58b6f-a254-4a96-bcf2-1c326db0e1da",
   "metadata": {},
   "outputs": [],
   "source": [
    "El_Nino_mean = El_Nino_BRAN2020_temp.mean('Time')\n",
    "El_Nino_median = El_Nino_BRAN2020_temp.median('Time')\n",
    "El_Nino_max = El_Nino_BRAN2020_temp.max('Time')\n",
    "El_Nino_min = El_Nino_BRAN2020_temp.min('Time')\n",
    "El_Nino_std = El_Nino_BRAN2020_temp.std('Time')\n",
    "El_Nino_quant = El_Nino_BRAN2020_temp.quantile([0.05,0.95],skipna=True,dim='Time')"
   ]
  },
  {
   "cell_type": "code",
   "execution_count": null,
   "id": "a111703a-0f96-4a13-bdd4-8f5a83f61e6c",
   "metadata": {},
   "outputs": [],
   "source": [
    "%%time\n",
    "El_Nino_quant.isel(quantile=0).isel(st_ocean=0).plot(robust=True,vmin=-1,vmax=35)"
   ]
  },
  {
   "cell_type": "code",
   "execution_count": null,
   "id": "c3ed3ea9-3a9f-4e49-a8ef-a9c9bb549679",
   "metadata": {},
   "outputs": [],
   "source": [
    "%%time\n",
    "El_Nino_quant.isel(quantile=1).isel(st_ocean=0).plot(robust=True,vmin=-1,vmax=35)"
   ]
  },
  {
   "cell_type": "code",
   "execution_count": null,
   "id": "eadc65a6-2beb-4ede-86c7-8a8c254aab77",
   "metadata": {},
   "outputs": [],
   "source": [
    "def get_slice(xr_object)\n",
    "    max_lat = 5.0\n",
    "    min_lat = -5.0\n",
    "    max_lon = 240\n",
    "    min_lon = 190\n",
    "    LatIndexer, LonIndexer = 'yt_ocean', 'xt_ocean'\n",
    "    SliceData = xr_object.sel(**{LatIndexer: slice(min_lat, max_lat),\n",
    "                        LonIndexer: slice(min_lon, max_lon)})"
   ]
  },
  {
   "cell_type": "code",
   "execution_count": null,
   "id": "cd8d8b82-314a-4c06-bf66-4c0a5f9d81cf",
   "metadata": {},
   "outputs": [],
   "source": [
    "El_Nino_min.isel(st_ocean=0).plot(robust=True,vmin=-1,vmax=35)"
   ]
  },
  {
   "cell_type": "code",
   "execution_count": null,
   "id": "699464b2-7a5a-4cbd-ba25-ad265830cb0d",
   "metadata": {},
   "outputs": [],
   "source": [
    "El_Nino_max.isel(st_ocean=0).plot(robust=True,vmin=-1,vmax=35)"
   ]
  },
  {
   "cell_type": "code",
   "execution_count": null,
   "id": "5dcea2ae-a7f6-4482-8ba7-6a565b9f59d6",
   "metadata": {},
   "outputs": [],
   "source": [
    "diff = El_Nino_max.isel(st_ocean=0) - El_Nino_min.isel(st_ocean=0) \n",
    "diff.plot(robust=True)"
   ]
  },
  {
   "cell_type": "code",
   "execution_count": null,
   "id": "e41deb37-32b3-47bd-a66f-ed43e6625b83",
   "metadata": {},
   "outputs": [],
   "source": [
    "El_Nino_std.isel(st_ocean=0).plot(robust=True)"
   ]
  },
  {
   "cell_type": "code",
   "execution_count": null,
   "id": "703c2910-1b47-44ee-b644-63473e327f00",
   "metadata": {},
   "outputs": [],
   "source": []
  },
  {
   "cell_type": "code",
   "execution_count": null,
   "id": "0849731f-9269-4069-8488-800f09019635",
   "metadata": {},
   "outputs": [],
   "source": []
  },
  {
   "cell_type": "code",
   "execution_count": null,
   "id": "e271ddff-51dc-41ce-a21e-7bc3c83c72a8",
   "metadata": {},
   "outputs": [],
   "source": []
  },
  {
   "cell_type": "code",
   "execution_count": null,
   "id": "c050b4b7-95a7-4072-b732-c1e6137d946f",
   "metadata": {},
   "outputs": [],
   "source": []
  },
  {
   "cell_type": "code",
   "execution_count": null,
   "id": "6efbc085-5264-45e0-9fa0-f1fa7a07672b",
   "metadata": {},
   "outputs": [],
   "source": []
  },
  {
   "cell_type": "code",
   "execution_count": null,
   "id": "da594038-9d3f-4339-a6cc-b7311fb4c047",
   "metadata": {},
   "outputs": [],
   "source": []
  },
  {
   "cell_type": "code",
   "execution_count": null,
   "id": "93901ba2-ef19-4163-b79c-c45010477173",
   "metadata": {},
   "outputs": [],
   "source": []
  },
  {
   "cell_type": "code",
   "execution_count": null,
   "id": "06a15a63-55c7-4992-aff7-2c84d546f476",
   "metadata": {},
   "outputs": [],
   "source": []
  },
  {
   "cell_type": "code",
   "execution_count": null,
   "id": "e91a0135-3020-4673-a544-5b24a998f930",
   "metadata": {},
   "outputs": [],
   "source": []
  },
  {
   "cell_type": "markdown",
   "id": "a6a9d5ae-fe32-45d2-9af6-6d13ea3ac988",
   "metadata": {},
   "source": [
    "# The End"
   ]
  },
  {
   "cell_type": "code",
   "execution_count": null,
   "id": "1920d781-f954-436b-94a8-f58d899f5150",
   "metadata": {
    "tags": []
   },
   "outputs": [],
   "source": [
    "client.shutdown()"
   ]
  },
  {
   "cell_type": "code",
   "execution_count": null,
   "id": "8e7fd9c2-7539-4b55-b7b0-4f05c78bba27",
   "metadata": {},
   "outputs": [],
   "source": []
  },
  {
   "cell_type": "code",
   "execution_count": null,
   "id": "74d5627a-1ebf-49ff-8a7b-dd81b71e1d6f",
   "metadata": {},
   "outputs": [],
   "source": []
  },
  {
   "cell_type": "code",
   "execution_count": null,
   "id": "28effe3b-109d-44ed-8a88-5698ca515f28",
   "metadata": {},
   "outputs": [],
   "source": []
  },
  {
   "cell_type": "code",
   "execution_count": null,
   "id": "198ec405-397c-4fb7-a09f-3771a2605ebb",
   "metadata": {},
   "outputs": [],
   "source": []
  },
  {
   "cell_type": "code",
   "execution_count": null,
   "id": "cd12f341-7ea0-40d4-95cf-42f8f38c99ff",
   "metadata": {},
   "outputs": [],
   "source": []
  },
  {
   "cell_type": "code",
   "execution_count": null,
   "id": "81577acc-6064-4bd0-b4c0-892a40687747",
   "metadata": {},
   "outputs": [],
   "source": []
  },
  {
   "cell_type": "code",
   "execution_count": null,
   "id": "5a457236-0174-4a5f-8c08-519d260a35c7",
   "metadata": {},
   "outputs": [],
   "source": []
  },
  {
   "cell_type": "code",
   "execution_count": null,
   "id": "31b9d87a-6560-490c-b056-4dbd86a22fba",
   "metadata": {},
   "outputs": [],
   "source": []
  },
  {
   "cell_type": "code",
   "execution_count": null,
   "id": "ecf619d6-8115-47a2-86fc-6b8586093a34",
   "metadata": {},
   "outputs": [],
   "source": []
  },
  {
   "cell_type": "code",
   "execution_count": null,
   "id": "4f2fc7cb-828f-4eef-9daf-df4c84140f35",
   "metadata": {},
   "outputs": [],
   "source": []
  },
  {
   "cell_type": "code",
   "execution_count": null,
   "id": "51c2dd5b-620d-421a-80cf-8858bb56c3b4",
   "metadata": {},
   "outputs": [],
   "source": []
  },
  {
   "cell_type": "code",
   "execution_count": null,
   "id": "ac756698-03c0-49d8-82a9-f465bed60e3e",
   "metadata": {},
   "outputs": [],
   "source": []
  },
  {
   "cell_type": "code",
   "execution_count": null,
   "id": "8c1a33e2-1959-40bf-8b0c-2b30a902cbbd",
   "metadata": {},
   "outputs": [],
   "source": []
  },
  {
   "cell_type": "code",
   "execution_count": null,
   "id": "5a53d0a5-fd30-4537-8f27-3eb7ad3c7eca",
   "metadata": {},
   "outputs": [],
   "source": []
  },
  {
   "cell_type": "code",
   "execution_count": null,
   "id": "f89badcb-5c83-4208-ac41-b2955e1a91f4",
   "metadata": {},
   "outputs": [],
   "source": []
  },
  {
   "cell_type": "code",
   "execution_count": null,
   "id": "120bee30-dad5-4576-9e91-1e20838903a5",
   "metadata": {},
   "outputs": [],
   "source": []
  },
  {
   "cell_type": "code",
   "execution_count": null,
   "id": "431cc5d2-a971-489c-895d-44be12a04f35",
   "metadata": {},
   "outputs": [],
   "source": []
  },
  {
   "cell_type": "code",
   "execution_count": null,
   "id": "3243ef59-8e3d-49ac-9ef9-3e819a53a11c",
   "metadata": {},
   "outputs": [],
   "source": []
  },
  {
   "cell_type": "markdown",
   "id": "ff6a4ba4-1cdc-4ec8-a1a9-4942d35a44ea",
   "metadata": {},
   "source": [
    "## Plot current vectors for August"
   ]
  },
  {
   "cell_type": "code",
   "execution_count": null,
   "id": "8f3619d6-6f06-48c4-8692-b42e40d2b067",
   "metadata": {
    "tags": []
   },
   "outputs": [],
   "source": [
    "import matplotlib.pyplot as plt\n",
    "from matplotlib.ticker import (MultipleLocator, FormatStrFormatter,\n",
    "                               AutoMinorLocator)\n",
    "import matplotlib.ticker as ticker\n",
    "import cartopy.crs as ccrs\n",
    "import cartopy.feature as cfeature\n",
    "import cartopy\n",
    "from matplotlib import mlab, cm, gridspec\n",
    "import matplotlib.ticker as mticker\n",
    "from cartopy.mpl.gridliner import LONGITUDE_FORMATTER, LATITUDE_FORMATTER\n",
    "%matplotlib inline "
   ]
  },
  {
   "cell_type": "code",
   "execution_count": null,
   "id": "35a7c5ed-a1b6-4ab4-81ad-f0ca978480b3",
   "metadata": {
    "tags": []
   },
   "outputs": [],
   "source": [
    "%%time\n",
    "# Define the u and v components of the currents\n",
    "time_choice = 8\n",
    "u = clim_uv.u.sel(month=time_choice)\n",
    "v = clim_uv.v.sel(month=time_choice)\n",
    "speed = np.sqrt(u**2 + v**2)"
   ]
  },
  {
   "cell_type": "code",
   "execution_count": null,
   "id": "8c6966cd-1bb5-4248-9933-1522076e8417",
   "metadata": {
    "tags": []
   },
   "outputs": [],
   "source": [
    "#plot model data\n",
    "transform = ccrs.PlateCarree()\n",
    "cmap = 'Spectral_r'\n",
    "cbar_label='current speed'\n",
    "plot_data = speed\n",
    "\n",
    "###\n",
    "fig = plt.figure(num=None, figsize=(8, 6), dpi=300, facecolor='w', edgecolor='k')\n",
    "ax = plt.subplot(projection=ccrs.PlateCarree(180))\n",
    "ax.set_extent([142,160, -25, -10], ccrs.PlateCarree())\n",
    "ax.add_feature(cfeature.NaturalEarthFeature('physical', 'land', '50m', edgecolor='face', facecolor='white'))\n",
    "ax.coastlines('50m',linewidth=0.5,edgecolor='grey')\n",
    "plot_data.plot(transform=transform,cmap=cmap,cbar_kwargs={'label': cbar_label,'shrink':0.5},robust=True)\n",
    "\n",
    "#plot u/v vectors\n",
    "# Define the x and y coordinates\n",
    "x = clim_uv.xu_ocean\n",
    "y = clim_uv.yu_ocean\n",
    "ax.quiver(x.values,y.values,u.values,v.values,transform=transform, units='x', width=0.01, scale=0.7, headwidth=2,alpha=0.2)\n",
    "ax.set_title('BRAN2020 1993-2022\\ncurrent speed \\n August Climatology')"
   ]
  }
 ],
 "metadata": {
  "kernelspec": {
   "display_name": "Python 3 (ipykernel)",
   "language": "python",
   "name": "python3"
  },
  "language_info": {
   "codemirror_mode": {
    "name": "ipython",
    "version": 3
   },
   "file_extension": ".py",
   "mimetype": "text/x-python",
   "name": "python",
   "nbconvert_exporter": "python",
   "pygments_lexer": "ipython3",
   "version": "3.10.14"
  }
 },
 "nbformat": 4,
 "nbformat_minor": 5
}
