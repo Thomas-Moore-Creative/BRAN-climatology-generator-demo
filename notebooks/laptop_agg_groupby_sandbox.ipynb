{
 "cells": [
  {
   "cell_type": "code",
   "execution_count": 1,
   "id": "5c7138ae-c0f7-4cc7-9555-657ca5dfad4a",
   "metadata": {},
   "outputs": [],
   "source": [
    "import xarray as xr"
   ]
  },
  {
   "cell_type": "code",
   "execution_count": 2,
   "id": "a616f672-e321-4bb7-a16b-554c1bfb831e",
   "metadata": {},
   "outputs": [],
   "source": [
    "ds = xr.tutorial.open_dataset('air_temperature')"
   ]
  },
  {
   "cell_type": "code",
   "execution_count": 4,
   "id": "17780b7f-8538-4db2-9708-c0a2b2a6a5b0",
   "metadata": {},
   "outputs": [
    {
     "data": {
      "text/plain": [
       "0.015499672"
      ]
     },
     "execution_count": 4,
     "metadata": {},
     "output_type": "execute_result"
    }
   ],
   "source": [
    "ds.nbytes/1e9"
   ]
  },
  {
   "cell_type": "code",
   "execution_count": 7,
   "id": "d0d25113-c489-4890-8cbe-58c344a413c8",
   "metadata": {},
   "outputs": [],
   "source": [
    "import os\n",
    "\n",
    "# Define the environment variable\n",
    "os.environ['MALLOC_TRIM_THRESHOLD_'] = '0'"
   ]
  },
  {
   "cell_type": "code",
   "execution_count": 9,
   "id": "91a323c8-ddc5-4a8c-8b1c-7b47b10a7370",
   "metadata": {},
   "outputs": [],
   "source": [
    "client.close()"
   ]
  },
  {
   "cell_type": "code",
   "execution_count": null,
   "id": "8d5a9a53-5a9b-4260-a2c8-1a131ecb7a1e",
   "metadata": {},
   "outputs": [
    {
     "name": "stderr",
     "output_type": "stream",
     "text": [
      "2024-04-04 13:50:56,842 - distributed.nanny - ERROR - Failed to initialize worker\n",
      "Traceback (most recent call last):\n",
      "  File \"/Users/moo270/mambaforge/envs/pangeo_rechunker/lib/python3.12/site-packages/distributed/nanny.py\", line 954, in run\n",
      "    worker = worker_factory()\n",
      "             ^^^^^^^^^^^^^^^^\n",
      "  File \"/Users/moo270/mambaforge/envs/pangeo_rechunker/lib/python3.12/site-packages/distributed/worker.py\", line 716, in __init__\n",
      "    ServerNode.__init__(\n",
      "TypeError: Server.__init__() got an unexpected keyword argument 'client_kwargs'\n",
      "2024-04-04 13:50:56,842 - distributed.nanny - ERROR - Failed to initialize worker\n",
      "Traceback (most recent call last):\n",
      "  File \"/Users/moo270/mambaforge/envs/pangeo_rechunker/lib/python3.12/site-packages/distributed/nanny.py\", line 954, in run\n",
      "    worker = worker_factory()\n",
      "             ^^^^^^^^^^^^^^^^\n",
      "  File \"/Users/moo270/mambaforge/envs/pangeo_rechunker/lib/python3.12/site-packages/distributed/worker.py\", line 716, in __init__\n",
      "    ServerNode.__init__(\n",
      "TypeError: Server.__init__() got an unexpected keyword argument 'client_kwargs'\n",
      "2024-04-04 13:50:56,842 - distributed.nanny - ERROR - Failed to initialize worker\n",
      "Traceback (most recent call last):\n",
      "  File \"/Users/moo270/mambaforge/envs/pangeo_rechunker/lib/python3.12/site-packages/distributed/nanny.py\", line 954, in run\n",
      "    worker = worker_factory()\n",
      "             ^^^^^^^^^^^^^^^^\n",
      "  File \"/Users/moo270/mambaforge/envs/pangeo_rechunker/lib/python3.12/site-packages/distributed/worker.py\", line 716, in __init__\n",
      "    ServerNode.__init__(\n",
      "TypeError: Server.__init__() got an unexpected keyword argument 'client_kwargs'\n",
      "2024-04-04 13:50:56,842 - distributed.nanny - ERROR - Failed to initialize worker\n",
      "Traceback (most recent call last):\n",
      "  File \"/Users/moo270/mambaforge/envs/pangeo_rechunker/lib/python3.12/site-packages/distributed/nanny.py\", line 954, in run\n",
      "    worker = worker_factory()\n",
      "             ^^^^^^^^^^^^^^^^\n",
      "  File \"/Users/moo270/mambaforge/envs/pangeo_rechunker/lib/python3.12/site-packages/distributed/worker.py\", line 716, in __init__\n",
      "    ServerNode.__init__(\n",
      "TypeError: Server.__init__() got an unexpected keyword argument 'client_kwargs'\n",
      "2024-04-04 13:50:56,848 - distributed.nanny - ERROR - Failed to start process\n",
      "Traceback (most recent call last):\n",
      "  File \"/Users/moo270/mambaforge/envs/pangeo_rechunker/lib/python3.12/site-packages/distributed/nanny.py\", line 455, in instantiate\n",
      "    result = await self.process.start()\n",
      "             ^^^^^^^^^^^^^^^^^^^^^^^^^^\n",
      "  File \"/Users/moo270/mambaforge/envs/pangeo_rechunker/lib/python3.12/site-packages/distributed/nanny.py\", line 762, in start\n",
      "    msg = await self._wait_until_connected(uid)\n",
      "          ^^^^^^^^^^^^^^^^^^^^^^^^^^^^^^^^^^^^^\n",
      "  File \"/Users/moo270/mambaforge/envs/pangeo_rechunker/lib/python3.12/site-packages/distributed/nanny.py\", line 903, in _wait_until_connected\n",
      "    raise msg[\"exception\"]\n",
      "  File \"/Users/moo270/mambaforge/envs/pangeo_rechunker/lib/python3.12/site-packages/distributed/nanny.py\", line 954, in run\n",
      "    worker = worker_factory()\n",
      "    ^^^^^^^^^^^^^^^^^\n",
      "  File \"/Users/moo270/mambaforge/envs/pangeo_rechunker/lib/python3.12/site-packages/distributed/worker.py\", line 716, in __init__\n",
      "    ServerNode.__init__(\n",
      "    ^^^^^^^^^^^^^^^^^\n",
      "TypeError: Server.__init__() got an unexpected keyword argument 'client_kwargs'\n",
      "2024-04-04 13:50:56,850 - distributed.nanny - ERROR - Failed to start process\n",
      "Traceback (most recent call last):\n",
      "  File \"/Users/moo270/mambaforge/envs/pangeo_rechunker/lib/python3.12/site-packages/distributed/nanny.py\", line 455, in instantiate\n",
      "    result = await self.process.start()\n",
      "             ^^^^^^^^^^^^^^^^^^^^^^^^^^\n",
      "  File \"/Users/moo270/mambaforge/envs/pangeo_rechunker/lib/python3.12/site-packages/distributed/nanny.py\", line 762, in start\n",
      "    msg = await self._wait_until_connected(uid)\n",
      "          ^^^^^^^^^^^^^^^^^^^^^^^^^^^^^^^^^^^^^\n",
      "  File \"/Users/moo270/mambaforge/envs/pangeo_rechunker/lib/python3.12/site-packages/distributed/nanny.py\", line 903, in _wait_until_connected\n",
      "    raise msg[\"exception\"]\n",
      "  File \"/Users/moo270/mambaforge/envs/pangeo_rechunker/lib/python3.12/site-packages/distributed/nanny.py\", line 954, in run\n",
      "    worker = worker_factory()\n",
      "    ^^^^^^^^^^^^^^^^^\n",
      "  File \"/Users/moo270/mambaforge/envs/pangeo_rechunker/lib/python3.12/site-packages/distributed/worker.py\", line 716, in __init__\n",
      "    ServerNode.__init__(\n",
      "    ^^^^^^^^^^^^^^^^^\n",
      "TypeError: Server.__init__() got an unexpected keyword argument 'client_kwargs'\n",
      "2024-04-04 13:50:56,852 - distributed.nanny - ERROR - Failed to start process\n",
      "Traceback (most recent call last):\n",
      "  File \"/Users/moo270/mambaforge/envs/pangeo_rechunker/lib/python3.12/site-packages/distributed/nanny.py\", line 455, in instantiate\n",
      "    result = await self.process.start()\n",
      "             ^^^^^^^^^^^^^^^^^^^^^^^^^^\n",
      "  File \"/Users/moo270/mambaforge/envs/pangeo_rechunker/lib/python3.12/site-packages/distributed/nanny.py\", line 762, in start\n",
      "    msg = await self._wait_until_connected(uid)\n",
      "          ^^^^^^^^^^^^^^^^^^^^^^^^^^^^^^^^^^^^^\n",
      "  File \"/Users/moo270/mambaforge/envs/pangeo_rechunker/lib/python3.12/site-packages/distributed/nanny.py\", line 903, in _wait_until_connected\n",
      "    raise msg[\"exception\"]\n",
      "  File \"/Users/moo270/mambaforge/envs/pangeo_rechunker/lib/python3.12/site-packages/distributed/nanny.py\", line 954, in run\n",
      "    worker = worker_factory()\n",
      "    ^^^^^^^^^^^^^^^^^\n",
      "  File \"/Users/moo270/mambaforge/envs/pangeo_rechunker/lib/python3.12/site-packages/distributed/worker.py\", line 716, in __init__\n",
      "    ServerNode.__init__(\n",
      "    ^^^^^^^^^^^^^^^^^\n",
      "TypeError: Server.__init__() got an unexpected keyword argument 'client_kwargs'\n",
      "2024-04-04 13:50:56,854 - distributed.nanny - ERROR - Failed to start process\n",
      "Traceback (most recent call last):\n",
      "  File \"/Users/moo270/mambaforge/envs/pangeo_rechunker/lib/python3.12/site-packages/distributed/nanny.py\", line 455, in instantiate\n",
      "    result = await self.process.start()\n",
      "             ^^^^^^^^^^^^^^^^^^^^^^^^^^\n",
      "  File \"/Users/moo270/mambaforge/envs/pangeo_rechunker/lib/python3.12/site-packages/distributed/nanny.py\", line 762, in start\n",
      "    msg = await self._wait_until_connected(uid)\n",
      "          ^^^^^^^^^^^^^^^^^^^^^^^^^^^^^^^^^^^^^\n",
      "  File \"/Users/moo270/mambaforge/envs/pangeo_rechunker/lib/python3.12/site-packages/distributed/nanny.py\", line 903, in _wait_until_connected\n",
      "    raise msg[\"exception\"]\n",
      "  File \"/Users/moo270/mambaforge/envs/pangeo_rechunker/lib/python3.12/site-packages/distributed/nanny.py\", line 954, in run\n",
      "    worker = worker_factory()\n",
      "    ^^^^^^^^^^^^^^^^^\n",
      "  File \"/Users/moo270/mambaforge/envs/pangeo_rechunker/lib/python3.12/site-packages/distributed/worker.py\", line 716, in __init__\n",
      "    ServerNode.__init__(\n",
      "    ^^^^^^^^^^^^^^^^^\n",
      "TypeError: Server.__init__() got an unexpected keyword argument 'client_kwargs'\n"
     ]
    }
   ],
   "source": [
    "from dask.distributed import Client\n",
    "#client = Client(threads_per_worker=1)\n",
    "client = Client(client_kwargs={'env': {'MALLOC_TRIM_THRESHOLD_': '0'}})\n",
    "client"
   ]
  },
  {
   "cell_type": "code",
   "execution_count": 6,
   "id": "1dec7e52-9076-4bf4-9ddf-54b00121474f",
   "metadata": {},
   "outputs": [],
   "source": [
    "ds = xr.tutorial.open_dataset('air_temperature')"
   ]
  },
  {
   "cell_type": "code",
   "execution_count": null,
   "id": "f009db19-0a68-4f75-a8fd-d4b604b9be5f",
   "metadata": {},
   "outputs": [],
   "source": []
  }
 ],
 "metadata": {
  "kernelspec": {
   "display_name": "Python 3 (ipykernel)",
   "language": "python",
   "name": "python3"
  },
  "language_info": {
   "codemirror_mode": {
    "name": "ipython",
    "version": 3
   },
   "file_extension": ".py",
   "mimetype": "text/x-python",
   "name": "python",
   "nbconvert_exporter": "python",
   "pygments_lexer": "ipython3",
   "version": "3.12.2"
  }
 },
 "nbformat": 4,
 "nbformat_minor": 5
}
