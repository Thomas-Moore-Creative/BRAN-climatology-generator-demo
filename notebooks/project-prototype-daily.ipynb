{
 "cells": [
  {
   "cell_type": "markdown",
   "id": "b430791f-5696-464b-a9c5-0a20031a83e4",
   "metadata": {},
   "source": [
    "# Climatology generator prototype - daily"
   ]
  },
  {
   "cell_type": "markdown",
   "id": "da85e17d-1666-4bdd-bbb2-ba7288e8e71a",
   "metadata": {},
   "source": [
    "#### Date: 7 February 2024"
   ]
  },
  {
   "cell_type": "markdown",
   "id": "4b722e90-e1fa-45a1-9638-5d9732063024",
   "metadata": {},
   "source": [
    "Author = {\"name\": \"Thomas Moore\", \"affiliation\": \"CSIRO\", \"email\": \"thomas.moore@csiro.au\", \"orcid\": \"0000-0003-3930-1946\"}"
   ]
  },
  {
   "cell_type": "markdown",
   "id": "23449033-f7fe-4f01-ac2d-de773de8db6b",
   "metadata": {},
   "source": [
    "### BRAN2020 is 16TB of data over nearly 9000 `netcdf` file assests in total.\n",
    "### But our ARD workflow makes the efficient `zarr` collections for this notebook"
   ]
  },
  {
   "cell_type": "markdown",
   "id": "78a81129-1aa2-498d-8133-4ea1e922a682",
   "metadata": {},
   "source": [
    "# Setup"
   ]
  },
  {
   "cell_type": "markdown",
   "id": "1f41a28d-7966-420a-a2ba-5bb53ada1d9c",
   "metadata": {},
   "source": [
    "#### required packages"
   ]
  },
  {
   "cell_type": "code",
   "execution_count": 1,
   "id": "dbfd2435-2231-4a62-aa70-d5fd531a259d",
   "metadata": {},
   "outputs": [],
   "source": [
    "import intake\n",
    "import xarray as xr\n",
    "import pandas as pd\n",
    "import numpy as np\n",
    "from matplotlib import pyplot as plt\n",
    "import pandas as pd\n",
    "#more plotting\n",
    "import matplotlib.dates as mdates\n",
    "import seaborn as sns"
   ]
  },
  {
   "cell_type": "markdown",
   "id": "e25d9c26-ad00-4e0a-b8dc-6fcfb15cfc71",
   "metadata": {},
   "source": [
    "#### start a local Dask client"
   ]
  },
  {
   "cell_type": "code",
   "execution_count": 2,
   "id": "97accd08-fd64-47e2-b870-ed24ff71ad9e",
   "metadata": {
    "tags": []
   },
   "outputs": [
    {
     "data": {
      "text/html": [
       "<div>\n",
       "    <div style=\"width: 24px; height: 24px; background-color: #e1e1e1; border: 3px solid #9D9D9D; border-radius: 5px; position: absolute;\"> </div>\n",
       "    <div style=\"margin-left: 48px;\">\n",
       "        <h3 style=\"margin-bottom: 0px;\">Client</h3>\n",
       "        <p style=\"color: #9D9D9D; margin-bottom: 0px;\">Client-e07708f9-c614-11ee-8b26-0000079cfe80</p>\n",
       "        <table style=\"width: 100%; text-align: left;\">\n",
       "\n",
       "        <tr>\n",
       "        \n",
       "            <td style=\"text-align: left;\"><strong>Connection method:</strong> Cluster object</td>\n",
       "            <td style=\"text-align: left;\"><strong>Cluster type:</strong> distributed.LocalCluster</td>\n",
       "        \n",
       "        </tr>\n",
       "\n",
       "        \n",
       "            <tr>\n",
       "                <td style=\"text-align: left;\">\n",
       "                    <strong>Dashboard: </strong> <a href=\"/proxy/8787/status\" target=\"_blank\">/proxy/8787/status</a>\n",
       "                </td>\n",
       "                <td style=\"text-align: left;\"></td>\n",
       "            </tr>\n",
       "        \n",
       "\n",
       "        </table>\n",
       "\n",
       "        \n",
       "            <button style=\"margin-bottom: 12px;\" data-commandlinker-command=\"dask:populate-and-launch-layout\" data-commandlinker-args='{\"url\": \"/proxy/8787/status\" }'>\n",
       "                Launch dashboard in JupyterLab\n",
       "            </button>\n",
       "        \n",
       "\n",
       "        \n",
       "            <details>\n",
       "            <summary style=\"margin-bottom: 20px;\"><h3 style=\"display: inline;\">Cluster Info</h3></summary>\n",
       "            <div class=\"jp-RenderedHTMLCommon jp-RenderedHTML jp-mod-trusted jp-OutputArea-output\">\n",
       "    <div style=\"width: 24px; height: 24px; background-color: #e1e1e1; border: 3px solid #9D9D9D; border-radius: 5px; position: absolute;\">\n",
       "    </div>\n",
       "    <div style=\"margin-left: 48px;\">\n",
       "        <h3 style=\"margin-bottom: 0px; margin-top: 0px;\">LocalCluster</h3>\n",
       "        <p style=\"color: #9D9D9D; margin-bottom: 0px;\">ed687760</p>\n",
       "        <table style=\"width: 100%; text-align: left;\">\n",
       "            <tr>\n",
       "                <td style=\"text-align: left;\">\n",
       "                    <strong>Dashboard:</strong> <a href=\"/proxy/8787/status\" target=\"_blank\">/proxy/8787/status</a>\n",
       "                </td>\n",
       "                <td style=\"text-align: left;\">\n",
       "                    <strong>Workers:</strong> 7\n",
       "                </td>\n",
       "            </tr>\n",
       "            <tr>\n",
       "                <td style=\"text-align: left;\">\n",
       "                    <strong>Total threads:</strong> 28\n",
       "                </td>\n",
       "                <td style=\"text-align: left;\">\n",
       "                    <strong>Total memory:</strong> 251.18 GiB\n",
       "                </td>\n",
       "            </tr>\n",
       "            \n",
       "            <tr>\n",
       "    <td style=\"text-align: left;\"><strong>Status:</strong> running</td>\n",
       "    <td style=\"text-align: left;\"><strong>Using processes:</strong> True</td>\n",
       "</tr>\n",
       "\n",
       "            \n",
       "        </table>\n",
       "\n",
       "        <details>\n",
       "            <summary style=\"margin-bottom: 20px;\">\n",
       "                <h3 style=\"display: inline;\">Scheduler Info</h3>\n",
       "            </summary>\n",
       "\n",
       "            <div style=\"\">\n",
       "    <div>\n",
       "        <div style=\"width: 24px; height: 24px; background-color: #FFF7E5; border: 3px solid #FF6132; border-radius: 5px; position: absolute;\"> </div>\n",
       "        <div style=\"margin-left: 48px;\">\n",
       "            <h3 style=\"margin-bottom: 0px;\">Scheduler</h3>\n",
       "            <p style=\"color: #9D9D9D; margin-bottom: 0px;\">Scheduler-fd45df51-7ea8-4f62-8af7-0b40d38df21d</p>\n",
       "            <table style=\"width: 100%; text-align: left;\">\n",
       "                <tr>\n",
       "                    <td style=\"text-align: left;\">\n",
       "                        <strong>Comm:</strong> tcp://127.0.0.1:36913\n",
       "                    </td>\n",
       "                    <td style=\"text-align: left;\">\n",
       "                        <strong>Workers:</strong> 7\n",
       "                    </td>\n",
       "                </tr>\n",
       "                <tr>\n",
       "                    <td style=\"text-align: left;\">\n",
       "                        <strong>Dashboard:</strong> <a href=\"/proxy/8787/status\" target=\"_blank\">/proxy/8787/status</a>\n",
       "                    </td>\n",
       "                    <td style=\"text-align: left;\">\n",
       "                        <strong>Total threads:</strong> 28\n",
       "                    </td>\n",
       "                </tr>\n",
       "                <tr>\n",
       "                    <td style=\"text-align: left;\">\n",
       "                        <strong>Started:</strong> Just now\n",
       "                    </td>\n",
       "                    <td style=\"text-align: left;\">\n",
       "                        <strong>Total memory:</strong> 251.18 GiB\n",
       "                    </td>\n",
       "                </tr>\n",
       "            </table>\n",
       "        </div>\n",
       "    </div>\n",
       "\n",
       "    <details style=\"margin-left: 48px;\">\n",
       "        <summary style=\"margin-bottom: 20px;\">\n",
       "            <h3 style=\"display: inline;\">Workers</h3>\n",
       "        </summary>\n",
       "\n",
       "        \n",
       "        <div style=\"margin-bottom: 20px;\">\n",
       "            <div style=\"width: 24px; height: 24px; background-color: #DBF5FF; border: 3px solid #4CC9FF; border-radius: 5px; position: absolute;\"> </div>\n",
       "            <div style=\"margin-left: 48px;\">\n",
       "            <details>\n",
       "                <summary>\n",
       "                    <h4 style=\"margin-bottom: 0px; display: inline;\">Worker: 0</h4>\n",
       "                </summary>\n",
       "                <table style=\"width: 100%; text-align: left;\">\n",
       "                    <tr>\n",
       "                        <td style=\"text-align: left;\">\n",
       "                            <strong>Comm: </strong> tcp://127.0.0.1:37405\n",
       "                        </td>\n",
       "                        <td style=\"text-align: left;\">\n",
       "                            <strong>Total threads: </strong> 4\n",
       "                        </td>\n",
       "                    </tr>\n",
       "                    <tr>\n",
       "                        <td style=\"text-align: left;\">\n",
       "                            <strong>Dashboard: </strong> <a href=\"/proxy/41827/status\" target=\"_blank\">/proxy/41827/status</a>\n",
       "                        </td>\n",
       "                        <td style=\"text-align: left;\">\n",
       "                            <strong>Memory: </strong> 35.88 GiB\n",
       "                        </td>\n",
       "                    </tr>\n",
       "                    <tr>\n",
       "                        <td style=\"text-align: left;\">\n",
       "                            <strong>Nanny: </strong> tcp://127.0.0.1:37657\n",
       "                        </td>\n",
       "                        <td style=\"text-align: left;\"></td>\n",
       "                    </tr>\n",
       "                    <tr>\n",
       "                        <td colspan=\"2\" style=\"text-align: left;\">\n",
       "                            <strong>Local directory: </strong> /jobfs/107810133.gadi-pbs/dask-scratch-space/worker-v_x6emq1\n",
       "                        </td>\n",
       "                    </tr>\n",
       "\n",
       "                    \n",
       "\n",
       "                    \n",
       "\n",
       "                </table>\n",
       "            </details>\n",
       "            </div>\n",
       "        </div>\n",
       "        \n",
       "        <div style=\"margin-bottom: 20px;\">\n",
       "            <div style=\"width: 24px; height: 24px; background-color: #DBF5FF; border: 3px solid #4CC9FF; border-radius: 5px; position: absolute;\"> </div>\n",
       "            <div style=\"margin-left: 48px;\">\n",
       "            <details>\n",
       "                <summary>\n",
       "                    <h4 style=\"margin-bottom: 0px; display: inline;\">Worker: 1</h4>\n",
       "                </summary>\n",
       "                <table style=\"width: 100%; text-align: left;\">\n",
       "                    <tr>\n",
       "                        <td style=\"text-align: left;\">\n",
       "                            <strong>Comm: </strong> tcp://127.0.0.1:40899\n",
       "                        </td>\n",
       "                        <td style=\"text-align: left;\">\n",
       "                            <strong>Total threads: </strong> 4\n",
       "                        </td>\n",
       "                    </tr>\n",
       "                    <tr>\n",
       "                        <td style=\"text-align: left;\">\n",
       "                            <strong>Dashboard: </strong> <a href=\"/proxy/46045/status\" target=\"_blank\">/proxy/46045/status</a>\n",
       "                        </td>\n",
       "                        <td style=\"text-align: left;\">\n",
       "                            <strong>Memory: </strong> 35.88 GiB\n",
       "                        </td>\n",
       "                    </tr>\n",
       "                    <tr>\n",
       "                        <td style=\"text-align: left;\">\n",
       "                            <strong>Nanny: </strong> tcp://127.0.0.1:44425\n",
       "                        </td>\n",
       "                        <td style=\"text-align: left;\"></td>\n",
       "                    </tr>\n",
       "                    <tr>\n",
       "                        <td colspan=\"2\" style=\"text-align: left;\">\n",
       "                            <strong>Local directory: </strong> /jobfs/107810133.gadi-pbs/dask-scratch-space/worker-_e3dv_92\n",
       "                        </td>\n",
       "                    </tr>\n",
       "\n",
       "                    \n",
       "\n",
       "                    \n",
       "\n",
       "                </table>\n",
       "            </details>\n",
       "            </div>\n",
       "        </div>\n",
       "        \n",
       "        <div style=\"margin-bottom: 20px;\">\n",
       "            <div style=\"width: 24px; height: 24px; background-color: #DBF5FF; border: 3px solid #4CC9FF; border-radius: 5px; position: absolute;\"> </div>\n",
       "            <div style=\"margin-left: 48px;\">\n",
       "            <details>\n",
       "                <summary>\n",
       "                    <h4 style=\"margin-bottom: 0px; display: inline;\">Worker: 2</h4>\n",
       "                </summary>\n",
       "                <table style=\"width: 100%; text-align: left;\">\n",
       "                    <tr>\n",
       "                        <td style=\"text-align: left;\">\n",
       "                            <strong>Comm: </strong> tcp://127.0.0.1:40961\n",
       "                        </td>\n",
       "                        <td style=\"text-align: left;\">\n",
       "                            <strong>Total threads: </strong> 4\n",
       "                        </td>\n",
       "                    </tr>\n",
       "                    <tr>\n",
       "                        <td style=\"text-align: left;\">\n",
       "                            <strong>Dashboard: </strong> <a href=\"/proxy/35667/status\" target=\"_blank\">/proxy/35667/status</a>\n",
       "                        </td>\n",
       "                        <td style=\"text-align: left;\">\n",
       "                            <strong>Memory: </strong> 35.88 GiB\n",
       "                        </td>\n",
       "                    </tr>\n",
       "                    <tr>\n",
       "                        <td style=\"text-align: left;\">\n",
       "                            <strong>Nanny: </strong> tcp://127.0.0.1:37131\n",
       "                        </td>\n",
       "                        <td style=\"text-align: left;\"></td>\n",
       "                    </tr>\n",
       "                    <tr>\n",
       "                        <td colspan=\"2\" style=\"text-align: left;\">\n",
       "                            <strong>Local directory: </strong> /jobfs/107810133.gadi-pbs/dask-scratch-space/worker-nu8dc3ea\n",
       "                        </td>\n",
       "                    </tr>\n",
       "\n",
       "                    \n",
       "\n",
       "                    \n",
       "\n",
       "                </table>\n",
       "            </details>\n",
       "            </div>\n",
       "        </div>\n",
       "        \n",
       "        <div style=\"margin-bottom: 20px;\">\n",
       "            <div style=\"width: 24px; height: 24px; background-color: #DBF5FF; border: 3px solid #4CC9FF; border-radius: 5px; position: absolute;\"> </div>\n",
       "            <div style=\"margin-left: 48px;\">\n",
       "            <details>\n",
       "                <summary>\n",
       "                    <h4 style=\"margin-bottom: 0px; display: inline;\">Worker: 3</h4>\n",
       "                </summary>\n",
       "                <table style=\"width: 100%; text-align: left;\">\n",
       "                    <tr>\n",
       "                        <td style=\"text-align: left;\">\n",
       "                            <strong>Comm: </strong> tcp://127.0.0.1:39643\n",
       "                        </td>\n",
       "                        <td style=\"text-align: left;\">\n",
       "                            <strong>Total threads: </strong> 4\n",
       "                        </td>\n",
       "                    </tr>\n",
       "                    <tr>\n",
       "                        <td style=\"text-align: left;\">\n",
       "                            <strong>Dashboard: </strong> <a href=\"/proxy/45303/status\" target=\"_blank\">/proxy/45303/status</a>\n",
       "                        </td>\n",
       "                        <td style=\"text-align: left;\">\n",
       "                            <strong>Memory: </strong> 35.88 GiB\n",
       "                        </td>\n",
       "                    </tr>\n",
       "                    <tr>\n",
       "                        <td style=\"text-align: left;\">\n",
       "                            <strong>Nanny: </strong> tcp://127.0.0.1:34509\n",
       "                        </td>\n",
       "                        <td style=\"text-align: left;\"></td>\n",
       "                    </tr>\n",
       "                    <tr>\n",
       "                        <td colspan=\"2\" style=\"text-align: left;\">\n",
       "                            <strong>Local directory: </strong> /jobfs/107810133.gadi-pbs/dask-scratch-space/worker-6nyok2sj\n",
       "                        </td>\n",
       "                    </tr>\n",
       "\n",
       "                    \n",
       "\n",
       "                    \n",
       "\n",
       "                </table>\n",
       "            </details>\n",
       "            </div>\n",
       "        </div>\n",
       "        \n",
       "        <div style=\"margin-bottom: 20px;\">\n",
       "            <div style=\"width: 24px; height: 24px; background-color: #DBF5FF; border: 3px solid #4CC9FF; border-radius: 5px; position: absolute;\"> </div>\n",
       "            <div style=\"margin-left: 48px;\">\n",
       "            <details>\n",
       "                <summary>\n",
       "                    <h4 style=\"margin-bottom: 0px; display: inline;\">Worker: 4</h4>\n",
       "                </summary>\n",
       "                <table style=\"width: 100%; text-align: left;\">\n",
       "                    <tr>\n",
       "                        <td style=\"text-align: left;\">\n",
       "                            <strong>Comm: </strong> tcp://127.0.0.1:40149\n",
       "                        </td>\n",
       "                        <td style=\"text-align: left;\">\n",
       "                            <strong>Total threads: </strong> 4\n",
       "                        </td>\n",
       "                    </tr>\n",
       "                    <tr>\n",
       "                        <td style=\"text-align: left;\">\n",
       "                            <strong>Dashboard: </strong> <a href=\"/proxy/41355/status\" target=\"_blank\">/proxy/41355/status</a>\n",
       "                        </td>\n",
       "                        <td style=\"text-align: left;\">\n",
       "                            <strong>Memory: </strong> 35.88 GiB\n",
       "                        </td>\n",
       "                    </tr>\n",
       "                    <tr>\n",
       "                        <td style=\"text-align: left;\">\n",
       "                            <strong>Nanny: </strong> tcp://127.0.0.1:36123\n",
       "                        </td>\n",
       "                        <td style=\"text-align: left;\"></td>\n",
       "                    </tr>\n",
       "                    <tr>\n",
       "                        <td colspan=\"2\" style=\"text-align: left;\">\n",
       "                            <strong>Local directory: </strong> /jobfs/107810133.gadi-pbs/dask-scratch-space/worker-pk1tpe96\n",
       "                        </td>\n",
       "                    </tr>\n",
       "\n",
       "                    \n",
       "\n",
       "                    \n",
       "\n",
       "                </table>\n",
       "            </details>\n",
       "            </div>\n",
       "        </div>\n",
       "        \n",
       "        <div style=\"margin-bottom: 20px;\">\n",
       "            <div style=\"width: 24px; height: 24px; background-color: #DBF5FF; border: 3px solid #4CC9FF; border-radius: 5px; position: absolute;\"> </div>\n",
       "            <div style=\"margin-left: 48px;\">\n",
       "            <details>\n",
       "                <summary>\n",
       "                    <h4 style=\"margin-bottom: 0px; display: inline;\">Worker: 5</h4>\n",
       "                </summary>\n",
       "                <table style=\"width: 100%; text-align: left;\">\n",
       "                    <tr>\n",
       "                        <td style=\"text-align: left;\">\n",
       "                            <strong>Comm: </strong> tcp://127.0.0.1:39827\n",
       "                        </td>\n",
       "                        <td style=\"text-align: left;\">\n",
       "                            <strong>Total threads: </strong> 4\n",
       "                        </td>\n",
       "                    </tr>\n",
       "                    <tr>\n",
       "                        <td style=\"text-align: left;\">\n",
       "                            <strong>Dashboard: </strong> <a href=\"/proxy/46189/status\" target=\"_blank\">/proxy/46189/status</a>\n",
       "                        </td>\n",
       "                        <td style=\"text-align: left;\">\n",
       "                            <strong>Memory: </strong> 35.88 GiB\n",
       "                        </td>\n",
       "                    </tr>\n",
       "                    <tr>\n",
       "                        <td style=\"text-align: left;\">\n",
       "                            <strong>Nanny: </strong> tcp://127.0.0.1:45639\n",
       "                        </td>\n",
       "                        <td style=\"text-align: left;\"></td>\n",
       "                    </tr>\n",
       "                    <tr>\n",
       "                        <td colspan=\"2\" style=\"text-align: left;\">\n",
       "                            <strong>Local directory: </strong> /jobfs/107810133.gadi-pbs/dask-scratch-space/worker-sa7gs0ih\n",
       "                        </td>\n",
       "                    </tr>\n",
       "\n",
       "                    \n",
       "\n",
       "                    \n",
       "\n",
       "                </table>\n",
       "            </details>\n",
       "            </div>\n",
       "        </div>\n",
       "        \n",
       "        <div style=\"margin-bottom: 20px;\">\n",
       "            <div style=\"width: 24px; height: 24px; background-color: #DBF5FF; border: 3px solid #4CC9FF; border-radius: 5px; position: absolute;\"> </div>\n",
       "            <div style=\"margin-left: 48px;\">\n",
       "            <details>\n",
       "                <summary>\n",
       "                    <h4 style=\"margin-bottom: 0px; display: inline;\">Worker: 6</h4>\n",
       "                </summary>\n",
       "                <table style=\"width: 100%; text-align: left;\">\n",
       "                    <tr>\n",
       "                        <td style=\"text-align: left;\">\n",
       "                            <strong>Comm: </strong> tcp://127.0.0.1:37547\n",
       "                        </td>\n",
       "                        <td style=\"text-align: left;\">\n",
       "                            <strong>Total threads: </strong> 4\n",
       "                        </td>\n",
       "                    </tr>\n",
       "                    <tr>\n",
       "                        <td style=\"text-align: left;\">\n",
       "                            <strong>Dashboard: </strong> <a href=\"/proxy/46879/status\" target=\"_blank\">/proxy/46879/status</a>\n",
       "                        </td>\n",
       "                        <td style=\"text-align: left;\">\n",
       "                            <strong>Memory: </strong> 35.88 GiB\n",
       "                        </td>\n",
       "                    </tr>\n",
       "                    <tr>\n",
       "                        <td style=\"text-align: left;\">\n",
       "                            <strong>Nanny: </strong> tcp://127.0.0.1:44485\n",
       "                        </td>\n",
       "                        <td style=\"text-align: left;\"></td>\n",
       "                    </tr>\n",
       "                    <tr>\n",
       "                        <td colspan=\"2\" style=\"text-align: left;\">\n",
       "                            <strong>Local directory: </strong> /jobfs/107810133.gadi-pbs/dask-scratch-space/worker-mqgoxnzp\n",
       "                        </td>\n",
       "                    </tr>\n",
       "\n",
       "                    \n",
       "\n",
       "                    \n",
       "\n",
       "                </table>\n",
       "            </details>\n",
       "            </div>\n",
       "        </div>\n",
       "        \n",
       "\n",
       "    </details>\n",
       "</div>\n",
       "\n",
       "        </details>\n",
       "    </div>\n",
       "</div>\n",
       "            </details>\n",
       "        \n",
       "\n",
       "    </div>\n",
       "</div>"
      ],
      "text/plain": [
       "<Client: 'tcp://127.0.0.1:36913' processes=7 threads=28, memory=251.18 GiB>"
      ]
     },
     "execution_count": 2,
     "metadata": {},
     "output_type": "execute_result"
    }
   ],
   "source": [
    "from dask.distributed import Client\n",
    "#client = Client(threads_per_worker=1)\n",
    "client = Client()\n",
    "client"
   ]
  },
  {
   "cell_type": "markdown",
   "id": "8935960c-d1ab-4b85-8bc4-e2b41de3e910",
   "metadata": {},
   "source": [
    "#### ignore warnings"
   ]
  },
  {
   "cell_type": "code",
   "execution_count": 3,
   "id": "701040b6-201d-4bd9-be1d-2881778a7605",
   "metadata": {
    "tags": []
   },
   "outputs": [],
   "source": [
    "import warnings\n",
    "warnings.filterwarnings('ignore')"
   ]
  },
  {
   "cell_type": "markdown",
   "id": "b9fd653a-5114-4ba5-b1a3-6fac255b4894",
   "metadata": {},
   "source": [
    "## basic functions"
   ]
  },
  {
   "cell_type": "code",
   "execution_count": 4,
   "id": "78e5fc30-a877-4146-9020-a4271c8ea0f7",
   "metadata": {},
   "outputs": [],
   "source": [
    "def get_monthly_climatology(xr_object,time_coord_name = 'time',flox=True):\n",
    "    if flox == True:\n",
    "        monthly_climatology = xr_object.groupby(time_coord_name+'.month').mean(dim=time_coord_name,keep_attrs = True,method=\"cohorts\", engine=\"flox\")\n",
    "    else:\n",
    "        monthly_climatology = xr_object.groupby(time_coord_name+'.month').mean(dim=time_coord_name,keep_attrs = True)\n",
    "    return monthly_climatology\n",
    "\n",
    "def get_monthly_anomaly(xr_object,monthly_climatology, time_coord_name = 'time'):\n",
    "    monthly_anomaly = xr_object.groupby(time_coord_name+'.month') - monthly_climatology\n",
    "    return monthly_anomaly"
   ]
  },
  {
   "cell_type": "markdown",
   "id": "bc39ada3-f929-4ed7-a08e-c5efc58e5db7",
   "metadata": {},
   "source": [
    "# post-processing workflow $\\Downarrow$"
   ]
  },
  {
   "cell_type": "markdown",
   "id": "fa5ac80c-fad6-44ad-99dd-2f1e98bda059",
   "metadata": {},
   "source": [
    "## load in both zarr collections"
   ]
  },
  {
   "cell_type": "code",
   "execution_count": 5,
   "id": "d1ab9810-14c5-44f1-8f7f-e528c655ba31",
   "metadata": {},
   "outputs": [],
   "source": [
    "BRAN2020_ard_path = '/scratch/es60/ard/reanalysis/BRAN2020/'\n",
    "ard_file_ID = 'BRAN2020-daily-temp-v15122023.zarr'\n",
    "ard_rcTime_file_ID = 'BRAN2020-daily-temp-chunk4time-v07022024.zarr'"
   ]
  },
  {
   "cell_type": "code",
   "execution_count": 6,
   "id": "1e42bca1-0f2a-4908-95b1-df2a09273250",
   "metadata": {},
   "outputs": [],
   "source": [
    "temp_chunked_time = xr.open_zarr(BRAN2020_ard_path + ard_rcTime_file_ID,consolidated=True)\n",
    "temp_chunked = xr.open_zarr(BRAN2020_ard_path + ard_file_ID,consolidated=True)"
   ]
  },
  {
   "cell_type": "markdown",
   "id": "f1450be7-45d3-476f-9d40-cbb08f5246fb",
   "metadata": {},
   "source": [
    "## define El Nino and La Nina using NCAR ONI data"
   ]
  },
  {
   "cell_type": "code",
   "execution_count": null,
   "id": "4aa5611c-dd81-4693-86ed-a964998c043e",
   "metadata": {},
   "outputs": [],
   "source": [
    "ONI_DF = pd.read_csv('/g/data/xv83/users/tm4888/data/ENSO/NCAR_ONI.csv')\n",
    "ONI_DF.set_index('datetime',inplace=True)\n",
    "ONI_DF.index = pd.to_datetime(ONI_DF.index)\n",
    "el_nino_threshold = 0.5\n",
    "la_nina_threshold = -0.5\n",
    "el_nino_threshold_months = ONI_DF[\"ONI\"].ge(el_nino_threshold)\n",
    "la_nina_threshold_months = ONI_DF[\"ONI\"].le(la_nina_threshold) \n",
    "ONI_DF = pd.concat([ONI_DF, el_nino_threshold_months.rename('El Nino threshold')], axis=1)\n",
    "ONI_DF = pd.concat([ONI_DF, la_nina_threshold_months.rename('La Nina threshold')], axis=1)\n",
    "ONI_DF = pd.concat([ONI_DF, el_nino_threshold_months.diff().ne(0).cumsum().rename('El Nino event group ID')], axis=1)\n",
    "ONI_DF = pd.concat([ONI_DF, la_nina_threshold_months.diff().ne(0).cumsum().rename('La Nina event group ID')], axis=1)"
   ]
  },
  {
   "cell_type": "code",
   "execution_count": null,
   "id": "3687b896-ac38-4b98-8fa0-a2830b384325",
   "metadata": {},
   "outputs": [],
   "source": [
    "El_Nino_Series = ONI_DF.groupby('El Nino event group ID')['ONI'].filter(lambda x: len(x) >= 5,dropna=False).where(ONI_DF['El Nino threshold'] == True)\n",
    "ONI_DF = pd.concat([ONI_DF, El_Nino_Series.rename('El Nino')], axis=1)\n",
    "La_Nina_Series = ONI_DF.groupby('La Nina event group ID')['ONI'].filter(lambda x: len(x) >= 5,dropna=False).where(ONI_DF['La Nina threshold'] == True)\n",
    "ONI_DF = pd.concat([ONI_DF, La_Nina_Series.rename('La Nina')], axis=1)"
   ]
  },
  {
   "cell_type": "markdown",
   "id": "bd765ba7-14b7-40ee-900d-206f802ad08e",
   "metadata": {},
   "source": [
    "# how long does monthly clim on daily data chunked for efficent time calcs take?"
   ]
  },
  {
   "cell_type": "code",
   "execution_count": null,
   "id": "197c3428-c4a3-4e18-910c-7cab39617cfa",
   "metadata": {},
   "outputs": [],
   "source": [
    "%%time\n",
    "# import module\n",
    "from datetime import datetime\n",
    " \n",
    "# get current date and time\n",
    "current_datetime = datetime.now().strftime(\"%Y-%m-%d %H-%M-%S\")\n",
    "print(\"Current date & time : \", current_datetime)\n",
    " \n",
    "# convert datetime obj to string\n",
    "str_current_datetime = str(current_datetime)\n",
    "str_current_datetime = str_current_datetime.replace(\" \",\"-\")\n",
    " \n",
    "# create a file object along with extension\n",
    "file_name = str_current_datetime+\".log\"\n",
    "file = open(BRAN2020_ard_path+'start-clim-'+file_name, 'w')\n",
    " \n",
    "print(\"File created : \", file.name)\n",
    "file.close()\n",
    "\n",
    "# run calculation\n",
    "temp_monthly_climatology = get_monthly_climatology(temp_chunked_time, time_coord_name = 'Time')\n",
    "temp_monthly_climatology = temp_monthly_climatology.compute()\n",
    "\n",
    "# log the finish\n",
    "# get current date and time\n",
    "current_datetime = datetime.now().strftime(\"%Y-%m-%d %H-%M-%S\")\n",
    "print(\"Current date & time : \", current_datetime)\n",
    " \n",
    "# convert datetime obj to string\n",
    "str_current_datetime = str(current_datetime)\n",
    "str_current_datetime = str_current_datetime.replace(\" \",\"-\")\n",
    " \n",
    "# create a file object along with extension\n",
    "file_name = str_current_datetime+\".log\"\n",
    "file = open(BRAN2020_ard_path+'end-clim-'+file_name, 'w')\n",
    " \n",
    "print(\"File created : \", file.name)\n",
    "file.close()"
   ]
  },
  {
   "cell_type": "code",
   "execution_count": 7,
   "id": "e90fc0df-62d5-40e5-afc2-9d9e02cc21c5",
   "metadata": {},
   "outputs": [
    {
     "name": "stdout",
     "output_type": "stream",
     "text": [
      "Current date & time :  2024-02-08 10-59-24\n",
      "File created :  /scratch/es60/ard/reanalysis/BRAN2020/start-quant-2024-02-08-10-59-24.log\n",
      "Current date & time :  2024-02-08 12-04-28\n",
      "File created :  /scratch/es60/ard/reanalysis/BRAN2020/end-quant-2024-02-08-12-04-28.log\n",
      "CPU times: user 12min 49s, sys: 1min 37s, total: 14min 26s\n",
      "Wall time: 1h 5min 4s\n"
     ]
    }
   ],
   "source": [
    "%%time\n",
    "# import module\n",
    "from datetime import datetime\n",
    " \n",
    "# get current date and time\n",
    "current_datetime = datetime.now().strftime(\"%Y-%m-%d %H-%M-%S\")\n",
    "print(\"Current date & time : \", current_datetime)\n",
    " \n",
    "# convert datetime obj to string\n",
    "str_current_datetime = str(current_datetime)\n",
    "str_current_datetime = str_current_datetime.replace(\" \",\"-\")\n",
    " \n",
    "# create a file object along with extension\n",
    "file_name = str_current_datetime+\".log\"\n",
    "file = open(BRAN2020_ard_path+'start-quant-'+file_name, 'w')\n",
    " \n",
    "print(\"File created : \", file.name)\n",
    "file.close()\n",
    "\n",
    "# run calculation\n",
    "quant = temp_chunked_time.quantile([0.05,0.95],skipna=False,dim='Time')\n",
    "quant = quant.compute()\n",
    "\n",
    "# log the finish\n",
    "# get current date and time\n",
    "current_datetime = datetime.now().strftime(\"%Y-%m-%d %H-%M-%S\")\n",
    "print(\"Current date & time : \", current_datetime)\n",
    " \n",
    "# convert datetime obj to string\n",
    "str_current_datetime = str(current_datetime)\n",
    "str_current_datetime = str_current_datetime.replace(\" \",\"-\")\n",
    " \n",
    "# create a file object along with extension\n",
    "file_name = str_current_datetime+\".log\"\n",
    "file = open(BRAN2020_ard_path+'end-quant-'+file_name, 'w')\n",
    " \n",
    "print(\"File created : \", file.name)\n",
    "file.close()"
   ]
  },
  {
   "cell_type": "code",
   "execution_count": null,
   "id": "ad7164f3-3007-4697-8afb-92475c9de2dd",
   "metadata": {},
   "outputs": [],
   "source": [
    "quant = temp_chunked_time.quantile([0.05,0.95],skipna=False,dim='Time')"
   ]
  },
  {
   "cell_type": "code",
   "execution_count": null,
   "id": "e1865c8d-47b2-4fb3-a767-fce06fd2c18f",
   "metadata": {},
   "outputs": [],
   "source": [
    "%%time\n",
    "quant = quant.compute()"
   ]
  },
  {
   "cell_type": "markdown",
   "id": "22c0fb70-48b6-40b2-9689-ce26c8279e72",
   "metadata": {},
   "source": [
    "# filter BRAN2020 data by ENSO"
   ]
  },
  {
   "cell_type": "code",
   "execution_count": null,
   "id": "dd06af02-4f4d-46df-afe4-3eb51a6b6829",
   "metadata": {},
   "outputs": [],
   "source": [
    "ONI_DF_BRANtime = ONI_DF['1993-01':'2022-12']\n",
    "ONI_DF_BRANtime['El Nino LOGICAL'] = ONI_DF_BRANtime['El Nino'].notnull()\n",
    "ONI_DF_BRANtime['La Nina LOGICAL'] = ONI_DF_BRANtime['La Nina'].notnull()"
   ]
  },
  {
   "cell_type": "code",
   "execution_count": null,
   "id": "da128629-2653-4932-831c-dc4eb193cff3",
   "metadata": {},
   "outputs": [],
   "source": [
    "El_Nino_mask = ONI_DF_BRANtime['El Nino LOGICAL']\n",
    "El_Nino_mask = El_Nino_mask.to_xarray()\n",
    "El_Nino_mask = El_Nino_mask.rename({'datetime':'Time'})\n",
    "sync_Time = temp_chunked_time.Time\n",
    "El_Nino_mask['Time'] = sync_Time"
   ]
  },
  {
   "cell_type": "code",
   "execution_count": null,
   "id": "6f5aed11-1a47-4966-b224-a043c181fc71",
   "metadata": {},
   "outputs": [],
   "source": [
    "La_Nina_mask = ONI_DF_BRANtime['La Nina LOGICAL']\n",
    "La_Nina_mask = La_Nina_mask.to_xarray()\n",
    "La_Nina_mask = La_Nina_mask.rename({'datetime':'Time'})\n",
    "sync_Time = temp_chunked_time.Time\n",
    "La_Nina_mask['Time'] = sync_Time"
   ]
  },
  {
   "cell_type": "code",
   "execution_count": null,
   "id": "04925fe2-c1da-4aa5-acea-42d7b7372cc5",
   "metadata": {},
   "outputs": [],
   "source": [
    "ONI_DF_BRANtime['Neutral LOGICAL'] = (ONI_DF_BRANtime['El Nino LOGICAL'] == False) & (ONI_DF_BRANtime['La Nina LOGICAL'] == False)"
   ]
  },
  {
   "cell_type": "code",
   "execution_count": null,
   "id": "52100b96-aed8-472e-b8c7-913bea4bd3a3",
   "metadata": {},
   "outputs": [],
   "source": [
    "ONI_DF_BRANtime['El Nino LOGICAL'].sum()"
   ]
  },
  {
   "cell_type": "code",
   "execution_count": null,
   "id": "03a25cce-1f3e-4e36-8ba9-dcbafcb4f7c7",
   "metadata": {},
   "outputs": [],
   "source": [
    "ONI_DF_BRANtime['La Nina LOGICAL'].sum()"
   ]
  },
  {
   "cell_type": "code",
   "execution_count": null,
   "id": "94605f76-9fb7-4962-a376-832f351ff372",
   "metadata": {},
   "outputs": [],
   "source": [
    "ONI_DF_BRANtime['Neutral LOGICAL'].sum()"
   ]
  },
  {
   "cell_type": "markdown",
   "id": "a8c3751b-b6b2-4f94-a0e9-0643c3743021",
   "metadata": {},
   "source": [
    "# Test if they add to 360"
   ]
  },
  {
   "cell_type": "code",
   "execution_count": null,
   "id": "c81647ed-3497-4c8d-802c-0e21f7fcfe64",
   "metadata": {},
   "outputs": [],
   "source": [
    "ONI_DF_BRANtime['El Nino LOGICAL'].sum() + ONI_DF_BRANtime['La Nina LOGICAL'].sum()+ONI_DF_BRANtime['Neutral LOGICAL'].sum() == 360"
   ]
  },
  {
   "cell_type": "markdown",
   "id": "7e4c36ee-7004-459d-8243-deb17c592d49",
   "metadata": {},
   "source": [
    "##  mask events in both space and time chunked versions"
   ]
  },
  {
   "cell_type": "code",
   "execution_count": null,
   "id": "c97e5477-207f-4011-8950-cc51c5619105",
   "metadata": {},
   "outputs": [],
   "source": [
    "El_Nino_mask_0_1 = El_Nino_mask.to_dataframe().replace({True: 1, False: 0}).to_xarray()\n",
    "La_Nina_mask_0_1 = La_Nina_mask.to_dataframe().replace({True: 1, False: 0}).to_xarray()"
   ]
  },
  {
   "cell_type": "code",
   "execution_count": null,
   "id": "30752aff-020e-4fd8-8c4c-a3990fdb3228",
   "metadata": {},
   "outputs": [],
   "source": [
    "El_Nino_mask_TIMES = El_Nino_mask_0_1['Time'].where(El_Nino_mask,drop=True)\n",
    "La_Nina_mask_TIMES = La_Nina_mask_0_1['Time'].where(La_Nina_mask,drop=True)"
   ]
  },
  {
   "cell_type": "code",
   "execution_count": null,
   "id": "1c18c41e-5166-48cb-82a7-b1c0ca280a1e",
   "metadata": {},
   "outputs": [],
   "source": [
    "El_Nino_temp_chunked_time = temp_chunked_time.sel({'Time':El_Nino_mask_TIMES})\n",
    "La_Nina_temp_chunked_time = temp_chunked_time.sel({'Time':La_Nina_mask_TIMES})\n",
    "\n",
    "El_Nino_temp_chunked = temp_chunked.sel({'Time':El_Nino_mask_TIMES})\n",
    "La_Nina_temp_chunked = temp_chunked.sel({'Time':La_Nina_mask_TIMES})"
   ]
  },
  {
   "cell_type": "markdown",
   "id": "e5760367-1577-4e8e-aa97-99f82d7d8337",
   "metadata": {},
   "source": [
    "# Climatologies"
   ]
  },
  {
   "cell_type": "code",
   "execution_count": null,
   "id": "0ca8822a-0237-4f4d-bd8f-29c1f1829d5f",
   "metadata": {},
   "outputs": [],
   "source": [
    "temp_monthly_climatology = get_monthly_climatology(temp_chunked_time, time_coord_name = 'Time')\n",
    "temp_monthly_climatology_rc = temp_monthly_climatology.chunk({'st_ocean':10,'xt_ocean':3600,'month':1})\n",
    "#El Nino\n",
    "El_Nino_temp_monthly_climatology = get_monthly_climatology(El_Nino_temp_chunked_time, time_coord_name = 'Time')\n",
    "El_Nino_temp_monthly_climatology_rc = El_Nino_temp_monthly_climatology.chunk({'st_ocean':10,'xt_ocean':3600,'month':1})\n",
    "#La Nina\n",
    "La_Nina_temp_monthly_climatology = get_monthly_climatology(La_Nina_temp_chunked_time, time_coord_name = 'Time')\n",
    "La_Nina_temp_monthly_climatology_rc = La_Nina_temp_monthly_climatology.chunk({'st_ocean':10,'xt_ocean':3600,'month':1})"
   ]
  },
  {
   "cell_type": "markdown",
   "id": "e88ec68d-66a0-473b-802d-8b3274974b3b",
   "metadata": {},
   "source": [
    "# Anomalies"
   ]
  },
  {
   "cell_type": "code",
   "execution_count": null,
   "id": "4cc1b5fc-9d75-4321-b70d-c5cec1af440d",
   "metadata": {},
   "outputs": [],
   "source": [
    "temp_anomaly = get_monthly_anomaly(temp_chunked,temp_monthly_climatology_rc,time_coord_name='Time')\n",
    "El_Nino_temp_anomaly = get_monthly_anomaly(El_Nino_temp_chunked,El_Nino_temp_monthly_climatology_rc,time_coord_name='Time')\n",
    "La_Nina_temp_anomaly = get_monthly_anomaly(La_Nina_temp_chunked,La_Nina_temp_monthly_climatology_rc,time_coord_name='Time')"
   ]
  },
  {
   "cell_type": "markdown",
   "id": "de5b07e6-0dbe-4e8c-bb00-59c31e775e62",
   "metadata": {},
   "source": [
    "# Mean, Median, Max , Min, Std, 05 & 95 quantiles"
   ]
  },
  {
   "cell_type": "code",
   "execution_count": null,
   "id": "e1c58b6f-a254-4a96-bcf2-1c326db0e1da",
   "metadata": {},
   "outputs": [],
   "source": [
    "El_Nino_mean = El_Nino_temp_chunked_time.mean('Time')\n",
    "El_Nino_median = El_Nino_temp_chunked_time.median('Time')\n",
    "El_Nino_max = El_Nino_temp_chunked_time.max('Time')\n",
    "El_Nino_min = El_Nino_temp_chunked_time.min('Time')\n",
    "El_Nino_std = El_Nino_temp_chunked_time.std('Time')\n",
    "El_Nino_quant = El_Nino_temp_chunked_time.quantile([0.05,0.95],skipna=False,dim='Time')"
   ]
  },
  {
   "cell_type": "code",
   "execution_count": null,
   "id": "0849731f-9269-4069-8488-800f09019635",
   "metadata": {},
   "outputs": [],
   "source": [
    "La_Nina_mean = La_Nina_temp_chunked_time.mean('Time')\n",
    "La_Nina_median = La_Nina_temp_chunked_time.median('Time')\n",
    "La_Nina_max = La_Nina_temp_chunked_time.max('Time')\n",
    "La_Nina_min = La_Nina_temp_chunked_time.min('Time')\n",
    "La_Nina_std = La_Nina_temp_chunked_time.std('Time')\n",
    "La_Nina_quant = La_Nina_temp_chunked_time.quantile([0.05,0.95],skipna=False,dim='Time')"
   ]
  },
  {
   "cell_type": "code",
   "execution_count": null,
   "id": "c050b4b7-95a7-4072-b732-c1e6137d946f",
   "metadata": {},
   "outputs": [],
   "source": [
    "mean = temp_chunked_time.mean('Time')\n",
    "median = temp_chunked_time.median('Time')\n",
    "max = temp_chunked_time.max('Time')\n",
    "min = temp_chunked_time.min('Time')\n",
    "std = temp_chunked_time.std('Time')\n",
    "quant = temp_chunked_time.quantile([0.05,0.95],skipna=False,dim='Time')"
   ]
  },
  {
   "cell_type": "markdown",
   "id": "c7906e47-830d-4256-a7c1-98dbd7baf310",
   "metadata": {},
   "source": [
    "## heatmap & month counts"
   ]
  },
  {
   "cell_type": "markdown",
   "id": "97de2070-145e-4075-9dcb-7c0416ab7179",
   "metadata": {},
   "source": [
    "### make table for average over certain region"
   ]
  },
  {
   "cell_type": "code",
   "execution_count": null,
   "id": "4017b0c4-057a-42ce-895d-03719236cdc4",
   "metadata": {},
   "outputs": [],
   "source": [
    "%%time\n",
    "max_lat = 5.0\n",
    "min_lat = -5.0\n",
    "max_lon = 240\n",
    "min_lon = 190\n",
    "LatIndexer, LonIndexer = 'yt_ocean', 'xt_ocean'\n",
    "SliceData = temp_anomaly.temp.isel(st_ocean=0).sel(**{LatIndexer: slice(min_lat, max_lat),\n",
    "                        LonIndexer: slice(min_lon, max_lon)})\n",
    "SliceData = SliceData.chunk({'Time':-1,'yt_ocean':-1,'xt_ocean':-1,})\n",
    "# THIS CURRENTLY IGNORES GRID AREA CORRECTION \n",
    "spatial_mean_of_BRAN2020_anomaly = SliceData.mean({'yt_ocean','xt_ocean'})\n",
    "spatial_mean_of_BRAN2020_anomaly = spatial_mean_of_BRAN2020_anomaly.compute()"
   ]
  },
  {
   "cell_type": "code",
   "execution_count": null,
   "id": "916dcd34-8c72-464d-a024-21a1c127be82",
   "metadata": {},
   "outputs": [],
   "source": [
    "spatial_mean_of_BRAN2020_anomaly_DF = spatial_mean_of_BRAN2020_anomaly.to_dataframe()\n",
    "spatial_mean_of_BRAN2020_anomaly_DF['year'] = pd.DatetimeIndex(spatial_mean_of_BRAN2020_anomaly_DF.index).year"
   ]
  },
  {
   "cell_type": "code",
   "execution_count": null,
   "id": "b3a2b97a-0bc1-452a-b7db-7e4c972b7366",
   "metadata": {},
   "outputs": [],
   "source": [
    "heatmap_data = spatial_mean_of_BRAN2020_anomaly_DF.pivot_table(index='month', columns='year', values='temp')"
   ]
  },
  {
   "cell_type": "markdown",
   "id": "73cf9870-5de1-4117-b562-f185d46eea97",
   "metadata": {},
   "source": [
    "#### stacked heatmap plot"
   ]
  },
  {
   "cell_type": "code",
   "execution_count": null,
   "id": "35e5e696-5bab-43e0-92b5-243afe042a5b",
   "metadata": {},
   "outputs": [],
   "source": [
    "ONI_DF_BRANtime = ONI_DF['1993-01':'2022-12']"
   ]
  },
  {
   "cell_type": "code",
   "execution_count": null,
   "id": "d4f94ebf-1b1d-4831-9779-54d6e8c281d5",
   "metadata": {},
   "outputs": [],
   "source": [
    "event_data_EN = ONI_DF_BRANtime.pivot_table(index='month', columns='year', values='El Nino',dropna=False).fillna('')\n",
    "event_data_LN = ONI_DF_BRANtime.pivot_table(index='month', columns='year', values='La Nina',dropna=False).fillna('')"
   ]
  },
  {
   "cell_type": "code",
   "execution_count": null,
   "id": "afd9d4af-90ce-465a-ab55-5a3010671bd3",
   "metadata": {},
   "outputs": [],
   "source": [
    "plt.figure(figsize=(20,8))\n",
    "sns.heatmap(heatmap_data, annot=False,cmap='RdBu_r', square=True,vmin=-2.5, vmax=2.5,linewidth=.5)\n",
    "sns.heatmap(heatmap_data, annot=event_data_LN, annot_kws={'va':'top'}, fmt=\"\", cbar=False,cmap='RdBu_r', square=True,vmin=-2.5, vmax=2.5,linewidth=.5)\n",
    "sns.heatmap(heatmap_data, annot=event_data_EN, annot_kws={'va':'bottom'}, fmt=\"\", cbar=False,cmap='RdBu_r', square=True,vmin=-2.5, vmax=2.5,linewidth=.5)\n",
    "plt.title('Month by Year BRAN2020 anomalies in ONI (Nino3.4) region\\n ONI values shown for defined ENSO events')"
   ]
  },
  {
   "cell_type": "markdown",
   "id": "6969989e-96d4-42cc-9bb0-47ffccde6699",
   "metadata": {},
   "source": [
    "#### count of events in BRAN2020 period\n",
    "El Nino = 8 events ( weak - strong ) as defined by ONI<br>\n",
    "La Nina = 10 events ( weak - strong ) as defined by ONI <br>\n",
    "El Nino months total = 70 = 19%\n",
    "La Nina months total = 119 = 33%\n",
    "Neutral months total = 171 = 48%\n"
   ]
  },
  {
   "cell_type": "markdown",
   "id": "b612a0ba-fe94-48cb-aa17-139e1ad92937",
   "metadata": {},
   "source": [
    "### count number of samples for each month for both events"
   ]
  },
  {
   "cell_type": "code",
   "execution_count": null,
   "id": "db4cc5a3-4518-4d89-a372-57dbf595a8d1",
   "metadata": {},
   "outputs": [],
   "source": [
    "El_Nino_number_month_samples = El_Nino_temp_chunked_time.Time.groupby('Time.month').count()\n",
    "La_Nina_number_month_samples = La_Nina_temp_chunked_time.Time.groupby('Time.month').count()"
   ]
  },
  {
   "cell_type": "code",
   "execution_count": null,
   "id": "95f82f51-14e6-43f8-9514-045f42efa084",
   "metadata": {},
   "outputs": [],
   "source": [
    "plt.figure(figsize=(15,10))\n",
    "EN= El_Nino_number_month_samples.plot.line(label='El Nino events')\n",
    "LN = La_Nina_number_month_samples.plot.line(label='La Nina events')\n",
    "plt.title('Number of observed events in any given month between 1993 - 2022\\n (based on ONI record)')\n",
    "plt.ylabel('Number of events')\n",
    "ax = plt.gca()\n",
    "ax.set_ylim([0, 15])\n",
    "plt.legend()\n",
    "plt.tight_layout()\n",
    "plt.show()"
   ]
  },
  {
   "cell_type": "markdown",
   "id": "ac4d7c10-94c6-45ad-a58b-35794a0b6d5a",
   "metadata": {},
   "source": [
    "# make BRAN2020 temperature objects"
   ]
  },
  {
   "cell_type": "code",
   "execution_count": null,
   "id": "12ad5097-97f7-4420-bff7-564c72791eae",
   "metadata": {},
   "outputs": [],
   "source": [
    "mean = mean.rename({'temp':'mean_temp'})\n",
    "median = median.rename({'temp':'median_temp'})\n",
    "max = max.rename({'temp':'max_temp'})\n",
    "min = min.rename({'temp':'min_temp'})\n",
    "std = std.rename({'temp':'std_temp'})\n",
    "quant = quant.rename({'temp':'quantile_temp'})\n",
    "#El_Nino_\n",
    "El_Nino_mean = El_Nino_mean.rename({'temp':'El_Nino_mean_temp'})\n",
    "El_Nino_median = El_Nino_median.rename({'temp':'El_Nino_median_temp'})\n",
    "El_Nino_max = El_Nino_max.rename({'temp':'El_Nino_max_temp'})\n",
    "El_Nino_min = El_Nino_min.rename({'temp':'El_Nino_min_temp'})\n",
    "El_Nino_std = El_Nino_std.rename({'temp':'El_Nino_std_temp'})\n",
    "El_Nino_quant = El_Nino_quant.rename({'temp':'El_Nino_quantile_temp'})\n",
    "#La_Nina_\n",
    "La_Nina_mean = La_Nina_mean.rename({'temp':'La_Nina_mean_temp'})\n",
    "La_Nina_median = La_Nina_median.rename({'temp':'La_Nina_median_temp'})\n",
    "La_Nina_max = La_Nina_max.rename({'temp':'La_Nina_max_temp'})\n",
    "La_Nina_min = La_Nina_min.rename({'temp':'La_Nina_min_temp'})\n",
    "La_Nina_std = La_Nina_std.rename({'temp':'La_Nina_std_temp'})\n",
    "La_Nina_quant = La_Nina_quant.rename({'temp':'La_Nina_quantile_temp'})"
   ]
  },
  {
   "cell_type": "code",
   "execution_count": null,
   "id": "d68d3d0f-d345-49a7-bc69-f2f676554b40",
   "metadata": {},
   "outputs": [],
   "source": [
    "BRAN2020_temperature_stats = xr.merge([mean,median,max,min,std,\n",
    "                                      El_Nino_mean,El_Nino_median,El_Nino_max,El_Nino_min,El_Nino_std,\n",
    "                                      La_Nina_mean,La_Nina_median,La_Nina_max,La_Nina_min,La_Nina_std])"
   ]
  },
  {
   "cell_type": "code",
   "execution_count": null,
   "id": "c309e69b-d239-4b17-86fa-82dcca1ea312",
   "metadata": {},
   "outputs": [],
   "source": [
    "BRAN2020_temperature_stats.nbytes/1e9"
   ]
  },
  {
   "cell_type": "code",
   "execution_count": null,
   "id": "8685fb32-abe1-428b-a9f6-2de1363b012c",
   "metadata": {},
   "outputs": [],
   "source": [
    "BRAN2020_temperature_stats_rc = BRAN2020_temperature_stats.chunk({'st_ocean':-1,'xt_ocean':360})"
   ]
  },
  {
   "cell_type": "code",
   "execution_count": null,
   "id": "3ae20378-a9d8-4220-a47e-7d5211130389",
   "metadata": {},
   "outputs": [],
   "source": [
    "BRAN2020_temperature_quant = xr.merge([quant,\n",
    "                                      El_Nino_quant,\n",
    "                                      La_Nina_quant])"
   ]
  },
  {
   "cell_type": "code",
   "execution_count": null,
   "id": "65b1bd88-804e-419a-80bd-a4dc82dfcff9",
   "metadata": {},
   "outputs": [],
   "source": [
    "BRAN2020_temperature_quant.nbytes/1e9"
   ]
  },
  {
   "cell_type": "code",
   "execution_count": null,
   "id": "450a29ca-54bd-4c3a-9fbc-c82875c02691",
   "metadata": {},
   "outputs": [],
   "source": [
    "BRAN2020_temperature_quant_rc = BRAN2020_temperature_quant.chunk({'xt_ocean':3600})\n",
    "BRAN2020_temperature_quant_rc"
   ]
  },
  {
   "cell_type": "markdown",
   "id": "2452d129-8305-4be8-b05d-60c195dc6f5e",
   "metadata": {},
   "source": [
    "### Climatology"
   ]
  },
  {
   "cell_type": "code",
   "execution_count": null,
   "id": "79aea161-161c-4776-b487-9cca80057325",
   "metadata": {},
   "outputs": [],
   "source": [
    "temp_monthly_climatology_rc = temp_monthly_climatology_rc.rename({'temp':'climatological_temp'})\n",
    "El_Nino_temp_monthly_climatology_rc = El_Nino_temp_monthly_climatology_rc.rename({'temp':'El_Nino_climatological_temp'})\n",
    "La_Nina_temp_monthly_climatology_rc = La_Nina_temp_monthly_climatology_rc.rename({'temp':'La_Nina_climatological_temp'})"
   ]
  },
  {
   "cell_type": "code",
   "execution_count": null,
   "id": "ac945222-44bb-4fd3-857b-509dba73063f",
   "metadata": {},
   "outputs": [],
   "source": [
    "BRAN2020_temperature_climatology = xr.merge([temp_monthly_climatology_rc,El_Nino_temp_monthly_climatology_rc,La_Nina_temp_monthly_climatology_rc])"
   ]
  },
  {
   "cell_type": "code",
   "execution_count": null,
   "id": "774df111-91af-462d-88b7-a39ef9e24ec4",
   "metadata": {},
   "outputs": [],
   "source": [
    "BRAN2020_temperature_climatology.nbytes/1e9"
   ]
  },
  {
   "cell_type": "markdown",
   "id": "12109fdb-f7dc-40ab-95ab-bb9644b1ec25",
   "metadata": {},
   "source": [
    "# write out results in NetCDF"
   ]
  },
  {
   "cell_type": "code",
   "execution_count": null,
   "id": "b0dae0a5-4fee-4369-b457-b08a90bbe834",
   "metadata": {},
   "outputs": [],
   "source": [
    "write_path = '/g/data/es60/users/thomas_moore/clim_demo_results/'"
   ]
  },
  {
   "cell_type": "code",
   "execution_count": null,
   "id": "8568e041-136f-4e80-b2cc-7440ae9dcf93",
   "metadata": {
    "scrolled": true
   },
   "outputs": [],
   "source": [
    "%%time\n",
    "settings = {'chunksizes':(51,1500,360)}\n",
    "encoding = {var: settings for var in BRAN2020_temperature_stats_rc.data_vars}\n",
    "BRAN2020_temperature_stats_rc.to_netcdf(write_path+'BRAN2020_temperature_stats.nc')"
   ]
  },
  {
   "cell_type": "raw",
   "id": "04ac2c17-afde-4dd7-9c0d-c244adf2c696",
   "metadata": {},
   "source": [
    "%%time\n",
    "settings = {'chunksizes':(2,1,1500,3600)}\n",
    "encoding = {var: settings for var in BRAN2020_temperature_quant_rc.data_vars}\n",
    "BRAN2020_temperature_quant_rc.to_netcdf(write_path+'BRAN2020_temperature_quant.nc')"
   ]
  },
  {
   "cell_type": "raw",
   "id": "49645e47-06d1-4661-8f50-1ae38363e535",
   "metadata": {
    "scrolled": true
   },
   "source": [
    "%%time\n",
    "settings = {'chunksizes':(1,10,1500,3600)}\n",
    "encoding = {var: settings for var in BRAN2020_temperature_climatology.data_vars}\n",
    "BRAN2020_temperature_climatology.to_netcdf(write_path+'BRAN2020_temperature_climatology.nc', encoding = encoding)"
   ]
  },
  {
   "cell_type": "markdown",
   "id": "2473455f-28b2-4528-b524-73f1d70ca579",
   "metadata": {},
   "source": [
    "# can we load and use these NetCDF files?"
   ]
  },
  {
   "cell_type": "code",
   "execution_count": null,
   "id": "fef55773-2de5-4406-8794-df27ea579eef",
   "metadata": {},
   "outputs": [],
   "source": [
    "a = xr.open_mfdataset(write_path+'BRAN2020_temperature_stats.nc',parallel=True,chunks = {'st_ocean':51, 'yt_ocean':1500, 'xt_ocean':360})\n",
    "b = xr.open_mfdataset(write_path+'BRAN2020_temperature_climatology.nc',parallel=True,chunks = {'month':1,'st_ocean':10, 'yt_ocean':1500, 'xt_ocean':3600})\n",
    "c = xr.open_mfdataset(write_path+'BRAN2020_temperature_quant.nc',parallel=True,chunks = {'quantile':2,'st_ocean':1, 'yt_ocean':1500, 'xt_ocean':3600})"
   ]
  },
  {
   "cell_type": "code",
   "execution_count": null,
   "id": "d8b0958b-ad9a-429f-86e6-aa4e0b903cdc",
   "metadata": {},
   "outputs": [],
   "source": [
    "a"
   ]
  },
  {
   "cell_type": "code",
   "execution_count": null,
   "id": "0be97649-ecd7-4460-85fb-85bd25b4acc9",
   "metadata": {},
   "outputs": [],
   "source": [
    "b"
   ]
  },
  {
   "cell_type": "code",
   "execution_count": null,
   "id": "075c9f07-5fef-4c6e-80eb-7a34cba4db99",
   "metadata": {},
   "outputs": [],
   "source": [
    "c"
   ]
  },
  {
   "cell_type": "markdown",
   "id": "a6a9d5ae-fe32-45d2-9af6-6d13ea3ac988",
   "metadata": {},
   "source": [
    "# The End"
   ]
  },
  {
   "cell_type": "code",
   "execution_count": null,
   "id": "1920d781-f954-436b-94a8-f58d899f5150",
   "metadata": {
    "tags": []
   },
   "outputs": [],
   "source": [
    "#client.shutdown()"
   ]
  },
  {
   "cell_type": "code",
   "execution_count": null,
   "id": "8e7fd9c2-7539-4b55-b7b0-4f05c78bba27",
   "metadata": {},
   "outputs": [],
   "source": []
  },
  {
   "cell_type": "code",
   "execution_count": null,
   "id": "74d5627a-1ebf-49ff-8a7b-dd81b71e1d6f",
   "metadata": {},
   "outputs": [],
   "source": []
  },
  {
   "cell_type": "code",
   "execution_count": null,
   "id": "28effe3b-109d-44ed-8a88-5698ca515f28",
   "metadata": {},
   "outputs": [],
   "source": []
  },
  {
   "cell_type": "code",
   "execution_count": null,
   "id": "198ec405-397c-4fb7-a09f-3771a2605ebb",
   "metadata": {},
   "outputs": [],
   "source": []
  },
  {
   "cell_type": "code",
   "execution_count": null,
   "id": "cd12f341-7ea0-40d4-95cf-42f8f38c99ff",
   "metadata": {},
   "outputs": [],
   "source": []
  },
  {
   "cell_type": "code",
   "execution_count": null,
   "id": "81577acc-6064-4bd0-b4c0-892a40687747",
   "metadata": {},
   "outputs": [],
   "source": []
  },
  {
   "cell_type": "code",
   "execution_count": null,
   "id": "5a457236-0174-4a5f-8c08-519d260a35c7",
   "metadata": {},
   "outputs": [],
   "source": []
  },
  {
   "cell_type": "code",
   "execution_count": null,
   "id": "31b9d87a-6560-490c-b056-4dbd86a22fba",
   "metadata": {},
   "outputs": [],
   "source": []
  },
  {
   "cell_type": "code",
   "execution_count": null,
   "id": "ecf619d6-8115-47a2-86fc-6b8586093a34",
   "metadata": {},
   "outputs": [],
   "source": []
  },
  {
   "cell_type": "code",
   "execution_count": null,
   "id": "4f2fc7cb-828f-4eef-9daf-df4c84140f35",
   "metadata": {},
   "outputs": [],
   "source": []
  },
  {
   "cell_type": "code",
   "execution_count": null,
   "id": "51c2dd5b-620d-421a-80cf-8858bb56c3b4",
   "metadata": {},
   "outputs": [],
   "source": []
  },
  {
   "cell_type": "code",
   "execution_count": null,
   "id": "ac756698-03c0-49d8-82a9-f465bed60e3e",
   "metadata": {},
   "outputs": [],
   "source": []
  },
  {
   "cell_type": "code",
   "execution_count": null,
   "id": "8c1a33e2-1959-40bf-8b0c-2b30a902cbbd",
   "metadata": {},
   "outputs": [],
   "source": []
  },
  {
   "cell_type": "code",
   "execution_count": null,
   "id": "5a53d0a5-fd30-4537-8f27-3eb7ad3c7eca",
   "metadata": {},
   "outputs": [],
   "source": []
  },
  {
   "cell_type": "code",
   "execution_count": null,
   "id": "f89badcb-5c83-4208-ac41-b2955e1a91f4",
   "metadata": {},
   "outputs": [],
   "source": []
  },
  {
   "cell_type": "code",
   "execution_count": null,
   "id": "120bee30-dad5-4576-9e91-1e20838903a5",
   "metadata": {},
   "outputs": [],
   "source": []
  },
  {
   "cell_type": "code",
   "execution_count": null,
   "id": "431cc5d2-a971-489c-895d-44be12a04f35",
   "metadata": {},
   "outputs": [],
   "source": []
  },
  {
   "cell_type": "code",
   "execution_count": null,
   "id": "3243ef59-8e3d-49ac-9ef9-3e819a53a11c",
   "metadata": {},
   "outputs": [],
   "source": []
  }
 ],
 "metadata": {
  "kernelspec": {
   "display_name": "Python 3 (ipykernel)",
   "language": "python",
   "name": "python3"
  },
  "language_info": {
   "codemirror_mode": {
    "name": "ipython",
    "version": 3
   },
   "file_extension": ".py",
   "mimetype": "text/x-python",
   "name": "python",
   "nbconvert_exporter": "python",
   "pygments_lexer": "ipython3",
   "version": "3.11.3"
  }
 },
 "nbformat": 4,
 "nbformat_minor": 5
}
