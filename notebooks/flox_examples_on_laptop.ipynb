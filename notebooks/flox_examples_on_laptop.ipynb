{
 "cells": [
  {
   "cell_type": "markdown",
   "id": "646230b5-e77b-449e-95cd-10f8b491ea87",
   "metadata": {},
   "source": [
    "# flox examples on laptop"
   ]
  },
  {
   "cell_type": "markdown",
   "id": "12366913-0875-48c7-992e-84adaa5daed8",
   "metadata": {},
   "source": [
    "```\n",
    "/////\n",
    "File: flox_examples_on_laptop\n",
    "Author: Thomas Moore\n",
    "Description: This notebook explores running `flox` documentation examples on a laptop\n",
    "Equipment: MacBook Pro, Apple M2 Pro, Memory:\t32 GB, Total Number of Cores:\t12 (8 performance and 4 efficiency)\n",
    "References: The very useful - flox: fast & furious GroupBy reductions for dask.array - https://flox.readthedocs.io\n",
    "Credits: `flox` by @dcherian et al\n",
    "Credits: .... and all the open source work across the Pangeo community: `xarray`, `dask`, ....\n",
    "Date: 2 May 2024\n",
    "/////\n",
    "```"
   ]
  },
  {
   "cell_type": "code",
   "execution_count": 1,
   "id": "4c9882ed-6c02-4efe-8ce5-ba4f07fb29e3",
   "metadata": {},
   "outputs": [],
   "source": [
    "Author_dict = {\"name\": \"Thomas Moore\", \n",
    "               \"affiliation\": \"CSIRO\", \n",
    "               \"email\": \"thomas.moore@csiro.au\",\n",
    "               \"orchid_ID\":'https://orcid.org/0000-0003-3930-1946'}"
   ]
  },
  {
   "cell_type": "markdown",
   "id": "27d565b1-9ca4-443e-81c5-de005230641a",
   "metadata": {},
   "source": [
    "# setup"
   ]
  },
  {
   "cell_type": "code",
   "execution_count": 2,
   "id": "c3ab2c16-4f1f-4c56-ae76-e0eb86b8389f",
   "metadata": {},
   "outputs": [],
   "source": [
    "import dask\n",
    "import flox\n",
    "import xarray as xr\n",
    "import pandas as pd\n",
    "import numpy as np\n",
    "from dask.distributed import Client, LocalCluster\n",
    "import gc"
   ]
  },
  {
   "cell_type": "markdown",
   "id": "2015c606-7d75-4dd6-92cb-dcb3dea59b65",
   "metadata": {},
   "source": [
    "## functions"
   ]
  },
  {
   "cell_type": "code",
   "execution_count": 3,
   "id": "b18ba6a1-0746-48f1-9153-f546264ce3c1",
   "metadata": {},
   "outputs": [],
   "source": [
    "def print_chunks(data_array):\n",
    "    chunks = data_array.chunks\n",
    "    dim_names = data_array.dims\n",
    "    readable_chunks = {dim: chunks[i] for i, dim in enumerate(dim_names)}\n",
    "    for dim, sizes in readable_chunks.items():\n",
    "        print(f\"{dim} chunks: {sizes}\")\n",
    "\n",
    "def clear_and_restart(variables, client):\n",
    "    \"\"\"\n",
    "    Clear specified variables from memory, collect garbage, and restart the Dask cluster.\n",
    "\n",
    "    Args:\n",
    "        variables (list): List of string names of the variables to clear from the namespace.\n",
    "        client (dask.distributed.Client): The Dask client associated with the cluster to restart.\n",
    "\n",
    "    Returns:\n",
    "        None\n",
    "    \"\"\"\n",
    "\n",
    "    # Clear specified variables\n",
    "    for var in variables:\n",
    "        if var in globals():\n",
    "            del globals()[var]\n",
    "    \n",
    "    # Collect garbage\n",
    "    gc.collect()\n",
    "    \n",
    "    # Restart the Dask cluster\n",
    "    client.restart()\n",
    "\n",
    "def print_options():\n",
    "    # Retrieve Xarray options\n",
    "    options = xr.get_options()\n",
    "\n",
    "    # Convert the options dictionary to a Pandas DataFrame for a nicer table display\n",
    "    options_df = pd.DataFrame(list(options.items()), columns=['Option', 'Value'])\n",
    "\n",
    "    # Print the DataFrame\n",
    "    print(options_df)\n",
    "\n",
    "def print_flox_options():\n",
    "    # Retrieve Xarray options\n",
    "    options = xr.get_options()\n",
    "\n",
    "    # Convert the options dictionary to a Pandas DataFrame for a nicer table display\n",
    "    options_df = pd.DataFrame(list(options.items()), columns=['Option', 'Value'])\n",
    "\n",
    "    option = options_df.iloc[20]\n",
    "    # Print in a more human-readable, single-line format\n",
    "    print(f\"Option: {option['Option']}, Value: {option['Value']}\")"
   ]
  },
  {
   "cell_type": "markdown",
   "id": "e2fa911a-ef3e-47ee-be0a-8088508727e1",
   "metadata": {},
   "source": [
    "# start LocalCluster"
   ]
  },
  {
   "cell_type": "code",
   "execution_count": 4,
   "id": "b0fa711d-2e7a-42f8-a146-ca22c8324882",
   "metadata": {},
   "outputs": [
    {
     "name": "stderr",
     "output_type": "stream",
     "text": [
      "2024-05-02 14:24:15,129 - distributed.nanny - WARNING - Restarting worker\n",
      "2024-05-02 14:24:15,180 - distributed.nanny - WARNING - Restarting worker\n",
      "2024-05-02 14:24:15,193 - distributed.nanny - WARNING - Restarting worker\n",
      "2024-05-02 14:24:15,195 - distributed.nanny - WARNING - Restarting worker\n",
      "2024-05-02 14:31:47,273 - distributed.nanny - WARNING - Restarting worker\n",
      "2024-05-02 14:31:47,298 - distributed.nanny - WARNING - Restarting worker\n",
      "2024-05-02 14:31:47,301 - distributed.nanny - WARNING - Restarting worker\n",
      "2024-05-02 14:31:47,302 - distributed.nanny - WARNING - Restarting worker\n",
      "2024-05-02 14:33:13,733 - distributed.nanny - WARNING - Restarting worker\n",
      "2024-05-02 14:33:13,773 - distributed.nanny - WARNING - Restarting worker\n",
      "2024-05-02 14:33:13,775 - distributed.nanny - WARNING - Restarting worker\n",
      "2024-05-02 14:33:13,783 - distributed.nanny - WARNING - Restarting worker\n",
      "2024-05-02 14:34:38,867 - distributed.nanny - WARNING - Restarting worker\n",
      "2024-05-02 14:34:38,903 - distributed.nanny - WARNING - Restarting worker\n",
      "2024-05-02 14:34:38,905 - distributed.nanny - WARNING - Restarting worker\n",
      "2024-05-02 14:34:38,914 - distributed.nanny - WARNING - Restarting worker\n",
      "2024-05-02 14:37:24,488 - distributed.nanny - WARNING - Restarting worker\n",
      "2024-05-02 14:37:24,505 - distributed.nanny - WARNING - Restarting worker\n",
      "2024-05-02 14:37:24,507 - distributed.nanny - WARNING - Restarting worker\n",
      "2024-05-02 14:37:24,508 - distributed.nanny - WARNING - Restarting worker\n",
      "2024-05-02 14:39:15,321 - distributed.nanny - WARNING - Restarting worker\n",
      "2024-05-02 14:39:15,350 - distributed.nanny - WARNING - Restarting worker\n",
      "2024-05-02 14:39:15,352 - distributed.nanny - WARNING - Restarting worker\n",
      "2024-05-02 14:39:15,353 - distributed.nanny - WARNING - Restarting worker\n",
      "2024-05-02 14:39:23,375 - distributed.nanny - WARNING - Restarting worker\n",
      "2024-05-02 14:39:23,389 - distributed.nanny - WARNING - Restarting worker\n",
      "2024-05-02 14:39:23,396 - distributed.nanny - WARNING - Restarting worker\n",
      "2024-05-02 14:39:23,410 - distributed.nanny - WARNING - Restarting worker\n",
      "2024-05-02 14:39:28,292 - distributed.nanny - WARNING - Restarting worker\n",
      "2024-05-02 14:39:28,311 - distributed.nanny - WARNING - Restarting worker\n",
      "2024-05-02 14:39:28,312 - distributed.nanny - WARNING - Restarting worker\n",
      "2024-05-02 14:39:28,325 - distributed.nanny - WARNING - Restarting worker\n"
     ]
    }
   ],
   "source": [
    "cluster = LocalCluster(\n",
    "    n_workers=4,          # Number of workers\n",
    "    threads_per_worker=1 # Number of threads per each worker\n",
    ")\n",
    "client = Client(cluster)"
   ]
  },
  {
   "cell_type": "markdown",
   "id": "802c3653-5012-4da9-b45a-b8e54f0a6f26",
   "metadata": {},
   "source": [
    "# Flox docs examples\n",
    "[https://flox.readthedocs.io/en/latest/user-stories/climatology.html](https://flox.readthedocs.io/en/latest/user-stories/climatology.html)\n",
    "<br>and specifically<br>\n",
    "[How about other climatologies?](https://flox.readthedocs.io/en/latest/user-stories/climatology.html#how-about-other-climatologies)"
   ]
  },
  {
   "cell_type": "markdown",
   "id": "2dc8dde4-3730-44c6-aa0e-62e4102b6763",
   "metadata": {},
   "source": [
    "### adjust this example:\n",
    "- replace `ones` with `random`"
   ]
  },
  {
   "cell_type": "code",
   "execution_count": 5,
   "id": "a7fba188-b1c5-4cbe-bbf1-73b87ae2d16c",
   "metadata": {},
   "outputs": [],
   "source": [
    "import dask.array as da\n",
    "# Generate a DataArray with random numbers\n",
    "oisst = xr.DataArray(\n",
    "    da.random.random((14532, 720, 1440), chunks=(20, 720, 1440)),  # Generate random values\n",
    "    dims=(\"time\", \"lat\", \"lon\"),\n",
    "    coords={\"time\": pd.date_range(\"1981-09-01 12:00\", \"2021-06-14 12:00\", freq=\"D\")},\n",
    "    name=\"sst\"\n",
    ")"
   ]
  },
  {
   "cell_type": "code",
   "execution_count": 6,
   "id": "6eada978-56b4-49c3-b4f1-bc77be62c030",
   "metadata": {},
   "outputs": [
    {
     "name": "stdout",
     "output_type": "stream",
     "text": [
      "oisst object is 120.5342208 GB \n",
      "3.7666944 times bigger than total memory.\n"
     ]
    }
   ],
   "source": [
    "print('oisst object is '+ str(oisst.nbytes/1e9) + ' GB \\n' + str((oisst.nbytes/1e9)/32.0) + ' times bigger than total memory.')"
   ]
  },
  {
   "cell_type": "code",
   "execution_count": 7,
   "id": "8b2a2bb1-be72-481f-9818-b7032bac0264",
   "metadata": {},
   "outputs": [
    {
     "data": {
      "text/html": [
       "<div><svg style=\"position: absolute; width: 0; height: 0; overflow: hidden\">\n",
       "<defs>\n",
       "<symbol id=\"icon-database\" viewBox=\"0 0 32 32\">\n",
       "<path d=\"M16 0c-8.837 0-16 2.239-16 5v4c0 2.761 7.163 5 16 5s16-2.239 16-5v-4c0-2.761-7.163-5-16-5z\"></path>\n",
       "<path d=\"M16 17c-8.837 0-16-2.239-16-5v6c0 2.761 7.163 5 16 5s16-2.239 16-5v-6c0 2.761-7.163 5-16 5z\"></path>\n",
       "<path d=\"M16 26c-8.837 0-16-2.239-16-5v6c0 2.761 7.163 5 16 5s16-2.239 16-5v-6c0 2.761-7.163 5-16 5z\"></path>\n",
       "</symbol>\n",
       "<symbol id=\"icon-file-text2\" viewBox=\"0 0 32 32\">\n",
       "<path d=\"M28.681 7.159c-0.694-0.947-1.662-2.053-2.724-3.116s-2.169-2.030-3.116-2.724c-1.612-1.182-2.393-1.319-2.841-1.319h-15.5c-1.378 0-2.5 1.121-2.5 2.5v27c0 1.378 1.122 2.5 2.5 2.5h23c1.378 0 2.5-1.122 2.5-2.5v-19.5c0-0.448-0.137-1.23-1.319-2.841zM24.543 5.457c0.959 0.959 1.712 1.825 2.268 2.543h-4.811v-4.811c0.718 0.556 1.584 1.309 2.543 2.268zM28 29.5c0 0.271-0.229 0.5-0.5 0.5h-23c-0.271 0-0.5-0.229-0.5-0.5v-27c0-0.271 0.229-0.5 0.5-0.5 0 0 15.499-0 15.5 0v7c0 0.552 0.448 1 1 1h7v19.5z\"></path>\n",
       "<path d=\"M23 26h-14c-0.552 0-1-0.448-1-1s0.448-1 1-1h14c0.552 0 1 0.448 1 1s-0.448 1-1 1z\"></path>\n",
       "<path d=\"M23 22h-14c-0.552 0-1-0.448-1-1s0.448-1 1-1h14c0.552 0 1 0.448 1 1s-0.448 1-1 1z\"></path>\n",
       "<path d=\"M23 18h-14c-0.552 0-1-0.448-1-1s0.448-1 1-1h14c0.552 0 1 0.448 1 1s-0.448 1-1 1z\"></path>\n",
       "</symbol>\n",
       "</defs>\n",
       "</svg>\n",
       "<style>/* CSS stylesheet for displaying xarray objects in jupyterlab.\n",
       " *\n",
       " */\n",
       "\n",
       ":root {\n",
       "  --xr-font-color0: var(--jp-content-font-color0, rgba(0, 0, 0, 1));\n",
       "  --xr-font-color2: var(--jp-content-font-color2, rgba(0, 0, 0, 0.54));\n",
       "  --xr-font-color3: var(--jp-content-font-color3, rgba(0, 0, 0, 0.38));\n",
       "  --xr-border-color: var(--jp-border-color2, #e0e0e0);\n",
       "  --xr-disabled-color: var(--jp-layout-color3, #bdbdbd);\n",
       "  --xr-background-color: var(--jp-layout-color0, white);\n",
       "  --xr-background-color-row-even: var(--jp-layout-color1, white);\n",
       "  --xr-background-color-row-odd: var(--jp-layout-color2, #eeeeee);\n",
       "}\n",
       "\n",
       "html[theme=dark],\n",
       "body[data-theme=dark],\n",
       "body.vscode-dark {\n",
       "  --xr-font-color0: rgba(255, 255, 255, 1);\n",
       "  --xr-font-color2: rgba(255, 255, 255, 0.54);\n",
       "  --xr-font-color3: rgba(255, 255, 255, 0.38);\n",
       "  --xr-border-color: #1F1F1F;\n",
       "  --xr-disabled-color: #515151;\n",
       "  --xr-background-color: #111111;\n",
       "  --xr-background-color-row-even: #111111;\n",
       "  --xr-background-color-row-odd: #313131;\n",
       "}\n",
       "\n",
       ".xr-wrap {\n",
       "  display: block !important;\n",
       "  min-width: 300px;\n",
       "  max-width: 700px;\n",
       "}\n",
       "\n",
       ".xr-text-repr-fallback {\n",
       "  /* fallback to plain text repr when CSS is not injected (untrusted notebook) */\n",
       "  display: none;\n",
       "}\n",
       "\n",
       ".xr-header {\n",
       "  padding-top: 6px;\n",
       "  padding-bottom: 6px;\n",
       "  margin-bottom: 4px;\n",
       "  border-bottom: solid 1px var(--xr-border-color);\n",
       "}\n",
       "\n",
       ".xr-header > div,\n",
       ".xr-header > ul {\n",
       "  display: inline;\n",
       "  margin-top: 0;\n",
       "  margin-bottom: 0;\n",
       "}\n",
       "\n",
       ".xr-obj-type,\n",
       ".xr-array-name {\n",
       "  margin-left: 2px;\n",
       "  margin-right: 10px;\n",
       "}\n",
       "\n",
       ".xr-obj-type {\n",
       "  color: var(--xr-font-color2);\n",
       "}\n",
       "\n",
       ".xr-sections {\n",
       "  padding-left: 0 !important;\n",
       "  display: grid;\n",
       "  grid-template-columns: 150px auto auto 1fr 20px 20px;\n",
       "}\n",
       "\n",
       ".xr-section-item {\n",
       "  display: contents;\n",
       "}\n",
       "\n",
       ".xr-section-item input {\n",
       "  display: none;\n",
       "}\n",
       "\n",
       ".xr-section-item input + label {\n",
       "  color: var(--xr-disabled-color);\n",
       "}\n",
       "\n",
       ".xr-section-item input:enabled + label {\n",
       "  cursor: pointer;\n",
       "  color: var(--xr-font-color2);\n",
       "}\n",
       "\n",
       ".xr-section-item input:enabled + label:hover {\n",
       "  color: var(--xr-font-color0);\n",
       "}\n",
       "\n",
       ".xr-section-summary {\n",
       "  grid-column: 1;\n",
       "  color: var(--xr-font-color2);\n",
       "  font-weight: 500;\n",
       "}\n",
       "\n",
       ".xr-section-summary > span {\n",
       "  display: inline-block;\n",
       "  padding-left: 0.5em;\n",
       "}\n",
       "\n",
       ".xr-section-summary-in:disabled + label {\n",
       "  color: var(--xr-font-color2);\n",
       "}\n",
       "\n",
       ".xr-section-summary-in + label:before {\n",
       "  display: inline-block;\n",
       "  content: '►';\n",
       "  font-size: 11px;\n",
       "  width: 15px;\n",
       "  text-align: center;\n",
       "}\n",
       "\n",
       ".xr-section-summary-in:disabled + label:before {\n",
       "  color: var(--xr-disabled-color);\n",
       "}\n",
       "\n",
       ".xr-section-summary-in:checked + label:before {\n",
       "  content: '▼';\n",
       "}\n",
       "\n",
       ".xr-section-summary-in:checked + label > span {\n",
       "  display: none;\n",
       "}\n",
       "\n",
       ".xr-section-summary,\n",
       ".xr-section-inline-details {\n",
       "  padding-top: 4px;\n",
       "  padding-bottom: 4px;\n",
       "}\n",
       "\n",
       ".xr-section-inline-details {\n",
       "  grid-column: 2 / -1;\n",
       "}\n",
       "\n",
       ".xr-section-details {\n",
       "  display: none;\n",
       "  grid-column: 1 / -1;\n",
       "  margin-bottom: 5px;\n",
       "}\n",
       "\n",
       ".xr-section-summary-in:checked ~ .xr-section-details {\n",
       "  display: contents;\n",
       "}\n",
       "\n",
       ".xr-array-wrap {\n",
       "  grid-column: 1 / -1;\n",
       "  display: grid;\n",
       "  grid-template-columns: 20px auto;\n",
       "}\n",
       "\n",
       ".xr-array-wrap > label {\n",
       "  grid-column: 1;\n",
       "  vertical-align: top;\n",
       "}\n",
       "\n",
       ".xr-preview {\n",
       "  color: var(--xr-font-color3);\n",
       "}\n",
       "\n",
       ".xr-array-preview,\n",
       ".xr-array-data {\n",
       "  padding: 0 5px !important;\n",
       "  grid-column: 2;\n",
       "}\n",
       "\n",
       ".xr-array-data,\n",
       ".xr-array-in:checked ~ .xr-array-preview {\n",
       "  display: none;\n",
       "}\n",
       "\n",
       ".xr-array-in:checked ~ .xr-array-data,\n",
       ".xr-array-preview {\n",
       "  display: inline-block;\n",
       "}\n",
       "\n",
       ".xr-dim-list {\n",
       "  display: inline-block !important;\n",
       "  list-style: none;\n",
       "  padding: 0 !important;\n",
       "  margin: 0;\n",
       "}\n",
       "\n",
       ".xr-dim-list li {\n",
       "  display: inline-block;\n",
       "  padding: 0;\n",
       "  margin: 0;\n",
       "}\n",
       "\n",
       ".xr-dim-list:before {\n",
       "  content: '(';\n",
       "}\n",
       "\n",
       ".xr-dim-list:after {\n",
       "  content: ')';\n",
       "}\n",
       "\n",
       ".xr-dim-list li:not(:last-child):after {\n",
       "  content: ',';\n",
       "  padding-right: 5px;\n",
       "}\n",
       "\n",
       ".xr-has-index {\n",
       "  font-weight: bold;\n",
       "}\n",
       "\n",
       ".xr-var-list,\n",
       ".xr-var-item {\n",
       "  display: contents;\n",
       "}\n",
       "\n",
       ".xr-var-item > div,\n",
       ".xr-var-item label,\n",
       ".xr-var-item > .xr-var-name span {\n",
       "  background-color: var(--xr-background-color-row-even);\n",
       "  margin-bottom: 0;\n",
       "}\n",
       "\n",
       ".xr-var-item > .xr-var-name:hover span {\n",
       "  padding-right: 5px;\n",
       "}\n",
       "\n",
       ".xr-var-list > li:nth-child(odd) > div,\n",
       ".xr-var-list > li:nth-child(odd) > label,\n",
       ".xr-var-list > li:nth-child(odd) > .xr-var-name span {\n",
       "  background-color: var(--xr-background-color-row-odd);\n",
       "}\n",
       "\n",
       ".xr-var-name {\n",
       "  grid-column: 1;\n",
       "}\n",
       "\n",
       ".xr-var-dims {\n",
       "  grid-column: 2;\n",
       "}\n",
       "\n",
       ".xr-var-dtype {\n",
       "  grid-column: 3;\n",
       "  text-align: right;\n",
       "  color: var(--xr-font-color2);\n",
       "}\n",
       "\n",
       ".xr-var-preview {\n",
       "  grid-column: 4;\n",
       "}\n",
       "\n",
       ".xr-index-preview {\n",
       "  grid-column: 2 / 5;\n",
       "  color: var(--xr-font-color2);\n",
       "}\n",
       "\n",
       ".xr-var-name,\n",
       ".xr-var-dims,\n",
       ".xr-var-dtype,\n",
       ".xr-preview,\n",
       ".xr-attrs dt {\n",
       "  white-space: nowrap;\n",
       "  overflow: hidden;\n",
       "  text-overflow: ellipsis;\n",
       "  padding-right: 10px;\n",
       "}\n",
       "\n",
       ".xr-var-name:hover,\n",
       ".xr-var-dims:hover,\n",
       ".xr-var-dtype:hover,\n",
       ".xr-attrs dt:hover {\n",
       "  overflow: visible;\n",
       "  width: auto;\n",
       "  z-index: 1;\n",
       "}\n",
       "\n",
       ".xr-var-attrs,\n",
       ".xr-var-data,\n",
       ".xr-index-data {\n",
       "  display: none;\n",
       "  background-color: var(--xr-background-color) !important;\n",
       "  padding-bottom: 5px !important;\n",
       "}\n",
       "\n",
       ".xr-var-attrs-in:checked ~ .xr-var-attrs,\n",
       ".xr-var-data-in:checked ~ .xr-var-data,\n",
       ".xr-index-data-in:checked ~ .xr-index-data {\n",
       "  display: block;\n",
       "}\n",
       "\n",
       ".xr-var-data > table {\n",
       "  float: right;\n",
       "}\n",
       "\n",
       ".xr-var-name span,\n",
       ".xr-var-data,\n",
       ".xr-index-name div,\n",
       ".xr-index-data,\n",
       ".xr-attrs {\n",
       "  padding-left: 25px !important;\n",
       "}\n",
       "\n",
       ".xr-attrs,\n",
       ".xr-var-attrs,\n",
       ".xr-var-data,\n",
       ".xr-index-data {\n",
       "  grid-column: 1 / -1;\n",
       "}\n",
       "\n",
       "dl.xr-attrs {\n",
       "  padding: 0;\n",
       "  margin: 0;\n",
       "  display: grid;\n",
       "  grid-template-columns: 125px auto;\n",
       "}\n",
       "\n",
       ".xr-attrs dt,\n",
       ".xr-attrs dd {\n",
       "  padding: 0;\n",
       "  margin: 0;\n",
       "  float: left;\n",
       "  padding-right: 10px;\n",
       "  width: auto;\n",
       "}\n",
       "\n",
       ".xr-attrs dt {\n",
       "  font-weight: normal;\n",
       "  grid-column: 1;\n",
       "}\n",
       "\n",
       ".xr-attrs dt:hover span {\n",
       "  display: inline-block;\n",
       "  background: var(--xr-background-color);\n",
       "  padding-right: 10px;\n",
       "}\n",
       "\n",
       ".xr-attrs dd {\n",
       "  grid-column: 2;\n",
       "  white-space: pre-wrap;\n",
       "  word-break: break-all;\n",
       "}\n",
       "\n",
       ".xr-icon-database,\n",
       ".xr-icon-file-text2,\n",
       ".xr-no-icon {\n",
       "  display: inline-block;\n",
       "  vertical-align: middle;\n",
       "  width: 1em;\n",
       "  height: 1.5em !important;\n",
       "  stroke-width: 0;\n",
       "  stroke: currentColor;\n",
       "  fill: currentColor;\n",
       "}\n",
       "</style><pre class='xr-text-repr-fallback'>&lt;xarray.DataArray &#x27;sst&#x27; (month: 12, lat: 720, lon: 1440)&gt; Size: 100MB\n",
       "dask.array&lt;transpose, shape=(12, 720, 1440), dtype=float64, chunksize=(1, 720, 1440), chunktype=numpy.ndarray&gt;\n",
       "Coordinates:\n",
       "  * month    (month) int64 96B 1 2 3 4 5 6 7 8 9 10 11 12\n",
       "Dimensions without coordinates: lat, lon</pre><div class='xr-wrap' style='display:none'><div class='xr-header'><div class='xr-obj-type'>xarray.DataArray</div><div class='xr-array-name'>'sst'</div><ul class='xr-dim-list'><li><span class='xr-has-index'>month</span>: 12</li><li><span>lat</span>: 720</li><li><span>lon</span>: 1440</li></ul></div><ul class='xr-sections'><li class='xr-section-item'><div class='xr-array-wrap'><input id='section-c3e8993d-06f3-4a7a-9c4c-189c62c57db2' class='xr-array-in' type='checkbox' checked><label for='section-c3e8993d-06f3-4a7a-9c4c-189c62c57db2' title='Show/hide data repr'><svg class='icon xr-icon-database'><use xlink:href='#icon-database'></use></svg></label><div class='xr-array-preview xr-preview'><span>dask.array&lt;chunksize=(1, 720, 1440), meta=np.ndarray&gt;</span></div><div class='xr-array-data'><table>\n",
       "    <tr>\n",
       "        <td>\n",
       "            <table style=\"border-collapse: collapse;\">\n",
       "                <thead>\n",
       "                    <tr>\n",
       "                        <td> </td>\n",
       "                        <th> Array </th>\n",
       "                        <th> Chunk </th>\n",
       "                    </tr>\n",
       "                </thead>\n",
       "                <tbody>\n",
       "                    \n",
       "                    <tr>\n",
       "                        <th> Bytes </th>\n",
       "                        <td> 94.92 MiB </td>\n",
       "                        <td> 7.91 MiB </td>\n",
       "                    </tr>\n",
       "                    \n",
       "                    <tr>\n",
       "                        <th> Shape </th>\n",
       "                        <td> (12, 720, 1440) </td>\n",
       "                        <td> (1, 720, 1440) </td>\n",
       "                    </tr>\n",
       "                    <tr>\n",
       "                        <th> Dask graph </th>\n",
       "                        <td colspan=\"2\"> 12 chunks in 79 graph layers </td>\n",
       "                    </tr>\n",
       "                    <tr>\n",
       "                        <th> Data type </th>\n",
       "                        <td colspan=\"2\"> float64 numpy.ndarray </td>\n",
       "                    </tr>\n",
       "                </tbody>\n",
       "            </table>\n",
       "        </td>\n",
       "        <td>\n",
       "        <svg width=\"194\" height=\"124\" style=\"stroke:rgb(0,0,0);stroke-width:1\" >\n",
       "\n",
       "  <!-- Horizontal lines -->\n",
       "  <line x1=\"10\" y1=\"0\" x2=\"24\" y2=\"14\" style=\"stroke-width:2\" />\n",
       "  <line x1=\"10\" y1=\"60\" x2=\"24\" y2=\"74\" style=\"stroke-width:2\" />\n",
       "\n",
       "  <!-- Vertical lines -->\n",
       "  <line x1=\"10\" y1=\"0\" x2=\"10\" y2=\"60\" style=\"stroke-width:2\" />\n",
       "  <line x1=\"11\" y1=\"1\" x2=\"11\" y2=\"61\" />\n",
       "  <line x1=\"12\" y1=\"2\" x2=\"12\" y2=\"62\" />\n",
       "  <line x1=\"13\" y1=\"3\" x2=\"13\" y2=\"63\" />\n",
       "  <line x1=\"14\" y1=\"4\" x2=\"14\" y2=\"64\" />\n",
       "  <line x1=\"16\" y1=\"6\" x2=\"16\" y2=\"66\" />\n",
       "  <line x1=\"17\" y1=\"7\" x2=\"17\" y2=\"67\" />\n",
       "  <line x1=\"18\" y1=\"8\" x2=\"18\" y2=\"68\" />\n",
       "  <line x1=\"19\" y1=\"9\" x2=\"19\" y2=\"69\" />\n",
       "  <line x1=\"21\" y1=\"11\" x2=\"21\" y2=\"71\" />\n",
       "  <line x1=\"22\" y1=\"12\" x2=\"22\" y2=\"72\" />\n",
       "  <line x1=\"23\" y1=\"13\" x2=\"23\" y2=\"73\" />\n",
       "  <line x1=\"24\" y1=\"14\" x2=\"24\" y2=\"74\" style=\"stroke-width:2\" />\n",
       "\n",
       "  <!-- Colored Rectangle -->\n",
       "  <polygon points=\"10.0,0.0 24.9485979497544,14.948597949754403 24.9485979497544,74.9485979497544 10.0,60.0\" style=\"fill:#ECB172A0;stroke-width:0\"/>\n",
       "\n",
       "  <!-- Horizontal lines -->\n",
       "  <line x1=\"10\" y1=\"0\" x2=\"130\" y2=\"0\" style=\"stroke-width:2\" />\n",
       "  <line x1=\"11\" y1=\"1\" x2=\"131\" y2=\"1\" />\n",
       "  <line x1=\"12\" y1=\"2\" x2=\"132\" y2=\"2\" />\n",
       "  <line x1=\"13\" y1=\"3\" x2=\"133\" y2=\"3\" />\n",
       "  <line x1=\"14\" y1=\"4\" x2=\"134\" y2=\"4\" />\n",
       "  <line x1=\"16\" y1=\"6\" x2=\"136\" y2=\"6\" />\n",
       "  <line x1=\"17\" y1=\"7\" x2=\"137\" y2=\"7\" />\n",
       "  <line x1=\"18\" y1=\"8\" x2=\"138\" y2=\"8\" />\n",
       "  <line x1=\"19\" y1=\"9\" x2=\"139\" y2=\"9\" />\n",
       "  <line x1=\"21\" y1=\"11\" x2=\"141\" y2=\"11\" />\n",
       "  <line x1=\"22\" y1=\"12\" x2=\"142\" y2=\"12\" />\n",
       "  <line x1=\"23\" y1=\"13\" x2=\"143\" y2=\"13\" />\n",
       "  <line x1=\"24\" y1=\"14\" x2=\"144\" y2=\"14\" style=\"stroke-width:2\" />\n",
       "\n",
       "  <!-- Vertical lines -->\n",
       "  <line x1=\"10\" y1=\"0\" x2=\"24\" y2=\"14\" style=\"stroke-width:2\" />\n",
       "  <line x1=\"130\" y1=\"0\" x2=\"144\" y2=\"14\" style=\"stroke-width:2\" />\n",
       "\n",
       "  <!-- Colored Rectangle -->\n",
       "  <polygon points=\"10.0,0.0 130.0,0.0 144.9485979497544,14.948597949754403 24.9485979497544,14.948597949754403\" style=\"fill:#ECB172A0;stroke-width:0\"/>\n",
       "\n",
       "  <!-- Horizontal lines -->\n",
       "  <line x1=\"24\" y1=\"14\" x2=\"144\" y2=\"14\" style=\"stroke-width:2\" />\n",
       "  <line x1=\"24\" y1=\"74\" x2=\"144\" y2=\"74\" style=\"stroke-width:2\" />\n",
       "\n",
       "  <!-- Vertical lines -->\n",
       "  <line x1=\"24\" y1=\"14\" x2=\"24\" y2=\"74\" style=\"stroke-width:2\" />\n",
       "  <line x1=\"144\" y1=\"14\" x2=\"144\" y2=\"74\" style=\"stroke-width:2\" />\n",
       "\n",
       "  <!-- Colored Rectangle -->\n",
       "  <polygon points=\"24.9485979497544,14.948597949754403 144.9485979497544,14.948597949754403 144.9485979497544,74.9485979497544 24.9485979497544,74.9485979497544\" style=\"fill:#ECB172A0;stroke-width:0\"/>\n",
       "\n",
       "  <!-- Text -->\n",
       "  <text x=\"84.948598\" y=\"94.948598\" font-size=\"1.0rem\" font-weight=\"100\" text-anchor=\"middle\" >1440</text>\n",
       "  <text x=\"164.948598\" y=\"44.948598\" font-size=\"1.0rem\" font-weight=\"100\" text-anchor=\"middle\" transform=\"rotate(-90,164.948598,44.948598)\">720</text>\n",
       "  <text x=\"7.474299\" y=\"87.474299\" font-size=\"1.0rem\" font-weight=\"100\" text-anchor=\"middle\" transform=\"rotate(45,7.474299,87.474299)\">12</text>\n",
       "</svg>\n",
       "        </td>\n",
       "    </tr>\n",
       "</table></div></div></li><li class='xr-section-item'><input id='section-0843423c-1cbe-4b45-be37-d3794f62f57c' class='xr-section-summary-in' type='checkbox'  checked><label for='section-0843423c-1cbe-4b45-be37-d3794f62f57c' class='xr-section-summary' >Coordinates: <span>(1)</span></label><div class='xr-section-inline-details'></div><div class='xr-section-details'><ul class='xr-var-list'><li class='xr-var-item'><div class='xr-var-name'><span class='xr-has-index'>month</span></div><div class='xr-var-dims'>(month)</div><div class='xr-var-dtype'>int64</div><div class='xr-var-preview xr-preview'>1 2 3 4 5 6 7 8 9 10 11 12</div><input id='attrs-0fe1b943-6838-479b-a9cc-2daf16384f0e' class='xr-var-attrs-in' type='checkbox' disabled><label for='attrs-0fe1b943-6838-479b-a9cc-2daf16384f0e' title='Show/Hide attributes'><svg class='icon xr-icon-file-text2'><use xlink:href='#icon-file-text2'></use></svg></label><input id='data-fa17954f-5847-4915-8e20-adaf1d95b3bf' class='xr-var-data-in' type='checkbox'><label for='data-fa17954f-5847-4915-8e20-adaf1d95b3bf' title='Show/Hide data repr'><svg class='icon xr-icon-database'><use xlink:href='#icon-database'></use></svg></label><div class='xr-var-attrs'><dl class='xr-attrs'></dl></div><div class='xr-var-data'><pre>array([ 1,  2,  3,  4,  5,  6,  7,  8,  9, 10, 11, 12])</pre></div></li></ul></div></li><li class='xr-section-item'><input id='section-8954a078-ed62-43a5-9d35-254adc56798e' class='xr-section-summary-in' type='checkbox'  ><label for='section-8954a078-ed62-43a5-9d35-254adc56798e' class='xr-section-summary' >Indexes: <span>(1)</span></label><div class='xr-section-inline-details'></div><div class='xr-section-details'><ul class='xr-var-list'><li class='xr-var-item'><div class='xr-index-name'><div>month</div></div><div class='xr-index-preview'>PandasIndex</div><div></div><input id='index-6cf69c5c-7950-49cc-9514-2a568e3130c7' class='xr-index-data-in' type='checkbox'/><label for='index-6cf69c5c-7950-49cc-9514-2a568e3130c7' title='Show/Hide index repr'><svg class='icon xr-icon-database'><use xlink:href='#icon-database'></use></svg></label><div class='xr-index-data'><pre>PandasIndex(Index([1, 2, 3, 4, 5, 6, 7, 8, 9, 10, 11, 12], dtype=&#x27;int64&#x27;, name=&#x27;month&#x27;))</pre></div></li></ul></div></li><li class='xr-section-item'><input id='section-4e55471a-52e7-46b9-885e-201b3cc1d7bb' class='xr-section-summary-in' type='checkbox' disabled ><label for='section-4e55471a-52e7-46b9-885e-201b3cc1d7bb' class='xr-section-summary'  title='Expand/collapse section'>Attributes: <span>(0)</span></label><div class='xr-section-inline-details'></div><div class='xr-section-details'><dl class='xr-attrs'></dl></div></li></ul></div></div>"
      ],
      "text/plain": [
       "<xarray.DataArray 'sst' (month: 12, lat: 720, lon: 1440)> Size: 100MB\n",
       "dask.array<transpose, shape=(12, 720, 1440), dtype=float64, chunksize=(1, 720, 1440), chunktype=numpy.ndarray>\n",
       "Coordinates:\n",
       "  * month    (month) int64 96B 1 2 3 4 5 6 7 8 9 10 11 12\n",
       "Dimensions without coordinates: lat, lon"
      ]
     },
     "execution_count": 7,
     "metadata": {},
     "output_type": "execute_result"
    }
   ],
   "source": [
    "oisst.groupby('time.month').mean('time')"
   ]
  },
  {
   "cell_type": "markdown",
   "id": "f2d2ffa0-38f4-4d38-a604-1dda72541384",
   "metadata": {},
   "source": [
    "#### force `map-reduce` with engine=`flox`"
   ]
  },
  {
   "cell_type": "code",
   "execution_count": 8,
   "id": "ff0b9cfa-63c2-48a0-8a77-7ead02b80843",
   "metadata": {},
   "outputs": [
    {
     "name": "stdout",
     "output_type": "stream",
     "text": [
      "Option: use_flox, Value: True\n",
      "CPU times: user 6.52 s, sys: 1.25 s, total: 7.78 s\n",
      "Wall time: 1min 29s\n"
     ]
    }
   ],
   "source": [
    "%%time\n",
    "print_flox_options()\n",
    "clim_flox = oisst.groupby('time.month').mean('time',engine='flox',method='map-reduce').compute()"
   ]
  },
  {
   "cell_type": "code",
   "execution_count": 11,
   "id": "d152dd76-ba8b-47e8-8fcb-8e9f1fe5f334",
   "metadata": {},
   "outputs": [],
   "source": [
    "clear_and_restart(['clim_flox'],client)"
   ]
  },
  {
   "cell_type": "markdown",
   "id": "c817db68-0a15-4263-b886-97641d60c649",
   "metadata": {},
   "source": [
    "#### force `map-reduce` with engine=`flox` with `skipna = False`"
   ]
  },
  {
   "cell_type": "code",
   "execution_count": 10,
   "id": "6f20dae7-5274-4d41-a6d9-b1d46483c3b7",
   "metadata": {},
   "outputs": [
    {
     "name": "stdout",
     "output_type": "stream",
     "text": [
      "Option: use_flox, Value: True\n",
      "CPU times: user 5.26 s, sys: 998 ms, total: 6.26 s\n",
      "Wall time: 1min 22s\n"
     ]
    }
   ],
   "source": [
    "%%time\n",
    "print_flox_options()\n",
    "clim_flox = oisst.groupby('time.month').mean('time',engine='flox',method='map-reduce',skipna=False).compute()"
   ]
  },
  {
   "cell_type": "code",
   "execution_count": 21,
   "id": "0426ec05-3bc3-4e6c-8970-dcb3ec82ad0a",
   "metadata": {},
   "outputs": [],
   "source": [
    "clear_and_restart(['clim_flox'],client)"
   ]
  },
  {
   "cell_type": "markdown",
   "id": "13ce82b2-c31d-4aa1-9fde-73e344da91b1",
   "metadata": {},
   "source": [
    "#### force `cohorts` with engine=`flox`"
   ]
  },
  {
   "cell_type": "code",
   "execution_count": 12,
   "id": "fa7b5d10-85e4-45fb-8eaa-7bc4f17cd382",
   "metadata": {},
   "outputs": [
    {
     "name": "stdout",
     "output_type": "stream",
     "text": [
      "Option: use_flox, Value: True\n",
      "CPU times: user 4.59 s, sys: 773 ms, total: 5.36 s\n",
      "Wall time: 42.6 s\n"
     ]
    }
   ],
   "source": [
    "%%time\n",
    "print_flox_options()\n",
    "clim_flox = oisst.groupby('time.month').mean('time',engine='flox',method='cohorts').compute()"
   ]
  },
  {
   "cell_type": "code",
   "execution_count": 20,
   "id": "04d92604-1a95-4d58-9f94-4e64ea9a653d",
   "metadata": {},
   "outputs": [],
   "source": [
    "clear_and_restart(['clim_flox'],client)"
   ]
  },
  {
   "cell_type": "markdown",
   "id": "1484bd95-8fda-4d2a-80f5-9536b2b9d4c6",
   "metadata": {},
   "source": [
    "#### force `cohorts` with engine=`flox`with `skipna = False`"
   ]
  },
  {
   "cell_type": "code",
   "execution_count": 14,
   "id": "75b1be5d-c0f6-4fc4-a6a7-53dab726e315",
   "metadata": {},
   "outputs": [
    {
     "name": "stdout",
     "output_type": "stream",
     "text": [
      "Option: use_flox, Value: True\n",
      "CPU times: user 4.09 s, sys: 1.45 s, total: 5.54 s\n",
      "Wall time: 36.4 s\n"
     ]
    }
   ],
   "source": [
    "%%time\n",
    "print_flox_options()\n",
    "clim_flox = oisst.groupby('time.month').mean('time',engine='flox',method='cohorts',skipna=False).compute()"
   ]
  },
  {
   "cell_type": "code",
   "execution_count": 13,
   "id": "b5ea6233-037c-4c76-9bd8-9e0fe9bc9546",
   "metadata": {},
   "outputs": [],
   "source": [
    "clear_and_restart(['clim_flox'],client)"
   ]
  },
  {
   "cell_type": "markdown",
   "id": "38cf8d2f-ba0d-4193-be24-37940923b274",
   "metadata": {},
   "source": [
    "#### `use_flox=False`"
   ]
  },
  {
   "cell_type": "code",
   "execution_count": 16,
   "id": "e5c92d52-526d-495d-9a8e-0d6356406e1a",
   "metadata": {},
   "outputs": [
    {
     "name": "stdout",
     "output_type": "stream",
     "text": [
      "Option: use_flox, Value: False\n",
      "CPU times: user 3.4 s, sys: 1.22 s, total: 4.62 s\n",
      "Wall time: 29.4 s\n"
     ]
    }
   ],
   "source": [
    "%%time\n",
    "with xr.set_options(use_flox=False):\n",
    "    print_flox_options()\n",
    "    clim_noflox = oisst.groupby('time.month').mean('time').compute()"
   ]
  },
  {
   "cell_type": "code",
   "execution_count": 19,
   "id": "d9bcdfb6-83d8-4216-880f-94d48b146dac",
   "metadata": {},
   "outputs": [],
   "source": [
    "clear_and_restart(['clim_flox'],client)"
   ]
  },
  {
   "cell_type": "markdown",
   "id": "5d145dea-9b82-4a9c-88c7-7f6f2388466a",
   "metadata": {},
   "source": [
    "#### `use_flox=False` with `skipna = False`"
   ]
  },
  {
   "cell_type": "code",
   "execution_count": 18,
   "id": "5461e93a-8e9c-4387-9907-b0e713abc84f",
   "metadata": {},
   "outputs": [
    {
     "name": "stdout",
     "output_type": "stream",
     "text": [
      "Option: use_flox, Value: False\n",
      "CPU times: user 2.67 s, sys: 1.38 s, total: 4.05 s\n",
      "Wall time: 20.9 s\n"
     ]
    }
   ],
   "source": [
    "%%time\n",
    "with xr.set_options(use_flox=False):\n",
    "    print_flox_options()\n",
    "    clim_noflox = oisst.groupby('time.month').mean('time',skipna=False).compute()"
   ]
  },
  {
   "cell_type": "markdown",
   "id": "3264bc23-b1a4-42f9-a1c5-7fcc242df4d9",
   "metadata": {},
   "source": [
    "### results\n",
    "~~with flox map-reduce = CPU times: user 7.07 s, sys: 1.44 s, total: 8.51 s = Wall time: 2min 9s~~<br>\n",
    "~~with flox cohorts = CPU times: user 5.82 s, sys: 1.16 s, total: 6.98 s = Wall time: 1min 20s~~<br>\n",
    "~~without flox = CPU times: user 3.37 s, sys: 1.39 s, total: 4.77 s = Wall time: 29.5 s~~\n",
    "\n"
   ]
  },
  {
   "cell_type": "markdown",
   "id": "46d5105a-37ea-4e3a-a789-b514b1fdba2b",
   "metadata": {},
   "source": [
    "# $The$ $End$"
   ]
  },
  {
   "cell_type": "code",
   "execution_count": null,
   "id": "9e3c18d7-27bf-4e61-a378-6cafcb681a38",
   "metadata": {},
   "outputs": [],
   "source": []
  },
  {
   "cell_type": "markdown",
   "id": "d87ba2b6-9e09-4567-9a59-51f9942c14c7",
   "metadata": {},
   "source": [
    "# $\\downarrow$ clean-up buttons $\\downarrow$"
   ]
  },
  {
   "cell_type": "code",
   "execution_count": 17,
   "id": "a9864b20-7d5c-48ad-a05d-18ab68f36867",
   "metadata": {},
   "outputs": [],
   "source": [
    "clear_and_restart(['clim_flox','clim_noflox'],client)"
   ]
  },
  {
   "cell_type": "code",
   "execution_count": null,
   "id": "19a0cb93-a07b-44c8-bf07-d5f857242e0b",
   "metadata": {},
   "outputs": [],
   "source": [
    "clear_and_restart([],client)"
   ]
  },
  {
   "cell_type": "code",
   "execution_count": null,
   "id": "b428fb51-3586-4034-bd34-ee3498ee5eff",
   "metadata": {},
   "outputs": [],
   "source": []
  }
 ],
 "metadata": {
  "kernelspec": {
   "display_name": "Python 3 (ipykernel)",
   "language": "python",
   "name": "python3"
  },
  "language_info": {
   "codemirror_mode": {
    "name": "ipython",
    "version": 3
   },
   "file_extension": ".py",
   "mimetype": "text/x-python",
   "name": "python",
   "nbconvert_exporter": "python",
   "pygments_lexer": "ipython3",
   "version": "3.12.2"
  }
 },
 "nbformat": 4,
 "nbformat_minor": 5
}
