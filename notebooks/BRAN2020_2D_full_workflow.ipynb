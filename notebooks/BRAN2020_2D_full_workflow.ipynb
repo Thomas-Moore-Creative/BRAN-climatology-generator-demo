{
 "cells": [
  {
   "cell_type": "markdown",
   "id": "a3c7829f-9399-4bfb-adf4-63851ba5fba2",
   "metadata": {},
   "source": [
    "# BRAN2020 2D full workflow"
   ]
  },
  {
   "cell_type": "markdown",
   "id": "da85e17d-1666-4bdd-bbb2-ba7288e8e71a",
   "metadata": {},
   "source": [
    "Date: 7 March, 2024"
   ]
  },
  {
   "cell_type": "markdown",
   "id": "4b722e90-e1fa-45a1-9638-5d9732063024",
   "metadata": {},
   "source": [
    "Author = {\"name\": \"Thomas Moore\", \"affiliation\": \"CSIRO\", \"email\": \"thomas.moore@csiro.au\", \"orcid\": \"0000-0003-3930-1946\"}"
   ]
  },
  {
   "cell_type": "markdown",
   "id": "23449033-f7fe-4f01-ac2d-de773de8db6b",
   "metadata": {},
   "source": [
    "### BRAN2020 is on the order of 100TB of float data over nearly 9000 `netcdf` file assests in total."
   ]
  },
  {
   "cell_type": "markdown",
   "id": "1f41a28d-7966-420a-a2ba-5bb53ada1d9c",
   "metadata": {},
   "source": [
    "#### required packages"
   ]
  },
  {
   "cell_type": "code",
   "execution_count": 1,
   "id": "dbfd2435-2231-4a62-aa70-d5fd531a259d",
   "metadata": {},
   "outputs": [],
   "source": [
    "import intake\n",
    "import xarray as xr\n",
    "import pandas as pd\n",
    "import numpy as np\n",
    "from matplotlib import pyplot as plt\n",
    "import pandas as pd\n",
    "#more plotting\n",
    "import matplotlib.dates as mdates\n",
    "#import seaborn as sns\n",
    "from rechunker import rechunk"
   ]
  },
  {
   "cell_type": "code",
   "execution_count": 2,
   "id": "2a00dace-dc1c-4b5b-9012-ccff26df7d89",
   "metadata": {},
   "outputs": [
    {
     "data": {
      "text/plain": [
       "'2024.3.0'"
      ]
     },
     "execution_count": 2,
     "metadata": {},
     "output_type": "execute_result"
    }
   ],
   "source": [
    "xr.__version__"
   ]
  },
  {
   "cell_type": "markdown",
   "id": "e25d9c26-ad00-4e0a-b8dc-6fcfb15cfc71",
   "metadata": {},
   "source": [
    "#### start a local Dask client"
   ]
  },
  {
   "cell_type": "code",
   "execution_count": 3,
   "id": "97accd08-fd64-47e2-b870-ed24ff71ad9e",
   "metadata": {
    "tags": []
   },
   "outputs": [],
   "source": [
    "import dask\n",
    "import distributed\n",
    "\n",
    "with dask.config.set({\"distributed.scheduler.worker-saturation\": 1.0,\n",
    "                      \"distributed.nanny.pre-spawn-environ.MALLOC_TRIM_THRESHOLD_\": 0}):\n",
    "    client = distributed.Client()"
   ]
  },
  {
   "cell_type": "markdown",
   "id": "8935960c-d1ab-4b85-8bc4-e2b41de3e910",
   "metadata": {},
   "source": [
    "#### ignore warnings"
   ]
  },
  {
   "cell_type": "code",
   "execution_count": 4,
   "id": "701040b6-201d-4bd9-be1d-2881778a7605",
   "metadata": {
    "tags": []
   },
   "outputs": [],
   "source": [
    "import warnings\n",
    "warnings.filterwarnings('ignore')"
   ]
  },
  {
   "cell_type": "markdown",
   "id": "c0440319-1b10-4cab-a74f-24465d7ed7b5",
   "metadata": {},
   "source": [
    "# ARD workflow"
   ]
  },
  {
   "cell_type": "markdown",
   "id": "b316d27a-26d0-405f-a81f-912a6b2459bc",
   "metadata": {},
   "source": [
    "### read paths from config file"
   ]
  },
  {
   "cell_type": "markdown",
   "id": "1d9aac8f-f489-4b39-81c4-9b4ee78dff90",
   "metadata": {},
   "source": [
    "#### [ you will need to specifiy your correct path for the `data-catalogue/config.ini` file ]"
   ]
  },
  {
   "cell_type": "code",
   "execution_count": null,
   "id": "cf057751-f735-4e9f-b603-613682257a58",
   "metadata": {},
   "outputs": [],
   "source": [
    "import configparser\n",
    "\n",
    "# Create a ConfigParser object\n",
    "config = configparser.ConfigParser()\n",
    "\n",
    "# Read the config file\n",
    "#########\n",
    "#### you will need to specifiy your correct path the the `data-catalogue/config.ini` file \n",
    "#########\n",
    "config.read('./code/BRAN2020-intake-catalog/config.ini')\n",
    "\n",
    "# Get the value of a variable\n",
    "catalog_path = config.get('paths', 'catalog_path')"
   ]
  },
  {
   "cell_type": "code",
   "execution_count": null,
   "id": "f5aec624-3f44-4e2e-a9ab-90de354593ba",
   "metadata": {
    "tags": []
   },
   "outputs": [],
   "source": [
    "catalog_path"
   ]
  },
  {
   "cell_type": "code",
   "execution_count": null,
   "id": "651de19c-76ad-40b8-aaf4-eb8452785b6a",
   "metadata": {
    "tags": []
   },
   "outputs": [],
   "source": [
    "BRAN2020_catalog = intake.open_esm_datastore(catalog_path+'BRAN2020.json',columns_with_iterables=['variable'])"
   ]
  },
  {
   "cell_type": "code",
   "execution_count": null,
   "id": "15ae7b3d-e4d1-4582-8426-8caae42c9ff1",
   "metadata": {
    "tags": []
   },
   "outputs": [],
   "source": [
    "BRAN2020_catalog"
   ]
  },
  {
   "cell_type": "code",
   "execution_count": null,
   "id": "ac09438c-6634-4b9d-98c5-d24477822a0f",
   "metadata": {
    "tags": []
   },
   "outputs": [],
   "source": [
    "BRAN2020_catalog.unique()['source']"
   ]
  },
  {
   "cell_type": "code",
   "execution_count": null,
   "id": "204256c7-e23d-4da1-b50c-cfd97264c599",
   "metadata": {
    "tags": []
   },
   "outputs": [],
   "source": [
    "BRAN2020_catalog.unique()['domain']"
   ]
  },
  {
   "cell_type": "code",
   "execution_count": null,
   "id": "b6403053-e163-49dc-b070-108cfee83f89",
   "metadata": {
    "tags": []
   },
   "outputs": [],
   "source": [
    "BRAN2020_catalog.unique()['time_period']"
   ]
  },
  {
   "cell_type": "code",
   "execution_count": null,
   "id": "d13fc231-b357-4618-be08-18019567b525",
   "metadata": {
    "tags": []
   },
   "outputs": [],
   "source": [
    "var_list = BRAN2020_catalog.unique()['variable']\n",
    "var_list.sort()\n",
    "df = pd.DataFrame(var_list, columns=['BRAN2020 Variables'])\n",
    "with pd.option_context('display.max_rows', None,\n",
    "                       'display.max_columns', None,\n",
    "                       'display.precision', 3,\n",
    "                       ):\n",
    "    print(df)"
   ]
  },
  {
   "cell_type": "code",
   "execution_count": null,
   "id": "21945178-8a42-45c7-ad95-37c285cf640a",
   "metadata": {
    "tags": []
   },
   "outputs": [],
   "source": [
    "search = BRAN2020_catalog.search(variable=['mld'],time_period=['daily'])"
   ]
  },
  {
   "cell_type": "code",
   "execution_count": null,
   "id": "b7ba892c-6860-46ad-9352-dde4db865100",
   "metadata": {
    "tags": []
   },
   "outputs": [],
   "source": [
    "search.unique()['variable']"
   ]
  },
  {
   "cell_type": "code",
   "execution_count": null,
   "id": "d2fbf63d-d60e-46bf-a5e6-87fc33648713",
   "metadata": {
    "tags": []
   },
   "outputs": [],
   "source": [
    "search"
   ]
  },
  {
   "cell_type": "code",
   "execution_count": null,
   "id": "ae495e51-0b64-4c8f-88c1-08405d55ce72",
   "metadata": {
    "tags": []
   },
   "outputs": [],
   "source": [
    "search.df"
   ]
  },
  {
   "cell_type": "markdown",
   "id": "6ba22a65-7c8e-41d2-8866-32320fdaba84",
   "metadata": {},
   "source": [
    "### Out of some 9000 files we now have narrowed down the just the 366 that have the information we need"
   ]
  },
  {
   "cell_type": "markdown",
   "id": "e5612d2a-93cf-4e33-abeb-be0f030e9565",
   "metadata": {},
   "source": [
    "#### We can now load all that data into a single 240GB \"lazy\" `xarray` object for further reduction and analysis"
   ]
  },
  {
   "cell_type": "code",
   "execution_count": null,
   "id": "ffbd7135-2f9e-4346-b1a3-abfde20df1ad",
   "metadata": {},
   "outputs": [],
   "source": [
    "%%time\n",
    "xarray_open_kwargs = {\"chunks\": {\"time\": 1, \"xt_ocean\": 3600, \"yt_ocean\": 1500}}\n",
    "DS=search.to_dask(xarray_open_kwargs=xarray_open_kwargs)"
   ]
  },
  {
   "cell_type": "code",
   "execution_count": null,
   "id": "32d1ed56-0058-4b88-9bbb-c965ee762bf8",
   "metadata": {
    "tags": []
   },
   "outputs": [],
   "source": [
    "DS"
   ]
  },
  {
   "cell_type": "code",
   "execution_count": null,
   "id": "594d636c-5308-467e-852f-7a70fb4f691d",
   "metadata": {},
   "outputs": [],
   "source": [
    "DS.nbytes/1e9"
   ]
  },
  {
   "cell_type": "markdown",
   "id": "63aa60b6-8f84-40eb-8bab-e436ee235b05",
   "metadata": {},
   "source": [
    "## ARD - write zarr & chunk & write zarr"
   ]
  },
  {
   "cell_type": "code",
   "execution_count": 5,
   "id": "d513c227-4a02-4f88-b916-944495e616d8",
   "metadata": {},
   "outputs": [],
   "source": [
    "BRAN2020_ard_path = '/scratch/es60/ard/reanalysis/BRAN2020/ARD/2D/'\n",
    "ard_file_ID = 'BRAN2020-daily-mld-v04042024.zarr'"
   ]
  },
  {
   "cell_type": "code",
   "execution_count": null,
   "id": "f6af347e-6430-4b53-b1e0-008f7db9b84c",
   "metadata": {
    "scrolled": true
   },
   "outputs": [],
   "source": [
    "%%time\n",
    "DS.to_zarr(BRAN2020_ard_path+ard_file_ID,consolidated=True)\n",
    "# ----- Client(threads_per_worker=1) -------\n",
    "# CPU times: user 2min 26s, sys: 29.9 s, total: 2min 56s\n",
    "# Wall time: 13min 1s\n",
    "# ----- Client() -------\n",
    "# CPU times: user 1min 53s, sys: 18.1 s, total: 2min 11s\n",
    "# Wall time: 14min 3s"
   ]
  },
  {
   "cell_type": "code",
   "execution_count": null,
   "id": "94dd108c-d7e4-41c4-88ea-3de451eac81c",
   "metadata": {},
   "outputs": [],
   "source": [
    "!touch /scratch/es60/ard/reanalysis/BRAN2020/ARD/2D/finished_BRAN2020-mld-base-zarr.log"
   ]
  },
  {
   "cell_type": "markdown",
   "id": "9a02e7ba-35c0-4aaf-92e1-2e9ac016bbfa",
   "metadata": {},
   "source": [
    "## RELOAD in ARD collection"
   ]
  },
  {
   "cell_type": "code",
   "execution_count": 6,
   "id": "89ba8979-8b30-4edc-9bf2-115b8c70edcf",
   "metadata": {},
   "outputs": [],
   "source": [
    "BRAN2020_daily_var = xr.open_zarr(BRAN2020_ard_path+ard_file_ID,consolidated=True)"
   ]
  },
  {
   "cell_type": "code",
   "execution_count": 7,
   "id": "8caeaebe-41a6-474a-9814-d5152b33d9ab",
   "metadata": {},
   "outputs": [
    {
     "data": {
      "text/html": [
       "<div><svg style=\"position: absolute; width: 0; height: 0; overflow: hidden\">\n",
       "<defs>\n",
       "<symbol id=\"icon-database\" viewBox=\"0 0 32 32\">\n",
       "<path d=\"M16 0c-8.837 0-16 2.239-16 5v4c0 2.761 7.163 5 16 5s16-2.239 16-5v-4c0-2.761-7.163-5-16-5z\"></path>\n",
       "<path d=\"M16 17c-8.837 0-16-2.239-16-5v6c0 2.761 7.163 5 16 5s16-2.239 16-5v-6c0 2.761-7.163 5-16 5z\"></path>\n",
       "<path d=\"M16 26c-8.837 0-16-2.239-16-5v6c0 2.761 7.163 5 16 5s16-2.239 16-5v-6c0 2.761-7.163 5-16 5z\"></path>\n",
       "</symbol>\n",
       "<symbol id=\"icon-file-text2\" viewBox=\"0 0 32 32\">\n",
       "<path d=\"M28.681 7.159c-0.694-0.947-1.662-2.053-2.724-3.116s-2.169-2.030-3.116-2.724c-1.612-1.182-2.393-1.319-2.841-1.319h-15.5c-1.378 0-2.5 1.121-2.5 2.5v27c0 1.378 1.122 2.5 2.5 2.5h23c1.378 0 2.5-1.122 2.5-2.5v-19.5c0-0.448-0.137-1.23-1.319-2.841zM24.543 5.457c0.959 0.959 1.712 1.825 2.268 2.543h-4.811v-4.811c0.718 0.556 1.584 1.309 2.543 2.268zM28 29.5c0 0.271-0.229 0.5-0.5 0.5h-23c-0.271 0-0.5-0.229-0.5-0.5v-27c0-0.271 0.229-0.5 0.5-0.5 0 0 15.499-0 15.5 0v7c0 0.552 0.448 1 1 1h7v19.5z\"></path>\n",
       "<path d=\"M23 26h-14c-0.552 0-1-0.448-1-1s0.448-1 1-1h14c0.552 0 1 0.448 1 1s-0.448 1-1 1z\"></path>\n",
       "<path d=\"M23 22h-14c-0.552 0-1-0.448-1-1s0.448-1 1-1h14c0.552 0 1 0.448 1 1s-0.448 1-1 1z\"></path>\n",
       "<path d=\"M23 18h-14c-0.552 0-1-0.448-1-1s0.448-1 1-1h14c0.552 0 1 0.448 1 1s-0.448 1-1 1z\"></path>\n",
       "</symbol>\n",
       "</defs>\n",
       "</svg>\n",
       "<style>/* CSS stylesheet for displaying xarray objects in jupyterlab.\n",
       " *\n",
       " */\n",
       "\n",
       ":root {\n",
       "  --xr-font-color0: var(--jp-content-font-color0, rgba(0, 0, 0, 1));\n",
       "  --xr-font-color2: var(--jp-content-font-color2, rgba(0, 0, 0, 0.54));\n",
       "  --xr-font-color3: var(--jp-content-font-color3, rgba(0, 0, 0, 0.38));\n",
       "  --xr-border-color: var(--jp-border-color2, #e0e0e0);\n",
       "  --xr-disabled-color: var(--jp-layout-color3, #bdbdbd);\n",
       "  --xr-background-color: var(--jp-layout-color0, white);\n",
       "  --xr-background-color-row-even: var(--jp-layout-color1, white);\n",
       "  --xr-background-color-row-odd: var(--jp-layout-color2, #eeeeee);\n",
       "}\n",
       "\n",
       "html[theme=dark],\n",
       "body[data-theme=dark],\n",
       "body.vscode-dark {\n",
       "  --xr-font-color0: rgba(255, 255, 255, 1);\n",
       "  --xr-font-color2: rgba(255, 255, 255, 0.54);\n",
       "  --xr-font-color3: rgba(255, 255, 255, 0.38);\n",
       "  --xr-border-color: #1F1F1F;\n",
       "  --xr-disabled-color: #515151;\n",
       "  --xr-background-color: #111111;\n",
       "  --xr-background-color-row-even: #111111;\n",
       "  --xr-background-color-row-odd: #313131;\n",
       "}\n",
       "\n",
       ".xr-wrap {\n",
       "  display: block !important;\n",
       "  min-width: 300px;\n",
       "  max-width: 700px;\n",
       "}\n",
       "\n",
       ".xr-text-repr-fallback {\n",
       "  /* fallback to plain text repr when CSS is not injected (untrusted notebook) */\n",
       "  display: none;\n",
       "}\n",
       "\n",
       ".xr-header {\n",
       "  padding-top: 6px;\n",
       "  padding-bottom: 6px;\n",
       "  margin-bottom: 4px;\n",
       "  border-bottom: solid 1px var(--xr-border-color);\n",
       "}\n",
       "\n",
       ".xr-header > div,\n",
       ".xr-header > ul {\n",
       "  display: inline;\n",
       "  margin-top: 0;\n",
       "  margin-bottom: 0;\n",
       "}\n",
       "\n",
       ".xr-obj-type,\n",
       ".xr-array-name {\n",
       "  margin-left: 2px;\n",
       "  margin-right: 10px;\n",
       "}\n",
       "\n",
       ".xr-obj-type {\n",
       "  color: var(--xr-font-color2);\n",
       "}\n",
       "\n",
       ".xr-sections {\n",
       "  padding-left: 0 !important;\n",
       "  display: grid;\n",
       "  grid-template-columns: 150px auto auto 1fr 20px 20px;\n",
       "}\n",
       "\n",
       ".xr-section-item {\n",
       "  display: contents;\n",
       "}\n",
       "\n",
       ".xr-section-item input {\n",
       "  display: none;\n",
       "}\n",
       "\n",
       ".xr-section-item input + label {\n",
       "  color: var(--xr-disabled-color);\n",
       "}\n",
       "\n",
       ".xr-section-item input:enabled + label {\n",
       "  cursor: pointer;\n",
       "  color: var(--xr-font-color2);\n",
       "}\n",
       "\n",
       ".xr-section-item input:enabled + label:hover {\n",
       "  color: var(--xr-font-color0);\n",
       "}\n",
       "\n",
       ".xr-section-summary {\n",
       "  grid-column: 1;\n",
       "  color: var(--xr-font-color2);\n",
       "  font-weight: 500;\n",
       "}\n",
       "\n",
       ".xr-section-summary > span {\n",
       "  display: inline-block;\n",
       "  padding-left: 0.5em;\n",
       "}\n",
       "\n",
       ".xr-section-summary-in:disabled + label {\n",
       "  color: var(--xr-font-color2);\n",
       "}\n",
       "\n",
       ".xr-section-summary-in + label:before {\n",
       "  display: inline-block;\n",
       "  content: '►';\n",
       "  font-size: 11px;\n",
       "  width: 15px;\n",
       "  text-align: center;\n",
       "}\n",
       "\n",
       ".xr-section-summary-in:disabled + label:before {\n",
       "  color: var(--xr-disabled-color);\n",
       "}\n",
       "\n",
       ".xr-section-summary-in:checked + label:before {\n",
       "  content: '▼';\n",
       "}\n",
       "\n",
       ".xr-section-summary-in:checked + label > span {\n",
       "  display: none;\n",
       "}\n",
       "\n",
       ".xr-section-summary,\n",
       ".xr-section-inline-details {\n",
       "  padding-top: 4px;\n",
       "  padding-bottom: 4px;\n",
       "}\n",
       "\n",
       ".xr-section-inline-details {\n",
       "  grid-column: 2 / -1;\n",
       "}\n",
       "\n",
       ".xr-section-details {\n",
       "  display: none;\n",
       "  grid-column: 1 / -1;\n",
       "  margin-bottom: 5px;\n",
       "}\n",
       "\n",
       ".xr-section-summary-in:checked ~ .xr-section-details {\n",
       "  display: contents;\n",
       "}\n",
       "\n",
       ".xr-array-wrap {\n",
       "  grid-column: 1 / -1;\n",
       "  display: grid;\n",
       "  grid-template-columns: 20px auto;\n",
       "}\n",
       "\n",
       ".xr-array-wrap > label {\n",
       "  grid-column: 1;\n",
       "  vertical-align: top;\n",
       "}\n",
       "\n",
       ".xr-preview {\n",
       "  color: var(--xr-font-color3);\n",
       "}\n",
       "\n",
       ".xr-array-preview,\n",
       ".xr-array-data {\n",
       "  padding: 0 5px !important;\n",
       "  grid-column: 2;\n",
       "}\n",
       "\n",
       ".xr-array-data,\n",
       ".xr-array-in:checked ~ .xr-array-preview {\n",
       "  display: none;\n",
       "}\n",
       "\n",
       ".xr-array-in:checked ~ .xr-array-data,\n",
       ".xr-array-preview {\n",
       "  display: inline-block;\n",
       "}\n",
       "\n",
       ".xr-dim-list {\n",
       "  display: inline-block !important;\n",
       "  list-style: none;\n",
       "  padding: 0 !important;\n",
       "  margin: 0;\n",
       "}\n",
       "\n",
       ".xr-dim-list li {\n",
       "  display: inline-block;\n",
       "  padding: 0;\n",
       "  margin: 0;\n",
       "}\n",
       "\n",
       ".xr-dim-list:before {\n",
       "  content: '(';\n",
       "}\n",
       "\n",
       ".xr-dim-list:after {\n",
       "  content: ')';\n",
       "}\n",
       "\n",
       ".xr-dim-list li:not(:last-child):after {\n",
       "  content: ',';\n",
       "  padding-right: 5px;\n",
       "}\n",
       "\n",
       ".xr-has-index {\n",
       "  font-weight: bold;\n",
       "}\n",
       "\n",
       ".xr-var-list,\n",
       ".xr-var-item {\n",
       "  display: contents;\n",
       "}\n",
       "\n",
       ".xr-var-item > div,\n",
       ".xr-var-item label,\n",
       ".xr-var-item > .xr-var-name span {\n",
       "  background-color: var(--xr-background-color-row-even);\n",
       "  margin-bottom: 0;\n",
       "}\n",
       "\n",
       ".xr-var-item > .xr-var-name:hover span {\n",
       "  padding-right: 5px;\n",
       "}\n",
       "\n",
       ".xr-var-list > li:nth-child(odd) > div,\n",
       ".xr-var-list > li:nth-child(odd) > label,\n",
       ".xr-var-list > li:nth-child(odd) > .xr-var-name span {\n",
       "  background-color: var(--xr-background-color-row-odd);\n",
       "}\n",
       "\n",
       ".xr-var-name {\n",
       "  grid-column: 1;\n",
       "}\n",
       "\n",
       ".xr-var-dims {\n",
       "  grid-column: 2;\n",
       "}\n",
       "\n",
       ".xr-var-dtype {\n",
       "  grid-column: 3;\n",
       "  text-align: right;\n",
       "  color: var(--xr-font-color2);\n",
       "}\n",
       "\n",
       ".xr-var-preview {\n",
       "  grid-column: 4;\n",
       "}\n",
       "\n",
       ".xr-index-preview {\n",
       "  grid-column: 2 / 5;\n",
       "  color: var(--xr-font-color2);\n",
       "}\n",
       "\n",
       ".xr-var-name,\n",
       ".xr-var-dims,\n",
       ".xr-var-dtype,\n",
       ".xr-preview,\n",
       ".xr-attrs dt {\n",
       "  white-space: nowrap;\n",
       "  overflow: hidden;\n",
       "  text-overflow: ellipsis;\n",
       "  padding-right: 10px;\n",
       "}\n",
       "\n",
       ".xr-var-name:hover,\n",
       ".xr-var-dims:hover,\n",
       ".xr-var-dtype:hover,\n",
       ".xr-attrs dt:hover {\n",
       "  overflow: visible;\n",
       "  width: auto;\n",
       "  z-index: 1;\n",
       "}\n",
       "\n",
       ".xr-var-attrs,\n",
       ".xr-var-data,\n",
       ".xr-index-data {\n",
       "  display: none;\n",
       "  background-color: var(--xr-background-color) !important;\n",
       "  padding-bottom: 5px !important;\n",
       "}\n",
       "\n",
       ".xr-var-attrs-in:checked ~ .xr-var-attrs,\n",
       ".xr-var-data-in:checked ~ .xr-var-data,\n",
       ".xr-index-data-in:checked ~ .xr-index-data {\n",
       "  display: block;\n",
       "}\n",
       "\n",
       ".xr-var-data > table {\n",
       "  float: right;\n",
       "}\n",
       "\n",
       ".xr-var-name span,\n",
       ".xr-var-data,\n",
       ".xr-index-name div,\n",
       ".xr-index-data,\n",
       ".xr-attrs {\n",
       "  padding-left: 25px !important;\n",
       "}\n",
       "\n",
       ".xr-attrs,\n",
       ".xr-var-attrs,\n",
       ".xr-var-data,\n",
       ".xr-index-data {\n",
       "  grid-column: 1 / -1;\n",
       "}\n",
       "\n",
       "dl.xr-attrs {\n",
       "  padding: 0;\n",
       "  margin: 0;\n",
       "  display: grid;\n",
       "  grid-template-columns: 125px auto;\n",
       "}\n",
       "\n",
       ".xr-attrs dt,\n",
       ".xr-attrs dd {\n",
       "  padding: 0;\n",
       "  margin: 0;\n",
       "  float: left;\n",
       "  padding-right: 10px;\n",
       "  width: auto;\n",
       "}\n",
       "\n",
       ".xr-attrs dt {\n",
       "  font-weight: normal;\n",
       "  grid-column: 1;\n",
       "}\n",
       "\n",
       ".xr-attrs dt:hover span {\n",
       "  display: inline-block;\n",
       "  background: var(--xr-background-color);\n",
       "  padding-right: 10px;\n",
       "}\n",
       "\n",
       ".xr-attrs dd {\n",
       "  grid-column: 2;\n",
       "  white-space: pre-wrap;\n",
       "  word-break: break-all;\n",
       "}\n",
       "\n",
       ".xr-icon-database,\n",
       ".xr-icon-file-text2,\n",
       ".xr-no-icon {\n",
       "  display: inline-block;\n",
       "  vertical-align: middle;\n",
       "  width: 1em;\n",
       "  height: 1.5em !important;\n",
       "  stroke-width: 0;\n",
       "  stroke: currentColor;\n",
       "  fill: currentColor;\n",
       "}\n",
       "</style><pre class='xr-text-repr-fallback'>&lt;xarray.Dataset&gt; Size: 241GB\n",
       "Dimensions:   (Time: 11138, yt_ocean: 1500, xt_ocean: 3600)\n",
       "Coordinates:\n",
       "  * Time      (Time) datetime64[ns] 89kB 1993-01-01T12:00:00 ... 2023-06-30T1...\n",
       "  * xt_ocean  (xt_ocean) float64 29kB 0.05 0.15 0.25 0.35 ... 359.8 359.9 360.0\n",
       "  * yt_ocean  (yt_ocean) float64 12kB -74.95 -74.85 -74.75 ... 74.75 74.85 74.95\n",
       "Data variables:\n",
       "    mld       (Time, yt_ocean, xt_ocean) float32 241GB dask.array&lt;chunksize=(1, 1500, 3600), meta=np.ndarray&gt;\n",
       "Attributes: (12/13)\n",
       "    NumFilesInSet:                   20\n",
       "    acknowledgement:                 BRAN is made freely available by CSIRO B...\n",
       "    catalogue_doi_url:               http://dx.doi.org/10.25914/6009627c7af03\n",
       "    grid_tile:                       N/A\n",
       "    grid_type:                       regular\n",
       "    intake_esm_attrs:_data_format_:  netcdf\n",
       "    ...                              ...\n",
       "    intake_esm_attrs:source:         BRAN2020\n",
       "    intake_esm_attrs:time_period:    daily\n",
       "    intake_esm_attrs:variable:       mld\n",
       "    intake_esm_dataset_key:          ocean.daily\n",
       "    intake_esm_vars:                 [&#x27;mld&#x27;]\n",
       "    title:                           BRAN2020</pre><div class='xr-wrap' style='display:none'><div class='xr-header'><div class='xr-obj-type'>xarray.Dataset</div></div><ul class='xr-sections'><li class='xr-section-item'><input id='section-598492c0-d47b-4afb-baa4-3527d4bdbd1c' class='xr-section-summary-in' type='checkbox' disabled ><label for='section-598492c0-d47b-4afb-baa4-3527d4bdbd1c' class='xr-section-summary'  title='Expand/collapse section'>Dimensions:</label><div class='xr-section-inline-details'><ul class='xr-dim-list'><li><span class='xr-has-index'>Time</span>: 11138</li><li><span class='xr-has-index'>yt_ocean</span>: 1500</li><li><span class='xr-has-index'>xt_ocean</span>: 3600</li></ul></div><div class='xr-section-details'></div></li><li class='xr-section-item'><input id='section-55edb2c7-d582-4b57-9d0a-de6a6292385c' class='xr-section-summary-in' type='checkbox'  checked><label for='section-55edb2c7-d582-4b57-9d0a-de6a6292385c' class='xr-section-summary' >Coordinates: <span>(3)</span></label><div class='xr-section-inline-details'></div><div class='xr-section-details'><ul class='xr-var-list'><li class='xr-var-item'><div class='xr-var-name'><span class='xr-has-index'>Time</span></div><div class='xr-var-dims'>(Time)</div><div class='xr-var-dtype'>datetime64[ns]</div><div class='xr-var-preview xr-preview'>1993-01-01T12:00:00 ... 2023-06-...</div><input id='attrs-394d9221-0a48-458e-857b-915bdfa90968' class='xr-var-attrs-in' type='checkbox' ><label for='attrs-394d9221-0a48-458e-857b-915bdfa90968' title='Show/Hide attributes'><svg class='icon xr-icon-file-text2'><use xlink:href='#icon-file-text2'></use></svg></label><input id='data-d959657a-6dfb-4670-ba1b-fb6b3ccab079' class='xr-var-data-in' type='checkbox'><label for='data-d959657a-6dfb-4670-ba1b-fb6b3ccab079' title='Show/Hide data repr'><svg class='icon xr-icon-database'><use xlink:href='#icon-database'></use></svg></label><div class='xr-var-attrs'><dl class='xr-attrs'><dt><span>calendar_type :</span></dt><dd>GREGORIAN</dd><dt><span>cartesian_axis :</span></dt><dd>T</dd><dt><span>cell_methods :</span></dt><dd>Time: mean</dd><dt><span>long_name :</span></dt><dd>Time</dd></dl></div><div class='xr-var-data'><pre>array([&#x27;1993-01-01T12:00:00.000000000&#x27;, &#x27;1993-01-02T12:00:00.000000000&#x27;,\n",
       "       &#x27;1993-01-03T12:00:00.000000000&#x27;, ..., &#x27;2023-06-28T12:00:00.000000000&#x27;,\n",
       "       &#x27;2023-06-29T12:00:00.000000000&#x27;, &#x27;2023-06-30T12:00:00.000000000&#x27;],\n",
       "      dtype=&#x27;datetime64[ns]&#x27;)</pre></div></li><li class='xr-var-item'><div class='xr-var-name'><span class='xr-has-index'>xt_ocean</span></div><div class='xr-var-dims'>(xt_ocean)</div><div class='xr-var-dtype'>float64</div><div class='xr-var-preview xr-preview'>0.05 0.15 0.25 ... 359.9 360.0</div><input id='attrs-6d903498-343f-4200-b631-55d10a1631eb' class='xr-var-attrs-in' type='checkbox' ><label for='attrs-6d903498-343f-4200-b631-55d10a1631eb' title='Show/Hide attributes'><svg class='icon xr-icon-file-text2'><use xlink:href='#icon-file-text2'></use></svg></label><input id='data-b23a67d3-4736-43ff-b2ec-1ba3ffe4f872' class='xr-var-data-in' type='checkbox'><label for='data-b23a67d3-4736-43ff-b2ec-1ba3ffe4f872' title='Show/Hide data repr'><svg class='icon xr-icon-database'><use xlink:href='#icon-database'></use></svg></label><div class='xr-var-attrs'><dl class='xr-attrs'><dt><span>cartesian_axis :</span></dt><dd>X</dd><dt><span>domain_decomposition :</span></dt><dd>[1, 3600, 1, 1800]</dd><dt><span>long_name :</span></dt><dd>tcell longitude</dd><dt><span>units :</span></dt><dd>degrees_E</dd></dl></div><div class='xr-var-data'><pre>array([5.0000e-02, 1.5000e-01, 2.5000e-01, ..., 3.5975e+02, 3.5985e+02,\n",
       "       3.5995e+02])</pre></div></li><li class='xr-var-item'><div class='xr-var-name'><span class='xr-has-index'>yt_ocean</span></div><div class='xr-var-dims'>(yt_ocean)</div><div class='xr-var-dtype'>float64</div><div class='xr-var-preview xr-preview'>-74.95 -74.85 ... 74.85 74.95</div><input id='attrs-353c956f-f60f-4dfc-8548-39cb9ce8dc3c' class='xr-var-attrs-in' type='checkbox' ><label for='attrs-353c956f-f60f-4dfc-8548-39cb9ce8dc3c' title='Show/Hide attributes'><svg class='icon xr-icon-file-text2'><use xlink:href='#icon-file-text2'></use></svg></label><input id='data-fe05801b-7f01-423c-a09b-a5cae6f8355e' class='xr-var-data-in' type='checkbox'><label for='data-fe05801b-7f01-423c-a09b-a5cae6f8355e' title='Show/Hide data repr'><svg class='icon xr-icon-database'><use xlink:href='#icon-database'></use></svg></label><div class='xr-var-attrs'><dl class='xr-attrs'><dt><span>cartesian_axis :</span></dt><dd>Y</dd><dt><span>domain_decomposition :</span></dt><dd>[1, 1500, 1, 150]</dd><dt><span>long_name :</span></dt><dd>tcell latitude</dd><dt><span>units :</span></dt><dd>degrees_N</dd></dl></div><div class='xr-var-data'><pre>array([-74.949997, -74.849998, -74.75    , ...,  74.75    ,  74.849998,\n",
       "        74.949997])</pre></div></li></ul></div></li><li class='xr-section-item'><input id='section-86df452f-25c5-48ab-9bda-84975cbe367e' class='xr-section-summary-in' type='checkbox'  checked><label for='section-86df452f-25c5-48ab-9bda-84975cbe367e' class='xr-section-summary' >Data variables: <span>(1)</span></label><div class='xr-section-inline-details'></div><div class='xr-section-details'><ul class='xr-var-list'><li class='xr-var-item'><div class='xr-var-name'><span>mld</span></div><div class='xr-var-dims'>(Time, yt_ocean, xt_ocean)</div><div class='xr-var-dtype'>float32</div><div class='xr-var-preview xr-preview'>dask.array&lt;chunksize=(1, 1500, 3600), meta=np.ndarray&gt;</div><input id='attrs-1331b480-44f2-4a97-a41d-406783f1ac4b' class='xr-var-attrs-in' type='checkbox' ><label for='attrs-1331b480-44f2-4a97-a41d-406783f1ac4b' title='Show/Hide attributes'><svg class='icon xr-icon-file-text2'><use xlink:href='#icon-file-text2'></use></svg></label><input id='data-3fb58734-e3bc-41b1-8b64-b6da20a70262' class='xr-var-data-in' type='checkbox'><label for='data-3fb58734-e3bc-41b1-8b64-b6da20a70262' title='Show/Hide data repr'><svg class='icon xr-icon-database'><use xlink:href='#icon-database'></use></svg></label><div class='xr-var-attrs'><dl class='xr-attrs'><dt><span>long_name :</span></dt><dd>mixed layer depth determined by density criteria</dd><dt><span>standard_name :</span></dt><dd>ocean_mixed_layer_thickness_defined_by_sigma_t</dd><dt><span>time_avg_info :</span></dt><dd>average_T1,average_T2,average_DT</dd><dt><span>units :</span></dt><dd>m</dd><dt><span>valid_range :</span></dt><dd>[0.0, 1000000.0]</dd></dl></div><div class='xr-var-data'><table>\n",
       "    <tr>\n",
       "        <td>\n",
       "            <table style=\"border-collapse: collapse;\">\n",
       "                <thead>\n",
       "                    <tr>\n",
       "                        <td> </td>\n",
       "                        <th> Array </th>\n",
       "                        <th> Chunk </th>\n",
       "                    </tr>\n",
       "                </thead>\n",
       "                <tbody>\n",
       "                    \n",
       "                    <tr>\n",
       "                        <th> Bytes </th>\n",
       "                        <td> 224.06 GiB </td>\n",
       "                        <td> 20.60 MiB </td>\n",
       "                    </tr>\n",
       "                    \n",
       "                    <tr>\n",
       "                        <th> Shape </th>\n",
       "                        <td> (11138, 1500, 3600) </td>\n",
       "                        <td> (1, 1500, 3600) </td>\n",
       "                    </tr>\n",
       "                    <tr>\n",
       "                        <th> Dask graph </th>\n",
       "                        <td colspan=\"2\"> 11138 chunks in 2 graph layers </td>\n",
       "                    </tr>\n",
       "                    <tr>\n",
       "                        <th> Data type </th>\n",
       "                        <td colspan=\"2\"> float32 numpy.ndarray </td>\n",
       "                    </tr>\n",
       "                </tbody>\n",
       "            </table>\n",
       "        </td>\n",
       "        <td>\n",
       "        <svg width=\"174\" height=\"160\" style=\"stroke:rgb(0,0,0);stroke-width:1\" >\n",
       "\n",
       "  <!-- Horizontal lines -->\n",
       "  <line x1=\"10\" y1=\"0\" x2=\"80\" y2=\"70\" style=\"stroke-width:2\" />\n",
       "  <line x1=\"10\" y1=\"40\" x2=\"80\" y2=\"110\" style=\"stroke-width:2\" />\n",
       "\n",
       "  <!-- Vertical lines -->\n",
       "  <line x1=\"10\" y1=\"0\" x2=\"10\" y2=\"40\" style=\"stroke-width:2\" />\n",
       "  <line x1=\"13\" y1=\"3\" x2=\"13\" y2=\"43\" />\n",
       "  <line x1=\"17\" y1=\"7\" x2=\"17\" y2=\"47\" />\n",
       "  <line x1=\"21\" y1=\"11\" x2=\"21\" y2=\"51\" />\n",
       "  <line x1=\"24\" y1=\"14\" x2=\"24\" y2=\"55\" />\n",
       "  <line x1=\"28\" y1=\"18\" x2=\"28\" y2=\"58\" />\n",
       "  <line x1=\"32\" y1=\"22\" x2=\"32\" y2=\"62\" />\n",
       "  <line x1=\"36\" y1=\"26\" x2=\"36\" y2=\"66\" />\n",
       "  <line x1=\"39\" y1=\"29\" x2=\"39\" y2=\"69\" />\n",
       "  <line x1=\"43\" y1=\"33\" x2=\"43\" y2=\"73\" />\n",
       "  <line x1=\"47\" y1=\"37\" x2=\"47\" y2=\"77\" />\n",
       "  <line x1=\"50\" y1=\"40\" x2=\"50\" y2=\"81\" />\n",
       "  <line x1=\"54\" y1=\"44\" x2=\"54\" y2=\"84\" />\n",
       "  <line x1=\"58\" y1=\"48\" x2=\"58\" y2=\"88\" />\n",
       "  <line x1=\"62\" y1=\"52\" x2=\"62\" y2=\"92\" />\n",
       "  <line x1=\"65\" y1=\"55\" x2=\"65\" y2=\"95\" />\n",
       "  <line x1=\"69\" y1=\"59\" x2=\"69\" y2=\"99\" />\n",
       "  <line x1=\"73\" y1=\"63\" x2=\"73\" y2=\"103\" />\n",
       "  <line x1=\"76\" y1=\"66\" x2=\"76\" y2=\"107\" />\n",
       "  <line x1=\"80\" y1=\"70\" x2=\"80\" y2=\"110\" style=\"stroke-width:2\" />\n",
       "\n",
       "  <!-- Colored Rectangle -->\n",
       "  <polygon points=\"10.0,0.0 80.58823529411765,70.58823529411765 80.58823529411765,110.76285318382598 10.0,40.17461788970833\" style=\"fill:#8B4903A0;stroke-width:0\"/>\n",
       "\n",
       "  <!-- Horizontal lines -->\n",
       "  <line x1=\"10\" y1=\"0\" x2=\"53\" y2=\"0\" style=\"stroke-width:2\" />\n",
       "  <line x1=\"13\" y1=\"3\" x2=\"57\" y2=\"3\" />\n",
       "  <line x1=\"17\" y1=\"7\" x2=\"61\" y2=\"7\" />\n",
       "  <line x1=\"21\" y1=\"11\" x2=\"64\" y2=\"11\" />\n",
       "  <line x1=\"24\" y1=\"14\" x2=\"68\" y2=\"14\" />\n",
       "  <line x1=\"28\" y1=\"18\" x2=\"72\" y2=\"18\" />\n",
       "  <line x1=\"32\" y1=\"22\" x2=\"76\" y2=\"22\" />\n",
       "  <line x1=\"36\" y1=\"26\" x2=\"79\" y2=\"26\" />\n",
       "  <line x1=\"39\" y1=\"29\" x2=\"83\" y2=\"29\" />\n",
       "  <line x1=\"43\" y1=\"33\" x2=\"87\" y2=\"33\" />\n",
       "  <line x1=\"47\" y1=\"37\" x2=\"90\" y2=\"37\" />\n",
       "  <line x1=\"50\" y1=\"40\" x2=\"94\" y2=\"40\" />\n",
       "  <line x1=\"54\" y1=\"44\" x2=\"98\" y2=\"44\" />\n",
       "  <line x1=\"58\" y1=\"48\" x2=\"102\" y2=\"48\" />\n",
       "  <line x1=\"62\" y1=\"52\" x2=\"105\" y2=\"52\" />\n",
       "  <line x1=\"65\" y1=\"55\" x2=\"109\" y2=\"55\" />\n",
       "  <line x1=\"69\" y1=\"59\" x2=\"113\" y2=\"59\" />\n",
       "  <line x1=\"73\" y1=\"63\" x2=\"116\" y2=\"63\" />\n",
       "  <line x1=\"76\" y1=\"66\" x2=\"120\" y2=\"66\" />\n",
       "  <line x1=\"80\" y1=\"70\" x2=\"124\" y2=\"70\" style=\"stroke-width:2\" />\n",
       "\n",
       "  <!-- Vertical lines -->\n",
       "  <line x1=\"10\" y1=\"0\" x2=\"80\" y2=\"70\" style=\"stroke-width:2\" />\n",
       "  <line x1=\"53\" y1=\"0\" x2=\"124\" y2=\"70\" style=\"stroke-width:2\" />\n",
       "\n",
       "  <!-- Colored Rectangle -->\n",
       "  <polygon points=\"10.0,0.0 53.788497919956434,0.0 124.37673321407408,70.58823529411765 80.58823529411765,70.58823529411765\" style=\"fill:#8B4903A0;stroke-width:0\"/>\n",
       "\n",
       "  <!-- Horizontal lines -->\n",
       "  <line x1=\"80\" y1=\"70\" x2=\"124\" y2=\"70\" style=\"stroke-width:2\" />\n",
       "  <line x1=\"80\" y1=\"110\" x2=\"124\" y2=\"110\" style=\"stroke-width:2\" />\n",
       "\n",
       "  <!-- Vertical lines -->\n",
       "  <line x1=\"80\" y1=\"70\" x2=\"80\" y2=\"110\" style=\"stroke-width:2\" />\n",
       "  <line x1=\"124\" y1=\"70\" x2=\"124\" y2=\"110\" style=\"stroke-width:2\" />\n",
       "\n",
       "  <!-- Colored Rectangle -->\n",
       "  <polygon points=\"80.58823529411765,70.58823529411765 124.37673321407408,70.58823529411765 124.37673321407408,110.76285318382598 80.58823529411765,110.76285318382598\" style=\"fill:#ECB172A0;stroke-width:0\"/>\n",
       "\n",
       "  <!-- Text -->\n",
       "  <text x=\"102.482484\" y=\"130.762853\" font-size=\"1.0rem\" font-weight=\"100\" text-anchor=\"middle\" >3600</text>\n",
       "  <text x=\"144.376733\" y=\"90.675544\" font-size=\"1.0rem\" font-weight=\"100\" text-anchor=\"middle\" transform=\"rotate(-90,144.376733,90.675544)\">1500</text>\n",
       "  <text x=\"35.294118\" y=\"95.468736\" font-size=\"1.0rem\" font-weight=\"100\" text-anchor=\"middle\" transform=\"rotate(45,35.294118,95.468736)\">11138</text>\n",
       "</svg>\n",
       "        </td>\n",
       "    </tr>\n",
       "</table></div></li></ul></div></li><li class='xr-section-item'><input id='section-1b654fb3-ddf6-4991-84b4-cfaea1fb54bc' class='xr-section-summary-in' type='checkbox'  ><label for='section-1b654fb3-ddf6-4991-84b4-cfaea1fb54bc' class='xr-section-summary' >Indexes: <span>(3)</span></label><div class='xr-section-inline-details'></div><div class='xr-section-details'><ul class='xr-var-list'><li class='xr-var-item'><div class='xr-index-name'><div>Time</div></div><div class='xr-index-preview'>PandasIndex</div><div></div><input id='index-37005894-268b-439e-a933-d70a0431b775' class='xr-index-data-in' type='checkbox'/><label for='index-37005894-268b-439e-a933-d70a0431b775' title='Show/Hide index repr'><svg class='icon xr-icon-database'><use xlink:href='#icon-database'></use></svg></label><div class='xr-index-data'><pre>PandasIndex(DatetimeIndex([&#x27;1993-01-01 12:00:00&#x27;, &#x27;1993-01-02 12:00:00&#x27;,\n",
       "               &#x27;1993-01-03 12:00:00&#x27;, &#x27;1993-01-04 12:00:00&#x27;,\n",
       "               &#x27;1993-01-05 12:00:00&#x27;, &#x27;1993-01-06 12:00:00&#x27;,\n",
       "               &#x27;1993-01-07 12:00:00&#x27;, &#x27;1993-01-08 12:00:00&#x27;,\n",
       "               &#x27;1993-01-09 12:00:00&#x27;, &#x27;1993-01-10 12:00:00&#x27;,\n",
       "               ...\n",
       "               &#x27;2023-06-21 12:00:00&#x27;, &#x27;2023-06-22 12:00:00&#x27;,\n",
       "               &#x27;2023-06-23 12:00:00&#x27;, &#x27;2023-06-24 12:00:00&#x27;,\n",
       "               &#x27;2023-06-25 12:00:00&#x27;, &#x27;2023-06-26 12:00:00&#x27;,\n",
       "               &#x27;2023-06-27 12:00:00&#x27;, &#x27;2023-06-28 12:00:00&#x27;,\n",
       "               &#x27;2023-06-29 12:00:00&#x27;, &#x27;2023-06-30 12:00:00&#x27;],\n",
       "              dtype=&#x27;datetime64[ns]&#x27;, name=&#x27;Time&#x27;, length=11138, freq=None))</pre></div></li><li class='xr-var-item'><div class='xr-index-name'><div>xt_ocean</div></div><div class='xr-index-preview'>PandasIndex</div><div></div><input id='index-7bc3ba8a-ecd8-4811-80ea-03c3d8526efb' class='xr-index-data-in' type='checkbox'/><label for='index-7bc3ba8a-ecd8-4811-80ea-03c3d8526efb' title='Show/Hide index repr'><svg class='icon xr-icon-database'><use xlink:href='#icon-database'></use></svg></label><div class='xr-index-data'><pre>PandasIndex(Index([0.05000000074505806, 0.15000000596046448,                0.25,\n",
       "        0.3499999940395355, 0.44999998807907104,   0.550000011920929,\n",
       "        0.6499999761581421,                0.75,  0.8500000238418579,\n",
       "         0.949999988079071,\n",
       "       ...\n",
       "        359.04998779296875,   359.1499938964844,              359.25,\n",
       "         359.3500061035156,  359.45001220703125,  359.54998779296875,\n",
       "         359.6499938964844,              359.75,   359.8500061035156,\n",
       "        359.95001220703125],\n",
       "      dtype=&#x27;float64&#x27;, name=&#x27;xt_ocean&#x27;, length=3600))</pre></div></li><li class='xr-var-item'><div class='xr-index-name'><div>yt_ocean</div></div><div class='xr-index-preview'>PandasIndex</div><div></div><input id='index-115a31b8-ed11-4ec8-86ce-b10d9b36b293' class='xr-index-data-in' type='checkbox'/><label for='index-115a31b8-ed11-4ec8-86ce-b10d9b36b293' title='Show/Hide index repr'><svg class='icon xr-icon-database'><use xlink:href='#icon-database'></use></svg></label><div class='xr-index-data'><pre>PandasIndex(Index([-74.94999694824219,  -74.8499984741211,             -74.75,\n",
       "        -74.6500015258789, -74.55000305175781, -74.44999694824219,\n",
       "        -74.3499984741211,             -74.25,  -74.1500015258789,\n",
       "       -74.05000305175781,\n",
       "       ...\n",
       "        74.05000305175781,   74.1500015258789,              74.25,\n",
       "         74.3499984741211,  74.44999694824219,  74.55000305175781,\n",
       "         74.6500015258789,              74.75,   74.8499984741211,\n",
       "        74.94999694824219],\n",
       "      dtype=&#x27;float64&#x27;, name=&#x27;yt_ocean&#x27;, length=1500))</pre></div></li></ul></div></li><li class='xr-section-item'><input id='section-ed48d3b1-fac6-439b-8c38-11c82d9b2684' class='xr-section-summary-in' type='checkbox'  ><label for='section-ed48d3b1-fac6-439b-8c38-11c82d9b2684' class='xr-section-summary' >Attributes: <span>(13)</span></label><div class='xr-section-inline-details'></div><div class='xr-section-details'><dl class='xr-attrs'><dt><span>NumFilesInSet :</span></dt><dd>20</dd><dt><span>acknowledgement :</span></dt><dd>BRAN is made freely available by CSIRO Bluelink and is supported by the Bluelink Partnership: a collaboration between the Australian Department of Defence, Bureau of Meteorology and CSIRO.</dd><dt><span>catalogue_doi_url :</span></dt><dd>http://dx.doi.org/10.25914/6009627c7af03</dd><dt><span>grid_tile :</span></dt><dd>N/A</dd><dt><span>grid_type :</span></dt><dd>regular</dd><dt><span>intake_esm_attrs:_data_format_ :</span></dt><dd>netcdf</dd><dt><span>intake_esm_attrs:domain :</span></dt><dd>ocean</dd><dt><span>intake_esm_attrs:source :</span></dt><dd>BRAN2020</dd><dt><span>intake_esm_attrs:time_period :</span></dt><dd>daily</dd><dt><span>intake_esm_attrs:variable :</span></dt><dd>mld</dd><dt><span>intake_esm_dataset_key :</span></dt><dd>ocean.daily</dd><dt><span>intake_esm_vars :</span></dt><dd>[&#x27;mld&#x27;]</dd><dt><span>title :</span></dt><dd>BRAN2020</dd></dl></div></li></ul></div></div>"
      ],
      "text/plain": [
       "<xarray.Dataset> Size: 241GB\n",
       "Dimensions:   (Time: 11138, yt_ocean: 1500, xt_ocean: 3600)\n",
       "Coordinates:\n",
       "  * Time      (Time) datetime64[ns] 89kB 1993-01-01T12:00:00 ... 2023-06-30T1...\n",
       "  * xt_ocean  (xt_ocean) float64 29kB 0.05 0.15 0.25 0.35 ... 359.8 359.9 360.0\n",
       "  * yt_ocean  (yt_ocean) float64 12kB -74.95 -74.85 -74.75 ... 74.75 74.85 74.95\n",
       "Data variables:\n",
       "    mld       (Time, yt_ocean, xt_ocean) float32 241GB dask.array<chunksize=(1, 1500, 3600), meta=np.ndarray>\n",
       "Attributes: (12/13)\n",
       "    NumFilesInSet:                   20\n",
       "    acknowledgement:                 BRAN is made freely available by CSIRO B...\n",
       "    catalogue_doi_url:               http://dx.doi.org/10.25914/6009627c7af03\n",
       "    grid_tile:                       N/A\n",
       "    grid_type:                       regular\n",
       "    intake_esm_attrs:_data_format_:  netcdf\n",
       "    ...                              ...\n",
       "    intake_esm_attrs:source:         BRAN2020\n",
       "    intake_esm_attrs:time_period:    daily\n",
       "    intake_esm_attrs:variable:       mld\n",
       "    intake_esm_dataset_key:          ocean.daily\n",
       "    intake_esm_vars:                 ['mld']\n",
       "    title:                           BRAN2020"
      ]
     },
     "execution_count": 7,
     "metadata": {},
     "output_type": "execute_result"
    }
   ],
   "source": [
    "BRAN2020_daily_var"
   ]
  },
  {
   "cell_type": "markdown",
   "id": "f73241de-992d-464c-bf81-429830e9f8fe",
   "metadata": {},
   "source": [
    "## CHUNK for time and WRITE zarr"
   ]
  },
  {
   "cell_type": "markdown",
   "id": "ae691c01-93fc-442b-af32-04acac5a552a",
   "metadata": {},
   "source": [
    "### \"Consider either rechunking using `chunk()`, deleting or modifying `encoding['chunks']`\""
   ]
  },
  {
   "cell_type": "code",
   "execution_count": 8,
   "id": "c3e83974-f5bc-47ca-b517-d73c1b25dd06",
   "metadata": {},
   "outputs": [],
   "source": [
    "def remove_zarr_encoding(DS):\n",
    "    for var in DS:\n",
    "        DS[var].encoding = {}\n",
    "\n",
    "    for coord in DS.coords:\n",
    "        DS[coord].encoding = {}\n",
    "    return DS"
   ]
  },
  {
   "cell_type": "code",
   "execution_count": 9,
   "id": "4d9bde98-f47f-4f72-9650-b9898f376bd4",
   "metadata": {},
   "outputs": [],
   "source": [
    "ard_rcTime_file_ID = 'BRAN2020-daily-mld-chunk4time-v04042024.zarr'"
   ]
  },
  {
   "cell_type": "code",
   "execution_count": null,
   "id": "9817a4f7-5c89-4f3f-ad8d-b99c70b6897e",
   "metadata": {},
   "outputs": [],
   "source": [
    "BRAN2020_daily_var_rcTime =  BRAN2020_daily_var.chunk({'Time':-1,'xt_ocean':9,'yt_ocean':1500})\n",
    "BRAN2020_daily_var_rcTime"
   ]
  },
  {
   "cell_type": "code",
   "execution_count": null,
   "id": "ec064371-9f65-44e5-b448-d482b151e93b",
   "metadata": {},
   "outputs": [],
   "source": [
    "BRAN2020_daily_var_rcTime = remove_zarr_encoding(BRAN2020_daily_var_rcTime)"
   ]
  },
  {
   "cell_type": "code",
   "execution_count": null,
   "id": "ad45f151-bcab-4b5e-b79f-59b35e344d2b",
   "metadata": {},
   "outputs": [],
   "source": [
    "%%time\n",
    "BRAN2020_daily_var_rcTime.to_zarr(BRAN2020_ard_path+ard_rcTime_file_ID,consolidated=True)"
   ]
  },
  {
   "cell_type": "code",
   "execution_count": null,
   "id": "f35b12da-55e3-4f63-8c62-445c806fe10f",
   "metadata": {},
   "outputs": [],
   "source": [
    "!touch /scratch/es60/ard/reanalysis/BRAN2020/ARD/2D/finished_BRAN2020-mld-rechunk-zarr.log"
   ]
  },
  {
   "cell_type": "markdown",
   "id": "a6cf81d4-a2bd-4510-b096-e864155a094f",
   "metadata": {},
   "source": [
    "# rechunker approach"
   ]
  },
  {
   "cell_type": "code",
   "execution_count": 10,
   "id": "39a6aea5-2cf2-48c1-9828-686aed016703",
   "metadata": {},
   "outputs": [
    {
     "data": {
      "text/html": [
       "<h2>Rechunked</h2>\n",
       "        <details>\n",
       "          <summary><b>Source</b></summary>\n",
       "          <div><svg style=\"position: absolute; width: 0; height: 0; overflow: hidden\">\n",
       "<defs>\n",
       "<symbol id=\"icon-database\" viewBox=\"0 0 32 32\">\n",
       "<path d=\"M16 0c-8.837 0-16 2.239-16 5v4c0 2.761 7.163 5 16 5s16-2.239 16-5v-4c0-2.761-7.163-5-16-5z\"></path>\n",
       "<path d=\"M16 17c-8.837 0-16-2.239-16-5v6c0 2.761 7.163 5 16 5s16-2.239 16-5v-6c0 2.761-7.163 5-16 5z\"></path>\n",
       "<path d=\"M16 26c-8.837 0-16-2.239-16-5v6c0 2.761 7.163 5 16 5s16-2.239 16-5v-6c0 2.761-7.163 5-16 5z\"></path>\n",
       "</symbol>\n",
       "<symbol id=\"icon-file-text2\" viewBox=\"0 0 32 32\">\n",
       "<path d=\"M28.681 7.159c-0.694-0.947-1.662-2.053-2.724-3.116s-2.169-2.030-3.116-2.724c-1.612-1.182-2.393-1.319-2.841-1.319h-15.5c-1.378 0-2.5 1.121-2.5 2.5v27c0 1.378 1.122 2.5 2.5 2.5h23c1.378 0 2.5-1.122 2.5-2.5v-19.5c0-0.448-0.137-1.23-1.319-2.841zM24.543 5.457c0.959 0.959 1.712 1.825 2.268 2.543h-4.811v-4.811c0.718 0.556 1.584 1.309 2.543 2.268zM28 29.5c0 0.271-0.229 0.5-0.5 0.5h-23c-0.271 0-0.5-0.229-0.5-0.5v-27c0-0.271 0.229-0.5 0.5-0.5 0 0 15.499-0 15.5 0v7c0 0.552 0.448 1 1 1h7v19.5z\"></path>\n",
       "<path d=\"M23 26h-14c-0.552 0-1-0.448-1-1s0.448-1 1-1h14c0.552 0 1 0.448 1 1s-0.448 1-1 1z\"></path>\n",
       "<path d=\"M23 22h-14c-0.552 0-1-0.448-1-1s0.448-1 1-1h14c0.552 0 1 0.448 1 1s-0.448 1-1 1z\"></path>\n",
       "<path d=\"M23 18h-14c-0.552 0-1-0.448-1-1s0.448-1 1-1h14c0.552 0 1 0.448 1 1s-0.448 1-1 1z\"></path>\n",
       "</symbol>\n",
       "</defs>\n",
       "</svg>\n",
       "<style>/* CSS stylesheet for displaying xarray objects in jupyterlab.\n",
       " *\n",
       " */\n",
       "\n",
       ":root {\n",
       "  --xr-font-color0: var(--jp-content-font-color0, rgba(0, 0, 0, 1));\n",
       "  --xr-font-color2: var(--jp-content-font-color2, rgba(0, 0, 0, 0.54));\n",
       "  --xr-font-color3: var(--jp-content-font-color3, rgba(0, 0, 0, 0.38));\n",
       "  --xr-border-color: var(--jp-border-color2, #e0e0e0);\n",
       "  --xr-disabled-color: var(--jp-layout-color3, #bdbdbd);\n",
       "  --xr-background-color: var(--jp-layout-color0, white);\n",
       "  --xr-background-color-row-even: var(--jp-layout-color1, white);\n",
       "  --xr-background-color-row-odd: var(--jp-layout-color2, #eeeeee);\n",
       "}\n",
       "\n",
       "html[theme=dark],\n",
       "body[data-theme=dark],\n",
       "body.vscode-dark {\n",
       "  --xr-font-color0: rgba(255, 255, 255, 1);\n",
       "  --xr-font-color2: rgba(255, 255, 255, 0.54);\n",
       "  --xr-font-color3: rgba(255, 255, 255, 0.38);\n",
       "  --xr-border-color: #1F1F1F;\n",
       "  --xr-disabled-color: #515151;\n",
       "  --xr-background-color: #111111;\n",
       "  --xr-background-color-row-even: #111111;\n",
       "  --xr-background-color-row-odd: #313131;\n",
       "}\n",
       "\n",
       ".xr-wrap {\n",
       "  display: block !important;\n",
       "  min-width: 300px;\n",
       "  max-width: 700px;\n",
       "}\n",
       "\n",
       ".xr-text-repr-fallback {\n",
       "  /* fallback to plain text repr when CSS is not injected (untrusted notebook) */\n",
       "  display: none;\n",
       "}\n",
       "\n",
       ".xr-header {\n",
       "  padding-top: 6px;\n",
       "  padding-bottom: 6px;\n",
       "  margin-bottom: 4px;\n",
       "  border-bottom: solid 1px var(--xr-border-color);\n",
       "}\n",
       "\n",
       ".xr-header > div,\n",
       ".xr-header > ul {\n",
       "  display: inline;\n",
       "  margin-top: 0;\n",
       "  margin-bottom: 0;\n",
       "}\n",
       "\n",
       ".xr-obj-type,\n",
       ".xr-array-name {\n",
       "  margin-left: 2px;\n",
       "  margin-right: 10px;\n",
       "}\n",
       "\n",
       ".xr-obj-type {\n",
       "  color: var(--xr-font-color2);\n",
       "}\n",
       "\n",
       ".xr-sections {\n",
       "  padding-left: 0 !important;\n",
       "  display: grid;\n",
       "  grid-template-columns: 150px auto auto 1fr 20px 20px;\n",
       "}\n",
       "\n",
       ".xr-section-item {\n",
       "  display: contents;\n",
       "}\n",
       "\n",
       ".xr-section-item input {\n",
       "  display: none;\n",
       "}\n",
       "\n",
       ".xr-section-item input + label {\n",
       "  color: var(--xr-disabled-color);\n",
       "}\n",
       "\n",
       ".xr-section-item input:enabled + label {\n",
       "  cursor: pointer;\n",
       "  color: var(--xr-font-color2);\n",
       "}\n",
       "\n",
       ".xr-section-item input:enabled + label:hover {\n",
       "  color: var(--xr-font-color0);\n",
       "}\n",
       "\n",
       ".xr-section-summary {\n",
       "  grid-column: 1;\n",
       "  color: var(--xr-font-color2);\n",
       "  font-weight: 500;\n",
       "}\n",
       "\n",
       ".xr-section-summary > span {\n",
       "  display: inline-block;\n",
       "  padding-left: 0.5em;\n",
       "}\n",
       "\n",
       ".xr-section-summary-in:disabled + label {\n",
       "  color: var(--xr-font-color2);\n",
       "}\n",
       "\n",
       ".xr-section-summary-in + label:before {\n",
       "  display: inline-block;\n",
       "  content: '►';\n",
       "  font-size: 11px;\n",
       "  width: 15px;\n",
       "  text-align: center;\n",
       "}\n",
       "\n",
       ".xr-section-summary-in:disabled + label:before {\n",
       "  color: var(--xr-disabled-color);\n",
       "}\n",
       "\n",
       ".xr-section-summary-in:checked + label:before {\n",
       "  content: '▼';\n",
       "}\n",
       "\n",
       ".xr-section-summary-in:checked + label > span {\n",
       "  display: none;\n",
       "}\n",
       "\n",
       ".xr-section-summary,\n",
       ".xr-section-inline-details {\n",
       "  padding-top: 4px;\n",
       "  padding-bottom: 4px;\n",
       "}\n",
       "\n",
       ".xr-section-inline-details {\n",
       "  grid-column: 2 / -1;\n",
       "}\n",
       "\n",
       ".xr-section-details {\n",
       "  display: none;\n",
       "  grid-column: 1 / -1;\n",
       "  margin-bottom: 5px;\n",
       "}\n",
       "\n",
       ".xr-section-summary-in:checked ~ .xr-section-details {\n",
       "  display: contents;\n",
       "}\n",
       "\n",
       ".xr-array-wrap {\n",
       "  grid-column: 1 / -1;\n",
       "  display: grid;\n",
       "  grid-template-columns: 20px auto;\n",
       "}\n",
       "\n",
       ".xr-array-wrap > label {\n",
       "  grid-column: 1;\n",
       "  vertical-align: top;\n",
       "}\n",
       "\n",
       ".xr-preview {\n",
       "  color: var(--xr-font-color3);\n",
       "}\n",
       "\n",
       ".xr-array-preview,\n",
       ".xr-array-data {\n",
       "  padding: 0 5px !important;\n",
       "  grid-column: 2;\n",
       "}\n",
       "\n",
       ".xr-array-data,\n",
       ".xr-array-in:checked ~ .xr-array-preview {\n",
       "  display: none;\n",
       "}\n",
       "\n",
       ".xr-array-in:checked ~ .xr-array-data,\n",
       ".xr-array-preview {\n",
       "  display: inline-block;\n",
       "}\n",
       "\n",
       ".xr-dim-list {\n",
       "  display: inline-block !important;\n",
       "  list-style: none;\n",
       "  padding: 0 !important;\n",
       "  margin: 0;\n",
       "}\n",
       "\n",
       ".xr-dim-list li {\n",
       "  display: inline-block;\n",
       "  padding: 0;\n",
       "  margin: 0;\n",
       "}\n",
       "\n",
       ".xr-dim-list:before {\n",
       "  content: '(';\n",
       "}\n",
       "\n",
       ".xr-dim-list:after {\n",
       "  content: ')';\n",
       "}\n",
       "\n",
       ".xr-dim-list li:not(:last-child):after {\n",
       "  content: ',';\n",
       "  padding-right: 5px;\n",
       "}\n",
       "\n",
       ".xr-has-index {\n",
       "  font-weight: bold;\n",
       "}\n",
       "\n",
       ".xr-var-list,\n",
       ".xr-var-item {\n",
       "  display: contents;\n",
       "}\n",
       "\n",
       ".xr-var-item > div,\n",
       ".xr-var-item label,\n",
       ".xr-var-item > .xr-var-name span {\n",
       "  background-color: var(--xr-background-color-row-even);\n",
       "  margin-bottom: 0;\n",
       "}\n",
       "\n",
       ".xr-var-item > .xr-var-name:hover span {\n",
       "  padding-right: 5px;\n",
       "}\n",
       "\n",
       ".xr-var-list > li:nth-child(odd) > div,\n",
       ".xr-var-list > li:nth-child(odd) > label,\n",
       ".xr-var-list > li:nth-child(odd) > .xr-var-name span {\n",
       "  background-color: var(--xr-background-color-row-odd);\n",
       "}\n",
       "\n",
       ".xr-var-name {\n",
       "  grid-column: 1;\n",
       "}\n",
       "\n",
       ".xr-var-dims {\n",
       "  grid-column: 2;\n",
       "}\n",
       "\n",
       ".xr-var-dtype {\n",
       "  grid-column: 3;\n",
       "  text-align: right;\n",
       "  color: var(--xr-font-color2);\n",
       "}\n",
       "\n",
       ".xr-var-preview {\n",
       "  grid-column: 4;\n",
       "}\n",
       "\n",
       ".xr-index-preview {\n",
       "  grid-column: 2 / 5;\n",
       "  color: var(--xr-font-color2);\n",
       "}\n",
       "\n",
       ".xr-var-name,\n",
       ".xr-var-dims,\n",
       ".xr-var-dtype,\n",
       ".xr-preview,\n",
       ".xr-attrs dt {\n",
       "  white-space: nowrap;\n",
       "  overflow: hidden;\n",
       "  text-overflow: ellipsis;\n",
       "  padding-right: 10px;\n",
       "}\n",
       "\n",
       ".xr-var-name:hover,\n",
       ".xr-var-dims:hover,\n",
       ".xr-var-dtype:hover,\n",
       ".xr-attrs dt:hover {\n",
       "  overflow: visible;\n",
       "  width: auto;\n",
       "  z-index: 1;\n",
       "}\n",
       "\n",
       ".xr-var-attrs,\n",
       ".xr-var-data,\n",
       ".xr-index-data {\n",
       "  display: none;\n",
       "  background-color: var(--xr-background-color) !important;\n",
       "  padding-bottom: 5px !important;\n",
       "}\n",
       "\n",
       ".xr-var-attrs-in:checked ~ .xr-var-attrs,\n",
       ".xr-var-data-in:checked ~ .xr-var-data,\n",
       ".xr-index-data-in:checked ~ .xr-index-data {\n",
       "  display: block;\n",
       "}\n",
       "\n",
       ".xr-var-data > table {\n",
       "  float: right;\n",
       "}\n",
       "\n",
       ".xr-var-name span,\n",
       ".xr-var-data,\n",
       ".xr-index-name div,\n",
       ".xr-index-data,\n",
       ".xr-attrs {\n",
       "  padding-left: 25px !important;\n",
       "}\n",
       "\n",
       ".xr-attrs,\n",
       ".xr-var-attrs,\n",
       ".xr-var-data,\n",
       ".xr-index-data {\n",
       "  grid-column: 1 / -1;\n",
       "}\n",
       "\n",
       "dl.xr-attrs {\n",
       "  padding: 0;\n",
       "  margin: 0;\n",
       "  display: grid;\n",
       "  grid-template-columns: 125px auto;\n",
       "}\n",
       "\n",
       ".xr-attrs dt,\n",
       ".xr-attrs dd {\n",
       "  padding: 0;\n",
       "  margin: 0;\n",
       "  float: left;\n",
       "  padding-right: 10px;\n",
       "  width: auto;\n",
       "}\n",
       "\n",
       ".xr-attrs dt {\n",
       "  font-weight: normal;\n",
       "  grid-column: 1;\n",
       "}\n",
       "\n",
       ".xr-attrs dt:hover span {\n",
       "  display: inline-block;\n",
       "  background: var(--xr-background-color);\n",
       "  padding-right: 10px;\n",
       "}\n",
       "\n",
       ".xr-attrs dd {\n",
       "  grid-column: 2;\n",
       "  white-space: pre-wrap;\n",
       "  word-break: break-all;\n",
       "}\n",
       "\n",
       ".xr-icon-database,\n",
       ".xr-icon-file-text2,\n",
       ".xr-no-icon {\n",
       "  display: inline-block;\n",
       "  vertical-align: middle;\n",
       "  width: 1em;\n",
       "  height: 1.5em !important;\n",
       "  stroke-width: 0;\n",
       "  stroke: currentColor;\n",
       "  fill: currentColor;\n",
       "}\n",
       "</style><pre class='xr-text-repr-fallback'>&lt;xarray.Dataset&gt; Size: 241GB\n",
       "Dimensions:   (Time: 11138, yt_ocean: 1500, xt_ocean: 3600)\n",
       "Coordinates:\n",
       "  * Time      (Time) datetime64[ns] 89kB 1993-01-01T12:00:00 ... 2023-06-30T1...\n",
       "  * xt_ocean  (xt_ocean) float64 29kB 0.05 0.15 0.25 0.35 ... 359.8 359.9 360.0\n",
       "  * yt_ocean  (yt_ocean) float64 12kB -74.95 -74.85 -74.75 ... 74.75 74.85 74.95\n",
       "Data variables:\n",
       "    mld       (Time, yt_ocean, xt_ocean) float32 241GB dask.array&lt;chunksize=(1, 1500, 3600), meta=np.ndarray&gt;\n",
       "Attributes: (12/13)\n",
       "    NumFilesInSet:                   20\n",
       "    acknowledgement:                 BRAN is made freely available by CSIRO B...\n",
       "    catalogue_doi_url:               http://dx.doi.org/10.25914/6009627c7af03\n",
       "    grid_tile:                       N/A\n",
       "    grid_type:                       regular\n",
       "    intake_esm_attrs:_data_format_:  netcdf\n",
       "    ...                              ...\n",
       "    intake_esm_attrs:source:         BRAN2020\n",
       "    intake_esm_attrs:time_period:    daily\n",
       "    intake_esm_attrs:variable:       mld\n",
       "    intake_esm_dataset_key:          ocean.daily\n",
       "    intake_esm_vars:                 [&#x27;mld&#x27;]\n",
       "    title:                           BRAN2020</pre><div class='xr-wrap' style='display:none'><div class='xr-header'><div class='xr-obj-type'>xarray.Dataset</div></div><ul class='xr-sections'><li class='xr-section-item'><input id='section-31cea501-376d-4927-b4dc-f81f55353f75' class='xr-section-summary-in' type='checkbox' disabled ><label for='section-31cea501-376d-4927-b4dc-f81f55353f75' class='xr-section-summary'  title='Expand/collapse section'>Dimensions:</label><div class='xr-section-inline-details'><ul class='xr-dim-list'><li><span class='xr-has-index'>Time</span>: 11138</li><li><span class='xr-has-index'>yt_ocean</span>: 1500</li><li><span class='xr-has-index'>xt_ocean</span>: 3600</li></ul></div><div class='xr-section-details'></div></li><li class='xr-section-item'><input id='section-a662e75e-f9ba-4055-88d8-dccdec9318d2' class='xr-section-summary-in' type='checkbox'  checked><label for='section-a662e75e-f9ba-4055-88d8-dccdec9318d2' class='xr-section-summary' >Coordinates: <span>(3)</span></label><div class='xr-section-inline-details'></div><div class='xr-section-details'><ul class='xr-var-list'><li class='xr-var-item'><div class='xr-var-name'><span class='xr-has-index'>Time</span></div><div class='xr-var-dims'>(Time)</div><div class='xr-var-dtype'>datetime64[ns]</div><div class='xr-var-preview xr-preview'>1993-01-01T12:00:00 ... 2023-06-...</div><input id='attrs-737f5b2e-e118-4ddd-87a6-3f70cf792683' class='xr-var-attrs-in' type='checkbox' ><label for='attrs-737f5b2e-e118-4ddd-87a6-3f70cf792683' title='Show/Hide attributes'><svg class='icon xr-icon-file-text2'><use xlink:href='#icon-file-text2'></use></svg></label><input id='data-19e25a5c-d309-4303-bb23-44b97efba8cf' class='xr-var-data-in' type='checkbox'><label for='data-19e25a5c-d309-4303-bb23-44b97efba8cf' title='Show/Hide data repr'><svg class='icon xr-icon-database'><use xlink:href='#icon-database'></use></svg></label><div class='xr-var-attrs'><dl class='xr-attrs'><dt><span>calendar_type :</span></dt><dd>GREGORIAN</dd><dt><span>cartesian_axis :</span></dt><dd>T</dd><dt><span>cell_methods :</span></dt><dd>Time: mean</dd><dt><span>long_name :</span></dt><dd>Time</dd></dl></div><div class='xr-var-data'><pre>array([&#x27;1993-01-01T12:00:00.000000000&#x27;, &#x27;1993-01-02T12:00:00.000000000&#x27;,\n",
       "       &#x27;1993-01-03T12:00:00.000000000&#x27;, ..., &#x27;2023-06-28T12:00:00.000000000&#x27;,\n",
       "       &#x27;2023-06-29T12:00:00.000000000&#x27;, &#x27;2023-06-30T12:00:00.000000000&#x27;],\n",
       "      dtype=&#x27;datetime64[ns]&#x27;)</pre></div></li><li class='xr-var-item'><div class='xr-var-name'><span class='xr-has-index'>xt_ocean</span></div><div class='xr-var-dims'>(xt_ocean)</div><div class='xr-var-dtype'>float64</div><div class='xr-var-preview xr-preview'>0.05 0.15 0.25 ... 359.9 360.0</div><input id='attrs-b7093d65-d9b8-4494-b718-22731005f532' class='xr-var-attrs-in' type='checkbox' ><label for='attrs-b7093d65-d9b8-4494-b718-22731005f532' title='Show/Hide attributes'><svg class='icon xr-icon-file-text2'><use xlink:href='#icon-file-text2'></use></svg></label><input id='data-f547c466-1518-4a96-b501-12aed6327a45' class='xr-var-data-in' type='checkbox'><label for='data-f547c466-1518-4a96-b501-12aed6327a45' title='Show/Hide data repr'><svg class='icon xr-icon-database'><use xlink:href='#icon-database'></use></svg></label><div class='xr-var-attrs'><dl class='xr-attrs'><dt><span>cartesian_axis :</span></dt><dd>X</dd><dt><span>domain_decomposition :</span></dt><dd>[1, 3600, 1, 1800]</dd><dt><span>long_name :</span></dt><dd>tcell longitude</dd><dt><span>units :</span></dt><dd>degrees_E</dd></dl></div><div class='xr-var-data'><pre>array([5.0000e-02, 1.5000e-01, 2.5000e-01, ..., 3.5975e+02, 3.5985e+02,\n",
       "       3.5995e+02])</pre></div></li><li class='xr-var-item'><div class='xr-var-name'><span class='xr-has-index'>yt_ocean</span></div><div class='xr-var-dims'>(yt_ocean)</div><div class='xr-var-dtype'>float64</div><div class='xr-var-preview xr-preview'>-74.95 -74.85 ... 74.85 74.95</div><input id='attrs-fca5a31f-8fa7-477c-804d-312f280a4070' class='xr-var-attrs-in' type='checkbox' ><label for='attrs-fca5a31f-8fa7-477c-804d-312f280a4070' title='Show/Hide attributes'><svg class='icon xr-icon-file-text2'><use xlink:href='#icon-file-text2'></use></svg></label><input id='data-8a37fad0-2ad2-476c-adf6-6d1639deda4b' class='xr-var-data-in' type='checkbox'><label for='data-8a37fad0-2ad2-476c-adf6-6d1639deda4b' title='Show/Hide data repr'><svg class='icon xr-icon-database'><use xlink:href='#icon-database'></use></svg></label><div class='xr-var-attrs'><dl class='xr-attrs'><dt><span>cartesian_axis :</span></dt><dd>Y</dd><dt><span>domain_decomposition :</span></dt><dd>[1, 1500, 1, 150]</dd><dt><span>long_name :</span></dt><dd>tcell latitude</dd><dt><span>units :</span></dt><dd>degrees_N</dd></dl></div><div class='xr-var-data'><pre>array([-74.949997, -74.849998, -74.75    , ...,  74.75    ,  74.849998,\n",
       "        74.949997])</pre></div></li></ul></div></li><li class='xr-section-item'><input id='section-82e3eeea-3f5c-4fcf-b187-fc14eaaae8fc' class='xr-section-summary-in' type='checkbox'  checked><label for='section-82e3eeea-3f5c-4fcf-b187-fc14eaaae8fc' class='xr-section-summary' >Data variables: <span>(1)</span></label><div class='xr-section-inline-details'></div><div class='xr-section-details'><ul class='xr-var-list'><li class='xr-var-item'><div class='xr-var-name'><span>mld</span></div><div class='xr-var-dims'>(Time, yt_ocean, xt_ocean)</div><div class='xr-var-dtype'>float32</div><div class='xr-var-preview xr-preview'>dask.array&lt;chunksize=(1, 1500, 3600), meta=np.ndarray&gt;</div><input id='attrs-2e6692b6-95df-4903-964f-7ddc4db2bbb6' class='xr-var-attrs-in' type='checkbox' ><label for='attrs-2e6692b6-95df-4903-964f-7ddc4db2bbb6' title='Show/Hide attributes'><svg class='icon xr-icon-file-text2'><use xlink:href='#icon-file-text2'></use></svg></label><input id='data-cea9d131-e659-4b97-9746-3da101bf5d4f' class='xr-var-data-in' type='checkbox'><label for='data-cea9d131-e659-4b97-9746-3da101bf5d4f' title='Show/Hide data repr'><svg class='icon xr-icon-database'><use xlink:href='#icon-database'></use></svg></label><div class='xr-var-attrs'><dl class='xr-attrs'><dt><span>long_name :</span></dt><dd>mixed layer depth determined by density criteria</dd><dt><span>standard_name :</span></dt><dd>ocean_mixed_layer_thickness_defined_by_sigma_t</dd><dt><span>time_avg_info :</span></dt><dd>average_T1,average_T2,average_DT</dd><dt><span>units :</span></dt><dd>m</dd><dt><span>valid_range :</span></dt><dd>[0.0, 1000000.0]</dd></dl></div><div class='xr-var-data'><table>\n",
       "    <tr>\n",
       "        <td>\n",
       "            <table style=\"border-collapse: collapse;\">\n",
       "                <thead>\n",
       "                    <tr>\n",
       "                        <td> </td>\n",
       "                        <th> Array </th>\n",
       "                        <th> Chunk </th>\n",
       "                    </tr>\n",
       "                </thead>\n",
       "                <tbody>\n",
       "                    \n",
       "                    <tr>\n",
       "                        <th> Bytes </th>\n",
       "                        <td> 224.06 GiB </td>\n",
       "                        <td> 20.60 MiB </td>\n",
       "                    </tr>\n",
       "                    \n",
       "                    <tr>\n",
       "                        <th> Shape </th>\n",
       "                        <td> (11138, 1500, 3600) </td>\n",
       "                        <td> (1, 1500, 3600) </td>\n",
       "                    </tr>\n",
       "                    <tr>\n",
       "                        <th> Dask graph </th>\n",
       "                        <td colspan=\"2\"> 11138 chunks in 2 graph layers </td>\n",
       "                    </tr>\n",
       "                    <tr>\n",
       "                        <th> Data type </th>\n",
       "                        <td colspan=\"2\"> float32 numpy.ndarray </td>\n",
       "                    </tr>\n",
       "                </tbody>\n",
       "            </table>\n",
       "        </td>\n",
       "        <td>\n",
       "        <svg width=\"174\" height=\"160\" style=\"stroke:rgb(0,0,0);stroke-width:1\" >\n",
       "\n",
       "  <!-- Horizontal lines -->\n",
       "  <line x1=\"10\" y1=\"0\" x2=\"80\" y2=\"70\" style=\"stroke-width:2\" />\n",
       "  <line x1=\"10\" y1=\"40\" x2=\"80\" y2=\"110\" style=\"stroke-width:2\" />\n",
       "\n",
       "  <!-- Vertical lines -->\n",
       "  <line x1=\"10\" y1=\"0\" x2=\"10\" y2=\"40\" style=\"stroke-width:2\" />\n",
       "  <line x1=\"13\" y1=\"3\" x2=\"13\" y2=\"43\" />\n",
       "  <line x1=\"17\" y1=\"7\" x2=\"17\" y2=\"47\" />\n",
       "  <line x1=\"21\" y1=\"11\" x2=\"21\" y2=\"51\" />\n",
       "  <line x1=\"24\" y1=\"14\" x2=\"24\" y2=\"55\" />\n",
       "  <line x1=\"28\" y1=\"18\" x2=\"28\" y2=\"58\" />\n",
       "  <line x1=\"32\" y1=\"22\" x2=\"32\" y2=\"62\" />\n",
       "  <line x1=\"36\" y1=\"26\" x2=\"36\" y2=\"66\" />\n",
       "  <line x1=\"39\" y1=\"29\" x2=\"39\" y2=\"69\" />\n",
       "  <line x1=\"43\" y1=\"33\" x2=\"43\" y2=\"73\" />\n",
       "  <line x1=\"47\" y1=\"37\" x2=\"47\" y2=\"77\" />\n",
       "  <line x1=\"50\" y1=\"40\" x2=\"50\" y2=\"81\" />\n",
       "  <line x1=\"54\" y1=\"44\" x2=\"54\" y2=\"84\" />\n",
       "  <line x1=\"58\" y1=\"48\" x2=\"58\" y2=\"88\" />\n",
       "  <line x1=\"62\" y1=\"52\" x2=\"62\" y2=\"92\" />\n",
       "  <line x1=\"65\" y1=\"55\" x2=\"65\" y2=\"95\" />\n",
       "  <line x1=\"69\" y1=\"59\" x2=\"69\" y2=\"99\" />\n",
       "  <line x1=\"73\" y1=\"63\" x2=\"73\" y2=\"103\" />\n",
       "  <line x1=\"76\" y1=\"66\" x2=\"76\" y2=\"107\" />\n",
       "  <line x1=\"80\" y1=\"70\" x2=\"80\" y2=\"110\" style=\"stroke-width:2\" />\n",
       "\n",
       "  <!-- Colored Rectangle -->\n",
       "  <polygon points=\"10.0,0.0 80.58823529411765,70.58823529411765 80.58823529411765,110.76285318382598 10.0,40.17461788970833\" style=\"fill:#8B4903A0;stroke-width:0\"/>\n",
       "\n",
       "  <!-- Horizontal lines -->\n",
       "  <line x1=\"10\" y1=\"0\" x2=\"53\" y2=\"0\" style=\"stroke-width:2\" />\n",
       "  <line x1=\"13\" y1=\"3\" x2=\"57\" y2=\"3\" />\n",
       "  <line x1=\"17\" y1=\"7\" x2=\"61\" y2=\"7\" />\n",
       "  <line x1=\"21\" y1=\"11\" x2=\"64\" y2=\"11\" />\n",
       "  <line x1=\"24\" y1=\"14\" x2=\"68\" y2=\"14\" />\n",
       "  <line x1=\"28\" y1=\"18\" x2=\"72\" y2=\"18\" />\n",
       "  <line x1=\"32\" y1=\"22\" x2=\"76\" y2=\"22\" />\n",
       "  <line x1=\"36\" y1=\"26\" x2=\"79\" y2=\"26\" />\n",
       "  <line x1=\"39\" y1=\"29\" x2=\"83\" y2=\"29\" />\n",
       "  <line x1=\"43\" y1=\"33\" x2=\"87\" y2=\"33\" />\n",
       "  <line x1=\"47\" y1=\"37\" x2=\"90\" y2=\"37\" />\n",
       "  <line x1=\"50\" y1=\"40\" x2=\"94\" y2=\"40\" />\n",
       "  <line x1=\"54\" y1=\"44\" x2=\"98\" y2=\"44\" />\n",
       "  <line x1=\"58\" y1=\"48\" x2=\"102\" y2=\"48\" />\n",
       "  <line x1=\"62\" y1=\"52\" x2=\"105\" y2=\"52\" />\n",
       "  <line x1=\"65\" y1=\"55\" x2=\"109\" y2=\"55\" />\n",
       "  <line x1=\"69\" y1=\"59\" x2=\"113\" y2=\"59\" />\n",
       "  <line x1=\"73\" y1=\"63\" x2=\"116\" y2=\"63\" />\n",
       "  <line x1=\"76\" y1=\"66\" x2=\"120\" y2=\"66\" />\n",
       "  <line x1=\"80\" y1=\"70\" x2=\"124\" y2=\"70\" style=\"stroke-width:2\" />\n",
       "\n",
       "  <!-- Vertical lines -->\n",
       "  <line x1=\"10\" y1=\"0\" x2=\"80\" y2=\"70\" style=\"stroke-width:2\" />\n",
       "  <line x1=\"53\" y1=\"0\" x2=\"124\" y2=\"70\" style=\"stroke-width:2\" />\n",
       "\n",
       "  <!-- Colored Rectangle -->\n",
       "  <polygon points=\"10.0,0.0 53.788497919956434,0.0 124.37673321407408,70.58823529411765 80.58823529411765,70.58823529411765\" style=\"fill:#8B4903A0;stroke-width:0\"/>\n",
       "\n",
       "  <!-- Horizontal lines -->\n",
       "  <line x1=\"80\" y1=\"70\" x2=\"124\" y2=\"70\" style=\"stroke-width:2\" />\n",
       "  <line x1=\"80\" y1=\"110\" x2=\"124\" y2=\"110\" style=\"stroke-width:2\" />\n",
       "\n",
       "  <!-- Vertical lines -->\n",
       "  <line x1=\"80\" y1=\"70\" x2=\"80\" y2=\"110\" style=\"stroke-width:2\" />\n",
       "  <line x1=\"124\" y1=\"70\" x2=\"124\" y2=\"110\" style=\"stroke-width:2\" />\n",
       "\n",
       "  <!-- Colored Rectangle -->\n",
       "  <polygon points=\"80.58823529411765,70.58823529411765 124.37673321407408,70.58823529411765 124.37673321407408,110.76285318382598 80.58823529411765,110.76285318382598\" style=\"fill:#ECB172A0;stroke-width:0\"/>\n",
       "\n",
       "  <!-- Text -->\n",
       "  <text x=\"102.482484\" y=\"130.762853\" font-size=\"1.0rem\" font-weight=\"100\" text-anchor=\"middle\" >3600</text>\n",
       "  <text x=\"144.376733\" y=\"90.675544\" font-size=\"1.0rem\" font-weight=\"100\" text-anchor=\"middle\" transform=\"rotate(-90,144.376733,90.675544)\">1500</text>\n",
       "  <text x=\"35.294118\" y=\"95.468736\" font-size=\"1.0rem\" font-weight=\"100\" text-anchor=\"middle\" transform=\"rotate(45,35.294118,95.468736)\">11138</text>\n",
       "</svg>\n",
       "        </td>\n",
       "    </tr>\n",
       "</table></div></li></ul></div></li><li class='xr-section-item'><input id='section-2401ff42-d43f-4c69-8a8c-f0c3310b7577' class='xr-section-summary-in' type='checkbox'  ><label for='section-2401ff42-d43f-4c69-8a8c-f0c3310b7577' class='xr-section-summary' >Indexes: <span>(3)</span></label><div class='xr-section-inline-details'></div><div class='xr-section-details'><ul class='xr-var-list'><li class='xr-var-item'><div class='xr-index-name'><div>Time</div></div><div class='xr-index-preview'>PandasIndex</div><div></div><input id='index-ef322bcd-2b59-4a4e-9b10-05144c61d7db' class='xr-index-data-in' type='checkbox'/><label for='index-ef322bcd-2b59-4a4e-9b10-05144c61d7db' title='Show/Hide index repr'><svg class='icon xr-icon-database'><use xlink:href='#icon-database'></use></svg></label><div class='xr-index-data'><pre>PandasIndex(DatetimeIndex([&#x27;1993-01-01 12:00:00&#x27;, &#x27;1993-01-02 12:00:00&#x27;,\n",
       "               &#x27;1993-01-03 12:00:00&#x27;, &#x27;1993-01-04 12:00:00&#x27;,\n",
       "               &#x27;1993-01-05 12:00:00&#x27;, &#x27;1993-01-06 12:00:00&#x27;,\n",
       "               &#x27;1993-01-07 12:00:00&#x27;, &#x27;1993-01-08 12:00:00&#x27;,\n",
       "               &#x27;1993-01-09 12:00:00&#x27;, &#x27;1993-01-10 12:00:00&#x27;,\n",
       "               ...\n",
       "               &#x27;2023-06-21 12:00:00&#x27;, &#x27;2023-06-22 12:00:00&#x27;,\n",
       "               &#x27;2023-06-23 12:00:00&#x27;, &#x27;2023-06-24 12:00:00&#x27;,\n",
       "               &#x27;2023-06-25 12:00:00&#x27;, &#x27;2023-06-26 12:00:00&#x27;,\n",
       "               &#x27;2023-06-27 12:00:00&#x27;, &#x27;2023-06-28 12:00:00&#x27;,\n",
       "               &#x27;2023-06-29 12:00:00&#x27;, &#x27;2023-06-30 12:00:00&#x27;],\n",
       "              dtype=&#x27;datetime64[ns]&#x27;, name=&#x27;Time&#x27;, length=11138, freq=None))</pre></div></li><li class='xr-var-item'><div class='xr-index-name'><div>xt_ocean</div></div><div class='xr-index-preview'>PandasIndex</div><div></div><input id='index-1cc493dd-85ca-4133-b798-5fd94041ff1f' class='xr-index-data-in' type='checkbox'/><label for='index-1cc493dd-85ca-4133-b798-5fd94041ff1f' title='Show/Hide index repr'><svg class='icon xr-icon-database'><use xlink:href='#icon-database'></use></svg></label><div class='xr-index-data'><pre>PandasIndex(Index([0.05000000074505806, 0.15000000596046448,                0.25,\n",
       "        0.3499999940395355, 0.44999998807907104,   0.550000011920929,\n",
       "        0.6499999761581421,                0.75,  0.8500000238418579,\n",
       "         0.949999988079071,\n",
       "       ...\n",
       "        359.04998779296875,   359.1499938964844,              359.25,\n",
       "         359.3500061035156,  359.45001220703125,  359.54998779296875,\n",
       "         359.6499938964844,              359.75,   359.8500061035156,\n",
       "        359.95001220703125],\n",
       "      dtype=&#x27;float64&#x27;, name=&#x27;xt_ocean&#x27;, length=3600))</pre></div></li><li class='xr-var-item'><div class='xr-index-name'><div>yt_ocean</div></div><div class='xr-index-preview'>PandasIndex</div><div></div><input id='index-501bda89-c385-4043-bae6-343db6dda864' class='xr-index-data-in' type='checkbox'/><label for='index-501bda89-c385-4043-bae6-343db6dda864' title='Show/Hide index repr'><svg class='icon xr-icon-database'><use xlink:href='#icon-database'></use></svg></label><div class='xr-index-data'><pre>PandasIndex(Index([-74.94999694824219,  -74.8499984741211,             -74.75,\n",
       "        -74.6500015258789, -74.55000305175781, -74.44999694824219,\n",
       "        -74.3499984741211,             -74.25,  -74.1500015258789,\n",
       "       -74.05000305175781,\n",
       "       ...\n",
       "        74.05000305175781,   74.1500015258789,              74.25,\n",
       "         74.3499984741211,  74.44999694824219,  74.55000305175781,\n",
       "         74.6500015258789,              74.75,   74.8499984741211,\n",
       "        74.94999694824219],\n",
       "      dtype=&#x27;float64&#x27;, name=&#x27;yt_ocean&#x27;, length=1500))</pre></div></li></ul></div></li><li class='xr-section-item'><input id='section-921944ec-35c8-4e35-a86f-f5171321faac' class='xr-section-summary-in' type='checkbox'  ><label for='section-921944ec-35c8-4e35-a86f-f5171321faac' class='xr-section-summary' >Attributes: <span>(13)</span></label><div class='xr-section-inline-details'></div><div class='xr-section-details'><dl class='xr-attrs'><dt><span>NumFilesInSet :</span></dt><dd>20</dd><dt><span>acknowledgement :</span></dt><dd>BRAN is made freely available by CSIRO Bluelink and is supported by the Bluelink Partnership: a collaboration between the Australian Department of Defence, Bureau of Meteorology and CSIRO.</dd><dt><span>catalogue_doi_url :</span></dt><dd>http://dx.doi.org/10.25914/6009627c7af03</dd><dt><span>grid_tile :</span></dt><dd>N/A</dd><dt><span>grid_type :</span></dt><dd>regular</dd><dt><span>intake_esm_attrs:_data_format_ :</span></dt><dd>netcdf</dd><dt><span>intake_esm_attrs:domain :</span></dt><dd>ocean</dd><dt><span>intake_esm_attrs:source :</span></dt><dd>BRAN2020</dd><dt><span>intake_esm_attrs:time_period :</span></dt><dd>daily</dd><dt><span>intake_esm_attrs:variable :</span></dt><dd>mld</dd><dt><span>intake_esm_dataset_key :</span></dt><dd>ocean.daily</dd><dt><span>intake_esm_vars :</span></dt><dd>[&#x27;mld&#x27;]</dd><dt><span>title :</span></dt><dd>BRAN2020</dd></dl></div></li></ul></div></div>\n",
       "        </details>\n",
       "        <details>\n",
       "<summary><b>Intermediate</b></summary>\n",
       "<p><code>&lt;zarr.hierarchy.Group &#x27;/&#x27;&gt;</code></p>\n",
       "</details>\n",
       "\n",
       "        <details>\n",
       "          <summary><b>Target</b></summary>\n",
       "          <p><code>&lt;zarr.hierarchy.Group &#x27;/&#x27;&gt;</code></p>\n",
       "        </details>\n"
      ],
      "text/plain": [
       "<Rechunked>\n",
       "* Source      : <xarray.Dataset> Size: 241GB\n",
       "Dimensions:   (Time: 11138, yt_ocean: 1500, xt_ocean: 3600)\n",
       "Coordinates:\n",
       "  * Time      (Time) datetime64[ns] 89kB 1993-01-01T12:00:00 ... 2023-06-30T1...\n",
       "  * xt_ocean  (xt_ocean) float64 29kB 0.05 0.15 0.25 0.35 ... 359.8 359.9 360.0\n",
       "  * yt_ocean  (yt_ocean) float64 12kB -74.95 -74.85 -74.75 ... 74.75 74.85 74.95\n",
       "Data variables:\n",
       "    mld       (Time, yt_ocean, xt_ocean) float32 241GB dask.array<chunksize=(1, 1500, 3600), meta=np.ndarray>\n",
       "Attributes: (12/13)\n",
       "    NumFilesInSet:                   20\n",
       "    acknowledgement:                 BRAN is made freely available by CSIRO B...\n",
       "    catalogue_doi_url:               http://dx.doi.org/10.25914/6009627c7af03\n",
       "    grid_tile:                       N/A\n",
       "    grid_type:                       regular\n",
       "    intake_esm_attrs:_data_format_:  netcdf\n",
       "    ...                              ...\n",
       "    intake_esm_attrs:source:         BRAN2020\n",
       "    intake_esm_attrs:time_period:    daily\n",
       "    intake_esm_attrs:variable:       mld\n",
       "    intake_esm_dataset_key:          ocean.daily\n",
       "    intake_esm_vars:                 ['mld']\n",
       "    title:                           BRAN2020\n",
       "\n",
       "* Intermediate: <zarr.hierarchy.Group '/'>\n",
       "\n",
       "* Target      : <zarr.hierarchy.Group '/'>"
      ]
     },
     "execution_count": 10,
     "metadata": {},
     "output_type": "execute_result"
    }
   ],
   "source": [
    "input_ds = BRAN2020_daily_var\n",
    "target_chunks = {'Time':-1,'xt_ocean':9,'yt_ocean':1500}\n",
    "max_mem = \"2GB\"\n",
    "\n",
    "target_store = BRAN2020_ard_path+ard_rcTime_file_ID\n",
    "temp_store = \"/scratch/es60/ard/rechunker_scratch/rechunker-tmp.zarr\"\n",
    "\n",
    "# need to remove the existing stores or it won't work\n",
    "!rm -rf /scratch/es60/ard/rechunker_scratch/rechunker-tmp.zarr\n",
    "\n",
    "# rechunk directly from dataset this time\n",
    "rechunk_plan = rechunk(\n",
    "    input_ds, target_chunks, max_mem, target_store, temp_store=temp_store\n",
    ")\n",
    "rechunk_plan"
   ]
  },
  {
   "cell_type": "code",
   "execution_count": null,
   "id": "624d13a6-c42f-4229-ab05-8ab0820d4852",
   "metadata": {},
   "outputs": [],
   "source": [
    "%%time\n",
    "rechunk_plan.execute()"
   ]
  },
  {
   "cell_type": "code",
   "execution_count": null,
   "id": "25436791-ce68-4519-b9f3-001e094fa267",
   "metadata": {},
   "outputs": [],
   "source": [
    "!touch /scratch/es60/ard/reanalysis/BRAN2020/ARD/2D/finished_BRAN2020-mld-rechunker-zarr.log"
   ]
  },
  {
   "cell_type": "code",
   "execution_count": null,
   "id": "0053724a-0da8-4040-9f75-a94bfc8ae713",
   "metadata": {},
   "outputs": [],
   "source": [
    "zarr.consolidate_metadata(target_store)"
   ]
  },
  {
   "cell_type": "code",
   "execution_count": null,
   "id": "a4190f7c-dcf0-4503-b972-c5665817a60a",
   "metadata": {},
   "outputs": [],
   "source": []
  },
  {
   "cell_type": "markdown",
   "id": "113685de-fbbe-412a-a8a0-be252b17aaea",
   "metadata": {},
   "source": [
    "## end ARD workflow $\\Uparrow$"
   ]
  },
  {
   "cell_type": "markdown",
   "id": "bc39ada3-f929-4ed7-a08e-c5efc58e5db7",
   "metadata": {},
   "source": [
    "# begin post-processing workflow $\\Downarrow$"
   ]
  },
  {
   "cell_type": "markdown",
   "id": "fa5ac80c-fad6-44ad-99dd-2f1e98bda059",
   "metadata": {},
   "source": [
    "## load in zarr collection"
   ]
  },
  {
   "cell_type": "code",
   "execution_count": null,
   "id": "1e42bca1-0f2a-4908-95b1-df2a09273250",
   "metadata": {},
   "outputs": [],
   "source": [
    "var_chunked_time = xr.open_zarr(BRAN2020_ard_path + ard_rcTime_file_ID,consolidated=True)\n",
    "var_chunked_time"
   ]
  },
  {
   "cell_type": "code",
   "execution_count": null,
   "id": "3a7bb43a-baa7-4cac-b7b0-add75712e649",
   "metadata": {},
   "outputs": [],
   "source": []
  },
  {
   "cell_type": "markdown",
   "id": "b9fd653a-5114-4ba5-b1a3-6fac255b4894",
   "metadata": {},
   "source": [
    "## basic functions"
   ]
  },
  {
   "cell_type": "code",
   "execution_count": null,
   "id": "78e5fc30-a877-4146-9020-a4271c8ea0f7",
   "metadata": {},
   "outputs": [],
   "source": [
    "def get_bran_monthly_climatologies(xr_object,time_coord_name = 'Time'):\n",
    "    monthly_climatologies = xr_object.groupby(time_coord_name+'.month').mean(dim=time_coord_name,keep_attrs = True,method=\"cohorts\", engine=\"flox\")\n",
    "    result = data.groupby('time').temperature.agg(['mean', 'sum'])\n",
    "    \n",
    "return result\n",
    "\n"
   ]
  },
  {
   "cell_type": "markdown",
   "id": "e5760367-1577-4e8e-aa97-99f82d7d8337",
   "metadata": {},
   "source": [
    "# Climatology"
   ]
  },
  {
   "cell_type": "code",
   "execution_count": null,
   "id": "0ca8822a-0237-4f4d-bd8f-29c1f1829d5f",
   "metadata": {},
   "outputs": [],
   "source": [
    "temp_monthly_climatology = get_monthly_climatology(temp_chunked_time, time_coord_name = 'Time')\n",
    "temp_monthly_climatology"
   ]
  },
  {
   "cell_type": "code",
   "execution_count": null,
   "id": "c6347f9e-2d92-425f-b867-f392c58e586a",
   "metadata": {},
   "outputs": [],
   "source": [
    "temp_monthly_climatology_rc = temp_monthly_climatology.chunk({'st_ocean':10,'xt_ocean':3600,'month':1})"
   ]
  },
  {
   "cell_type": "code",
   "execution_count": null,
   "id": "993baf12-c022-4f03-aff6-94858e8d0595",
   "metadata": {},
   "outputs": [],
   "source": [
    "%%time\n",
    "temp_monthly_climatology = temp_monthly_climatology.compute()\n",
    "\n",
    "# CPU times: user 32.1 s, sys: 17.9 s, total: 49.9 s\n",
    "# Wall time: 2min 20s\n",
    "#"
   ]
  },
  {
   "cell_type": "raw",
   "id": "1ea6022d-8ab6-4eb5-8782-a2a2007308c4",
   "metadata": {},
   "source": [
    "temp_monthly_climatology_slow = get_monthly_climatology(temp_chunked, time_coord_name = 'Time')\n",
    "temp_monthly_climatology_slow"
   ]
  },
  {
   "cell_type": "raw",
   "id": "3d6cd4f4-8126-4376-b929-c223d44aac21",
   "metadata": {
    "scrolled": true
   },
   "source": [
    "%%time\n",
    "temp_monthly_climatology_slow = temp_monthly_climatology_slow.compute()\n",
    "## ----- Client() -------\n",
    "# CPU times: user 5min 13s, sys: 1min 9s, total: 6min 22s\n",
    "# Wall time: 39min 59s\n",
    "#"
   ]
  },
  {
   "cell_type": "raw",
   "id": "a39dd422-b5fc-4365-8911-0bef32ac7387",
   "metadata": {},
   "source": [
    "temp_monthly_climatology_slow_no_flox = get_monthly_climatology(temp_chunked, time_coord_name = 'Time',flox=False)\n"
   ]
  },
  {
   "cell_type": "raw",
   "id": "08fb94dd-d662-4241-bab5-ed546fd9d99d",
   "metadata": {
    "scrolled": true
   },
   "source": [
    "%%time\n",
    "temp_monthly_climatology_slow_no_flox = temp_monthly_climatology_slow_no_flox.compute()\n",
    "## ----- Client() -------\n",
    "# CPU times: user 6min 49s, sys: 1min 28s, total: 8min 17s\n",
    "# Wall time: 51min 9s\n",
    "#"
   ]
  },
  {
   "cell_type": "markdown",
   "id": "e88ec68d-66a0-473b-802d-8b3274974b3b",
   "metadata": {},
   "source": [
    "# Anomaly"
   ]
  },
  {
   "cell_type": "code",
   "execution_count": null,
   "id": "4cc1b5fc-9d75-4321-b70d-c5cec1af440d",
   "metadata": {},
   "outputs": [],
   "source": [
    "temp_anomaly = get_monthly_anomaly(temp_chunked,temp_monthly_climatology_rc,time_coord_name='Time')"
   ]
  },
  {
   "cell_type": "code",
   "execution_count": null,
   "id": "f9b91de2-5cdc-41fa-8780-1edc3b606270",
   "metadata": {},
   "outputs": [],
   "source": [
    "temp_anomaly"
   ]
  },
  {
   "cell_type": "markdown",
   "id": "f1450be7-45d3-476f-9d40-cbb08f5246fb",
   "metadata": {},
   "source": [
    "# define El Nino and La Nina using NCAR ONI data"
   ]
  },
  {
   "cell_type": "code",
   "execution_count": null,
   "id": "4aa5611c-dd81-4693-86ed-a964998c043e",
   "metadata": {},
   "outputs": [],
   "source": [
    "ONI_DF = pd.read_csv('/g/data/xv83/users/tm4888/data/ENSO/NCAR_ONI.csv')\n",
    "ONI_DF.set_index('datetime',inplace=True)\n",
    "ONI_DF.index = pd.to_datetime(ONI_DF.index)\n",
    "el_nino_threshold = 0.5\n",
    "la_nina_threshold = -0.5\n",
    "el_nino_threshold_months = ONI_DF[\"ONI\"].ge(el_nino_threshold)\n",
    "la_nina_threshold_months = ONI_DF[\"ONI\"].le(la_nina_threshold) \n",
    "ONI_DF = pd.concat([ONI_DF, el_nino_threshold_months.rename('El Nino threshold')], axis=1)\n",
    "ONI_DF = pd.concat([ONI_DF, la_nina_threshold_months.rename('La Nina threshold')], axis=1)\n",
    "ONI_DF = pd.concat([ONI_DF, el_nino_threshold_months.diff().ne(0).cumsum().rename('El Nino event group ID')], axis=1)\n",
    "ONI_DF = pd.concat([ONI_DF, la_nina_threshold_months.diff().ne(0).cumsum().rename('La Nina event group ID')], axis=1)"
   ]
  },
  {
   "cell_type": "code",
   "execution_count": null,
   "id": "3687b896-ac38-4b98-8fa0-a2830b384325",
   "metadata": {},
   "outputs": [],
   "source": [
    "El_Nino_Series = ONI_DF.groupby('El Nino event group ID')['ONI'].filter(lambda x: len(x) >= 5,dropna=False).where(ONI_DF['El Nino threshold'] == True)\n",
    "ONI_DF = pd.concat([ONI_DF, El_Nino_Series.rename('El Nino')], axis=1)\n",
    "La_Nina_Series = ONI_DF.groupby('La Nina event group ID')['ONI'].filter(lambda x: len(x) >= 5,dropna=False).where(ONI_DF['La Nina threshold'] == True)\n",
    "ONI_DF = pd.concat([ONI_DF, La_Nina_Series.rename('La Nina')], axis=1)\n",
    "ONI_DF"
   ]
  },
  {
   "cell_type": "code",
   "execution_count": null,
   "id": "91dbd277-fe67-4430-8a18-e29d1e92c3cd",
   "metadata": {},
   "outputs": [],
   "source": [
    "fig, ax = plt.subplots(1, 1, figsize=(10, 4), layout='constrained')\n",
    "ax.plot(ONI_DF.index,ONI_DF['El Nino'])\n",
    "ax.xaxis.set_major_locator(mdates.YearLocator(base=2))\n",
    "ax.xaxis.set_major_formatter(mdates.DateFormatter('%Y'))\n",
    "for label in ax.get_xticklabels(which='major'):\n",
    "    label.set(rotation=30, horizontalalignment='right')\n",
    "plt.title('ONI El Nino events') \n",
    "plt.show()"
   ]
  },
  {
   "cell_type": "code",
   "execution_count": null,
   "id": "3d24bf07-c5c9-4b9a-9c0e-d815f8d10f7b",
   "metadata": {
    "jupyter": {
     "source_hidden": true
    }
   },
   "outputs": [],
   "source": [
    "fig, ax = plt.subplots(1, 1, figsize=(10, 4), layout='constrained')\n",
    "ax.plot(ONI_DF.index,ONI_DF['La Nina'])\n",
    "ax.xaxis.set_major_locator(mdates.YearLocator(base=2))\n",
    "ax.xaxis.set_major_formatter(mdates.DateFormatter('%Y'))\n",
    "for label in ax.get_xticklabels(which='major'):\n",
    "    label.set(rotation=30, horizontalalignment='right')\n",
    "plt.title('ONI La Nina events') \n",
    "plt.show()"
   ]
  },
  {
   "cell_type": "markdown",
   "id": "55d14a97-1a03-488c-8575-60c509da11c7",
   "metadata": {},
   "source": [
    "## heatmap"
   ]
  },
  {
   "cell_type": "markdown",
   "id": "417dd475-60ac-4c4e-8a18-8c867a67813b",
   "metadata": {},
   "source": [
    "### make table for average over certain region"
   ]
  },
  {
   "cell_type": "code",
   "execution_count": null,
   "id": "4017b0c4-057a-42ce-895d-03719236cdc4",
   "metadata": {},
   "outputs": [],
   "source": [
    "%%time\n",
    "max_lat = 5.0\n",
    "min_lat = -5.0\n",
    "max_lon = 240\n",
    "min_lon = 190\n",
    "LatIndexer, LonIndexer = 'yt_ocean', 'xt_ocean'\n",
    "SliceData = temp_anomaly.temp.isel(st_ocean=0).sel(**{LatIndexer: slice(min_lat, max_lat),\n",
    "                        LonIndexer: slice(min_lon, max_lon)})\n",
    "SliceData = SliceData.chunk({'Time':-1,'yt_ocean':-1,'xt_ocean':-1,})\n",
    "# THIS CURRENTLY IGNORES GRID AREA CORRECTION \n",
    "spatial_mean_of_ONI_anomaly = SliceData.mean({'yt_ocean','xt_ocean'})\n",
    "spatial_mean_of_ONI_anomaly = spatial_mean_of_ONI_anomaly.compute()"
   ]
  },
  {
   "cell_type": "code",
   "execution_count": null,
   "id": "a48d9f02-0648-4ba6-bb89-475f6ee65871",
   "metadata": {},
   "outputs": [],
   "source": [
    "spatial_mean_of_ONI_anomaly.plot()"
   ]
  },
  {
   "cell_type": "code",
   "execution_count": null,
   "id": "916dcd34-8c72-464d-a024-21a1c127be82",
   "metadata": {},
   "outputs": [],
   "source": [
    "spatial_mean_of_ONI_anomaly_DF = spatial_mean_of_ONI_anomaly.to_dataframe()\n",
    "spatial_mean_of_ONI_anomaly_DF['year'] = pd.DatetimeIndex(spatial_mean_of_ONI_anomaly_DF.index).year\n",
    "spatial_mean_of_ONI_anomaly_DF"
   ]
  },
  {
   "cell_type": "code",
   "execution_count": null,
   "id": "b3a2b97a-0bc1-452a-b7db-7e4c972b7366",
   "metadata": {},
   "outputs": [],
   "source": [
    "heatmap_data = spatial_mean_of_ONI_anomaly_DF.pivot_table(index='month', columns='year', values='temp')"
   ]
  },
  {
   "cell_type": "code",
   "execution_count": null,
   "id": "21b36ee9-1aa0-47bd-9d1a-7bbc543758f2",
   "metadata": {},
   "outputs": [],
   "source": [
    "heatmap_data"
   ]
  },
  {
   "cell_type": "code",
   "execution_count": null,
   "id": "84ac81df-87d3-4a0a-a7bd-168e88e89c7e",
   "metadata": {},
   "outputs": [],
   "source": []
  },
  {
   "cell_type": "code",
   "execution_count": null,
   "id": "36a241b6-c0d6-479f-9014-abb48fba1f48",
   "metadata": {},
   "outputs": [],
   "source": [
    "plt.figure(figsize=(20, 10))\n",
    "sns.heatmap(heatmap_data, cmap='RdBu_r', square=True,vmin=-2.5, vmax=2.5,linewidth=.5)\n",
    "plt.title('Month by Year BRAN2020 anomalies in ONI (Nino3.4) region')\n",
    "plt.show()"
   ]
  },
  {
   "cell_type": "markdown",
   "id": "fc9535df-7edb-4934-9a4f-cb5d766602a9",
   "metadata": {},
   "source": [
    "## stacked heatmap plot"
   ]
  },
  {
   "cell_type": "code",
   "execution_count": null,
   "id": "35e5e696-5bab-43e0-92b5-243afe042a5b",
   "metadata": {},
   "outputs": [],
   "source": [
    "ONI_DF_BRANtime = ONI_DF['1993-01':'2022-12']"
   ]
  },
  {
   "cell_type": "code",
   "execution_count": null,
   "id": "d4f94ebf-1b1d-4831-9779-54d6e8c281d5",
   "metadata": {},
   "outputs": [],
   "source": [
    "event_data_EN = ONI_DF_BRANtime.pivot_table(index='month', columns='year', values='El Nino',dropna=False).fillna('')\n",
    "event_data_LN = ONI_DF_BRANtime.pivot_table(index='month', columns='year', values='La Nina',dropna=False).fillna('')"
   ]
  },
  {
   "cell_type": "code",
   "execution_count": null,
   "id": "afd9d4af-90ce-465a-ab55-5a3010671bd3",
   "metadata": {},
   "outputs": [],
   "source": [
    "plt.figure(figsize=(20,8))\n",
    "sns.heatmap(heatmap_data, annot=False,cmap='RdBu_r', square=True,vmin=-2.5, vmax=2.5,linewidth=.5)\n",
    "sns.heatmap(heatmap_data, annot=event_data_LN, annot_kws={'va':'top'}, fmt=\"\", cbar=False,cmap='RdBu_r', square=True,vmin=-2.5, vmax=2.5,linewidth=.5)\n",
    "sns.heatmap(heatmap_data, annot=event_data_EN, annot_kws={'va':'bottom'}, fmt=\"\", cbar=False,cmap='RdBu_r', square=True,vmin=-2.5, vmax=2.5,linewidth=.5)\n",
    "plt.title('Month by Year BRAN2020 anomalies in ONI (Nino3.4) region\\n ONI values shown for defined ENSO events')"
   ]
  },
  {
   "cell_type": "markdown",
   "id": "e55108be-b060-433e-9d1c-a6eae9aaa1bf",
   "metadata": {},
   "source": [
    "#### count of events in BRAN2020 period\n",
    "El Nino = 8 events ( weak - strong ) as defined by ONI<br>\n",
    "La Nina = 10 events ( weak - strong ) as defined by ONI <br>\n",
    "El Nino months total = 70 = 19%\n",
    "La Nina months total = 119 = 33%\n",
    "Neutral months total = 171 = 48%\n"
   ]
  },
  {
   "cell_type": "code",
   "execution_count": null,
   "id": "0c025df7-54a4-4d51-bdd8-347bfdaffb28",
   "metadata": {},
   "outputs": [],
   "source": [
    "ONI_DF_BRANtime "
   ]
  },
  {
   "cell_type": "code",
   "execution_count": null,
   "id": "d8b5d2a4-b6ac-4e54-9276-9a5aed5c2293",
   "metadata": {},
   "outputs": [],
   "source": []
  },
  {
   "cell_type": "code",
   "execution_count": null,
   "id": "63246fb0-173f-41a3-9f5c-3d907e5c419d",
   "metadata": {},
   "outputs": [],
   "source": []
  },
  {
   "cell_type": "code",
   "execution_count": null,
   "id": "8c38b888-294b-4714-babd-d8be1ee2733a",
   "metadata": {},
   "outputs": [],
   "source": []
  },
  {
   "cell_type": "code",
   "execution_count": null,
   "id": "60423a75-e6dd-4ec8-a2a6-22a0b1b226c4",
   "metadata": {},
   "outputs": [],
   "source": []
  },
  {
   "cell_type": "markdown",
   "id": "22c0fb70-48b6-40b2-9689-ce26c8279e72",
   "metadata": {},
   "source": [
    "# filter BRAN2020 data by ENSO"
   ]
  },
  {
   "cell_type": "code",
   "execution_count": null,
   "id": "dd06af02-4f4d-46df-afe4-3eb51a6b6829",
   "metadata": {},
   "outputs": [],
   "source": [
    "ONI_DF_BRANtime = ONI_DF['1993-01':'2022-12']\n",
    "ONI_DF_BRANtime['El Nino LOGICAL'] = ONI_DF_BRANtime['El Nino'].notnull()\n",
    "ONI_DF_BRANtime['La Nina LOGICAL'] = ONI_DF_BRANtime['La Nina'].notnull()\n",
    "ONI_DF_BRANtime"
   ]
  },
  {
   "cell_type": "code",
   "execution_count": null,
   "id": "da128629-2653-4932-831c-dc4eb193cff3",
   "metadata": {},
   "outputs": [],
   "source": [
    "El_Nino_mask = ONI_DF_BRANtime['El Nino LOGICAL']\n",
    "El_Nino_mask = El_Nino_mask.to_xarray()\n",
    "El_Nino_mask = El_Nino_mask.rename({'datetime':'Time'})\n",
    "sync_Time = temp_chunked_time.Time\n",
    "El_Nino_mask['Time'] = sync_Time"
   ]
  },
  {
   "cell_type": "code",
   "execution_count": null,
   "id": "6f5aed11-1a47-4966-b224-a043c181fc71",
   "metadata": {},
   "outputs": [],
   "source": [
    "La_Nina_mask = ONI_DF_BRANtime['La Nina LOGICAL']\n",
    "La_Nina_mask = La_Nina_mask.to_xarray()\n",
    "La_Nina_mask = La_Nina_mask.rename({'datetime':'Time'})\n",
    "sync_Time = temp_chunked_time.Time\n",
    "La_Nina_mask['Time'] = sync_Time"
   ]
  },
  {
   "cell_type": "code",
   "execution_count": null,
   "id": "04925fe2-c1da-4aa5-acea-42d7b7372cc5",
   "metadata": {},
   "outputs": [],
   "source": [
    "ONI_DF_BRANtime['Neutral LOGICAL'] = (ONI_DF_BRANtime['El Nino LOGICAL'] == False) & (ONI_DF_BRANtime['La Nina LOGICAL'] == False)"
   ]
  },
  {
   "cell_type": "code",
   "execution_count": null,
   "id": "06c2e385-1a5d-4737-b9e7-dc40027600ba",
   "metadata": {},
   "outputs": [],
   "source": []
  },
  {
   "cell_type": "code",
   "execution_count": null,
   "id": "52100b96-aed8-472e-b8c7-913bea4bd3a3",
   "metadata": {},
   "outputs": [],
   "source": [
    "ONI_DF_BRANtime['El Nino LOGICAL'].sum()"
   ]
  },
  {
   "cell_type": "code",
   "execution_count": null,
   "id": "03a25cce-1f3e-4e36-8ba9-dcbafcb4f7c7",
   "metadata": {},
   "outputs": [],
   "source": [
    "ONI_DF_BRANtime['La Nina LOGICAL'].sum()"
   ]
  },
  {
   "cell_type": "code",
   "execution_count": null,
   "id": "94605f76-9fb7-4962-a376-832f351ff372",
   "metadata": {},
   "outputs": [],
   "source": [
    "ONI_DF_BRANtime['Neutral LOGICAL'].sum()"
   ]
  },
  {
   "cell_type": "markdown",
   "id": "a8c3751b-b6b2-4f94-a0e9-0643c3743021",
   "metadata": {},
   "source": [
    "# Test if they add to 360"
   ]
  },
  {
   "cell_type": "code",
   "execution_count": null,
   "id": "c81647ed-3497-4c8d-802c-0e21f7fcfe64",
   "metadata": {},
   "outputs": [],
   "source": [
    "ONI_DF_BRANtime['El Nino LOGICAL'].sum() + ONI_DF_BRANtime['La Nina LOGICAL'].sum()+ONI_DF_BRANtime['Neutral LOGICAL'].sum() == 360"
   ]
  },
  {
   "cell_type": "code",
   "execution_count": null,
   "id": "b2c4053f-2d21-444b-a7df-4b1a8fed4bcc",
   "metadata": {},
   "outputs": [],
   "source": [
    "ONI_DF_BRANtime"
   ]
  },
  {
   "cell_type": "code",
   "execution_count": null,
   "id": "4bd6f03e-3a2e-49d6-a413-a6f1b5bcbbcd",
   "metadata": {},
   "outputs": [],
   "source": [
    "El_Nino_BRAN2020_temp = temp_chunked_time.temp.where(El_Nino_mask)\n",
    "La_Nina_BRAN2020_temp = temp_chunked_time.temp.where(La_Nina_mask)"
   ]
  },
  {
   "cell_type": "code",
   "execution_count": null,
   "id": "eae4d4d0-ab70-426a-bf56-3bb336abafa3",
   "metadata": {},
   "outputs": [],
   "source": [
    "%%time\n",
    "El_Nino_SST_mean = El_Nino_BRAN2020_temp.isel(st_ocean=0).mean('Time').compute()\n",
    "La_Nina_SST_mean = La_Nina_BRAN2020_temp.isel(st_ocean=0).mean('Time').compute()"
   ]
  },
  {
   "cell_type": "code",
   "execution_count": null,
   "id": "951df2f1-d277-4afd-8e26-eccf53f7b088",
   "metadata": {},
   "outputs": [],
   "source": [
    "plt.figure(figsize=(16,8))\n",
    "(El_Nino_SST_mean-La_Nina_SST_mean).plot()\n",
    "plt.title('Mean monthly BRAN2020 SST for El Nino - La Nina events')"
   ]
  },
  {
   "cell_type": "markdown",
   "id": "bb908dae-4974-47c9-8bc2-943eeaf0e43e",
   "metadata": {},
   "source": [
    "## El Nino \"climatology\""
   ]
  },
  {
   "cell_type": "code",
   "execution_count": null,
   "id": "93198a10-b5f5-401f-90cc-a5e76bb44386",
   "metadata": {},
   "outputs": [],
   "source": [
    "%%time\n",
    "El_Nino_temp_monthly_climatology = get_monthly_climatology(El_Nino_BRAN2020_temp, time_coord_name = 'Time')\n",
    "El_Nino_temp_monthly_climatology_rc = El_Nino_temp_monthly_climatology.chunk({'st_ocean':10,'xt_ocean':3600,'month':1})\n",
    "El_Nino_temp_monthly_climatology = El_Nino_temp_monthly_climatology.compute()\n"
   ]
  },
  {
   "cell_type": "markdown",
   "id": "54a29527-fef6-40f1-93db-5777e805269b",
   "metadata": {},
   "source": [
    "## La Nina \"climatology\""
   ]
  },
  {
   "cell_type": "code",
   "execution_count": null,
   "id": "e192c905-ed5c-49bf-8871-2a9b9185ebfe",
   "metadata": {},
   "outputs": [],
   "source": [
    "%%time\n",
    "La_Nina_temp_monthly_climatology = get_monthly_climatology(La_Nina_BRAN2020_temp, time_coord_name = 'Time')\n",
    "La_Nina_temp_monthly_climatology_rc = La_Nina_temp_monthly_climatology.chunk({'st_ocean':10,'xt_ocean':3600,'month':1})\n",
    "La_Nina_temp_monthly_climatology = La_Nina_temp_monthly_climatology.compute()"
   ]
  },
  {
   "cell_type": "code",
   "execution_count": null,
   "id": "57a8db0d-2178-41f1-8d3f-b601efa81d7d",
   "metadata": {},
   "outputs": [],
   "source": [
    "El_Nino_temp_monthly_climatology"
   ]
  },
  {
   "cell_type": "code",
   "execution_count": null,
   "id": "b5a2b8a8-d0bb-46fc-9c97-3b6c26828db2",
   "metadata": {},
   "outputs": [],
   "source": [
    "diff_EN_LN_climatology = El_Nino_temp_monthly_climatology - La_Nina_temp_monthly_climatology"
   ]
  },
  {
   "cell_type": "code",
   "execution_count": null,
   "id": "d282a9e7-1b58-4666-bf94-34850b9f5caa",
   "metadata": {},
   "outputs": [],
   "source": [
    "diff_EN_LN_climatology"
   ]
  },
  {
   "cell_type": "code",
   "execution_count": null,
   "id": "3c816367-43c4-4a34-a196-58834272a41e",
   "metadata": {},
   "outputs": [],
   "source": [
    "%%time\n",
    "max_lat = 5.0\n",
    "min_lat = -5.0\n",
    "max_lon = 240\n",
    "min_lon = 190\n",
    "LatIndexer, LonIndexer = 'yt_ocean', 'xt_ocean'\n",
    "SliceData = diff_EN_LN_climatology.isel(st_ocean=0).sel(**{LatIndexer: slice(min_lat, max_lat),\n",
    "                        LonIndexer: slice(min_lon, max_lon)})\n",
    "SliceData = SliceData.chunk({'month':-1,'yt_ocean':-1,'xt_ocean':-1,})\n",
    "# THIS CURRENTLY IGNORES GRID AREA CORRECTION \n",
    "spatial_mean_diff_EN_LN = SliceData.mean({'yt_ocean','xt_ocean'})\n",
    "spatial_mean_diff_EN_LN = spatial_mean_diff_EN_LN.compute()"
   ]
  },
  {
   "cell_type": "code",
   "execution_count": null,
   "id": "8cb430e1-9d13-41fe-8800-1999b9030171",
   "metadata": {},
   "outputs": [],
   "source": [
    "spatial_mean_diff_EN_LN.plot(ylim=[0,3])"
   ]
  },
  {
   "cell_type": "code",
   "execution_count": null,
   "id": "7842cb1c-5f2e-408c-a1db-76650d724d95",
   "metadata": {},
   "outputs": [],
   "source": []
  },
  {
   "cell_type": "code",
   "execution_count": null,
   "id": "f2c74f5f-8488-49ab-8c98-41efe6ce70ec",
   "metadata": {},
   "outputs": [],
   "source": [
    "%%time\n",
    "max_lat = 5.0\n",
    "min_lat = -5.0\n",
    "max_lon = 240\n",
    "min_lon = 190\n",
    "LatIndexer, LonIndexer = 'yt_ocean', 'xt_ocean'\n",
    "SliceData = El_Nino_temp_monthly_climatology.isel(st_ocean=0).sel(**{LatIndexer: slice(min_lat, max_lat),\n",
    "                        LonIndexer: slice(min_lon, max_lon)})\n",
    "SliceData = SliceData.chunk({'month':-1,'yt_ocean':-1,'xt_ocean':-1,})\n",
    "# THIS CURRENTLY IGNORES GRID AREA CORRECTION \n",
    "spatial_mean_EN = SliceData.mean({'yt_ocean','xt_ocean'})\n",
    "spatial_mean_EN = spatial_mean_EN.compute()\n",
    "spatial_mean_EN.plot()"
   ]
  },
  {
   "cell_type": "markdown",
   "id": "de5b07e6-0dbe-4e8c-bb00-59c31e775e62",
   "metadata": {},
   "source": [
    "# Mean, Median, Max , Min"
   ]
  },
  {
   "cell_type": "code",
   "execution_count": null,
   "id": "e1c58b6f-a254-4a96-bcf2-1c326db0e1da",
   "metadata": {},
   "outputs": [],
   "source": [
    "El_Nino_mean = El_Nino_BRAN2020_temp.mean('Time')\n",
    "El_Nino_median = El_Nino_BRAN2020_temp.median('Time')\n",
    "El_Nino_max = El_Nino_BRAN2020_temp.max('Time')\n",
    "El_Nino_min = El_Nino_BRAN2020_temp.min('Time')\n",
    "El_Nino_std = El_Nino_BRAN2020_temp.std('Time')\n",
    "El_Nino_quant = El_Nino_BRAN2020_temp.quantile([0.05,0.95],skipna=True,dim='Time')"
   ]
  },
  {
   "cell_type": "code",
   "execution_count": null,
   "id": "a111703a-0f96-4a13-bdd4-8f5a83f61e6c",
   "metadata": {},
   "outputs": [],
   "source": [
    "%%time\n",
    "El_Nino_quant.isel(quantile=0).isel(st_ocean=0).plot(robust=True,vmin=-1,vmax=35)"
   ]
  },
  {
   "cell_type": "code",
   "execution_count": null,
   "id": "c3ed3ea9-3a9f-4e49-a8ef-a9c9bb549679",
   "metadata": {},
   "outputs": [],
   "source": [
    "%%time\n",
    "El_Nino_quant.isel(quantile=1).isel(st_ocean=0).plot(robust=True,vmin=-1,vmax=35)"
   ]
  },
  {
   "cell_type": "code",
   "execution_count": null,
   "id": "eadc65a6-2beb-4ede-86c7-8a8c254aab77",
   "metadata": {},
   "outputs": [],
   "source": [
    "def get_slice(xr_object)\n",
    "    max_lat = 5.0\n",
    "    min_lat = -5.0\n",
    "    max_lon = 240\n",
    "    min_lon = 190\n",
    "    LatIndexer, LonIndexer = 'yt_ocean', 'xt_ocean'\n",
    "    SliceData = xr_object.sel(**{LatIndexer: slice(min_lat, max_lat),\n",
    "                        LonIndexer: slice(min_lon, max_lon)})"
   ]
  },
  {
   "cell_type": "code",
   "execution_count": null,
   "id": "cd8d8b82-314a-4c06-bf66-4c0a5f9d81cf",
   "metadata": {},
   "outputs": [],
   "source": [
    "El_Nino_min.isel(st_ocean=0).plot(robust=True,vmin=-1,vmax=35)"
   ]
  },
  {
   "cell_type": "code",
   "execution_count": null,
   "id": "699464b2-7a5a-4cbd-ba25-ad265830cb0d",
   "metadata": {},
   "outputs": [],
   "source": [
    "El_Nino_max.isel(st_ocean=0).plot(robust=True,vmin=-1,vmax=35)"
   ]
  },
  {
   "cell_type": "code",
   "execution_count": null,
   "id": "5dcea2ae-a7f6-4482-8ba7-6a565b9f59d6",
   "metadata": {},
   "outputs": [],
   "source": [
    "diff = El_Nino_max.isel(st_ocean=0) - El_Nino_min.isel(st_ocean=0) \n",
    "diff.plot(robust=True)"
   ]
  },
  {
   "cell_type": "code",
   "execution_count": null,
   "id": "e41deb37-32b3-47bd-a66f-ed43e6625b83",
   "metadata": {},
   "outputs": [],
   "source": [
    "El_Nino_std.isel(st_ocean=0).plot(robust=True)"
   ]
  },
  {
   "cell_type": "code",
   "execution_count": null,
   "id": "703c2910-1b47-44ee-b644-63473e327f00",
   "metadata": {},
   "outputs": [],
   "source": []
  },
  {
   "cell_type": "code",
   "execution_count": null,
   "id": "0849731f-9269-4069-8488-800f09019635",
   "metadata": {},
   "outputs": [],
   "source": []
  },
  {
   "cell_type": "code",
   "execution_count": null,
   "id": "e271ddff-51dc-41ce-a21e-7bc3c83c72a8",
   "metadata": {},
   "outputs": [],
   "source": []
  },
  {
   "cell_type": "code",
   "execution_count": null,
   "id": "c050b4b7-95a7-4072-b732-c1e6137d946f",
   "metadata": {},
   "outputs": [],
   "source": []
  },
  {
   "cell_type": "code",
   "execution_count": null,
   "id": "6efbc085-5264-45e0-9fa0-f1fa7a07672b",
   "metadata": {},
   "outputs": [],
   "source": []
  },
  {
   "cell_type": "code",
   "execution_count": null,
   "id": "da594038-9d3f-4339-a6cc-b7311fb4c047",
   "metadata": {},
   "outputs": [],
   "source": []
  },
  {
   "cell_type": "code",
   "execution_count": null,
   "id": "93901ba2-ef19-4163-b79c-c45010477173",
   "metadata": {},
   "outputs": [],
   "source": []
  },
  {
   "cell_type": "code",
   "execution_count": null,
   "id": "06a15a63-55c7-4992-aff7-2c84d546f476",
   "metadata": {},
   "outputs": [],
   "source": []
  },
  {
   "cell_type": "code",
   "execution_count": null,
   "id": "e91a0135-3020-4673-a544-5b24a998f930",
   "metadata": {},
   "outputs": [],
   "source": []
  },
  {
   "cell_type": "markdown",
   "id": "a6a9d5ae-fe32-45d2-9af6-6d13ea3ac988",
   "metadata": {},
   "source": [
    "# The End"
   ]
  },
  {
   "cell_type": "code",
   "execution_count": null,
   "id": "1920d781-f954-436b-94a8-f58d899f5150",
   "metadata": {
    "tags": []
   },
   "outputs": [],
   "source": [
    "client.shutdown()"
   ]
  },
  {
   "cell_type": "code",
   "execution_count": null,
   "id": "8e7fd9c2-7539-4b55-b7b0-4f05c78bba27",
   "metadata": {},
   "outputs": [],
   "source": []
  },
  {
   "cell_type": "code",
   "execution_count": null,
   "id": "74d5627a-1ebf-49ff-8a7b-dd81b71e1d6f",
   "metadata": {},
   "outputs": [],
   "source": []
  },
  {
   "cell_type": "code",
   "execution_count": null,
   "id": "28effe3b-109d-44ed-8a88-5698ca515f28",
   "metadata": {},
   "outputs": [],
   "source": []
  },
  {
   "cell_type": "code",
   "execution_count": null,
   "id": "198ec405-397c-4fb7-a09f-3771a2605ebb",
   "metadata": {},
   "outputs": [],
   "source": []
  },
  {
   "cell_type": "code",
   "execution_count": null,
   "id": "cd12f341-7ea0-40d4-95cf-42f8f38c99ff",
   "metadata": {},
   "outputs": [],
   "source": []
  },
  {
   "cell_type": "code",
   "execution_count": null,
   "id": "81577acc-6064-4bd0-b4c0-892a40687747",
   "metadata": {},
   "outputs": [],
   "source": []
  },
  {
   "cell_type": "code",
   "execution_count": null,
   "id": "5a457236-0174-4a5f-8c08-519d260a35c7",
   "metadata": {},
   "outputs": [],
   "source": []
  },
  {
   "cell_type": "code",
   "execution_count": null,
   "id": "31b9d87a-6560-490c-b056-4dbd86a22fba",
   "metadata": {},
   "outputs": [],
   "source": []
  },
  {
   "cell_type": "code",
   "execution_count": null,
   "id": "ecf619d6-8115-47a2-86fc-6b8586093a34",
   "metadata": {},
   "outputs": [],
   "source": []
  },
  {
   "cell_type": "code",
   "execution_count": null,
   "id": "4f2fc7cb-828f-4eef-9daf-df4c84140f35",
   "metadata": {},
   "outputs": [],
   "source": []
  },
  {
   "cell_type": "code",
   "execution_count": null,
   "id": "51c2dd5b-620d-421a-80cf-8858bb56c3b4",
   "metadata": {},
   "outputs": [],
   "source": []
  },
  {
   "cell_type": "code",
   "execution_count": null,
   "id": "ac756698-03c0-49d8-82a9-f465bed60e3e",
   "metadata": {},
   "outputs": [],
   "source": []
  },
  {
   "cell_type": "code",
   "execution_count": null,
   "id": "8c1a33e2-1959-40bf-8b0c-2b30a902cbbd",
   "metadata": {},
   "outputs": [],
   "source": []
  },
  {
   "cell_type": "code",
   "execution_count": null,
   "id": "5a53d0a5-fd30-4537-8f27-3eb7ad3c7eca",
   "metadata": {},
   "outputs": [],
   "source": []
  },
  {
   "cell_type": "code",
   "execution_count": null,
   "id": "f89badcb-5c83-4208-ac41-b2955e1a91f4",
   "metadata": {},
   "outputs": [],
   "source": []
  },
  {
   "cell_type": "code",
   "execution_count": null,
   "id": "120bee30-dad5-4576-9e91-1e20838903a5",
   "metadata": {},
   "outputs": [],
   "source": []
  },
  {
   "cell_type": "code",
   "execution_count": null,
   "id": "431cc5d2-a971-489c-895d-44be12a04f35",
   "metadata": {},
   "outputs": [],
   "source": []
  },
  {
   "cell_type": "code",
   "execution_count": null,
   "id": "3243ef59-8e3d-49ac-9ef9-3e819a53a11c",
   "metadata": {},
   "outputs": [],
   "source": []
  },
  {
   "cell_type": "markdown",
   "id": "ff6a4ba4-1cdc-4ec8-a1a9-4942d35a44ea",
   "metadata": {},
   "source": [
    "## Plot current vectors for August"
   ]
  },
  {
   "cell_type": "code",
   "execution_count": null,
   "id": "8f3619d6-6f06-48c4-8692-b42e40d2b067",
   "metadata": {
    "tags": []
   },
   "outputs": [],
   "source": [
    "import matplotlib.pyplot as plt\n",
    "from matplotlib.ticker import (MultipleLocator, FormatStrFormatter,\n",
    "                               AutoMinorLocator)\n",
    "import matplotlib.ticker as ticker\n",
    "import cartopy.crs as ccrs\n",
    "import cartopy.feature as cfeature\n",
    "import cartopy\n",
    "from matplotlib import mlab, cm, gridspec\n",
    "import matplotlib.ticker as mticker\n",
    "from cartopy.mpl.gridliner import LONGITUDE_FORMATTER, LATITUDE_FORMATTER\n",
    "%matplotlib inline "
   ]
  },
  {
   "cell_type": "code",
   "execution_count": null,
   "id": "35a7c5ed-a1b6-4ab4-81ad-f0ca978480b3",
   "metadata": {
    "tags": []
   },
   "outputs": [],
   "source": [
    "%%time\n",
    "# Define the u and v components of the currents\n",
    "time_choice = 8\n",
    "u = clim_uv.u.sel(month=time_choice)\n",
    "v = clim_uv.v.sel(month=time_choice)\n",
    "speed = np.sqrt(u**2 + v**2)"
   ]
  },
  {
   "cell_type": "code",
   "execution_count": null,
   "id": "8c6966cd-1bb5-4248-9933-1522076e8417",
   "metadata": {
    "tags": []
   },
   "outputs": [],
   "source": [
    "#plot model data\n",
    "transform = ccrs.PlateCarree()\n",
    "cmap = 'Spectral_r'\n",
    "cbar_label='current speed'\n",
    "plot_data = speed\n",
    "\n",
    "###\n",
    "fig = plt.figure(num=None, figsize=(8, 6), dpi=300, facecolor='w', edgecolor='k')\n",
    "ax = plt.subplot(projection=ccrs.PlateCarree(180))\n",
    "ax.set_extent([142,160, -25, -10], ccrs.PlateCarree())\n",
    "ax.add_feature(cfeature.NaturalEarthFeature('physical', 'land', '50m', edgecolor='face', facecolor='white'))\n",
    "ax.coastlines('50m',linewidth=0.5,edgecolor='grey')\n",
    "plot_data.plot(transform=transform,cmap=cmap,cbar_kwargs={'label': cbar_label,'shrink':0.5},robust=True)\n",
    "\n",
    "#plot u/v vectors\n",
    "# Define the x and y coordinates\n",
    "x = clim_uv.xu_ocean\n",
    "y = clim_uv.yu_ocean\n",
    "ax.quiver(x.values,y.values,u.values,v.values,transform=transform, units='x', width=0.01, scale=0.7, headwidth=2,alpha=0.2)\n",
    "ax.set_title('BRAN2020 1993-2022\\ncurrent speed \\n August Climatology')"
   ]
  }
 ],
 "metadata": {
  "kernelspec": {
   "display_name": "Python 3 (ipykernel)",
   "language": "python",
   "name": "python3"
  },
  "language_info": {
   "codemirror_mode": {
    "name": "ipython",
    "version": 3
   },
   "file_extension": ".py",
   "mimetype": "text/x-python",
   "name": "python",
   "nbconvert_exporter": "python",
   "pygments_lexer": "ipython3",
   "version": "3.10.14"
  }
 },
 "nbformat": 4,
 "nbformat_minor": 5
}
